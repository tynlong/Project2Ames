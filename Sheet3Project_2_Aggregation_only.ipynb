{
 "cells": [
  {
   "cell_type": "markdown",
   "metadata": {},
   "source": [
    "# EDA and Feature Engineering + Score Testing"
   ]
  },
  {
   "cell_type": "markdown",
   "metadata": {},
   "source": [
    "### Loading the cleaned CSVs"
   ]
  },
  {
   "cell_type": "code",
   "execution_count": 1,
   "metadata": {
    "ExecuteTime": {
     "end_time": "2019-10-11T05:17:27.287226Z",
     "start_time": "2019-10-11T05:17:25.493965Z"
    }
   },
   "outputs": [],
   "source": [
    "import pandas as pd\n",
    "import numpy as np\n",
    "import seaborn as sns\n",
    "import matplotlib.pyplot as plt\n",
    "from sklearn.linear_model import LinearRegression, LassoCV, RidgeCV,Lasso\n",
    "from sklearn.preprocessing import PolynomialFeatures, StandardScaler\n",
    "from sklearn.model_selection import train_test_split, cross_val_score, cross_val_predict\n",
    "from sklearn.metrics import r2_score\n",
    "import time\n",
    "\n",
    "sns.set_style('darkgrid')\n",
    "%config InlineBackend.figure_format = 'retina'\n",
    "%matplotlib inline"
   ]
  },
  {
   "cell_type": "code",
   "execution_count": 2,
   "metadata": {
    "ExecuteTime": {
     "end_time": "2019-10-11T05:17:27.419062Z",
     "start_time": "2019-10-11T05:17:27.290127Z"
    }
   },
   "outputs": [],
   "source": [
    "train=pd.read_csv('datasets/train_delin.csv')\n",
    "test=pd.read_csv('datasets/test_delin.csv')"
   ]
  },
  {
   "cell_type": "code",
   "execution_count": 3,
   "metadata": {
    "ExecuteTime": {
     "end_time": "2019-10-11T05:17:27.434948Z",
     "start_time": "2019-10-11T05:17:27.423114Z"
    }
   },
   "outputs": [],
   "source": [
    "train.head()\n",
    "train=train.drop('Unnamed: 0',axis=1)"
   ]
  },
  {
   "cell_type": "code",
   "execution_count": 4,
   "metadata": {
    "ExecuteTime": {
     "end_time": "2019-10-11T05:17:27.454227Z",
     "start_time": "2019-10-11T05:17:27.440752Z"
    }
   },
   "outputs": [
    {
     "data": {
      "text/plain": [
       "(2041, 179)"
      ]
     },
     "execution_count": 4,
     "metadata": {},
     "output_type": "execute_result"
    }
   ],
   "source": [
    "train.shape"
   ]
  },
  {
   "cell_type": "code",
   "execution_count": 5,
   "metadata": {
    "ExecuteTime": {
     "end_time": "2019-10-11T05:17:27.471759Z",
     "start_time": "2019-10-11T05:17:27.457390Z"
    }
   },
   "outputs": [],
   "source": [
    "test=test.drop('Unnamed: 0',axis=1)"
   ]
  },
  {
   "cell_type": "code",
   "execution_count": 6,
   "metadata": {
    "ExecuteTime": {
     "end_time": "2019-10-11T05:17:27.485069Z",
     "start_time": "2019-10-11T05:17:27.475230Z"
    }
   },
   "outputs": [],
   "source": [
    "test['SalePrice']=np.zeros(shape=test.iloc[:,0].shape)"
   ]
  },
  {
   "cell_type": "code",
   "execution_count": 7,
   "metadata": {
    "ExecuteTime": {
     "end_time": "2019-10-11T05:17:27.518309Z",
     "start_time": "2019-10-11T05:17:27.488479Z"
    }
   },
   "outputs": [
    {
     "data": {
      "text/plain": [
       "(879, 179)"
      ]
     },
     "execution_count": 7,
     "metadata": {},
     "output_type": "execute_result"
    }
   ],
   "source": [
    "test.shape"
   ]
  },
  {
   "cell_type": "code",
   "execution_count": 8,
   "metadata": {
    "ExecuteTime": {
     "end_time": "2019-10-11T05:17:27.560497Z",
     "start_time": "2019-10-11T05:17:27.524546Z"
    }
   },
   "outputs": [],
   "source": [
    "df=pd.concat([train,test],sort=False)"
   ]
  },
  {
   "cell_type": "markdown",
   "metadata": {},
   "source": [
    "### Aggregate some columns if the correlation is higher after"
   ]
  },
  {
   "cell_type": "code",
   "execution_count": 9,
   "metadata": {
    "ExecuteTime": {
     "end_time": "2019-10-11T05:17:27.571338Z",
     "start_time": "2019-10-11T05:17:27.566477Z"
    },
    "scrolled": true
   },
   "outputs": [],
   "source": [
    "bath=train.columns[[('Bath' in x) for x in train.columns]]"
   ]
  },
  {
   "cell_type": "code",
   "execution_count": 10,
   "metadata": {
    "ExecuteTime": {
     "end_time": "2019-10-11T05:17:27.595905Z",
     "start_time": "2019-10-11T05:17:27.577224Z"
    }
   },
   "outputs": [],
   "source": [
    "def agg(name,listy,df,drop=False):\n",
    "    aggname=name+'_agg'\n",
    "    df2=pd.DataFrame(np.zeros(shape=df.iloc[:,0].shape),columns=[aggname])\n",
    "    for item in listy:\n",
    "        df2[item]=df[item].values\n",
    "        df2[aggname]=df2[aggname]+df2[item]\n",
    "        df2['SalePrice']=df['SalePrice'].values\n",
    "    print(df2[df2['SalePrice']>0].corr()['SalePrice'].sort_values(ascending=False))\n",
    "    if drop:\n",
    "        print (df.shape)\n",
    "        df.drop(columns=listy,inplace=True)\n",
    "        df[aggname]=df2[aggname].values\n",
    "        print (df.shape)\n",
    "    return df"
   ]
  },
  {
   "cell_type": "code",
   "execution_count": 11,
   "metadata": {
    "ExecuteTime": {
     "end_time": "2019-10-11T05:17:27.668205Z",
     "start_time": "2019-10-11T05:17:27.603159Z"
    },
    "scrolled": false
   },
   "outputs": [
    {
     "name": "stdout",
     "output_type": "stream",
     "text": [
      "SalePrice         1.000000\n",
      "bath_agg          0.610640\n",
      "Full Bath         0.537569\n",
      "Half Bath         0.286387\n",
      "Bsmt Full Bath    0.282383\n",
      "Bsmt Half Bath   -0.045062\n",
      "Name: SalePrice, dtype: float64\n",
      "(2920, 179)\n",
      "(2920, 176)\n"
     ]
    }
   ],
   "source": [
    "df=agg('bath',bath,df,drop=True)"
   ]
  },
  {
   "cell_type": "code",
   "execution_count": 12,
   "metadata": {
    "ExecuteTime": {
     "end_time": "2019-10-11T05:17:27.678211Z",
     "start_time": "2019-10-11T05:17:27.671528Z"
    }
   },
   "outputs": [],
   "source": [
    "sfs=list([x for x in df.columns if 'SF' in x])\n",
    "\n",
    "y=['BsmtFin SF 1','Total Bsmt SF','1st Flr SF','Low Qual Fin SF','House Style_SFoyer','>4000SF']\n",
    "for x in y:\n",
    "    sfs.remove(x)\n",
    "\n"
   ]
  },
  {
   "cell_type": "code",
   "execution_count": 13,
   "metadata": {
    "ExecuteTime": {
     "end_time": "2019-10-11T05:17:27.722403Z",
     "start_time": "2019-10-11T05:17:27.684152Z"
    },
    "scrolled": false
   },
   "outputs": [
    {
     "name": "stdout",
     "output_type": "stream",
     "text": [
      "SalePrice          1.000000\n",
      "smallSF_agg        0.417372\n",
      "Open Porch SF      0.335435\n",
      "Wood Deck SF       0.327693\n",
      "2nd Flr SF         0.250903\n",
      "Bsmt Unf SF        0.189332\n",
      "Screen Porch SF    0.135833\n",
      "3Ssn Porch SF      0.049020\n",
      "BsmtFin SF 2       0.015022\n",
      "Name: SalePrice, dtype: float64\n",
      "(2920, 176)\n",
      "(2920, 170)\n"
     ]
    }
   ],
   "source": [
    "df=agg('smallSF',sfs,df,drop=True)"
   ]
  },
  {
   "cell_type": "code",
   "execution_count": 14,
   "metadata": {
    "ExecuteTime": {
     "end_time": "2019-10-11T05:17:27.755110Z",
     "start_time": "2019-10-11T05:17:27.726372Z"
    }
   },
   "outputs": [
    {
     "name": "stdout",
     "output_type": "stream",
     "text": [
      "SalePrice            1.000000\n",
      "Misc Feature_TenC    0.019188\n",
      "Misc Feature_Elev    0.000697\n",
      "Misc Val            -0.008478\n",
      "misc_agg            -0.008492\n",
      "Misc Feature_Othr   -0.008810\n",
      "Misc Feature_Gar2   -0.023907\n",
      "Misc Feature_Shed   -0.047315\n",
      "Name: SalePrice, dtype: float64\n"
     ]
    }
   ],
   "source": [
    "Miscs=list([x for x in df.columns if 'Misc' in x])\n",
    "\n",
    "y=[]\n",
    "for x in y:\n",
    "    sfs.remove(x)\n",
    "\n",
    "df=agg('misc',Miscs,df,drop=False)"
   ]
  },
  {
   "cell_type": "code",
   "execution_count": 15,
   "metadata": {
    "ExecuteTime": {
     "end_time": "2019-10-11T05:17:27.770075Z",
     "start_time": "2019-10-11T05:17:27.759108Z"
    }
   },
   "outputs": [
    {
     "data": {
      "text/plain": [
       "['Garage Finish', 'Garage Qual', 'Garage Type_Out']"
      ]
     },
     "execution_count": 15,
     "metadata": {},
     "output_type": "execute_result"
    }
   ],
   "source": [
    "Garage=list([x for x in df.columns if 'Garage' in x])\n",
    "y=['Garage Area','Garage Yr Blt']\n",
    "for x in y:\n",
    "    Garage.remove(x)\n",
    "\n",
    "\n",
    "Garage"
   ]
  },
  {
   "cell_type": "code",
   "execution_count": 16,
   "metadata": {
    "ExecuteTime": {
     "end_time": "2019-10-11T05:17:27.810076Z",
     "start_time": "2019-10-11T05:17:27.777171Z"
    }
   },
   "outputs": [
    {
     "name": "stdout",
     "output_type": "stream",
     "text": [
      "SalePrice          1.000000\n",
      "Garage Finish      0.558690\n",
      "Garage_agg         0.419579\n",
      "Garage Qual        0.299392\n",
      "Garage Type_Out   -0.484529\n",
      "Name: SalePrice, dtype: float64\n",
      "(2920, 170)\n",
      "(2920, 168)\n"
     ]
    }
   ],
   "source": [
    "df=agg('Garage',Garage,df,drop=True)"
   ]
  },
  {
   "cell_type": "code",
   "execution_count": 17,
   "metadata": {
    "ExecuteTime": {
     "end_time": "2019-10-11T05:17:27.819475Z",
     "start_time": "2019-10-11T05:17:27.813210Z"
    }
   },
   "outputs": [],
   "source": [
    "#decided not to update this one"
   ]
  },
  {
   "cell_type": "code",
   "execution_count": 18,
   "metadata": {
    "ExecuteTime": {
     "end_time": "2019-10-11T05:17:27.837303Z",
     "start_time": "2019-10-11T05:17:27.823701Z"
    }
   },
   "outputs": [],
   "source": [
    "train=df[df['SalePrice']>0]\n",
    "test=df[df['SalePrice']==0]"
   ]
  },
  {
   "cell_type": "code",
   "execution_count": 19,
   "metadata": {
    "ExecuteTime": {
     "end_time": "2019-10-11T05:17:28.596222Z",
     "start_time": "2019-10-11T05:17:27.839783Z"
    }
   },
   "outputs": [],
   "source": [
    "#train.to_csv('datasets/train_agged.csv')\n",
    "#test.to_csv('datasets/test_agged.csv')"
   ]
  },
  {
   "cell_type": "markdown",
   "metadata": {},
   "source": [
    "# Regression Preprocessing(testing of method)"
   ]
  },
  {
   "cell_type": "code",
   "execution_count": 20,
   "metadata": {
    "ExecuteTime": {
     "end_time": "2019-10-11T05:17:28.652553Z",
     "start_time": "2019-10-11T05:17:28.598612Z"
    }
   },
   "outputs": [],
   "source": [
    "#get the polynomial features\n",
    "target = 'SalePrice'\n",
    "nc = [x for x in train.columns if x != target]\n",
    "\n",
    "X_train,X_test,y_train,y_test=train_test_split(train[nc],train[target])\n",
    "\n",
    "ss = StandardScaler()\n",
    "ss.fit(X_train)\n",
    "X_train = ss.transform(X_train)\n",
    "X_test= ss.transform(X_test)\n",
    "test=test.drop('SalePrice',axis=1)\n",
    "test_sc=ss.transform(test)\n",
    "X=ss.transform(train[nc])\n",
    "y=train[target]\n",
    "\n",
    "\n",
    "\n",
    "#pf = PolynomialFeatures(degree=2,interaction_only=True,include_bias=False)\n",
    "#X_train_poly=pf.fit_transform(X_train)\n",
    "#X_test_poly=pf.fit_transform(test)\n",
    "#X_train_poly.shape"
   ]
  },
  {
   "cell_type": "code",
   "execution_count": 21,
   "metadata": {
    "ExecuteTime": {
     "end_time": "2019-10-11T05:17:28.665424Z",
     "start_time": "2019-10-11T05:17:28.655129Z"
    }
   },
   "outputs": [
    {
     "data": {
      "text/plain": [
       "(1530, 167)"
      ]
     },
     "execution_count": 21,
     "metadata": {},
     "output_type": "execute_result"
    }
   ],
   "source": [
    "X_train.shape"
   ]
  },
  {
   "cell_type": "code",
   "execution_count": 22,
   "metadata": {
    "ExecuteTime": {
     "end_time": "2019-10-11T05:17:28.684017Z",
     "start_time": "2019-10-11T05:17:28.671051Z"
    }
   },
   "outputs": [
    {
     "data": {
      "text/plain": [
       "(1530,)"
      ]
     },
     "execution_count": 22,
     "metadata": {},
     "output_type": "execute_result"
    }
   ],
   "source": [
    "y_train.shape"
   ]
  },
  {
   "cell_type": "code",
   "execution_count": 23,
   "metadata": {
    "ExecuteTime": {
     "end_time": "2019-10-11T05:17:28.703460Z",
     "start_time": "2019-10-11T05:17:28.693032Z"
    }
   },
   "outputs": [
    {
     "data": {
      "text/plain": [
       "(511, 167)"
      ]
     },
     "execution_count": 23,
     "metadata": {},
     "output_type": "execute_result"
    }
   ],
   "source": [
    "X_test.shape"
   ]
  },
  {
   "cell_type": "code",
   "execution_count": 24,
   "metadata": {
    "ExecuteTime": {
     "end_time": "2019-10-11T05:17:28.731074Z",
     "start_time": "2019-10-11T05:17:28.721042Z"
    }
   },
   "outputs": [
    {
     "data": {
      "text/plain": [
       "(511,)"
      ]
     },
     "execution_count": 24,
     "metadata": {},
     "output_type": "execute_result"
    }
   ],
   "source": [
    "y_test.shape"
   ]
  },
  {
   "cell_type": "code",
   "execution_count": 25,
   "metadata": {
    "ExecuteTime": {
     "end_time": "2019-10-11T05:17:28.745895Z",
     "start_time": "2019-10-11T05:17:28.734012Z"
    }
   },
   "outputs": [],
   "source": [
    "#try naive MLR for a baseline performance\n"
   ]
  },
  {
   "cell_type": "code",
   "execution_count": 26,
   "metadata": {
    "ExecuteTime": {
     "end_time": "2019-10-11T05:17:28.804518Z",
     "start_time": "2019-10-11T05:17:28.751796Z"
    }
   },
   "outputs": [],
   "source": [
    "lr=LinearRegression()\n",
    "model=lr.fit(X_train,y_train)\n",
    "score=model.score(X_test,y_test)\n",
    "\n"
   ]
  },
  {
   "cell_type": "code",
   "execution_count": 27,
   "metadata": {
    "ExecuteTime": {
     "end_time": "2019-10-11T05:17:28.815807Z",
     "start_time": "2019-10-11T05:17:28.807744Z"
    }
   },
   "outputs": [
    {
     "data": {
      "text/plain": [
       "-1.7218516912500704e+23"
      ]
     },
     "execution_count": 27,
     "metadata": {},
     "output_type": "execute_result"
    }
   ],
   "source": [
    "score"
   ]
  },
  {
   "cell_type": "code",
   "execution_count": 28,
   "metadata": {
    "ExecuteTime": {
     "end_time": "2019-10-11T05:17:29.086643Z",
     "start_time": "2019-10-11T05:17:28.819100Z"
    }
   },
   "outputs": [
    {
     "data": {
      "text/plain": [
       "-4.877677248324688e+24"
      ]
     },
     "execution_count": 28,
     "metadata": {},
     "output_type": "execute_result"
    }
   ],
   "source": [
    "cross_val_score(lr,X_train,y_train,cv=10).mean()"
   ]
  },
  {
   "cell_type": "markdown",
   "metadata": {},
   "source": [
    "##### We can see from the cross_val_score that variance is very high. We try lasso to see if we can reduce the complexity and thus variance of the predictions"
   ]
  },
  {
   "cell_type": "code",
   "execution_count": 29,
   "metadata": {
    "ExecuteTime": {
     "end_time": "2019-10-11T05:17:29.118022Z",
     "start_time": "2019-10-11T05:17:29.092687Z"
    },
    "scrolled": true
   },
   "outputs": [],
   "source": [
    "l_alphas = np.logspace(2, 6, 100)\n",
    "lasso_model = Lasso(alpha=3000,max_iter=10000000)\n",
    "#lasso_model = LassoCV(alphas=l_alphas, cv=10,max_iter=100000, fit_intercept=True)\n",
    "lasso_model = lasso_model.fit(X_train, y_train)"
   ]
  },
  {
   "cell_type": "code",
   "execution_count": 30,
   "metadata": {
    "ExecuteTime": {
     "end_time": "2019-10-11T05:17:29.140438Z",
     "start_time": "2019-10-11T05:17:29.132211Z"
    }
   },
   "outputs": [
    {
     "data": {
      "text/plain": [
       "26"
      ]
     },
     "execution_count": 30,
     "metadata": {},
     "output_type": "execute_result"
    }
   ],
   "source": [
    "len(test.columns[[(item>0)for column,item in zip(test.columns,lasso_model.coef_)]])"
   ]
  },
  {
   "cell_type": "code",
   "execution_count": 31,
   "metadata": {
    "ExecuteTime": {
     "end_time": "2019-10-11T05:17:29.156332Z",
     "start_time": "2019-10-11T05:17:29.144920Z"
    }
   },
   "outputs": [
    {
     "data": {
      "text/plain": [
       "3000"
      ]
     },
     "execution_count": 31,
     "metadata": {},
     "output_type": "execute_result"
    }
   ],
   "source": [
    "lasso_model.alpha"
   ]
  },
  {
   "cell_type": "code",
   "execution_count": 32,
   "metadata": {
    "ExecuteTime": {
     "end_time": "2019-10-11T05:17:29.167071Z",
     "start_time": "2019-10-11T05:17:29.161412Z"
    }
   },
   "outputs": [],
   "source": [
    "#lasso_model = Lasso(alpha=alpha)"
   ]
  },
  {
   "cell_type": "code",
   "execution_count": 33,
   "metadata": {
    "ExecuteTime": {
     "end_time": "2019-10-11T05:17:29.457335Z",
     "start_time": "2019-10-11T05:17:29.171629Z"
    }
   },
   "outputs": [
    {
     "data": {
      "text/plain": [
       "0.8589869161531184"
      ]
     },
     "execution_count": 33,
     "metadata": {},
     "output_type": "execute_result"
    }
   ],
   "source": [
    "cross_val_score(lasso_model,X_train,y_train,cv=15).mean()"
   ]
  },
  {
   "cell_type": "code",
   "execution_count": 34,
   "metadata": {
    "ExecuteTime": {
     "end_time": "2019-10-11T05:17:29.657417Z",
     "start_time": "2019-10-11T05:17:29.462052Z"
    }
   },
   "outputs": [
    {
     "data": {
      "text/plain": [
       "array([0.87553789, 0.85934621, 0.8398401 , 0.85439921, 0.90581762,\n",
       "       0.88923728, 0.92053611, 0.65930659, 0.90282802, 0.88922532])"
      ]
     },
     "execution_count": 34,
     "metadata": {},
     "output_type": "execute_result"
    }
   ],
   "source": [
    "cross_val_score(lasso_model,X_train,y_train,cv=10)"
   ]
  },
  {
   "cell_type": "code",
   "execution_count": 35,
   "metadata": {
    "ExecuteTime": {
     "end_time": "2019-10-11T05:17:29.685477Z",
     "start_time": "2019-10-11T05:17:29.662501Z"
    }
   },
   "outputs": [],
   "source": [
    "lasso_model = lasso_model.fit(X_train,y_train)"
   ]
  },
  {
   "cell_type": "code",
   "execution_count": 36,
   "metadata": {
    "ExecuteTime": {
     "end_time": "2019-10-11T05:17:29.705935Z",
     "start_time": "2019-10-11T05:17:29.688822Z"
    },
    "scrolled": true
   },
   "outputs": [],
   "source": [
    "train_predictions=lasso_model.predict(X_train)"
   ]
  },
  {
   "cell_type": "code",
   "execution_count": 37,
   "metadata": {
    "ExecuteTime": {
     "end_time": "2019-10-11T05:17:29.725185Z",
     "start_time": "2019-10-11T05:17:29.714558Z"
    }
   },
   "outputs": [],
   "source": [
    "test_predictions=lasso_model.predict(X_test)"
   ]
  },
  {
   "cell_type": "code",
   "execution_count": 38,
   "metadata": {
    "ExecuteTime": {
     "end_time": "2019-10-11T05:17:30.290918Z",
     "start_time": "2019-10-11T05:17:29.731034Z"
    }
   },
   "outputs": [
    {
     "data": {
      "text/plain": [
       "0.8908803690020118"
      ]
     },
     "execution_count": 38,
     "metadata": {},
     "output_type": "execute_result"
    },
    {
     "data": {
      "image/png": "[encoded data removed]",
      "text/plain": [
       "<Figure size 432x288 with 1 Axes>"
      ]
     },
     "metadata": {
      "image/png": {
       "height": 248,
       "width": 403
      },
      "needs_background": "light"
     },
     "output_type": "display_data"
    }
   ],
   "source": [
    "sns.scatterplot(train_predictions,y_train)\n",
    "lasso_model.score(X_train,y_train)"
   ]
  },
  {
   "cell_type": "code",
   "execution_count": 39,
   "metadata": {
    "ExecuteTime": {
     "end_time": "2019-10-11T05:17:30.866019Z",
     "start_time": "2019-10-11T05:17:30.294156Z"
    }
   },
   "outputs": [
    {
     "data": {
      "text/plain": [
       "0.8801111520501834"
      ]
     },
     "execution_count": 39,
     "metadata": {},
     "output_type": "execute_result"
    },
    {
     "data": {
      "image/png": "[encoded data removed]",
      "text/plain": [
       "<Figure size 432x288 with 1 Axes>"
      ]
     },
     "metadata": {
      "image/png": {
       "height": 248,
       "width": 403
      },
      "needs_background": "light"
     },
     "output_type": "display_data"
    }
   ],
   "source": [
    "sns.scatterplot(test_predictions,y_test)\n",
    "lasso_model.score(X_test,y_test)"
   ]
  },
  {
   "cell_type": "code",
   "execution_count": 40,
   "metadata": {
    "ExecuteTime": {
     "end_time": "2019-10-11T05:17:30.897894Z",
     "start_time": "2019-10-11T05:17:30.869509Z"
    }
   },
   "outputs": [],
   "source": [
    "lasso_model=lasso_model.fit(X,y)"
   ]
  },
  {
   "cell_type": "code",
   "execution_count": 41,
   "metadata": {
    "ExecuteTime": {
     "end_time": "2019-10-11T05:17:31.163658Z",
     "start_time": "2019-10-11T05:17:30.901377Z"
    }
   },
   "outputs": [
    {
     "data": {
      "text/plain": [
       "0.8570047886245403"
      ]
     },
     "execution_count": 41,
     "metadata": {},
     "output_type": "execute_result"
    }
   ],
   "source": [
    "cvs=cross_val_score(lasso_model,X,y,cv=10)\n",
    "cvs.mean()"
   ]
  },
  {
   "cell_type": "code",
   "execution_count": 42,
   "metadata": {
    "ExecuteTime": {
     "end_time": "2019-10-11T05:17:31.179663Z",
     "start_time": "2019-10-11T05:17:31.167041Z"
    }
   },
   "outputs": [
    {
     "data": {
      "text/plain": [
       "180555.12953477274"
      ]
     },
     "execution_count": 42,
     "metadata": {},
     "output_type": "execute_result"
    }
   ],
   "source": [
    "lasso_model.intercept_"
   ]
  },
  {
   "cell_type": "code",
   "execution_count": 43,
   "metadata": {
    "ExecuteTime": {
     "end_time": "2019-10-11T05:17:31.192704Z",
     "start_time": "2019-10-11T05:17:31.183205Z"
    }
   },
   "outputs": [],
   "source": [
    "predictions_test=lasso_model.predict(test_sc)"
   ]
  },
  {
   "cell_type": "code",
   "execution_count": 44,
   "metadata": {
    "ExecuteTime": {
     "end_time": "2019-10-11T05:17:31.214721Z",
     "start_time": "2019-10-11T05:17:31.195875Z"
    }
   },
   "outputs": [
    {
     "data": {
      "text/plain": [
       "178855.42160558785"
      ]
     },
     "execution_count": 44,
     "metadata": {},
     "output_type": "execute_result"
    }
   ],
   "source": [
    "predictions_test.mean()"
   ]
  },
  {
   "cell_type": "code",
   "execution_count": 45,
   "metadata": {
    "ExecuteTime": {
     "end_time": "2019-10-11T05:17:31.229095Z",
     "start_time": "2019-10-11T05:17:31.219027Z"
    }
   },
   "outputs": [],
   "source": [
    "submit=pd.DataFrame()"
   ]
  },
  {
   "cell_type": "code",
   "execution_count": 46,
   "metadata": {
    "ExecuteTime": {
     "end_time": "2019-10-11T05:17:31.266317Z",
     "start_time": "2019-10-11T05:17:31.235355Z"
    }
   },
   "outputs": [],
   "source": [
    "submit['Id']=test['Id']\n",
    "submit['SalePrice']=predictions_test\n",
    "submit=submit.set_index('Id')\n",
    "submit.to_csv('submit_l1.csv')"
   ]
  },
  {
   "cell_type": "code",
   "execution_count": 47,
   "metadata": {
    "ExecuteTime": {
     "end_time": "2019-10-11T05:17:31.309852Z",
     "start_time": "2019-10-11T05:17:31.275908Z"
    }
   },
   "outputs": [
    {
     "data": {
      "text/html": [
       "<div>\n",
       "<style scoped>\n",
       "    .dataframe tbody tr th:only-of-type {\n",
       "        vertical-align: middle;\n",
       "    }\n",
       "\n",
       "    .dataframe tbody tr th {\n",
       "        vertical-align: top;\n",
       "    }\n",
       "\n",
       "    .dataframe thead th {\n",
       "        text-align: right;\n",
       "    }\n",
       "</style>\n",
       "<table border=\"1\" class=\"dataframe\">\n",
       "  <thead>\n",
       "    <tr style=\"text-align: right;\">\n",
       "      <th></th>\n",
       "      <th>SalePrice</th>\n",
       "    </tr>\n",
       "  </thead>\n",
       "  <tbody>\n",
       "    <tr>\n",
       "      <th>count</th>\n",
       "      <td>879.000000</td>\n",
       "    </tr>\n",
       "    <tr>\n",
       "      <th>mean</th>\n",
       "      <td>178855.421606</td>\n",
       "    </tr>\n",
       "    <tr>\n",
       "      <th>std</th>\n",
       "      <td>66960.357343</td>\n",
       "    </tr>\n",
       "    <tr>\n",
       "      <th>min</th>\n",
       "      <td>18486.299000</td>\n",
       "    </tr>\n",
       "    <tr>\n",
       "      <th>25%</th>\n",
       "      <td>130265.984055</td>\n",
       "    </tr>\n",
       "    <tr>\n",
       "      <th>50%</th>\n",
       "      <td>165044.262370</td>\n",
       "    </tr>\n",
       "    <tr>\n",
       "      <th>75%</th>\n",
       "      <td>218606.426709</td>\n",
       "    </tr>\n",
       "    <tr>\n",
       "      <th>max</th>\n",
       "      <td>436957.554420</td>\n",
       "    </tr>\n",
       "  </tbody>\n",
       "</table>\n",
       "</div>"
      ],
      "text/plain": [
       "           SalePrice\n",
       "count     879.000000\n",
       "mean   178855.421606\n",
       "std     66960.357343\n",
       "min     18486.299000\n",
       "25%    130265.984055\n",
       "50%    165044.262370\n",
       "75%    218606.426709\n",
       "max    436957.554420"
      ]
     },
     "execution_count": 47,
     "metadata": {},
     "output_type": "execute_result"
    }
   ],
   "source": [
    "submit.describe()"
   ]
  },
  {
   "cell_type": "code",
   "execution_count": 48,
   "metadata": {
    "ExecuteTime": {
     "end_time": "2019-10-11T05:17:31.323642Z",
     "start_time": "2019-10-11T05:17:31.314028Z"
    }
   },
   "outputs": [
    {
     "data": {
      "text/plain": [
       "(879, 1)"
      ]
     },
     "execution_count": 48,
     "metadata": {},
     "output_type": "execute_result"
    }
   ],
   "source": [
    "submit.shape"
   ]
  },
  {
   "cell_type": "code",
   "execution_count": 49,
   "metadata": {
    "ExecuteTime": {
     "end_time": "2019-10-11T05:17:31.335216Z",
     "start_time": "2019-10-11T05:17:31.326727Z"
    },
    "scrolled": true
   },
   "outputs": [
    {
     "data": {
      "text/plain": [
       "(167,)"
      ]
     },
     "execution_count": 49,
     "metadata": {},
     "output_type": "execute_result"
    }
   ],
   "source": [
    "lasso_model.coef_.shape"
   ]
  },
  {
   "cell_type": "code",
   "execution_count": 50,
   "metadata": {
    "ExecuteTime": {
     "end_time": "2019-10-11T05:17:31.347990Z",
     "start_time": "2019-10-11T05:17:31.338409Z"
    }
   },
   "outputs": [
    {
     "data": {
      "text/plain": [
       "(879, 167)"
      ]
     },
     "execution_count": 50,
     "metadata": {},
     "output_type": "execute_result"
    }
   ],
   "source": [
    "test.shape"
   ]
  },
  {
   "cell_type": "markdown",
   "metadata": {},
   "source": [
    "### Using the coefficients of the lasso_model, we find the features that were used in the model and extract them to reduce the complexity of the model, and export for the next iteration"
   ]
  },
  {
   "cell_type": "code",
   "execution_count": 51,
   "metadata": {
    "ExecuteTime": {
     "end_time": "2019-10-11T05:17:31.358947Z",
     "start_time": "2019-10-11T05:17:31.350942Z"
    },
    "scrolled": true
   },
   "outputs": [],
   "source": [
    "new_columns=test.columns[[(item>0)for column,item in zip(test.columns,lasso_model.coef_)]]"
   ]
  },
  {
   "cell_type": "code",
   "execution_count": 52,
   "metadata": {
    "ExecuteTime": {
     "end_time": "2019-10-11T05:17:31.370936Z",
     "start_time": "2019-10-11T05:17:31.362502Z"
    }
   },
   "outputs": [
    {
     "data": {
      "text/plain": [
       "Index(['Lot Area', 'Overall Qual', 'Year Built', 'Year Remod/Add',\n",
       "       'Mas Vnr Area', 'Exter Qual', 'Bsmt Qual', 'Bsmt Exposure',\n",
       "       'BsmtFin SF 1', 'Total Bsmt SF', 'Heating QC', '1st Flr SF',\n",
       "       'Gr Liv Area', 'Kitchen Qual', 'Functional', 'Fireplaces',\n",
       "       'Fireplace Qu', 'Garage Area', 'Land Contour_HLS',\n",
       "       'Neighborhood_NoRidge', 'Neighborhood_NridgHt', 'Neighborhood_StoneBr',\n",
       "       'Roof Style_Hip', 'Exterior 1st_BrkFace', 'Sale Type_New', 'bath_agg'],\n",
       "      dtype='object')"
      ]
     },
     "execution_count": 52,
     "metadata": {},
     "output_type": "execute_result"
    }
   ],
   "source": [
    "new_columns"
   ]
  },
  {
   "cell_type": "code",
   "execution_count": 53,
   "metadata": {
    "ExecuteTime": {
     "end_time": "2019-10-11T05:17:31.386387Z",
     "start_time": "2019-10-11T05:17:31.377254Z"
    }
   },
   "outputs": [],
   "source": [
    "new_columns=list(new_columns)"
   ]
  },
  {
   "cell_type": "code",
   "execution_count": 54,
   "metadata": {
    "ExecuteTime": {
     "end_time": "2019-10-11T05:17:31.401817Z",
     "start_time": "2019-10-11T05:17:31.395127Z"
    }
   },
   "outputs": [],
   "source": [
    "new_columns.append('Id')"
   ]
  },
  {
   "cell_type": "code",
   "execution_count": 55,
   "metadata": {
    "ExecuteTime": {
     "end_time": "2019-10-11T05:17:31.414029Z",
     "start_time": "2019-10-11T05:17:31.405500Z"
    }
   },
   "outputs": [
    {
     "data": {
      "text/plain": [
       "27"
      ]
     },
     "execution_count": 55,
     "metadata": {},
     "output_type": "execute_result"
    }
   ],
   "source": [
    "len(new_columns)"
   ]
  },
  {
   "cell_type": "code",
   "execution_count": 56,
   "metadata": {
    "ExecuteTime": {
     "end_time": "2019-10-11T05:17:31.428056Z",
     "start_time": "2019-10-11T05:17:31.417495Z"
    }
   },
   "outputs": [],
   "source": [
    "train2=pd.DataFrame(train[new_columns])"
   ]
  },
  {
   "cell_type": "code",
   "execution_count": 57,
   "metadata": {
    "ExecuteTime": {
     "end_time": "2019-10-11T05:17:31.446808Z",
     "start_time": "2019-10-11T05:17:31.433200Z"
    }
   },
   "outputs": [],
   "source": [
    "test2=pd.DataFrame(test[new_columns])"
   ]
  },
  {
   "cell_type": "code",
   "execution_count": 58,
   "metadata": {
    "ExecuteTime": {
     "end_time": "2019-10-11T05:17:31.459124Z",
     "start_time": "2019-10-11T05:17:31.449892Z"
    }
   },
   "outputs": [],
   "source": [
    "train2['SalePrice']=train['SalePrice']"
   ]
  },
  {
   "cell_type": "code",
   "execution_count": 59,
   "metadata": {
    "ExecuteTime": {
     "end_time": "2019-10-11T05:17:31.598010Z",
     "start_time": "2019-10-11T05:17:31.464579Z"
    }
   },
   "outputs": [],
   "source": [
    "#train2.to_csv('datasets/train_lassoed.csv')"
   ]
  },
  {
   "cell_type": "code",
   "execution_count": 60,
   "metadata": {
    "ExecuteTime": {
     "end_time": "2019-10-11T05:17:31.668678Z",
     "start_time": "2019-10-11T05:17:31.600754Z"
    }
   },
   "outputs": [],
   "source": [
    "#test2.to_csv('datasets/test_lassoed.csv')"
   ]
  },
  {
   "cell_type": "code",
   "execution_count": 61,
   "metadata": {
    "ExecuteTime": {
     "end_time": "2019-10-11T05:17:31.690830Z",
     "start_time": "2019-10-11T05:17:31.675639Z"
    }
   },
   "outputs": [
    {
     "data": {
      "text/plain": [
       "(2041, 28)"
      ]
     },
     "execution_count": 61,
     "metadata": {},
     "output_type": "execute_result"
    }
   ],
   "source": [
    "train2.shape"
   ]
  },
  {
   "cell_type": "code",
   "execution_count": 62,
   "metadata": {
    "ExecuteTime": {
     "end_time": "2019-10-11T05:17:31.700703Z",
     "start_time": "2019-10-11T05:17:31.694241Z"
    },
    "scrolled": true
   },
   "outputs": [],
   "source": [
    "#train['SalePrice']"
   ]
  },
  {
   "cell_type": "code",
   "execution_count": 63,
   "metadata": {
    "ExecuteTime": {
     "end_time": "2019-10-11T05:17:31.834943Z",
     "start_time": "2019-10-11T05:17:31.709827Z"
    }
   },
   "outputs": [],
   "source": [
    "#get the polynomial features\n",
    "target = 'SalePrice'\n",
    "nc = [x for x in train2.columns if x != target]\n",
    "\n",
    "X_train,X_test,y_train,y_test=train_test_split(train2[nc],train2[target])\n",
    "\n",
    "ss = StandardScaler()\n",
    "ss.fit(X_train)\n",
    "X_train = ss.transform(X_train)\n",
    "X_test= ss.transform(X_test)\n",
    "#test2=test2.drop('SalePrice',axis=1)\n",
    "test2_sc=ss.transform(test2)\n",
    "X=ss.transform(train2[nc])\n",
    "\n",
    "\n",
    "\n",
    "pf = PolynomialFeatures(degree=2,interaction_only=True,include_bias=False)\n",
    "X_train_poly=pf.fit_transform(X_train)\n",
    "X_test_poly=pf.fit_transform(X_test)\n",
    "X_train_poly.shape\n",
    "X_poly=pf.fit_transform(X)\n",
    "test2_sc_poly=pf.fit_transform(test2_sc)\n",
    "test_poly_cols=pf.get_feature_names(test2.columns)"
   ]
  },
  {
   "cell_type": "code",
   "execution_count": 64,
   "metadata": {
    "ExecuteTime": {
     "end_time": "2019-10-11T05:17:31.846899Z",
     "start_time": "2019-10-11T05:17:31.838187Z"
    }
   },
   "outputs": [
    {
     "data": {
      "text/plain": [
       "(1530, 27)"
      ]
     },
     "execution_count": 64,
     "metadata": {},
     "output_type": "execute_result"
    }
   ],
   "source": [
    "X_train.shape"
   ]
  },
  {
   "cell_type": "code",
   "execution_count": 65,
   "metadata": {
    "ExecuteTime": {
     "end_time": "2019-10-11T05:17:31.859499Z",
     "start_time": "2019-10-11T05:17:31.850302Z"
    }
   },
   "outputs": [
    {
     "data": {
      "text/plain": [
       "(1530, 378)"
      ]
     },
     "execution_count": 65,
     "metadata": {},
     "output_type": "execute_result"
    }
   ],
   "source": [
    "X_train_poly.shape"
   ]
  },
  {
   "cell_type": "code",
   "execution_count": 66,
   "metadata": {
    "ExecuteTime": {
     "end_time": "2019-10-11T05:17:31.871112Z",
     "start_time": "2019-10-11T05:17:31.863385Z"
    }
   },
   "outputs": [
    {
     "data": {
      "text/plain": [
       "(879, 378)"
      ]
     },
     "execution_count": 66,
     "metadata": {},
     "output_type": "execute_result"
    }
   ],
   "source": [
    "test2_sc_poly.shape"
   ]
  },
  {
   "cell_type": "code",
   "execution_count": null,
   "metadata": {},
   "outputs": [],
   "source": []
  },
  {
   "cell_type": "code",
   "execution_count": 67,
   "metadata": {
    "ExecuteTime": {
     "end_time": "2019-10-11T05:17:31.935340Z",
     "start_time": "2019-10-11T05:17:31.874369Z"
    },
    "scrolled": true
   },
   "outputs": [],
   "source": [
    "l_alphas = np.logspace(2.5, 6, 100)\n",
    "lasso_model = Lasso(alpha=9000,max_iter=10000000)\n",
    "#lasso_model = LassoCV(alphas=l_alphas, cv=10,max_iter=100000, fit_intercept=True)\n",
    "lasso_model = lasso_model.fit(X_train_poly, y_train)"
   ]
  },
  {
   "cell_type": "code",
   "execution_count": 68,
   "metadata": {
    "ExecuteTime": {
     "end_time": "2019-10-11T05:17:32.120868Z",
     "start_time": "2019-10-11T05:17:31.948771Z"
    }
   },
   "outputs": [
    {
     "data": {
      "text/plain": [
       "0.8243572062487579"
      ]
     },
     "execution_count": 68,
     "metadata": {},
     "output_type": "execute_result"
    }
   ],
   "source": [
    "cross_val_score(lasso_model,X_train_poly,y_train,cv=5).mean()"
   ]
  },
  {
   "cell_type": "code",
   "execution_count": 69,
   "metadata": {
    "ExecuteTime": {
     "end_time": "2019-10-11T05:17:32.133686Z",
     "start_time": "2019-10-11T05:17:32.125122Z"
    }
   },
   "outputs": [
    {
     "data": {
      "text/plain": [
       "9000"
      ]
     },
     "execution_count": 69,
     "metadata": {},
     "output_type": "execute_result"
    }
   ],
   "source": [
    "lasso_model.alpha"
   ]
  },
  {
   "cell_type": "code",
   "execution_count": 70,
   "metadata": {
    "ExecuteTime": {
     "end_time": "2019-10-11T05:17:32.146163Z",
     "start_time": "2019-10-11T05:17:32.136964Z"
    }
   },
   "outputs": [
    {
     "data": {
      "text/plain": [
       "29"
      ]
     },
     "execution_count": 70,
     "metadata": {},
     "output_type": "execute_result"
    }
   ],
   "source": [
    "len([column for column,item in zip(test_poly_cols,lasso_model.coef_) if (item>0)])"
   ]
  },
  {
   "cell_type": "code",
   "execution_count": 71,
   "metadata": {
    "ExecuteTime": {
     "end_time": "2019-10-11T05:17:32.158423Z",
     "start_time": "2019-10-11T05:17:32.149468Z"
    }
   },
   "outputs": [],
   "source": [
    "test_predictions=lasso_model.predict(X_test_poly)"
   ]
  },
  {
   "cell_type": "code",
   "execution_count": 72,
   "metadata": {
    "ExecuteTime": {
     "end_time": "2019-10-11T05:17:32.763039Z",
     "start_time": "2019-10-11T05:17:32.161462Z"
    }
   },
   "outputs": [
    {
     "data": {
      "text/plain": [
       "0.8546092751641579"
      ]
     },
     "execution_count": 72,
     "metadata": {},
     "output_type": "execute_result"
    },
    {
     "data": {
      "image/png": "[encoded data removed]",
      "text/plain": [
       "<Figure size 432x288 with 1 Axes>"
      ]
     },
     "metadata": {
      "image/png": {
       "height": 248,
       "width": 403
      },
      "needs_background": "light"
     },
     "output_type": "display_data"
    }
   ],
   "source": [
    "sns.scatterplot(test_predictions,y_test)\n",
    "lasso_model.score(X_train_poly,y_train)"
   ]
  },
  {
   "cell_type": "code",
   "execution_count": 73,
   "metadata": {
    "ExecuteTime": {
     "end_time": "2019-10-11T05:17:33.356182Z",
     "start_time": "2019-10-11T05:17:32.772230Z"
    },
    "scrolled": false
   },
   "outputs": [
    {
     "data": {
      "text/plain": [
       "0.8626296154019703"
      ]
     },
     "execution_count": 73,
     "metadata": {},
     "output_type": "execute_result"
    },
    {
     "data": {
      "image/png": "[encoded data removed]",
      "text/plain": [
       "<Figure size 432x288 with 1 Axes>"
      ]
     },
     "metadata": {
      "image/png": {
       "height": 248,
       "width": 403
      },
      "needs_background": "light"
     },
     "output_type": "display_data"
    }
   ],
   "source": [
    "sns.scatterplot(test_predictions,y_test)\n",
    "lasso_model.score(X_test_poly,y_test)"
   ]
  },
  {
   "cell_type": "code",
   "execution_count": 74,
   "metadata": {
    "ExecuteTime": {
     "end_time": "2019-10-11T05:17:33.371558Z",
     "start_time": "2019-10-11T05:17:33.359660Z"
    }
   },
   "outputs": [
    {
     "data": {
      "text/plain": [
       "176243.80405147548"
      ]
     },
     "execution_count": 74,
     "metadata": {},
     "output_type": "execute_result"
    }
   ],
   "source": [
    "lasso_model.intercept_"
   ]
  },
  {
   "cell_type": "code",
   "execution_count": 75,
   "metadata": {
    "ExecuteTime": {
     "end_time": "2019-10-11T05:17:33.384585Z",
     "start_time": "2019-10-11T05:17:33.376998Z"
    }
   },
   "outputs": [],
   "source": [
    "pd.set_option('display.max_columns', 100)"
   ]
  },
  {
   "cell_type": "code",
   "execution_count": 76,
   "metadata": {
    "ExecuteTime": {
     "end_time": "2019-10-11T05:17:33.409162Z",
     "start_time": "2019-10-11T05:17:33.402052Z"
    }
   },
   "outputs": [],
   "source": [
    "predictions_test=lasso_model.predict(test2_sc_poly)"
   ]
  },
  {
   "cell_type": "code",
   "execution_count": 77,
   "metadata": {
    "ExecuteTime": {
     "end_time": "2019-10-11T05:17:33.441685Z",
     "start_time": "2019-10-11T05:17:33.416492Z"
    }
   },
   "outputs": [],
   "source": [
    "submit['Id']=list(test2['Id'])\n",
    "submit['SalePrice']=predictions_test\n",
    "submit=submit.set_index('Id')\n",
    "submit.to_csv('submissions/dllagg.csv')"
   ]
  },
  {
   "cell_type": "code",
   "execution_count": 78,
   "metadata": {
    "ExecuteTime": {
     "end_time": "2019-10-11T05:17:33.462996Z",
     "start_time": "2019-10-11T05:17:33.445002Z"
    }
   },
   "outputs": [
    {
     "data": {
      "text/html": [
       "<div>\n",
       "<style scoped>\n",
       "    .dataframe tbody tr th:only-of-type {\n",
       "        vertical-align: middle;\n",
       "    }\n",
       "\n",
       "    .dataframe tbody tr th {\n",
       "        vertical-align: top;\n",
       "    }\n",
       "\n",
       "    .dataframe thead th {\n",
       "        text-align: right;\n",
       "    }\n",
       "</style>\n",
       "<table border=\"1\" class=\"dataframe\">\n",
       "  <thead>\n",
       "    <tr style=\"text-align: right;\">\n",
       "      <th></th>\n",
       "      <th>SalePrice</th>\n",
       "    </tr>\n",
       "    <tr>\n",
       "      <th>Id</th>\n",
       "      <th></th>\n",
       "    </tr>\n",
       "  </thead>\n",
       "  <tbody>\n",
       "    <tr>\n",
       "      <th>2658</th>\n",
       "      <td>150278.597510</td>\n",
       "    </tr>\n",
       "    <tr>\n",
       "      <th>2718</th>\n",
       "      <td>183307.972788</td>\n",
       "    </tr>\n",
       "    <tr>\n",
       "      <th>2414</th>\n",
       "      <td>204170.463118</td>\n",
       "    </tr>\n",
       "    <tr>\n",
       "      <th>1989</th>\n",
       "      <td>128851.177142</td>\n",
       "    </tr>\n",
       "    <tr>\n",
       "      <th>625</th>\n",
       "      <td>177961.251678</td>\n",
       "    </tr>\n",
       "  </tbody>\n",
       "</table>\n",
       "</div>"
      ],
      "text/plain": [
       "          SalePrice\n",
       "Id                 \n",
       "2658  150278.597510\n",
       "2718  183307.972788\n",
       "2414  204170.463118\n",
       "1989  128851.177142\n",
       "625   177961.251678"
      ]
     },
     "execution_count": 78,
     "metadata": {},
     "output_type": "execute_result"
    }
   ],
   "source": [
    "submit.head()"
   ]
  },
  {
   "cell_type": "code",
   "execution_count": 79,
   "metadata": {
    "ExecuteTime": {
     "end_time": "2019-10-11T05:17:33.476026Z",
     "start_time": "2019-10-11T05:17:33.465645Z"
    },
    "scrolled": true
   },
   "outputs": [
    {
     "data": {
      "text/plain": [
       "378"
      ]
     },
     "execution_count": 79,
     "metadata": {},
     "output_type": "execute_result"
    }
   ],
   "source": [
    "len(lasso_model.coef_)"
   ]
  },
  {
   "cell_type": "code",
   "execution_count": 80,
   "metadata": {
    "ExecuteTime": {
     "end_time": "2019-10-11T05:17:33.486661Z",
     "start_time": "2019-10-11T05:17:33.478824Z"
    }
   },
   "outputs": [],
   "source": [
    "new_columns=[column for column,item in zip(test_poly_cols,lasso_model.coef_) if (item>0)]"
   ]
  },
  {
   "cell_type": "code",
   "execution_count": 81,
   "metadata": {
    "ExecuteTime": {
     "end_time": "2019-10-11T05:17:33.502378Z",
     "start_time": "2019-10-11T05:17:33.493726Z"
    }
   },
   "outputs": [
    {
     "data": {
      "text/plain": [
       "29"
      ]
     },
     "execution_count": 81,
     "metadata": {},
     "output_type": "execute_result"
    }
   ],
   "source": [
    "len(new_columns)"
   ]
  },
  {
   "cell_type": "code",
   "execution_count": 82,
   "metadata": {
    "ExecuteTime": {
     "end_time": "2019-10-11T05:17:33.618774Z",
     "start_time": "2019-10-11T05:17:33.506561Z"
    },
    "scrolled": false
   },
   "outputs": [],
   "source": [
    "new_train=pd.DataFrame(X_poly,columns=test_poly_cols)\n",
    "new_train=new_train[new_columns]\n",
    "new_train['SalePrice']=train['SalePrice']"
   ]
  },
  {
   "cell_type": "code",
   "execution_count": 83,
   "metadata": {
    "ExecuteTime": {
     "end_time": "2019-10-11T05:17:33.709787Z",
     "start_time": "2019-10-11T05:17:33.628495Z"
    }
   },
   "outputs": [],
   "source": [
    "new_test=pd.DataFrame(test2_sc_poly,columns=test_poly_cols)\n",
    "new_test=new_test[new_columns]\n",
    "new_test['SalePrice']=np.zeros(shape=(879,))\n"
   ]
  },
  {
   "cell_type": "code",
   "execution_count": 84,
   "metadata": {
    "ExecuteTime": {
     "end_time": "2019-10-11T05:17:33.993237Z",
     "start_time": "2019-10-11T05:17:33.714592Z"
    }
   },
   "outputs": [],
   "source": [
    "new_test.to_csv('datasets/lltest.csv')\n",
    "new_train.to_csv('datasets/lltest.csv')"
   ]
  },
  {
   "cell_type": "markdown",
   "metadata": {},
   "source": [
    "#Kaggle  \n",
    "\n",
    "Private score = 29363.50647  \n",
    "Public score= 7903.89541\n"
   ]
  },
  {
   "cell_type": "code",
   "execution_count": null,
   "metadata": {},
   "outputs": [],
   "source": []
  }
 ],
 "metadata": {
  "kernelspec": {
   "display_name": "Python 3",
   "language": "python",
   "name": "python3"
  },
  "language_info": {
   "codemirror_mode": {
    "name": "ipython",
    "version": 3
   },
   "file_extension": ".py",
   "mimetype": "text/x-python",
   "name": "python",
   "nbconvert_exporter": "python",
   "pygments_lexer": "ipython3",
   "version": "3.7.3"
  }
 },
 "nbformat": 4,
 "nbformat_minor": 2
}
