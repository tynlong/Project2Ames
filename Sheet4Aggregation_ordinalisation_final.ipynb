{
 "cells": [
  {
   "cell_type": "code",
   "execution_count": 1,
   "metadata": {
    "ExecuteTime": {
     "end_time": "2019-10-11T05:18:03.159195Z",
     "start_time": "2019-10-11T05:18:01.460689Z"
    }
   },
   "outputs": [],
   "source": [
    "import pandas as pd\n",
    "import numpy as np\n",
    "import seaborn as sns\n",
    "import matplotlib.pyplot as plt\n",
    "from sklearn.linear_model import LinearRegression, LassoCV, RidgeCV,Lasso\n",
    "from sklearn.preprocessing import PolynomialFeatures, StandardScaler\n",
    "from sklearn.model_selection import train_test_split, cross_val_score, cross_val_predict\n",
    "from sklearn.metrics import r2_score, classification_report\n",
    "from sklearn.model_selection import GridSearchCV\n",
    "from sklearn.pipeline import Pipeline\n",
    "import time\n",
    "\n",
    "sns.set_style('darkgrid')\n",
    "%config InlineBackend.figure_format = 'retina'\n",
    "%matplotlib inline\n"
   ]
  },
  {
   "cell_type": "code",
   "execution_count": 2,
   "metadata": {
    "ExecuteTime": {
     "end_time": "2019-10-11T05:18:03.275878Z",
     "start_time": "2019-10-11T05:18:03.162270Z"
    }
   },
   "outputs": [],
   "source": [
    "train=pd.read_csv('datasets/train_agged.csv')\n",
    "test=pd.read_csv('datasets/test_agged.csv')"
   ]
  },
  {
   "cell_type": "code",
   "execution_count": 3,
   "metadata": {
    "ExecuteTime": {
     "end_time": "2019-10-11T05:18:03.292410Z",
     "start_time": "2019-10-11T05:18:03.280870Z"
    }
   },
   "outputs": [],
   "source": [
    "train=train.drop('Unnamed: 0',axis=1)\n",
    "test=test.drop('Unnamed: 0',axis=1)\n",
    "test=test.drop('SalePrice',axis=1)"
   ]
  },
  {
   "cell_type": "markdown",
   "metadata": {},
   "source": [
    "### High level look at what I did:\n",
    "\n",
    "    1. Drop collinear variables -> 0.6-0.9\n",
    "    2. Scale variables\n",
    "    3. Lasso down to 50 variables\n",
    "    6. Lasso down again to 25 or so\n"
   ]
  },
  {
   "cell_type": "markdown",
   "metadata": {
    "ExecuteTime": {
     "end_time": "2019-10-11T00:21:57.345188Z",
     "start_time": "2019-10-11T00:21:57.341056Z"
    }
   },
   "source": [
    "### This sheet continues from the train and test set exported from aggregation_only sheet"
   ]
  },
  {
   "cell_type": "code",
   "execution_count": 4,
   "metadata": {
    "ExecuteTime": {
     "end_time": "2019-10-11T05:18:03.355177Z",
     "start_time": "2019-10-11T05:18:03.299709Z"
    }
   },
   "outputs": [
    {
     "name": "stdout",
     "output_type": "stream",
     "text": [
      "(1530, 167) (1530,)\n",
      "(511, 167) (511,)\n"
     ]
    }
   ],
   "source": [
    "#get the dataset\n",
    "target = 'SalePrice'\n",
    "nc = [x for x in train.columns if x != target]\n",
    "\n",
    "X_train,X_test,y_train,y_test=train_test_split(train[nc],train[target])\n",
    "\n",
    "ss = StandardScaler()\n",
    "ss.fit(X_train)\n",
    "X_train = ss.transform(X_train)\n",
    "X_test= ss.transform(X_test)\n",
    "\n",
    "test_sc=ss.transform(test)\n",
    "X=ss.transform(train[nc])\n",
    "\n",
    "print(X_train.shape, y_train.shape)\n",
    "print(X_test.shape, y_test.shape)"
   ]
  },
  {
   "cell_type": "code",
   "execution_count": 5,
   "metadata": {
    "ExecuteTime": {
     "end_time": "2019-10-11T05:18:03.404138Z",
     "start_time": "2019-10-11T05:18:03.359332Z"
    }
   },
   "outputs": [],
   "source": [
    "l_alphas = np.logspace(2, 6, 100)\n",
    "lasso_model = Lasso(alpha=1000,max_iter=10000000)\n",
    "#lasso_model = LassoCV(alphas=l_alphas, cv=10,max_iter=100000, fit_intercept=True)\n",
    "lasso_model = lasso_model.fit(X_train, y_train)"
   ]
  },
  {
   "cell_type": "code",
   "execution_count": 6,
   "metadata": {
    "ExecuteTime": {
     "end_time": "2019-10-11T05:18:03.419875Z",
     "start_time": "2019-10-11T05:18:03.409320Z"
    }
   },
   "outputs": [],
   "source": [
    "new_columns=(test.columns[[(item>0)for column,item in zip(test.columns,lasso_model.coef_)]])"
   ]
  },
  {
   "cell_type": "code",
   "execution_count": 7,
   "metadata": {
    "ExecuteTime": {
     "end_time": "2019-10-11T05:18:03.435577Z",
     "start_time": "2019-10-11T05:18:03.422736Z"
    }
   },
   "outputs": [
    {
     "data": {
      "text/plain": [
       "43"
      ]
     },
     "execution_count": 7,
     "metadata": {},
     "output_type": "execute_result"
    }
   ],
   "source": [
    "len(new_columns)"
   ]
  },
  {
   "cell_type": "code",
   "execution_count": 8,
   "metadata": {
    "ExecuteTime": {
     "end_time": "2019-10-11T05:18:03.818088Z",
     "start_time": "2019-10-11T05:18:03.447372Z"
    }
   },
   "outputs": [
    {
     "data": {
      "text/plain": [
       "0.8569417658501843"
      ]
     },
     "execution_count": 8,
     "metadata": {},
     "output_type": "execute_result"
    }
   ],
   "source": [
    "cross_val_score(lasso_model,X_train,y_train,cv=15).mean()"
   ]
  },
  {
   "cell_type": "code",
   "execution_count": 9,
   "metadata": {
    "ExecuteTime": {
     "end_time": "2019-10-11T05:18:03.839946Z",
     "start_time": "2019-10-11T05:18:03.825913Z"
    }
   },
   "outputs": [
    {
     "data": {
      "text/plain": [
       "Index(['Lot Frontage', 'Lot Area', 'Overall Qual', 'Overall Cond',\n",
       "       'Year Built', 'Year Remod/Add', 'Mas Vnr Area', 'Exter Qual',\n",
       "       'Bsmt Qual', 'Bsmt Exposure', 'BsmtFin SF 1', 'Total Bsmt SF',\n",
       "       'Heating QC', '1st Flr SF', 'Gr Liv Area', 'Kitchen Qual',\n",
       "       'TotRms AbvGrd', 'Functional', 'Fireplaces', 'Fireplace Qu',\n",
       "       'Garage Yr Blt', 'Garage Area', 'Land Contour_HLS',\n",
       "       'Neighborhood_BrkSide', 'Neighborhood_Crawfor', 'Neighborhood_GrnHill',\n",
       "       'Neighborhood_NoRidge', 'Neighborhood_NridgHt', 'Neighborhood_Somerst',\n",
       "       'Neighborhood_StoneBr', 'Condition 1_Norm', 'Condition 1_PosA',\n",
       "       'Condition 1_PosN', 'Roof Style_Hip', 'Exterior 1st_BrkFace',\n",
       "       'Exterior 1st_CemntBd', 'Exterior 1st_VinylSd', 'Mas Vnr Type_Stone',\n",
       "       'Misc Feature_Othr', 'Sale Type_Con', 'Sale Type_New', 'Sale Type_Oth',\n",
       "       'bath_agg'],\n",
       "      dtype='object')"
      ]
     },
     "execution_count": 9,
     "metadata": {},
     "output_type": "execute_result"
    }
   ],
   "source": [
    "new_columns"
   ]
  },
  {
   "cell_type": "code",
   "execution_count": 10,
   "metadata": {
    "ExecuteTime": {
     "end_time": "2019-10-11T05:18:03.862124Z",
     "start_time": "2019-10-11T05:18:03.844506Z"
    }
   },
   "outputs": [],
   "source": [
    "train2=pd.DataFrame(train[new_columns])\n",
    "train2['SalePrice']=train['SalePrice'].values\n",
    "test2=pd.DataFrame(test[new_columns])"
   ]
  },
  {
   "cell_type": "code",
   "execution_count": 11,
   "metadata": {
    "ExecuteTime": {
     "end_time": "2019-10-11T05:18:03.913224Z",
     "start_time": "2019-10-11T05:18:03.866482Z"
    },
    "scrolled": true
   },
   "outputs": [
    {
     "data": {
      "text/html": [
       "<div>\n",
       "<style scoped>\n",
       "    .dataframe tbody tr th:only-of-type {\n",
       "        vertical-align: middle;\n",
       "    }\n",
       "\n",
       "    .dataframe tbody tr th {\n",
       "        vertical-align: top;\n",
       "    }\n",
       "\n",
       "    .dataframe thead th {\n",
       "        text-align: right;\n",
       "    }\n",
       "</style>\n",
       "<table border=\"1\" class=\"dataframe\">\n",
       "  <thead>\n",
       "    <tr style=\"text-align: right;\">\n",
       "      <th></th>\n",
       "      <th>Lot Frontage</th>\n",
       "      <th>Lot Area</th>\n",
       "      <th>Overall Qual</th>\n",
       "      <th>Overall Cond</th>\n",
       "      <th>Year Built</th>\n",
       "      <th>Year Remod/Add</th>\n",
       "      <th>Mas Vnr Area</th>\n",
       "      <th>Exter Qual</th>\n",
       "      <th>Bsmt Qual</th>\n",
       "      <th>Bsmt Exposure</th>\n",
       "      <th>...</th>\n",
       "      <th>Exterior 1st_BrkFace</th>\n",
       "      <th>Exterior 1st_CemntBd</th>\n",
       "      <th>Exterior 1st_VinylSd</th>\n",
       "      <th>Mas Vnr Type_Stone</th>\n",
       "      <th>Misc Feature_Othr</th>\n",
       "      <th>Sale Type_Con</th>\n",
       "      <th>Sale Type_New</th>\n",
       "      <th>Sale Type_Oth</th>\n",
       "      <th>bath_agg</th>\n",
       "      <th>SalePrice</th>\n",
       "    </tr>\n",
       "  </thead>\n",
       "  <tbody>\n",
       "    <tr>\n",
       "      <th>0</th>\n",
       "      <td>0.0</td>\n",
       "      <td>13517</td>\n",
       "      <td>6</td>\n",
       "      <td>8</td>\n",
       "      <td>1976</td>\n",
       "      <td>2005</td>\n",
       "      <td>289.0</td>\n",
       "      <td>2</td>\n",
       "      <td>2</td>\n",
       "      <td>1</td>\n",
       "      <td>...</td>\n",
       "      <td>0</td>\n",
       "      <td>0</td>\n",
       "      <td>0</td>\n",
       "      <td>0</td>\n",
       "      <td>0</td>\n",
       "      <td>0</td>\n",
       "      <td>0</td>\n",
       "      <td>0</td>\n",
       "      <td>3.0</td>\n",
       "      <td>130500.0</td>\n",
       "    </tr>\n",
       "    <tr>\n",
       "      <th>1</th>\n",
       "      <td>43.0</td>\n",
       "      <td>11492</td>\n",
       "      <td>7</td>\n",
       "      <td>5</td>\n",
       "      <td>1996</td>\n",
       "      <td>1997</td>\n",
       "      <td>132.0</td>\n",
       "      <td>2</td>\n",
       "      <td>3</td>\n",
       "      <td>1</td>\n",
       "      <td>...</td>\n",
       "      <td>0</td>\n",
       "      <td>0</td>\n",
       "      <td>1</td>\n",
       "      <td>0</td>\n",
       "      <td>0</td>\n",
       "      <td>0</td>\n",
       "      <td>0</td>\n",
       "      <td>0</td>\n",
       "      <td>4.0</td>\n",
       "      <td>220000.0</td>\n",
       "    </tr>\n",
       "    <tr>\n",
       "      <th>2</th>\n",
       "      <td>68.0</td>\n",
       "      <td>7922</td>\n",
       "      <td>5</td>\n",
       "      <td>7</td>\n",
       "      <td>1953</td>\n",
       "      <td>2007</td>\n",
       "      <td>0.0</td>\n",
       "      <td>1</td>\n",
       "      <td>2</td>\n",
       "      <td>1</td>\n",
       "      <td>...</td>\n",
       "      <td>0</td>\n",
       "      <td>0</td>\n",
       "      <td>1</td>\n",
       "      <td>0</td>\n",
       "      <td>0</td>\n",
       "      <td>0</td>\n",
       "      <td>0</td>\n",
       "      <td>0</td>\n",
       "      <td>2.0</td>\n",
       "      <td>109000.0</td>\n",
       "    </tr>\n",
       "    <tr>\n",
       "      <th>3</th>\n",
       "      <td>73.0</td>\n",
       "      <td>9802</td>\n",
       "      <td>5</td>\n",
       "      <td>5</td>\n",
       "      <td>2006</td>\n",
       "      <td>2007</td>\n",
       "      <td>0.0</td>\n",
       "      <td>1</td>\n",
       "      <td>3</td>\n",
       "      <td>1</td>\n",
       "      <td>...</td>\n",
       "      <td>0</td>\n",
       "      <td>0</td>\n",
       "      <td>1</td>\n",
       "      <td>0</td>\n",
       "      <td>0</td>\n",
       "      <td>0</td>\n",
       "      <td>0</td>\n",
       "      <td>0</td>\n",
       "      <td>3.0</td>\n",
       "      <td>174000.0</td>\n",
       "    </tr>\n",
       "    <tr>\n",
       "      <th>4</th>\n",
       "      <td>82.0</td>\n",
       "      <td>14235</td>\n",
       "      <td>6</td>\n",
       "      <td>8</td>\n",
       "      <td>1900</td>\n",
       "      <td>1993</td>\n",
       "      <td>0.0</td>\n",
       "      <td>1</td>\n",
       "      <td>1</td>\n",
       "      <td>1</td>\n",
       "      <td>...</td>\n",
       "      <td>0</td>\n",
       "      <td>0</td>\n",
       "      <td>0</td>\n",
       "      <td>0</td>\n",
       "      <td>0</td>\n",
       "      <td>0</td>\n",
       "      <td>0</td>\n",
       "      <td>0</td>\n",
       "      <td>2.0</td>\n",
       "      <td>138500.0</td>\n",
       "    </tr>\n",
       "  </tbody>\n",
       "</table>\n",
       "<p>5 rows × 44 columns</p>\n",
       "</div>"
      ],
      "text/plain": [
       "   Lot Frontage  Lot Area  Overall Qual  Overall Cond  Year Built  \\\n",
       "0           0.0     13517             6             8        1976   \n",
       "1          43.0     11492             7             5        1996   \n",
       "2          68.0      7922             5             7        1953   \n",
       "3          73.0      9802             5             5        2006   \n",
       "4          82.0     14235             6             8        1900   \n",
       "\n",
       "   Year Remod/Add  Mas Vnr Area  Exter Qual  Bsmt Qual  Bsmt Exposure  ...  \\\n",
       "0            2005         289.0           2          2              1  ...   \n",
       "1            1997         132.0           2          3              1  ...   \n",
       "2            2007           0.0           1          2              1  ...   \n",
       "3            2007           0.0           1          3              1  ...   \n",
       "4            1993           0.0           1          1              1  ...   \n",
       "\n",
       "   Exterior 1st_BrkFace  Exterior 1st_CemntBd  Exterior 1st_VinylSd  \\\n",
       "0                     0                     0                     0   \n",
       "1                     0                     0                     1   \n",
       "2                     0                     0                     1   \n",
       "3                     0                     0                     1   \n",
       "4                     0                     0                     0   \n",
       "\n",
       "   Mas Vnr Type_Stone  Misc Feature_Othr  Sale Type_Con  Sale Type_New  \\\n",
       "0                   0                  0              0              0   \n",
       "1                   0                  0              0              0   \n",
       "2                   0                  0              0              0   \n",
       "3                   0                  0              0              0   \n",
       "4                   0                  0              0              0   \n",
       "\n",
       "   Sale Type_Oth  bath_agg  SalePrice  \n",
       "0              0       3.0   130500.0  \n",
       "1              0       4.0   220000.0  \n",
       "2              0       2.0   109000.0  \n",
       "3              0       3.0   174000.0  \n",
       "4              0       2.0   138500.0  \n",
       "\n",
       "[5 rows x 44 columns]"
      ]
     },
     "execution_count": 11,
     "metadata": {},
     "output_type": "execute_result"
    }
   ],
   "source": [
    "train2.head()"
   ]
  },
  {
   "cell_type": "code",
   "execution_count": 12,
   "metadata": {
    "ExecuteTime": {
     "end_time": "2019-10-11T05:18:03.946603Z",
     "start_time": "2019-10-11T05:18:03.918744Z"
    },
    "scrolled": true
   },
   "outputs": [
    {
     "data": {
      "text/plain": [
       "SalePrice               1.000000\n",
       "Overall Qual            0.800090\n",
       "Exter Qual              0.712105\n",
       "Gr Liv Area             0.699355\n",
       "Kitchen Qual            0.692797\n",
       "Bsmt Qual               0.652096\n",
       "Garage Area             0.650319\n",
       "Total Bsmt SF           0.630076\n",
       "1st Flr SF              0.618345\n",
       "bath_agg                0.610640\n",
       "Year Built              0.571153\n",
       "Garage Yr Blt           0.552273\n",
       "Year Remod/Add          0.549522\n",
       "Fireplace Qu            0.543061\n",
       "TotRms AbvGrd           0.505493\n",
       "Mas Vnr Area            0.505214\n",
       "Fireplaces              0.471123\n",
       "Heating QC              0.458016\n",
       "Neighborhood_NridgHt    0.449408\n",
       "BsmtFin SF 1            0.423152\n",
       "Bsmt Exposure           0.417098\n",
       "Sale Type_New           0.356484\n",
       "Exterior 1st_VinylSd    0.342740\n",
       "Mas Vnr Type_Stone      0.310744\n",
       "Lot Area                0.297661\n",
       "Roof Style_Hip          0.266052\n",
       "Neighborhood_NoRidge    0.264384\n",
       "Neighborhood_StoneBr    0.251550\n",
       "Land Contour_HLS        0.207823\n",
       "Lot Frontage            0.182080\n",
       "Exterior 1st_CemntBd    0.168318\n",
       "Neighborhood_Somerst    0.149748\n",
       "Functional              0.126338\n",
       "Condition 1_Norm        0.110427\n",
       "Condition 1_PosN        0.107352\n",
       "Condition 1_PosA        0.071244\n",
       "Neighborhood_Crawfor    0.058831\n",
       "Neighborhood_GrnHill    0.039004\n",
       "Sale Type_Con           0.033820\n",
       "Exterior 1st_BrkFace    0.026576\n",
       "Misc Feature_Othr      -0.008810\n",
       "Sale Type_Oth          -0.030131\n",
       "Overall Cond           -0.097516\n",
       "Neighborhood_BrkSide   -0.134902\n",
       "Name: SalePrice, dtype: float64"
      ]
     },
     "execution_count": 12,
     "metadata": {},
     "output_type": "execute_result"
    }
   ],
   "source": [
    "train2.corr()['SalePrice'].sort_values(ascending=False)"
   ]
  },
  {
   "cell_type": "markdown",
   "metadata": {
    "ExecuteTime": {
     "end_time": "2019-10-10T09:57:25.330601Z",
     "start_time": "2019-10-10T09:57:25.321802Z"
    }
   },
   "source": [
    "### Encode an ordinal out of some remaining dummy variables"
   ]
  },
  {
   "cell_type": "code",
   "execution_count": 13,
   "metadata": {
    "ExecuteTime": {
     "end_time": "2019-10-11T05:18:03.998606Z",
     "start_time": "2019-10-11T05:18:03.963538Z"
    },
    "scrolled": true
   },
   "outputs": [],
   "source": [
    "def ordinalize(name,listy,df1, df2):\n",
    "    aggname=name+'ordinal'\n",
    "    df1[aggname]=np.zeros(shape=df1.iloc[:,0].shape)\n",
    "    df2[aggname]=np.zeros(shape=df2.iloc[:,0].shape)\n",
    "    \n",
    "    for item in listy:\n",
    "        itemmean=df1[df1[item]>0]['SalePrice'].mean()\n",
    "        print(itemmean)\n",
    "        df1[aggname]=df1[aggname]+df1[item]*itemmean\n",
    "        df2[aggname]=df2[aggname]+df2[item]*itemmean\n",
    "        \n",
    "    nnbavg=df1[df1[aggname]==0]['SalePrice'].mean()\n",
    "    df1[aggname]=df1[aggname].replace(0,nnbavg)\n",
    "    df2[aggname]=df2[aggname].replace(0,nnbavg)\n",
    "    \n",
    "    df1=df1.drop(columns=listy,inplace=True)\n",
    "    df2=df2.drop(columns=listy,inplace=True)\n",
    "    return "
   ]
  },
  {
   "cell_type": "code",
   "execution_count": 14,
   "metadata": {
    "ExecuteTime": {
     "end_time": "2019-10-11T05:18:04.009661Z",
     "start_time": "2019-10-11T05:18:04.001601Z"
    }
   },
   "outputs": [],
   "source": [
    "nbors=train2.columns[[('Neighborhood' in x) for x in train2.columns]]"
   ]
  },
  {
   "cell_type": "code",
   "execution_count": 15,
   "metadata": {
    "ExecuteTime": {
     "end_time": "2019-10-11T05:18:04.032646Z",
     "start_time": "2019-10-11T05:18:04.021913Z"
    }
   },
   "outputs": [
    {
     "data": {
      "text/plain": [
       "Index(['Neighborhood_BrkSide', 'Neighborhood_Crawfor', 'Neighborhood_GrnHill',\n",
       "       'Neighborhood_NoRidge', 'Neighborhood_NridgHt', 'Neighborhood_Somerst',\n",
       "       'Neighborhood_StoneBr'],\n",
       "      dtype='object')"
      ]
     },
     "execution_count": 15,
     "metadata": {},
     "output_type": "execute_result"
    }
   ],
   "source": [
    "nbors"
   ]
  },
  {
   "cell_type": "code",
   "execution_count": 16,
   "metadata": {
    "ExecuteTime": {
     "end_time": "2019-10-11T05:18:04.052023Z",
     "start_time": "2019-10-11T05:18:04.041909Z"
    }
   },
   "outputs": [
    {
     "data": {
      "text/plain": [
       "(2041, 44)"
      ]
     },
     "execution_count": 16,
     "metadata": {},
     "output_type": "execute_result"
    }
   ],
   "source": [
    "train2.shape"
   ]
  },
  {
   "cell_type": "code",
   "execution_count": 17,
   "metadata": {
    "ExecuteTime": {
     "end_time": "2019-10-11T05:18:04.141447Z",
     "start_time": "2019-10-11T05:18:04.055790Z"
    }
   },
   "outputs": [
    {
     "name": "stdout",
     "output_type": "stream",
     "text": [
      "127022.69736842105\n",
      "205901.21126760563\n",
      "280000.0\n",
      "316294.125\n",
      "323152.2727272727\n",
      "227019.99224806202\n",
      "327991.2972972973\n"
     ]
    }
   ],
   "source": [
    "ordinalize('nb',nbors,train2,test2)"
   ]
  },
  {
   "cell_type": "code",
   "execution_count": 18,
   "metadata": {
    "ExecuteTime": {
     "end_time": "2019-10-11T05:18:04.165286Z",
     "start_time": "2019-10-11T05:18:04.155393Z"
    }
   },
   "outputs": [
    {
     "data": {
      "text/plain": [
       "(2041, 38)"
      ]
     },
     "execution_count": 18,
     "metadata": {},
     "output_type": "execute_result"
    }
   ],
   "source": [
    "train2.shape"
   ]
  },
  {
   "cell_type": "code",
   "execution_count": null,
   "metadata": {},
   "outputs": [],
   "source": []
  },
  {
   "cell_type": "code",
   "execution_count": 19,
   "metadata": {
    "ExecuteTime": {
     "end_time": "2019-10-11T05:18:04.399751Z",
     "start_time": "2019-10-11T05:18:04.174852Z"
    }
   },
   "outputs": [],
   "source": [
    "#get the polynomial features\n",
    "target = 'SalePrice'\n",
    "nc = [x for x in train2.columns if x != target]\n",
    "\n",
    "X_train,X_test,y_train,y_test=train_test_split(train2[nc],train2[target])\n",
    "\n",
    "ss = StandardScaler()\n",
    "ss.fit(X_train)\n",
    "X_train = ss.transform(X_train)\n",
    "X_test= ss.transform(X_test)\n",
    "#test2=test2.drop('SalePrice',axis=1)\n",
    "test2_sc=ss.transform(test2)\n",
    "X=ss.transform(train2[nc])\n",
    "\n",
    "\n",
    "\n",
    "pf = PolynomialFeatures(degree=2,interaction_only=True,include_bias=False)\n",
    "X_train_poly=pf.fit_transform(X_train)\n",
    "X_test_poly=pf.fit_transform(X_test)\n",
    "X_train_poly.shape\n",
    "X_poly=pf.fit_transform(X)\n",
    "test2_sc_poly=pf.fit_transform(test2_sc)\n",
    "test_poly_cols=pf.get_feature_names(test2.columns)"
   ]
  },
  {
   "cell_type": "code",
   "execution_count": 20,
   "metadata": {
    "ExecuteTime": {
     "end_time": "2019-10-11T05:18:04.484724Z",
     "start_time": "2019-10-11T05:18:04.402382Z"
    }
   },
   "outputs": [],
   "source": [
    "l_alphas = np.logspace(2, 6, 100)\n",
    "lasso_model = Lasso(alpha=9000,max_iter=10000000)\n",
    "#lasso_model = LassoCV(alphas=l_alphas, cv=10,max_iter=100000, fit_intercept=True)\n",
    "lasso_model = lasso_model.fit(X_train_poly, y_train)"
   ]
  },
  {
   "cell_type": "code",
   "execution_count": 21,
   "metadata": {
    "ExecuteTime": {
     "end_time": "2019-10-11T05:18:04.495145Z",
     "start_time": "2019-10-11T05:18:04.487845Z"
    }
   },
   "outputs": [],
   "source": [
    "new_columns=[column for column,item in zip(test_poly_cols,lasso_model.coef_) if (item>0)]"
   ]
  },
  {
   "cell_type": "code",
   "execution_count": 22,
   "metadata": {
    "ExecuteTime": {
     "end_time": "2019-10-11T05:18:04.524917Z",
     "start_time": "2019-10-11T05:18:04.499989Z"
    }
   },
   "outputs": [
    {
     "data": {
      "text/plain": [
       "21"
      ]
     },
     "execution_count": 22,
     "metadata": {},
     "output_type": "execute_result"
    }
   ],
   "source": [
    "len(new_columns)"
   ]
  },
  {
   "cell_type": "code",
   "execution_count": 23,
   "metadata": {
    "ExecuteTime": {
     "end_time": "2019-10-11T05:18:04.640189Z",
     "start_time": "2019-10-11T05:18:04.539843Z"
    }
   },
   "outputs": [
    {
     "data": {
      "text/plain": [
       "0.7923132303559649"
      ]
     },
     "execution_count": 23,
     "metadata": {},
     "output_type": "execute_result"
    }
   ],
   "source": [
    "cross_val_score(lasso_model,X_train,y_train,cv=15).mean()"
   ]
  },
  {
   "cell_type": "code",
   "execution_count": 24,
   "metadata": {
    "ExecuteTime": {
     "end_time": "2019-10-11T05:18:04.656468Z",
     "start_time": "2019-10-11T05:18:04.646808Z"
    },
    "scrolled": true
   },
   "outputs": [
    {
     "data": {
      "text/plain": [
       "['Overall Qual',\n",
       " 'Exter Qual',\n",
       " 'Bsmt Qual',\n",
       " 'Bsmt Exposure',\n",
       " 'BsmtFin SF 1',\n",
       " 'Total Bsmt SF',\n",
       " '1st Flr SF',\n",
       " 'Gr Liv Area',\n",
       " 'Kitchen Qual',\n",
       " 'Fireplaces',\n",
       " 'Fireplace Qu',\n",
       " 'Garage Area',\n",
       " 'bath_agg',\n",
       " 'Overall Qual Exter Qual',\n",
       " 'Overall Qual Bsmt Exposure',\n",
       " 'Overall Qual nbordinal',\n",
       " 'Mas Vnr Area nbordinal',\n",
       " 'Total Bsmt SF nbordinal',\n",
       " 'Gr Liv Area nbordinal',\n",
       " 'Land Contour_HLS Exterior 1st_CemntBd',\n",
       " 'Sale Type_New nbordinal']"
      ]
     },
     "execution_count": 24,
     "metadata": {},
     "output_type": "execute_result"
    }
   ],
   "source": [
    "new_columns"
   ]
  },
  {
   "cell_type": "code",
   "execution_count": 25,
   "metadata": {
    "ExecuteTime": {
     "end_time": "2019-10-11T05:18:04.676939Z",
     "start_time": "2019-10-11T05:18:04.668201Z"
    }
   },
   "outputs": [],
   "source": [
    "predictions_test=lasso_model.predict(test2_sc_poly)"
   ]
  },
  {
   "cell_type": "code",
   "execution_count": 26,
   "metadata": {
    "ExecuteTime": {
     "end_time": "2019-10-11T05:18:04.692304Z",
     "start_time": "2019-10-11T05:18:04.680577Z"
    }
   },
   "outputs": [],
   "source": [
    "submit=pd.DataFrame()"
   ]
  },
  {
   "cell_type": "code",
   "execution_count": 27,
   "metadata": {
    "ExecuteTime": {
     "end_time": "2019-10-11T05:18:04.737427Z",
     "start_time": "2019-10-11T05:18:04.699760Z"
    }
   },
   "outputs": [],
   "source": [
    "submit['Id']=list(test['Id'])\n",
    "submit['SalePrice']=predictions_test\n",
    "submit=submit.set_index('Id')\n",
    "submit.to_csv('submissions/dllordinals.csv')"
   ]
  },
  {
   "cell_type": "markdown",
   "metadata": {},
   "source": [
    "### The kaggle score for this was the b"
   ]
  },
  {
   "cell_type": "markdown",
   "metadata": {},
   "source": []
  },
  {
   "cell_type": "markdown",
   "metadata": {
    "ExecuteTime": {
     "end_time": "2019-10-11T00:08:29.632663Z",
     "start_time": "2019-10-11T00:08:29.624498Z"
    }
   },
   "source": []
  },
  {
   "cell_type": "code",
   "execution_count": null,
   "metadata": {},
   "outputs": [],
   "source": []
  }
 ],
 "metadata": {
  "kernelspec": {
   "display_name": "Python 3",
   "language": "python",
   "name": "python3"
  },
  "language_info": {
   "codemirror_mode": {
    "name": "ipython",
    "version": 3
   },
   "file_extension": ".py",
   "mimetype": "text/x-python",
   "name": "python",
   "nbconvert_exporter": "python",
   "pygments_lexer": "ipython3",
   "version": "3.7.3"
  }
 },
 "nbformat": 4,
 "nbformat_minor": 2
}
