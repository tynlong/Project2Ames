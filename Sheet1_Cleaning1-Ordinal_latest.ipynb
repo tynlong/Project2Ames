{
 "cells": [
  {
   "cell_type": "markdown",
   "metadata": {},
   "source": [
    "# Data Cleaning\n",
    "#### In this sheet we will be cleaning the training and test set data"
   ]
  },
  {
   "cell_type": "markdown",
   "metadata": {},
   "source": [
    "## Training Set"
   ]
  },
  {
   "cell_type": "code",
   "execution_count": 1,
   "metadata": {
    "ExecuteTime": {
     "end_time": "2019-10-11T05:14:15.169766Z",
     "start_time": "2019-10-11T05:14:13.869772Z"
    }
   },
   "outputs": [],
   "source": [
    "#import the libraries and then dataset and look at it\n",
    "import pandas as pd\n",
    "import numpy as np\n",
    "import seaborn as sns\n",
    "import matplotlib.pyplot as plt"
   ]
  },
  {
   "cell_type": "code",
   "execution_count": 2,
   "metadata": {
    "ExecuteTime": {
     "end_time": "2019-10-11T05:14:15.315946Z",
     "start_time": "2019-10-11T05:14:15.175824Z"
    }
   },
   "outputs": [],
   "source": [
    "#load the test set for cleaning\n",
    "train=pd.read_csv('datasets/train.csv')\n",
    "test=pd.read_csv('datasets/test.csv')"
   ]
  },
  {
   "cell_type": "code",
   "execution_count": 3,
   "metadata": {
    "ExecuteTime": {
     "end_time": "2019-10-11T05:14:15.326779Z",
     "start_time": "2019-10-11T05:14:15.319711Z"
    }
   },
   "outputs": [],
   "source": [
    "test['SalePrice']=np.zeros(shape=(879,))\n",
    "df=train"
   ]
  },
  {
   "cell_type": "code",
   "execution_count": 4,
   "metadata": {
    "ExecuteTime": {
     "end_time": "2019-10-11T05:14:15.343076Z",
     "start_time": "2019-10-11T05:14:15.330791Z"
    }
   },
   "outputs": [],
   "source": [
    "#splitting column names to make cleaning easier to manage\n",
    "land_f=['Id', 'PID', 'MS SubClass', 'MS Zoning', 'Lot Frontage', 'Lot Area',\n",
    "       'Street', 'Alley', 'Lot Shape', 'Land Contour', 'Utilities',\n",
    "       'Lot Config', 'Land Slope', 'Neighborhood','Condition 1','Condition 2']\n",
    "over_f=['Bldg Type', 'House Style', 'Overall Qual',\n",
    "       'Overall Cond', 'Year Built', 'Year Remod/Add']\n",
    "roof_f=['Roof Style',\n",
    "       'Roof Matl', 'Exterior 1st', 'Exterior 2nd', 'Mas Vnr Type',\n",
    "       'Mas Vnr Area', 'Exter Qual', 'Exter Cond']\n",
    "bsmt_f=['Foundation', 'Bsmt Qual',\n",
    "       'Bsmt Cond', 'Bsmt Exposure', 'BsmtFin Type 1', 'BsmtFin SF 1',\n",
    "       'BsmtFin Type 2', 'BsmtFin SF 2', 'Bsmt Unf SF', 'Total Bsmt SF']\n",
    "util_f=['Heating', 'Heating QC', 'Central Air', 'Electrical']\n",
    "sqf_f=['1st Flr SF',\n",
    "       '2nd Flr SF', 'Low Qual Fin SF', 'Gr Liv Area']\n",
    "btrm_f=['Bsmt Full Bath',\n",
    "       'Bsmt Half Bath', 'Full Bath', 'Half Bath']\n",
    "rm_f=['Bedroom AbvGr',\n",
    "       'Kitchen AbvGr', 'Kitchen Qual', 'TotRms AbvGrd']\n",
    "func_f=['Functional',\n",
    "       'Fireplaces', 'Fireplace Qu', 'Garage Type', 'Garage Yr Blt',\n",
    "       'Garage Finish', 'Garage Cars', 'Garage Area', 'Garage Qual',\n",
    "       'Garage Cond', 'Paved Drive', 'Wood Deck SF', 'Open Porch SF',\n",
    "       'Enclosed Porch', '3Ssn Porch', 'Screen Porch', 'Pool Area', 'Pool QC',\n",
    "       'Fence','Misc Feature', 'Misc Val']\n",
    "sale_f=['Mo Sold', 'Yr Sold', 'Sale Type']\n",
    "target_f=['SalePrice']"
   ]
  },
  {
   "cell_type": "code",
   "execution_count": 5,
   "metadata": {
    "ExecuteTime": {
     "end_time": "2019-10-11T05:14:15.353001Z",
     "start_time": "2019-10-11T05:14:15.346770Z"
    }
   },
   "outputs": [],
   "source": [
    "featuresets=[land_f,over_f,roof_f,bsmt_f,util_f,sqf_f,btrm_f,rm_f,func_f,sale_f,target_f]"
   ]
  },
  {
   "cell_type": "code",
   "execution_count": 6,
   "metadata": {
    "ExecuteTime": {
     "end_time": "2019-10-11T05:14:15.395508Z",
     "start_time": "2019-10-11T05:14:15.357489Z"
    }
   },
   "outputs": [
    {
     "data": {
      "text/plain": [
       "Id                   0\n",
       "PID                  0\n",
       "MS SubClass          0\n",
       "MS Zoning            0\n",
       "Lot Frontage       330\n",
       "Lot Area             0\n",
       "Street               0\n",
       "Alley             1911\n",
       "Lot Shape            0\n",
       "Land Contour         0\n",
       "Utilities            0\n",
       "Lot Config           0\n",
       "Land Slope           0\n",
       "Neighborhood         0\n",
       "Condition 1          0\n",
       "Condition 2          0\n",
       "Bldg Type            0\n",
       "House Style          0\n",
       "Overall Qual         0\n",
       "Overall Cond         0\n",
       "Year Built           0\n",
       "Year Remod/Add       0\n",
       "Roof Style           0\n",
       "Roof Matl            0\n",
       "Exterior 1st         0\n",
       "Exterior 2nd         0\n",
       "Mas Vnr Type        22\n",
       "Mas Vnr Area        22\n",
       "Exter Qual           0\n",
       "Exter Cond           0\n",
       "                  ... \n",
       "Half Bath            0\n",
       "Bedroom AbvGr        0\n",
       "Kitchen AbvGr        0\n",
       "Kitchen Qual         0\n",
       "TotRms AbvGrd        0\n",
       "Functional           0\n",
       "Fireplaces           0\n",
       "Fireplace Qu      1000\n",
       "Garage Type        113\n",
       "Garage Yr Blt      114\n",
       "Garage Finish      114\n",
       "Garage Cars          1\n",
       "Garage Area          1\n",
       "Garage Qual        114\n",
       "Garage Cond        114\n",
       "Paved Drive          0\n",
       "Wood Deck SF         0\n",
       "Open Porch SF        0\n",
       "Enclosed Porch       0\n",
       "3Ssn Porch           0\n",
       "Screen Porch         0\n",
       "Pool Area            0\n",
       "Pool QC           2042\n",
       "Fence             1651\n",
       "Misc Feature      1986\n",
       "Misc Val             0\n",
       "Mo Sold              0\n",
       "Yr Sold              0\n",
       "Sale Type            0\n",
       "SalePrice            0\n",
       "Length: 81, dtype: int64"
      ]
     },
     "execution_count": 6,
     "metadata": {},
     "output_type": "execute_result"
    }
   ],
   "source": [
    "train.isnull().sum()"
   ]
  },
  {
   "cell_type": "code",
   "execution_count": 7,
   "metadata": {
    "ExecuteTime": {
     "end_time": "2019-10-11T05:14:17.198209Z",
     "start_time": "2019-10-11T05:14:15.406159Z"
    }
   },
   "outputs": [
    {
     "name": "stdout",
     "output_type": "stream",
     "text": [
      "Feature name:Id\n",
      " Type:int64\n",
      "Isnull?:\n"
     ]
    },
    {
     "data": {
      "text/plain": [
       "0"
      ]
     },
     "metadata": {},
     "output_type": "display_data"
    },
    {
     "data": {
      "text/plain": [
       "count    2051.000000\n",
       "mean     1474.033642\n",
       "std       843.980841\n",
       "min         1.000000\n",
       "25%       753.500000\n",
       "50%      1486.000000\n",
       "75%      2198.000000\n",
       "max      2930.000000\n",
       "Name: Id, dtype: float64"
      ]
     },
     "metadata": {},
     "output_type": "display_data"
    },
    {
     "data": {
      "text/plain": [
       "2047    1\n",
       "2787    1\n",
       "1058    1\n",
       "1060    1\n",
       "1062    1\n",
       "1066    1\n",
       "1068    1\n",
       "1070    1\n",
       "1072    1\n",
       "1074    1\n",
       "1076    1\n",
       "1078    1\n",
       "1080    1\n",
       "1082    1\n",
       "1084    1\n",
       "1086    1\n",
       "1088    1\n",
       "1090    1\n",
       "1094    1\n",
       "1096    1\n",
       "1098    1\n",
       "1100    1\n",
       "1102    1\n",
       "1104    1\n",
       "1106    1\n",
       "1108    1\n",
       "1110    1\n",
       "1118    1\n",
       "1120    1\n",
       "1124    1\n",
       "       ..\n",
       "2536    1\n",
       "471     1\n",
       "473     1\n",
       "2522    1\n",
       "475     1\n",
       "2524    1\n",
       "477     1\n",
       "2526    1\n",
       "479     1\n",
       "2528    1\n",
       "2530    1\n",
       "485     1\n",
       "2534    1\n",
       "487     1\n",
       "489     1\n",
       "2556    1\n",
       "491     1\n",
       "2540    1\n",
       "493     1\n",
       "2542    1\n",
       "495     1\n",
       "2544    1\n",
       "497     1\n",
       "2546    1\n",
       "2548    1\n",
       "2550    1\n",
       "2552    1\n",
       "505     1\n",
       "507     1\n",
       "2049    1\n",
       "Name: Id, Length: 2051, dtype: int64"
      ]
     },
     "metadata": {},
     "output_type": "display_data"
    },
    {
     "name": "stdout",
     "output_type": "stream",
     "text": [
      "Feature name:PID\n",
      " Type:int64\n",
      "Isnull?:\n"
     ]
    },
    {
     "data": {
      "text/plain": [
       "0"
      ]
     },
     "metadata": {},
     "output_type": "display_data"
    },
    {
     "data": {
      "text/plain": [
       "count    2.051000e+03\n",
       "mean     7.135900e+08\n",
       "std      1.886918e+08\n",
       "min      5.263011e+08\n",
       "25%      5.284581e+08\n",
       "50%      5.354532e+08\n",
       "75%      9.071801e+08\n",
       "max      9.241520e+08\n",
       "Name: PID, dtype: float64"
      ]
     },
     "metadata": {},
     "output_type": "display_data"
    },
    {
     "data": {
      "text/plain": [
       "532351060    1\n",
       "535303150    1\n",
       "909250210    1\n",
       "905377130    1\n",
       "527403020    1\n",
       "535452060    1\n",
       "923252080    1\n",
       "535455090    1\n",
       "909131125    1\n",
       "534476150    1\n",
       "528290170    1\n",
       "903202170    1\n",
       "905201020    1\n",
       "903456130    1\n",
       "923228290    1\n",
       "923252100    1\n",
       "905201030    1\n",
       "535152010    1\n",
       "909129100    1\n",
       "909428110    1\n",
       "916475110    1\n",
       "527451540    1\n",
       "902301080    1\n",
       "534431130    1\n",
       "534125080    1\n",
       "534177180    1\n",
       "527451550    1\n",
       "907200270    1\n",
       "535451040    1\n",
       "923205025    1\n",
       "            ..\n",
       "902330090    1\n",
       "532376160    1\n",
       "528174010    1\n",
       "528108130    1\n",
       "906475110    1\n",
       "527252070    1\n",
       "527375180    1\n",
       "907253130    1\n",
       "528231020    1\n",
       "527252080    1\n",
       "528104050    1\n",
       "902204120    1\n",
       "908102260    1\n",
       "909425270    1\n",
       "535104120    1\n",
       "908225170    1\n",
       "528235130    1\n",
       "906380070    1\n",
       "908102270    1\n",
       "905300010    1\n",
       "905452160    1\n",
       "907410050    1\n",
       "528104070    1\n",
       "916253320    1\n",
       "528231050    1\n",
       "535403150    1\n",
       "528477070    1\n",
       "528104080    1\n",
       "533120030    1\n",
       "533250050    1\n",
       "Name: PID, Length: 2051, dtype: int64"
      ]
     },
     "metadata": {},
     "output_type": "display_data"
    },
    {
     "name": "stdout",
     "output_type": "stream",
     "text": [
      "Feature name:MS SubClass\n",
      " Type:int64\n",
      "Isnull?:\n"
     ]
    },
    {
     "data": {
      "text/plain": [
       "0"
      ]
     },
     "metadata": {},
     "output_type": "display_data"
    },
    {
     "data": {
      "text/plain": [
       "count    2051.000000\n",
       "mean       57.008776\n",
       "std        42.824223\n",
       "min        20.000000\n",
       "25%        20.000000\n",
       "50%        50.000000\n",
       "75%        70.000000\n",
       "max       190.000000\n",
       "Name: MS SubClass, dtype: float64"
      ]
     },
     "metadata": {},
     "output_type": "display_data"
    },
    {
     "data": {
      "text/plain": [
       "20     770\n",
       "60     394\n",
       "50     198\n",
       "120    132\n",
       "30     101\n",
       "70      90\n",
       "160     88\n",
       "80      86\n",
       "90      75\n",
       "190     46\n",
       "85      28\n",
       "75      16\n",
       "45      11\n",
       "180     11\n",
       "40       4\n",
       "150      1\n",
       "Name: MS SubClass, dtype: int64"
      ]
     },
     "metadata": {},
     "output_type": "display_data"
    },
    {
     "name": "stdout",
     "output_type": "stream",
     "text": [
      "Feature name:MS Zoning\n",
      " Type:object\n",
      "Isnull?:\n"
     ]
    },
    {
     "data": {
      "text/plain": [
       "0"
      ]
     },
     "metadata": {},
     "output_type": "display_data"
    },
    {
     "data": {
      "text/plain": [
       "count     2051\n",
       "unique       7\n",
       "top         RL\n",
       "freq      1598\n",
       "Name: MS Zoning, dtype: object"
      ]
     },
     "metadata": {},
     "output_type": "display_data"
    },
    {
     "data": {
      "text/plain": [
       "RL         1598\n",
       "RM          316\n",
       "FV          101\n",
       "C (all)      19\n",
       "RH           14\n",
       "A (agr)       2\n",
       "I (all)       1\n",
       "Name: MS Zoning, dtype: int64"
      ]
     },
     "metadata": {},
     "output_type": "display_data"
    },
    {
     "name": "stdout",
     "output_type": "stream",
     "text": [
      "Feature name:Lot Frontage\n",
      " Type:float64\n",
      "Isnull?:\n"
     ]
    },
    {
     "data": {
      "text/plain": [
       "330"
      ]
     },
     "metadata": {},
     "output_type": "display_data"
    },
    {
     "data": {
      "text/plain": [
       "count    1721.000000\n",
       "mean       69.055200\n",
       "std        23.260653\n",
       "min        21.000000\n",
       "25%        58.000000\n",
       "50%        68.000000\n",
       "75%        80.000000\n",
       "max       313.000000\n",
       "Name: Lot Frontage, dtype: float64"
      ]
     },
     "metadata": {},
     "output_type": "display_data"
    },
    {
     "data": {
      "text/plain": [
       "60.0     179\n",
       "70.0      96\n",
       "80.0      94\n",
       "50.0      90\n",
       "65.0      71\n",
       "75.0      68\n",
       "85.0      52\n",
       "63.0      38\n",
       "78.0      33\n",
       "24.0      33\n",
       "21.0      32\n",
       "74.0      31\n",
       "90.0      31\n",
       "64.0      31\n",
       "72.0      30\n",
       "62.0      28\n",
       "68.0      28\n",
       "73.0      25\n",
       "100.0     23\n",
       "82.0      21\n",
       "52.0      20\n",
       "57.0      20\n",
       "43.0      20\n",
       "79.0      19\n",
       "66.0      19\n",
       "53.0      18\n",
       "59.0      18\n",
       "67.0      18\n",
       "88.0      16\n",
       "51.0      16\n",
       "        ... \n",
       "113.0      2\n",
       "313.0      2\n",
       "130.0      2\n",
       "101.0      2\n",
       "46.0       2\n",
       "33.0       1\n",
       "141.0      1\n",
       "115.0      1\n",
       "121.0      1\n",
       "174.0      1\n",
       "117.0      1\n",
       "195.0      1\n",
       "150.0      1\n",
       "118.0      1\n",
       "160.0      1\n",
       "123.0      1\n",
       "137.0      1\n",
       "116.0      1\n",
       "200.0      1\n",
       "25.0       1\n",
       "144.0      1\n",
       "124.0      1\n",
       "138.0      1\n",
       "111.0      1\n",
       "122.0      1\n",
       "22.0       1\n",
       "155.0      1\n",
       "153.0      1\n",
       "119.0      1\n",
       "135.0      1\n",
       "Name: Lot Frontage, Length: 118, dtype: int64"
      ]
     },
     "metadata": {},
     "output_type": "display_data"
    },
    {
     "name": "stdout",
     "output_type": "stream",
     "text": [
      "Feature name:Lot Area\n",
      " Type:int64\n",
      "Isnull?:\n"
     ]
    },
    {
     "data": {
      "text/plain": [
       "0"
      ]
     },
     "metadata": {},
     "output_type": "display_data"
    },
    {
     "data": {
      "text/plain": [
       "count      2051.000000\n",
       "mean      10065.208191\n",
       "std        6742.488909\n",
       "min        1300.000000\n",
       "25%        7500.000000\n",
       "50%        9430.000000\n",
       "75%       11513.500000\n",
       "max      159000.000000\n",
       "Name: Lot Area, dtype: float64"
      ]
     },
     "metadata": {},
     "output_type": "display_data"
    },
    {
     "data": {
      "text/plain": [
       "9600     34\n",
       "7200     27\n",
       "6000     26\n",
       "10800    19\n",
       "7500     18\n",
       "9000     18\n",
       "1680     14\n",
       "6240     13\n",
       "8400     11\n",
       "10400     9\n",
       "7000      9\n",
       "9100      9\n",
       "6120      8\n",
       "3182      7\n",
       "5400      7\n",
       "9900      7\n",
       "2280      7\n",
       "8640      6\n",
       "8000      6\n",
       "4435      6\n",
       "10625     6\n",
       "5000      6\n",
       "10320     6\n",
       "7800      6\n",
       "8125      6\n",
       "9750      5\n",
       "4500      5\n",
       "7018      5\n",
       "8750      5\n",
       "10140     5\n",
       "         ..\n",
       "10890     1\n",
       "8847      1\n",
       "10896     1\n",
       "8849      1\n",
       "17043     1\n",
       "8857      1\n",
       "4765      1\n",
       "12961     1\n",
       "10007     1\n",
       "10858     1\n",
       "4761      1\n",
       "6760      1\n",
       "12853     1\n",
       "8765      1\n",
       "6718      1\n",
       "8767      1\n",
       "6720      1\n",
       "8769      1\n",
       "10818     1\n",
       "12867     1\n",
       "2628      1\n",
       "8775      1\n",
       "13478     1\n",
       "13587     1\n",
       "8789      1\n",
       "12887     1\n",
       "12891     1\n",
       "10846     1\n",
       "14948     1\n",
       "12292     1\n",
       "Name: Lot Area, Length: 1476, dtype: int64"
      ]
     },
     "metadata": {},
     "output_type": "display_data"
    },
    {
     "name": "stdout",
     "output_type": "stream",
     "text": [
      "Feature name:Street\n",
      " Type:object\n",
      "Isnull?:\n"
     ]
    },
    {
     "data": {
      "text/plain": [
       "0"
      ]
     },
     "metadata": {},
     "output_type": "display_data"
    },
    {
     "data": {
      "text/plain": [
       "count     2051\n",
       "unique       2\n",
       "top       Pave\n",
       "freq      2044\n",
       "Name: Street, dtype: object"
      ]
     },
     "metadata": {},
     "output_type": "display_data"
    },
    {
     "data": {
      "text/plain": [
       "Pave    2044\n",
       "Grvl       7\n",
       "Name: Street, dtype: int64"
      ]
     },
     "metadata": {},
     "output_type": "display_data"
    },
    {
     "name": "stdout",
     "output_type": "stream",
     "text": [
      "Feature name:Alley\n",
      " Type:object\n",
      "Isnull?:\n"
     ]
    },
    {
     "data": {
      "text/plain": [
       "1911"
      ]
     },
     "metadata": {},
     "output_type": "display_data"
    },
    {
     "data": {
      "text/plain": [
       "count      140\n",
       "unique       2\n",
       "top       Grvl\n",
       "freq        85\n",
       "Name: Alley, dtype: object"
      ]
     },
     "metadata": {},
     "output_type": "display_data"
    },
    {
     "data": {
      "text/plain": [
       "Grvl    85\n",
       "Pave    55\n",
       "Name: Alley, dtype: int64"
      ]
     },
     "metadata": {},
     "output_type": "display_data"
    },
    {
     "name": "stdout",
     "output_type": "stream",
     "text": [
      "Feature name:Lot Shape\n",
      " Type:object\n",
      "Isnull?:\n"
     ]
    },
    {
     "data": {
      "text/plain": [
       "0"
      ]
     },
     "metadata": {},
     "output_type": "display_data"
    },
    {
     "data": {
      "text/plain": [
       "count     2051\n",
       "unique       4\n",
       "top        Reg\n",
       "freq      1295\n",
       "Name: Lot Shape, dtype: object"
      ]
     },
     "metadata": {},
     "output_type": "display_data"
    },
    {
     "data": {
      "text/plain": [
       "Reg    1295\n",
       "IR1     692\n",
       "IR2      55\n",
       "IR3       9\n",
       "Name: Lot Shape, dtype: int64"
      ]
     },
     "metadata": {},
     "output_type": "display_data"
    },
    {
     "name": "stdout",
     "output_type": "stream",
     "text": [
      "Feature name:Land Contour\n",
      " Type:object\n",
      "Isnull?:\n"
     ]
    },
    {
     "data": {
      "text/plain": [
       "0"
      ]
     },
     "metadata": {},
     "output_type": "display_data"
    },
    {
     "data": {
      "text/plain": [
       "count     2051\n",
       "unique       4\n",
       "top        Lvl\n",
       "freq      1843\n",
       "Name: Land Contour, dtype: object"
      ]
     },
     "metadata": {},
     "output_type": "display_data"
    },
    {
     "data": {
      "text/plain": [
       "Lvl    1843\n",
       "HLS      85\n",
       "Bnk      80\n",
       "Low      43\n",
       "Name: Land Contour, dtype: int64"
      ]
     },
     "metadata": {},
     "output_type": "display_data"
    },
    {
     "name": "stdout",
     "output_type": "stream",
     "text": [
      "Feature name:Utilities\n",
      " Type:object\n",
      "Isnull?:\n"
     ]
    },
    {
     "data": {
      "text/plain": [
       "0"
      ]
     },
     "metadata": {},
     "output_type": "display_data"
    },
    {
     "data": {
      "text/plain": [
       "count       2051\n",
       "unique         3\n",
       "top       AllPub\n",
       "freq        2049\n",
       "Name: Utilities, dtype: object"
      ]
     },
     "metadata": {},
     "output_type": "display_data"
    },
    {
     "data": {
      "text/plain": [
       "AllPub    2049\n",
       "NoSewr       1\n",
       "NoSeWa       1\n",
       "Name: Utilities, dtype: int64"
      ]
     },
     "metadata": {},
     "output_type": "display_data"
    },
    {
     "name": "stdout",
     "output_type": "stream",
     "text": [
      "Feature name:Lot Config\n",
      " Type:object\n",
      "Isnull?:\n"
     ]
    },
    {
     "data": {
      "text/plain": [
       "0"
      ]
     },
     "metadata": {},
     "output_type": "display_data"
    },
    {
     "data": {
      "text/plain": [
       "count       2051\n",
       "unique         5\n",
       "top       Inside\n",
       "freq        1503\n",
       "Name: Lot Config, dtype: object"
      ]
     },
     "metadata": {},
     "output_type": "display_data"
    },
    {
     "data": {
      "text/plain": [
       "Inside     1503\n",
       "Corner      348\n",
       "CulDSac     131\n",
       "FR2          60\n",
       "FR3           9\n",
       "Name: Lot Config, dtype: int64"
      ]
     },
     "metadata": {},
     "output_type": "display_data"
    },
    {
     "name": "stdout",
     "output_type": "stream",
     "text": [
      "Feature name:Land Slope\n",
      " Type:object\n",
      "Isnull?:\n"
     ]
    },
    {
     "data": {
      "text/plain": [
       "0"
      ]
     },
     "metadata": {},
     "output_type": "display_data"
    },
    {
     "data": {
      "text/plain": [
       "count     2051\n",
       "unique       3\n",
       "top        Gtl\n",
       "freq      1953\n",
       "Name: Land Slope, dtype: object"
      ]
     },
     "metadata": {},
     "output_type": "display_data"
    },
    {
     "data": {
      "text/plain": [
       "Gtl    1953\n",
       "Mod      88\n",
       "Sev      10\n",
       "Name: Land Slope, dtype: int64"
      ]
     },
     "metadata": {},
     "output_type": "display_data"
    },
    {
     "name": "stdout",
     "output_type": "stream",
     "text": [
      "Feature name:Neighborhood\n",
      " Type:object\n",
      "Isnull?:\n"
     ]
    },
    {
     "data": {
      "text/plain": [
       "0"
      ]
     },
     "metadata": {},
     "output_type": "display_data"
    },
    {
     "data": {
      "text/plain": [
       "count      2051\n",
       "unique       28\n",
       "top       NAmes\n",
       "freq        310\n",
       "Name: Neighborhood, dtype: object"
      ]
     },
     "metadata": {},
     "output_type": "display_data"
    },
    {
     "data": {
      "text/plain": [
       "NAmes      310\n",
       "CollgCr    180\n",
       "OldTown    163\n",
       "Edwards    143\n",
       "Somerst    130\n",
       "NridgHt    122\n",
       "Gilbert    116\n",
       "Sawyer     111\n",
       "NWAmes      87\n",
       "SawyerW     87\n",
       "Mitchel     82\n",
       "BrkSide     76\n",
       "Crawfor     71\n",
       "IDOTRR      69\n",
       "NoRidge     48\n",
       "Timber      48\n",
       "StoneBr     38\n",
       "SWISU       32\n",
       "ClearCr     27\n",
       "MeadowV     24\n",
       "Blmngtn     22\n",
       "BrDale      19\n",
       "NPkVill     17\n",
       "Veenker     17\n",
       "Blueste      6\n",
       "Greens       3\n",
       "GrnHill      2\n",
       "Landmrk      1\n",
       "Name: Neighborhood, dtype: int64"
      ]
     },
     "metadata": {},
     "output_type": "display_data"
    },
    {
     "name": "stdout",
     "output_type": "stream",
     "text": [
      "Feature name:Condition 1\n",
      " Type:object\n",
      "Isnull?:\n"
     ]
    },
    {
     "data": {
      "text/plain": [
       "0"
      ]
     },
     "metadata": {},
     "output_type": "display_data"
    },
    {
     "data": {
      "text/plain": [
       "count     2051\n",
       "unique       9\n",
       "top       Norm\n",
       "freq      1767\n",
       "Name: Condition 1, dtype: object"
      ]
     },
     "metadata": {},
     "output_type": "display_data"
    },
    {
     "data": {
      "text/plain": [
       "Norm      1767\n",
       "Feedr      109\n",
       "Artery      70\n",
       "RRAn        36\n",
       "PosN        27\n",
       "RRAe        21\n",
       "PosA        12\n",
       "RRNn         6\n",
       "RRNe         3\n",
       "Name: Condition 1, dtype: int64"
      ]
     },
     "metadata": {},
     "output_type": "display_data"
    },
    {
     "name": "stdout",
     "output_type": "stream",
     "text": [
      "Feature name:Condition 2\n",
      " Type:object\n",
      "Isnull?:\n"
     ]
    },
    {
     "data": {
      "text/plain": [
       "0"
      ]
     },
     "metadata": {},
     "output_type": "display_data"
    },
    {
     "data": {
      "text/plain": [
       "count     2051\n",
       "unique       8\n",
       "top       Norm\n",
       "freq      2025\n",
       "Name: Condition 2, dtype: object"
      ]
     },
     "metadata": {},
     "output_type": "display_data"
    },
    {
     "data": {
      "text/plain": [
       "Norm      2025\n",
       "Feedr       11\n",
       "Artery       5\n",
       "PosA         3\n",
       "PosN         3\n",
       "RRNn         2\n",
       "RRAe         1\n",
       "RRAn         1\n",
       "Name: Condition 2, dtype: int64"
      ]
     },
     "metadata": {},
     "output_type": "display_data"
    },
    {
     "name": "stdout",
     "output_type": "stream",
     "text": [
      "Feature name:Bldg Type\n",
      " Type:object\n",
      "Isnull?:\n"
     ]
    },
    {
     "data": {
      "text/plain": [
       "0"
      ]
     },
     "metadata": {},
     "output_type": "display_data"
    },
    {
     "data": {
      "text/plain": [
       "count     2051\n",
       "unique       5\n",
       "top       1Fam\n",
       "freq      1700\n",
       "Name: Bldg Type, dtype: object"
      ]
     },
     "metadata": {},
     "output_type": "display_data"
    },
    {
     "data": {
      "text/plain": [
       "1Fam      1700\n",
       "TwnhsE     161\n",
       "Duplex      75\n",
       "Twnhs       69\n",
       "2fmCon      46\n",
       "Name: Bldg Type, dtype: int64"
      ]
     },
     "metadata": {},
     "output_type": "display_data"
    },
    {
     "name": "stdout",
     "output_type": "stream",
     "text": [
      "Feature name:House Style\n",
      " Type:object\n",
      "Isnull?:\n"
     ]
    },
    {
     "data": {
      "text/plain": [
       "0"
      ]
     },
     "metadata": {},
     "output_type": "display_data"
    },
    {
     "data": {
      "text/plain": [
       "count       2051\n",
       "unique         8\n",
       "top       1Story\n",
       "freq        1059\n",
       "Name: House Style, dtype: object"
      ]
     },
     "metadata": {},
     "output_type": "display_data"
    },
    {
     "data": {
      "text/plain": [
       "1Story    1059\n",
       "2Story     598\n",
       "1.5Fin     218\n",
       "SLvl        94\n",
       "SFoyer      50\n",
       "2.5Unf      14\n",
       "1.5Unf      12\n",
       "2.5Fin       6\n",
       "Name: House Style, dtype: int64"
      ]
     },
     "metadata": {},
     "output_type": "display_data"
    },
    {
     "name": "stdout",
     "output_type": "stream",
     "text": [
      "Feature name:Overall Qual\n",
      " Type:int64\n",
      "Isnull?:\n"
     ]
    },
    {
     "data": {
      "text/plain": [
       "0"
      ]
     },
     "metadata": {},
     "output_type": "display_data"
    },
    {
     "data": {
      "text/plain": [
       "count    2051.000000\n",
       "mean        6.112140\n",
       "std         1.426271\n",
       "min         1.000000\n",
       "25%         5.000000\n",
       "50%         6.000000\n",
       "75%         7.000000\n",
       "max        10.000000\n",
       "Name: Overall Qual, dtype: float64"
      ]
     },
     "metadata": {},
     "output_type": "display_data"
    },
    {
     "data": {
      "text/plain": [
       "5     563\n",
       "6     506\n",
       "7     431\n",
       "8     250\n",
       "4     159\n",
       "9      77\n",
       "3      29\n",
       "10     23\n",
       "2       9\n",
       "1       4\n",
       "Name: Overall Qual, dtype: int64"
      ]
     },
     "metadata": {},
     "output_type": "display_data"
    },
    {
     "name": "stdout",
     "output_type": "stream",
     "text": [
      "Feature name:Overall Cond\n",
      " Type:int64\n",
      "Isnull?:\n"
     ]
    },
    {
     "data": {
      "text/plain": [
       "0"
      ]
     },
     "metadata": {},
     "output_type": "display_data"
    },
    {
     "data": {
      "text/plain": [
       "count    2051.000000\n",
       "mean        5.562165\n",
       "std         1.104497\n",
       "min         1.000000\n",
       "25%         5.000000\n",
       "50%         5.000000\n",
       "75%         6.000000\n",
       "max         9.000000\n",
       "Name: Overall Cond, dtype: float64"
      ]
     },
     "metadata": {},
     "output_type": "display_data"
    },
    {
     "data": {
      "text/plain": [
       "5    1168\n",
       "6     368\n",
       "7     270\n",
       "8     101\n",
       "4      70\n",
       "3      35\n",
       "9      29\n",
       "2       6\n",
       "1       4\n",
       "Name: Overall Cond, dtype: int64"
      ]
     },
     "metadata": {},
     "output_type": "display_data"
    },
    {
     "name": "stdout",
     "output_type": "stream",
     "text": [
      "Feature name:Year Built\n",
      " Type:int64\n",
      "Isnull?:\n"
     ]
    },
    {
     "data": {
      "text/plain": [
       "0"
      ]
     },
     "metadata": {},
     "output_type": "display_data"
    },
    {
     "data": {
      "text/plain": [
       "count    2051.000000\n",
       "mean     1971.708922\n",
       "std        30.177889\n",
       "min      1872.000000\n",
       "25%      1953.500000\n",
       "50%      1974.000000\n",
       "75%      2001.000000\n",
       "max      2010.000000\n",
       "Name: Year Built, dtype: float64"
      ]
     },
     "metadata": {},
     "output_type": "display_data"
    },
    {
     "data": {
      "text/plain": [
       "2005    102\n",
       "2006     99\n",
       "2007     78\n",
       "2004     72\n",
       "2003     64\n",
       "1976     39\n",
       "1920     38\n",
       "1977     38\n",
       "1999     37\n",
       "2002     36\n",
       "2000     36\n",
       "2008     36\n",
       "1998     35\n",
       "1958     35\n",
       "1978     32\n",
       "1968     32\n",
       "1959     31\n",
       "1940     29\n",
       "1954     28\n",
       "1950     28\n",
       "1967     28\n",
       "1956     28\n",
       "1993     27\n",
       "1970     27\n",
       "1994     26\n",
       "1910     26\n",
       "1971     26\n",
       "1995     25\n",
       "1966     25\n",
       "1962     25\n",
       "       ... \n",
       "1942      6\n",
       "1981      6\n",
       "1989      6\n",
       "1890      5\n",
       "1991      5\n",
       "1918      4\n",
       "1931      4\n",
       "1934      4\n",
       "1985      4\n",
       "1912      3\n",
       "1982      3\n",
       "1880      3\n",
       "1895      3\n",
       "1932      3\n",
       "1919      2\n",
       "1917      2\n",
       "1905      2\n",
       "1901      2\n",
       "1892      1\n",
       "1898      1\n",
       "1908      1\n",
       "1896      1\n",
       "2010      1\n",
       "1875      1\n",
       "1913      1\n",
       "1911      1\n",
       "1893      1\n",
       "1885      1\n",
       "1879      1\n",
       "1872      1\n",
       "Name: Year Built, Length: 113, dtype: int64"
      ]
     },
     "metadata": {},
     "output_type": "display_data"
    },
    {
     "name": "stdout",
     "output_type": "stream",
     "text": [
      "Feature name:Year Remod/Add\n",
      " Type:int64\n",
      "Isnull?:\n"
     ]
    },
    {
     "data": {
      "text/plain": [
       "0"
      ]
     },
     "metadata": {},
     "output_type": "display_data"
    },
    {
     "data": {
      "text/plain": [
       "count    2051.000000\n",
       "mean     1984.190151\n",
       "std        21.036250\n",
       "min      1950.000000\n",
       "25%      1964.500000\n",
       "50%      1993.000000\n",
       "75%      2004.000000\n",
       "max      2010.000000\n",
       "Name: Year Remod/Add, dtype: float64"
      ]
     },
     "metadata": {},
     "output_type": "display_data"
    },
    {
     "data": {
      "text/plain": [
       "1950    262\n",
       "2006    139\n",
       "2007    123\n",
       "2005    100\n",
       "2004     83\n",
       "2000     69\n",
       "2003     68\n",
       "2002     59\n",
       "2008     55\n",
       "1998     51\n",
       "1999     46\n",
       "1996     42\n",
       "1994     41\n",
       "1995     38\n",
       "2001     35\n",
       "1993     33\n",
       "1976     32\n",
       "1970     31\n",
       "1977     31\n",
       "1978     30\n",
       "1997     29\n",
       "1958     28\n",
       "1968     28\n",
       "1975     26\n",
       "1990     23\n",
       "2009     23\n",
       "1956     22\n",
       "1967     22\n",
       "1972     21\n",
       "1959     21\n",
       "       ... \n",
       "1960     20\n",
       "1980     20\n",
       "1991     19\n",
       "1992     19\n",
       "1966     19\n",
       "1963     19\n",
       "1971     18\n",
       "1965     18\n",
       "1953     18\n",
       "1955     18\n",
       "1964     17\n",
       "1961     17\n",
       "1954     17\n",
       "1979     16\n",
       "1969     16\n",
       "1957     15\n",
       "1989     14\n",
       "1973     13\n",
       "1987     12\n",
       "1984     12\n",
       "1988     12\n",
       "1974     10\n",
       "1951     10\n",
       "1985      9\n",
       "1986      9\n",
       "1952      9\n",
       "2010      8\n",
       "1983      7\n",
       "1981      6\n",
       "1982      3\n",
       "Name: Year Remod/Add, Length: 61, dtype: int64"
      ]
     },
     "metadata": {},
     "output_type": "display_data"
    },
    {
     "name": "stdout",
     "output_type": "stream",
     "text": [
      "Feature name:Roof Style\n",
      " Type:object\n",
      "Isnull?:\n"
     ]
    },
    {
     "data": {
      "text/plain": [
       "0"
      ]
     },
     "metadata": {},
     "output_type": "display_data"
    },
    {
     "data": {
      "text/plain": [
       "count      2051\n",
       "unique        6\n",
       "top       Gable\n",
       "freq       1619\n",
       "Name: Roof Style, dtype: object"
      ]
     },
     "metadata": {},
     "output_type": "display_data"
    },
    {
     "data": {
      "text/plain": [
       "Gable      1619\n",
       "Hip         397\n",
       "Flat         13\n",
       "Gambrel      12\n",
       "Mansard       7\n",
       "Shed          3\n",
       "Name: Roof Style, dtype: int64"
      ]
     },
     "metadata": {},
     "output_type": "display_data"
    },
    {
     "name": "stdout",
     "output_type": "stream",
     "text": [
      "Feature name:Roof Matl\n",
      " Type:object\n",
      "Isnull?:\n"
     ]
    },
    {
     "data": {
      "text/plain": [
       "0"
      ]
     },
     "metadata": {},
     "output_type": "display_data"
    },
    {
     "data": {
      "text/plain": [
       "count        2051\n",
       "unique          6\n",
       "top       CompShg\n",
       "freq         2025\n",
       "Name: Roof Matl, dtype: object"
      ]
     },
     "metadata": {},
     "output_type": "display_data"
    },
    {
     "data": {
      "text/plain": [
       "CompShg    2025\n",
       "Tar&Grv      15\n",
       "WdShngl       5\n",
       "WdShake       4\n",
       "ClyTile       1\n",
       "Membran       1\n",
       "Name: Roof Matl, dtype: int64"
      ]
     },
     "metadata": {},
     "output_type": "display_data"
    },
    {
     "name": "stdout",
     "output_type": "stream",
     "text": [
      "Feature name:Exterior 1st\n",
      " Type:object\n",
      "Isnull?:\n"
     ]
    },
    {
     "data": {
      "text/plain": [
       "0"
      ]
     },
     "metadata": {},
     "output_type": "display_data"
    },
    {
     "data": {
      "text/plain": [
       "count        2051\n",
       "unique         15\n",
       "top       VinylSd\n",
       "freq          724\n",
       "Name: Exterior 1st, dtype: object"
      ]
     },
     "metadata": {},
     "output_type": "display_data"
    },
    {
     "data": {
      "text/plain": [
       "VinylSd    724\n",
       "MetalSd    331\n",
       "HdBoard    300\n",
       "Wd Sdng    276\n",
       "Plywood    152\n",
       "CemntBd     90\n",
       "BrkFace     64\n",
       "WdShing     45\n",
       "AsbShng     33\n",
       "Stucco      27\n",
       "BrkComm      3\n",
       "Stone        2\n",
       "CBlock       2\n",
       "ImStucc      1\n",
       "AsphShn      1\n",
       "Name: Exterior 1st, dtype: int64"
      ]
     },
     "metadata": {},
     "output_type": "display_data"
    },
    {
     "name": "stdout",
     "output_type": "stream",
     "text": [
      "Feature name:Exterior 2nd\n",
      " Type:object\n",
      "Isnull?:\n"
     ]
    },
    {
     "data": {
      "text/plain": [
       "0"
      ]
     },
     "metadata": {},
     "output_type": "display_data"
    },
    {
     "data": {
      "text/plain": [
       "count        2051\n",
       "unique         15\n",
       "top       VinylSd\n",
       "freq          721\n",
       "Name: Exterior 2nd, dtype: object"
      ]
     },
     "metadata": {},
     "output_type": "display_data"
    },
    {
     "data": {
      "text/plain": [
       "VinylSd    721\n",
       "MetalSd    324\n",
       "HdBoard    275\n",
       "Wd Sdng    262\n",
       "Plywood    185\n",
       "CmentBd     90\n",
       "Wd Shng     63\n",
       "BrkFace     34\n",
       "Stucco      30\n",
       "AsbShng     28\n",
       "Brk Cmn     17\n",
       "ImStucc     11\n",
       "Stone        6\n",
       "AsphShn      3\n",
       "CBlock       2\n",
       "Name: Exterior 2nd, dtype: int64"
      ]
     },
     "metadata": {},
     "output_type": "display_data"
    },
    {
     "name": "stdout",
     "output_type": "stream",
     "text": [
      "Feature name:Mas Vnr Type\n",
      " Type:object\n",
      "Isnull?:\n"
     ]
    },
    {
     "data": {
      "text/plain": [
       "22"
      ]
     },
     "metadata": {},
     "output_type": "display_data"
    },
    {
     "data": {
      "text/plain": [
       "count     2029\n",
       "unique       4\n",
       "top       None\n",
       "freq      1218\n",
       "Name: Mas Vnr Type, dtype: object"
      ]
     },
     "metadata": {},
     "output_type": "display_data"
    },
    {
     "data": {
      "text/plain": [
       "None       1218\n",
       "BrkFace     630\n",
       "Stone       168\n",
       "BrkCmn       13\n",
       "Name: Mas Vnr Type, dtype: int64"
      ]
     },
     "metadata": {},
     "output_type": "display_data"
    },
    {
     "name": "stdout",
     "output_type": "stream",
     "text": [
      "Feature name:Mas Vnr Area\n",
      " Type:float64\n",
      "Isnull?:\n"
     ]
    },
    {
     "data": {
      "text/plain": [
       "22"
      ]
     },
     "metadata": {},
     "output_type": "display_data"
    },
    {
     "data": {
      "text/plain": [
       "count    2029.000000\n",
       "mean       99.695909\n",
       "std       174.963129\n",
       "min         0.000000\n",
       "25%         0.000000\n",
       "50%         0.000000\n",
       "75%       161.000000\n",
       "max      1600.000000\n",
       "Name: Mas Vnr Area, dtype: float64"
      ]
     },
     "metadata": {},
     "output_type": "display_data"
    },
    {
     "data": {
      "text/plain": [
       "0.0      1216\n",
       "120.0      11\n",
       "176.0      10\n",
       "200.0      10\n",
       "180.0       9\n",
       "16.0        9\n",
       "72.0        9\n",
       "108.0       9\n",
       "210.0       9\n",
       "40.0        8\n",
       "132.0       8\n",
       "170.0       7\n",
       "186.0       7\n",
       "144.0       7\n",
       "178.0       6\n",
       "256.0       6\n",
       "84.0        6\n",
       "340.0       6\n",
       "140.0       6\n",
       "60.0        6\n",
       "203.0       6\n",
       "128.0       6\n",
       "148.0       5\n",
       "272.0       5\n",
       "106.0       5\n",
       "164.0       5\n",
       "145.0       5\n",
       "504.0       5\n",
       "216.0       5\n",
       "260.0       5\n",
       "         ... \n",
       "235.0       1\n",
       "564.0       1\n",
       "422.0       1\n",
       "299.0       1\n",
       "274.0       1\n",
       "668.0       1\n",
       "197.0       1\n",
       "571.0       1\n",
       "355.0       1\n",
       "281.0       1\n",
       "630.0       1\n",
       "337.0       1\n",
       "156.0       1\n",
       "528.0       1\n",
       "526.0       1\n",
       "328.0       1\n",
       "45.0        1\n",
       "127.0       1\n",
       "356.0       1\n",
       "816.0       1\n",
       "97.0        1\n",
       "251.0       1\n",
       "222.0       1\n",
       "430.0       1\n",
       "428.0       1\n",
       "57.0        1\n",
       "572.0       1\n",
       "65.0        1\n",
       "567.0       1\n",
       "161.0       1\n",
       "Name: Mas Vnr Area, Length: 373, dtype: int64"
      ]
     },
     "metadata": {},
     "output_type": "display_data"
    },
    {
     "name": "stdout",
     "output_type": "stream",
     "text": [
      "Feature name:Exter Qual\n",
      " Type:object\n",
      "Isnull?:\n"
     ]
    },
    {
     "data": {
      "text/plain": [
       "0"
      ]
     },
     "metadata": {},
     "output_type": "display_data"
    },
    {
     "data": {
      "text/plain": [
       "count     2051\n",
       "unique       4\n",
       "top         TA\n",
       "freq      1247\n",
       "Name: Exter Qual, dtype: object"
      ]
     },
     "metadata": {},
     "output_type": "display_data"
    },
    {
     "data": {
      "text/plain": [
       "TA    1247\n",
       "Gd     697\n",
       "Ex      81\n",
       "Fa      26\n",
       "Name: Exter Qual, dtype: int64"
      ]
     },
     "metadata": {},
     "output_type": "display_data"
    },
    {
     "name": "stdout",
     "output_type": "stream",
     "text": [
      "Feature name:Exter Cond\n",
      " Type:object\n",
      "Isnull?:\n"
     ]
    },
    {
     "data": {
      "text/plain": [
       "0"
      ]
     },
     "metadata": {},
     "output_type": "display_data"
    },
    {
     "data": {
      "text/plain": [
       "count     2051\n",
       "unique       5\n",
       "top         TA\n",
       "freq      1778\n",
       "Name: Exter Cond, dtype: object"
      ]
     },
     "metadata": {},
     "output_type": "display_data"
    },
    {
     "data": {
      "text/plain": [
       "TA    1778\n",
       "Gd     215\n",
       "Fa      49\n",
       "Ex       7\n",
       "Po       2\n",
       "Name: Exter Cond, dtype: int64"
      ]
     },
     "metadata": {},
     "output_type": "display_data"
    },
    {
     "name": "stdout",
     "output_type": "stream",
     "text": [
      "Feature name:Foundation\n",
      " Type:object\n",
      "Isnull?:\n"
     ]
    },
    {
     "data": {
      "text/plain": [
       "0"
      ]
     },
     "metadata": {},
     "output_type": "display_data"
    },
    {
     "data": {
      "text/plain": [
       "count      2051\n",
       "unique        6\n",
       "top       PConc\n",
       "freq        926\n",
       "Name: Foundation, dtype: object"
      ]
     },
     "metadata": {},
     "output_type": "display_data"
    },
    {
     "data": {
      "text/plain": [
       "PConc     926\n",
       "CBlock    863\n",
       "BrkTil    221\n",
       "Slab       34\n",
       "Stone       5\n",
       "Wood        2\n",
       "Name: Foundation, dtype: int64"
      ]
     },
     "metadata": {},
     "output_type": "display_data"
    },
    {
     "name": "stdout",
     "output_type": "stream",
     "text": [
      "Feature name:Bsmt Qual\n",
      " Type:object\n",
      "Isnull?:\n"
     ]
    },
    {
     "data": {
      "text/plain": [
       "55"
      ]
     },
     "metadata": {},
     "output_type": "display_data"
    },
    {
     "data": {
      "text/plain": [
       "count     1996\n",
       "unique       5\n",
       "top         TA\n",
       "freq       887\n",
       "Name: Bsmt Qual, dtype: object"
      ]
     },
     "metadata": {},
     "output_type": "display_data"
    },
    {
     "data": {
      "text/plain": [
       "TA    887\n",
       "Gd    864\n",
       "Ex    184\n",
       "Fa     60\n",
       "Po      1\n",
       "Name: Bsmt Qual, dtype: int64"
      ]
     },
     "metadata": {},
     "output_type": "display_data"
    },
    {
     "name": "stdout",
     "output_type": "stream",
     "text": [
      "Feature name:Bsmt Cond\n",
      " Type:object\n",
      "Isnull?:\n"
     ]
    },
    {
     "data": {
      "text/plain": [
       "55"
      ]
     },
     "metadata": {},
     "output_type": "display_data"
    },
    {
     "data": {
      "text/plain": [
       "count     1996\n",
       "unique       5\n",
       "top         TA\n",
       "freq      1834\n",
       "Name: Bsmt Cond, dtype: object"
      ]
     },
     "metadata": {},
     "output_type": "display_data"
    },
    {
     "data": {
      "text/plain": [
       "TA    1834\n",
       "Gd      89\n",
       "Fa      65\n",
       "Po       5\n",
       "Ex       3\n",
       "Name: Bsmt Cond, dtype: int64"
      ]
     },
     "metadata": {},
     "output_type": "display_data"
    },
    {
     "name": "stdout",
     "output_type": "stream",
     "text": [
      "Feature name:Bsmt Exposure\n",
      " Type:object\n",
      "Isnull?:\n"
     ]
    },
    {
     "data": {
      "text/plain": [
       "58"
      ]
     },
     "metadata": {},
     "output_type": "display_data"
    },
    {
     "data": {
      "text/plain": [
       "count     1993\n",
       "unique       4\n",
       "top         No\n",
       "freq      1339\n",
       "Name: Bsmt Exposure, dtype: object"
      ]
     },
     "metadata": {},
     "output_type": "display_data"
    },
    {
     "data": {
      "text/plain": [
       "No    1339\n",
       "Av     288\n",
       "Gd     203\n",
       "Mn     163\n",
       "Name: Bsmt Exposure, dtype: int64"
      ]
     },
     "metadata": {},
     "output_type": "display_data"
    },
    {
     "name": "stdout",
     "output_type": "stream",
     "text": [
      "Feature name:BsmtFin Type 1\n",
      " Type:object\n",
      "Isnull?:\n"
     ]
    },
    {
     "data": {
      "text/plain": [
       "55"
      ]
     },
     "metadata": {},
     "output_type": "display_data"
    },
    {
     "data": {
      "text/plain": [
       "count     1996\n",
       "unique       6\n",
       "top        GLQ\n",
       "freq       615\n",
       "Name: BsmtFin Type 1, dtype: object"
      ]
     },
     "metadata": {},
     "output_type": "display_data"
    },
    {
     "data": {
      "text/plain": [
       "GLQ    615\n",
       "Unf    603\n",
       "ALQ    293\n",
       "BLQ    200\n",
       "Rec    183\n",
       "LwQ    102\n",
       "Name: BsmtFin Type 1, dtype: int64"
      ]
     },
     "metadata": {},
     "output_type": "display_data"
    },
    {
     "name": "stdout",
     "output_type": "stream",
     "text": [
      "Feature name:BsmtFin SF 1\n",
      " Type:float64\n",
      "Isnull?:\n"
     ]
    },
    {
     "data": {
      "text/plain": [
       "1"
      ]
     },
     "metadata": {},
     "output_type": "display_data"
    },
    {
     "data": {
      "text/plain": [
       "count    2050.000000\n",
       "mean      442.300488\n",
       "std       461.204124\n",
       "min         0.000000\n",
       "25%         0.000000\n",
       "50%       368.000000\n",
       "75%       733.750000\n",
       "max      5644.000000\n",
       "Name: BsmtFin SF 1, dtype: float64"
      ]
     },
     "metadata": {},
     "output_type": "display_data"
    },
    {
     "data": {
      "text/plain": [
       "0.0       657\n",
       "24.0       17\n",
       "16.0       10\n",
       "300.0       7\n",
       "384.0       7\n",
       "20.0        7\n",
       "700.0       6\n",
       "624.0       6\n",
       "456.0       6\n",
       "360.0       6\n",
       "312.0       6\n",
       "368.0       6\n",
       "1200.0      5\n",
       "648.0       5\n",
       "330.0       5\n",
       "288.0       5\n",
       "553.0       5\n",
       "432.0       5\n",
       "637.0       5\n",
       "686.0       5\n",
       "625.0       5\n",
       "120.0       5\n",
       "276.0       5\n",
       "841.0       4\n",
       "336.0       4\n",
       "495.0       4\n",
       "904.0       4\n",
       "507.0       4\n",
       "500.0       4\n",
       "528.0       4\n",
       "         ... \n",
       "186.0       1\n",
       "1080.0      1\n",
       "1440.0      1\n",
       "242.0       1\n",
       "78.0        1\n",
       "952.0       1\n",
       "1012.0      1\n",
       "296.0       1\n",
       "328.0       1\n",
       "424.0       1\n",
       "236.0       1\n",
       "376.0       1\n",
       "526.0       1\n",
       "968.0       1\n",
       "445.0       1\n",
       "1571.0      1\n",
       "443.0       1\n",
       "1163.0      1\n",
       "1606.0      1\n",
       "567.0       1\n",
       "909.0       1\n",
       "895.0       1\n",
       "1013.0      1\n",
       "1277.0      1\n",
       "63.0        1\n",
       "848.0       1\n",
       "70.0        1\n",
       "688.0       1\n",
       "472.0       1\n",
       "661.0       1\n",
       "Name: BsmtFin SF 1, Length: 821, dtype: int64"
      ]
     },
     "metadata": {},
     "output_type": "display_data"
    },
    {
     "name": "stdout",
     "output_type": "stream",
     "text": [
      "Feature name:BsmtFin Type 2\n",
      " Type:object\n",
      "Isnull?:\n"
     ]
    },
    {
     "data": {
      "text/plain": [
       "56"
      ]
     },
     "metadata": {},
     "output_type": "display_data"
    },
    {
     "data": {
      "text/plain": [
       "count     1995\n",
       "unique       6\n",
       "top        Unf\n",
       "freq      1749\n",
       "Name: BsmtFin Type 2, dtype: object"
      ]
     },
     "metadata": {},
     "output_type": "display_data"
    },
    {
     "data": {
      "text/plain": [
       "Unf    1749\n",
       "Rec      80\n",
       "LwQ      60\n",
       "BLQ      48\n",
       "ALQ      35\n",
       "GLQ      23\n",
       "Name: BsmtFin Type 2, dtype: int64"
      ]
     },
     "metadata": {},
     "output_type": "display_data"
    },
    {
     "name": "stdout",
     "output_type": "stream",
     "text": [
      "Feature name:BsmtFin SF 2\n",
      " Type:float64\n",
      "Isnull?:\n"
     ]
    },
    {
     "data": {
      "text/plain": [
       "1"
      ]
     },
     "metadata": {},
     "output_type": "display_data"
    },
    {
     "data": {
      "text/plain": [
       "count    2050.000000\n",
       "mean       47.959024\n",
       "std       165.000901\n",
       "min         0.000000\n",
       "25%         0.000000\n",
       "50%         0.000000\n",
       "75%         0.000000\n",
       "max      1474.000000\n",
       "Name: BsmtFin SF 2, dtype: float64"
      ]
     },
     "metadata": {},
     "output_type": "display_data"
    },
    {
     "data": {
      "text/plain": [
       "0.0       1803\n",
       "294.0        5\n",
       "162.0        3\n",
       "539.0        3\n",
       "72.0         3\n",
       "180.0        3\n",
       "483.0        3\n",
       "41.0         2\n",
       "354.0        2\n",
       "110.0        2\n",
       "620.0        2\n",
       "469.0        2\n",
       "273.0        2\n",
       "270.0        2\n",
       "670.0        2\n",
       "247.0        2\n",
       "590.0        2\n",
       "495.0        2\n",
       "127.0        2\n",
       "105.0        2\n",
       "596.0        2\n",
       "117.0        2\n",
       "159.0        2\n",
       "290.0        2\n",
       "96.0         2\n",
       "68.0         2\n",
       "60.0         2\n",
       "64.0         2\n",
       "128.0        2\n",
       "108.0        2\n",
       "          ... \n",
       "286.0        1\n",
       "306.0        1\n",
       "211.0        1\n",
       "442.0        1\n",
       "419.0        1\n",
       "612.0        1\n",
       "1037.0       1\n",
       "147.0        1\n",
       "1063.0       1\n",
       "228.0        1\n",
       "1120.0       1\n",
       "420.0        1\n",
       "210.0        1\n",
       "156.0        1\n",
       "102.0        1\n",
       "81.0         1\n",
       "138.0        1\n",
       "488.0        1\n",
       "154.0        1\n",
       "264.0        1\n",
       "239.0        1\n",
       "132.0        1\n",
       "95.0         1\n",
       "624.0        1\n",
       "404.0        1\n",
       "712.0        1\n",
       "529.0        1\n",
       "215.0        1\n",
       "252.0        1\n",
       "823.0        1\n",
       "Name: BsmtFin SF 2, Length: 205, dtype: int64"
      ]
     },
     "metadata": {},
     "output_type": "display_data"
    },
    {
     "name": "stdout",
     "output_type": "stream",
     "text": [
      "Feature name:Bsmt Unf SF\n",
      " Type:float64\n",
      "Isnull?:\n"
     ]
    },
    {
     "data": {
      "text/plain": [
       "1"
      ]
     },
     "metadata": {},
     "output_type": "display_data"
    },
    {
     "data": {
      "text/plain": [
       "count    2050.000000\n",
       "mean      567.728293\n",
       "std       444.954786\n",
       "min         0.000000\n",
       "25%       220.000000\n",
       "50%       474.500000\n",
       "75%       811.000000\n",
       "max      2336.000000\n",
       "Name: Bsmt Unf SF, dtype: float64"
      ]
     },
     "metadata": {},
     "output_type": "display_data"
    },
    {
     "data": {
      "text/plain": [
       "0.0       165\n",
       "384.0      14\n",
       "672.0      11\n",
       "728.0      10\n",
       "816.0       9\n",
       "216.0       9\n",
       "600.0       8\n",
       "162.0       8\n",
       "280.0       8\n",
       "624.0       8\n",
       "300.0       7\n",
       "480.0       7\n",
       "768.0       7\n",
       "292.0       7\n",
       "125.0       6\n",
       "324.0       6\n",
       "832.0       6\n",
       "432.0       6\n",
       "163.0       6\n",
       "319.0       6\n",
       "348.0       6\n",
       "100.0       6\n",
       "326.0       6\n",
       "264.0       6\n",
       "80.0        6\n",
       "572.0       6\n",
       "336.0       6\n",
       "190.0       6\n",
       "120.0       5\n",
       "195.0       5\n",
       "         ... \n",
       "149.0       1\n",
       "365.0       1\n",
       "726.0       1\n",
       "169.0       1\n",
       "375.0       1\n",
       "620.0       1\n",
       "442.0       1\n",
       "1010.0      1\n",
       "510.0       1\n",
       "836.0       1\n",
       "339.0       1\n",
       "221.0       1\n",
       "1368.0      1\n",
       "185.0       1\n",
       "739.0       1\n",
       "1649.0      1\n",
       "1795.0      1\n",
       "2140.0      1\n",
       "1194.0      1\n",
       "539.0       1\n",
       "1598.0      1\n",
       "583.0       1\n",
       "892.0       1\n",
       "1129.0      1\n",
       "1802.0      1\n",
       "494.0       1\n",
       "1323.0      1\n",
       "1041.0      1\n",
       "314.0       1\n",
       "2062.0      1\n",
       "Name: Bsmt Unf SF, Length: 967, dtype: int64"
      ]
     },
     "metadata": {},
     "output_type": "display_data"
    },
    {
     "name": "stdout",
     "output_type": "stream",
     "text": [
      "Feature name:Total Bsmt SF\n",
      " Type:float64\n",
      "Isnull?:\n"
     ]
    },
    {
     "data": {
      "text/plain": [
       "1"
      ]
     },
     "metadata": {},
     "output_type": "display_data"
    },
    {
     "data": {
      "text/plain": [
       "count    2050.000000\n",
       "mean     1057.987805\n",
       "std       449.410704\n",
       "min         0.000000\n",
       "25%       793.000000\n",
       "50%       994.500000\n",
       "75%      1318.750000\n",
       "max      6110.000000\n",
       "Name: Total Bsmt SF, dtype: float64"
      ]
     },
     "metadata": {},
     "output_type": "display_data"
    },
    {
     "data": {
      "text/plain": [
       "0.0       54\n",
       "864.0     51\n",
       "672.0     20\n",
       "1040.0    20\n",
       "816.0     17\n",
       "912.0     17\n",
       "728.0     14\n",
       "1008.0    14\n",
       "768.0     14\n",
       "384.0     13\n",
       "600.0     13\n",
       "756.0     12\n",
       "960.0     11\n",
       "780.0     10\n",
       "624.0     10\n",
       "894.0     10\n",
       "988.0     10\n",
       "936.0     10\n",
       "832.0     10\n",
       "483.0     10\n",
       "848.0      9\n",
       "720.0      9\n",
       "546.0      9\n",
       "928.0      8\n",
       "896.0      8\n",
       "630.0      8\n",
       "952.0      8\n",
       "855.0      7\n",
       "796.0      7\n",
       "784.0      7\n",
       "          ..\n",
       "1935.0     1\n",
       "1678.0     1\n",
       "1657.0     1\n",
       "1733.0     1\n",
       "1649.0     1\n",
       "1926.0     1\n",
       "2452.0     1\n",
       "2108.0     1\n",
       "817.0      1\n",
       "1270.0     1\n",
       "1274.0     1\n",
       "908.0      1\n",
       "484.0      1\n",
       "2223.0     1\n",
       "1952.0     1\n",
       "1487.0     1\n",
       "1829.0     1\n",
       "1475.0     1\n",
       "592.0      1\n",
       "408.0      1\n",
       "1696.0     1\n",
       "392.0      1\n",
       "396.0      1\n",
       "516.0      1\n",
       "2418.0     1\n",
       "842.0      1\n",
       "752.0      1\n",
       "1232.0     1\n",
       "1480.0     1\n",
       "1125.0     1\n",
       "Name: Total Bsmt SF, Length: 892, dtype: int64"
      ]
     },
     "metadata": {},
     "output_type": "display_data"
    },
    {
     "name": "stdout",
     "output_type": "stream",
     "text": [
      "Feature name:Heating\n",
      " Type:object\n",
      "Isnull?:\n"
     ]
    },
    {
     "data": {
      "text/plain": [
       "0"
      ]
     },
     "metadata": {},
     "output_type": "display_data"
    },
    {
     "data": {
      "text/plain": [
       "count     2051\n",
       "unique       5\n",
       "top       GasA\n",
       "freq      2018\n",
       "Name: Heating, dtype: object"
      ]
     },
     "metadata": {},
     "output_type": "display_data"
    },
    {
     "data": {
      "text/plain": [
       "GasA    2018\n",
       "GasW      20\n",
       "Wall       6\n",
       "Grav       5\n",
       "OthW       2\n",
       "Name: Heating, dtype: int64"
      ]
     },
     "metadata": {},
     "output_type": "display_data"
    },
    {
     "name": "stdout",
     "output_type": "stream",
     "text": [
      "Feature name:Heating QC\n",
      " Type:object\n",
      "Isnull?:\n"
     ]
    },
    {
     "data": {
      "text/plain": [
       "0"
      ]
     },
     "metadata": {},
     "output_type": "display_data"
    },
    {
     "data": {
      "text/plain": [
       "count     2051\n",
       "unique       5\n",
       "top         Ex\n",
       "freq      1065\n",
       "Name: Heating QC, dtype: object"
      ]
     },
     "metadata": {},
     "output_type": "display_data"
    },
    {
     "data": {
      "text/plain": [
       "Ex    1065\n",
       "TA     597\n",
       "Gd     319\n",
       "Fa      67\n",
       "Po       3\n",
       "Name: Heating QC, dtype: int64"
      ]
     },
     "metadata": {},
     "output_type": "display_data"
    },
    {
     "name": "stdout",
     "output_type": "stream",
     "text": [
      "Feature name:Central Air\n",
      " Type:object\n",
      "Isnull?:\n"
     ]
    },
    {
     "data": {
      "text/plain": [
       "0"
      ]
     },
     "metadata": {},
     "output_type": "display_data"
    },
    {
     "data": {
      "text/plain": [
       "count     2051\n",
       "unique       2\n",
       "top          Y\n",
       "freq      1910\n",
       "Name: Central Air, dtype: object"
      ]
     },
     "metadata": {},
     "output_type": "display_data"
    },
    {
     "data": {
      "text/plain": [
       "Y    1910\n",
       "N     141\n",
       "Name: Central Air, dtype: int64"
      ]
     },
     "metadata": {},
     "output_type": "display_data"
    },
    {
     "name": "stdout",
     "output_type": "stream",
     "text": [
      "Feature name:Electrical\n",
      " Type:object\n",
      "Isnull?:\n"
     ]
    },
    {
     "data": {
      "text/plain": [
       "0"
      ]
     },
     "metadata": {},
     "output_type": "display_data"
    },
    {
     "data": {
      "text/plain": [
       "count      2051\n",
       "unique        5\n",
       "top       SBrkr\n",
       "freq       1868\n",
       "Name: Electrical, dtype: object"
      ]
     },
     "metadata": {},
     "output_type": "display_data"
    },
    {
     "data": {
      "text/plain": [
       "SBrkr    1868\n",
       "FuseA     140\n",
       "FuseF      35\n",
       "FuseP       7\n",
       "Mix         1\n",
       "Name: Electrical, dtype: int64"
      ]
     },
     "metadata": {},
     "output_type": "display_data"
    },
    {
     "name": "stdout",
     "output_type": "stream",
     "text": [
      "Feature name:1st Flr SF\n",
      " Type:int64\n",
      "Isnull?:\n"
     ]
    },
    {
     "data": {
      "text/plain": [
       "0"
      ]
     },
     "metadata": {},
     "output_type": "display_data"
    },
    {
     "data": {
      "text/plain": [
       "count    2051.000000\n",
       "mean     1164.488055\n",
       "std       396.446923\n",
       "min       334.000000\n",
       "25%       879.500000\n",
       "50%      1093.000000\n",
       "75%      1405.000000\n",
       "max      5095.000000\n",
       "Name: 1st Flr SF, dtype: float64"
      ]
     },
     "metadata": {},
     "output_type": "display_data"
    },
    {
     "data": {
      "text/plain": [
       "864     31\n",
       "1040    22\n",
       "816     13\n",
       "912     13\n",
       "960     12\n",
       "936     12\n",
       "848     11\n",
       "894     10\n",
       "483     10\n",
       "672     10\n",
       "1200     9\n",
       "1072     9\n",
       "546      9\n",
       "768      9\n",
       "1337     9\n",
       "1008     9\n",
       "1152     8\n",
       "988      8\n",
       "728      8\n",
       "990      8\n",
       "832      8\n",
       "928      8\n",
       "1728     7\n",
       "1092     7\n",
       "630      7\n",
       "600      7\n",
       "948      7\n",
       "624      7\n",
       "764      7\n",
       "874      7\n",
       "        ..\n",
       "1884     1\n",
       "1872     1\n",
       "1868     1\n",
       "1866     1\n",
       "1842     1\n",
       "1828     1\n",
       "1822     1\n",
       "1804     1\n",
       "1802     1\n",
       "1976     1\n",
       "1980     1\n",
       "1992     1\n",
       "2064     1\n",
       "2158     1\n",
       "2156     1\n",
       "2140     1\n",
       "2136     1\n",
       "2122     1\n",
       "2084     1\n",
       "2076     1\n",
       "2048     1\n",
       "2000     1\n",
       "2046     1\n",
       "2042     1\n",
       "2036     1\n",
       "2034     1\n",
       "2032     1\n",
       "2020     1\n",
       "2014     1\n",
       "2053     1\n",
       "Name: 1st Flr SF, Length: 915, dtype: int64"
      ]
     },
     "metadata": {},
     "output_type": "display_data"
    },
    {
     "name": "stdout",
     "output_type": "stream",
     "text": [
      "Feature name:2nd Flr SF\n",
      " Type:int64\n",
      "Isnull?:\n"
     ]
    },
    {
     "data": {
      "text/plain": [
       "0"
      ]
     },
     "metadata": {},
     "output_type": "display_data"
    },
    {
     "data": {
      "text/plain": [
       "count    2051.000000\n",
       "mean      329.329108\n",
       "std       425.671046\n",
       "min         0.000000\n",
       "25%         0.000000\n",
       "50%         0.000000\n",
       "75%       692.500000\n",
       "max      1862.000000\n",
       "Name: 2nd Flr SF, dtype: float64"
      ]
     },
     "metadata": {},
     "output_type": "display_data"
    },
    {
     "data": {
      "text/plain": [
       "0       1191\n",
       "728       15\n",
       "504       14\n",
       "546       12\n",
       "600       10\n",
       "896        9\n",
       "672        9\n",
       "720        8\n",
       "886        8\n",
       "862        6\n",
       "756        6\n",
       "689        6\n",
       "462        6\n",
       "567        5\n",
       "684        5\n",
       "601        5\n",
       "754        5\n",
       "636        5\n",
       "780        5\n",
       "804        5\n",
       "702        5\n",
       "624        5\n",
       "884        4\n",
       "915        4\n",
       "668        4\n",
       "848        4\n",
       "858        4\n",
       "704        4\n",
       "678        4\n",
       "864        4\n",
       "        ... \n",
       "587        1\n",
       "589        1\n",
       "591        1\n",
       "465        1\n",
       "455        1\n",
       "453        1\n",
       "1862       1\n",
       "1384       1\n",
       "1392       1\n",
       "1414       1\n",
       "1420       1\n",
       "1426       1\n",
       "1440       1\n",
       "1518       1\n",
       "1540       1\n",
       "1818       1\n",
       "1836       1\n",
       "125        1\n",
       "441        1\n",
       "213        1\n",
       "245        1\n",
       "297        1\n",
       "299        1\n",
       "325        1\n",
       "341        1\n",
       "371        1\n",
       "423        1\n",
       "425        1\n",
       "439        1\n",
       "1160       1\n",
       "Name: 2nd Flr SF, Length: 504, dtype: int64"
      ]
     },
     "metadata": {},
     "output_type": "display_data"
    },
    {
     "name": "stdout",
     "output_type": "stream",
     "text": [
      "Feature name:Low Qual Fin SF\n",
      " Type:int64\n",
      "Isnull?:\n"
     ]
    },
    {
     "data": {
      "text/plain": [
       "0"
      ]
     },
     "metadata": {},
     "output_type": "display_data"
    },
    {
     "data": {
      "text/plain": [
       "count    2051.000000\n",
       "mean        5.512921\n",
       "std        51.068870\n",
       "min         0.000000\n",
       "25%         0.000000\n",
       "50%         0.000000\n",
       "75%         0.000000\n",
       "max      1064.000000\n",
       "Name: Low Qual Fin SF, dtype: float64"
      ]
     },
     "metadata": {},
     "output_type": "display_data"
    },
    {
     "data": {
      "text/plain": [
       "0       2018\n",
       "80         3\n",
       "205        2\n",
       "436        1\n",
       "108        1\n",
       "114        1\n",
       "120        1\n",
       "140        1\n",
       "144        1\n",
       "156        1\n",
       "234        1\n",
       "312        1\n",
       "360        1\n",
       "362        1\n",
       "384        1\n",
       "390        1\n",
       "697        1\n",
       "515        1\n",
       "512        1\n",
       "514        1\n",
       "528        1\n",
       "572        1\n",
       "1064       1\n",
       "53         1\n",
       "259        1\n",
       "371        1\n",
       "397        1\n",
       "473        1\n",
       "479        1\n",
       "513        1\n",
       "450        1\n",
       "Name: Low Qual Fin SF, dtype: int64"
      ]
     },
     "metadata": {},
     "output_type": "display_data"
    },
    {
     "name": "stdout",
     "output_type": "stream",
     "text": [
      "Feature name:Gr Liv Area\n",
      " Type:int64\n",
      "Isnull?:\n"
     ]
    },
    {
     "data": {
      "text/plain": [
       "0"
      ]
     },
     "metadata": {},
     "output_type": "display_data"
    },
    {
     "data": {
      "text/plain": [
       "count    2051.000000\n",
       "mean     1499.330083\n",
       "std       500.447829\n",
       "min       334.000000\n",
       "25%      1129.000000\n",
       "50%      1444.000000\n",
       "75%      1728.500000\n",
       "max      5642.000000\n",
       "Name: Gr Liv Area, dtype: float64"
      ]
     },
     "metadata": {},
     "output_type": "display_data"
    },
    {
     "data": {
      "text/plain": [
       "864     25\n",
       "1040    20\n",
       "1092    19\n",
       "1200    16\n",
       "1456    15\n",
       "912     11\n",
       "988     10\n",
       "894     10\n",
       "1337     9\n",
       "987      9\n",
       "960      9\n",
       "816      9\n",
       "1728     9\n",
       "1344     8\n",
       "1652     8\n",
       "936      8\n",
       "1479     8\n",
       "1152     7\n",
       "1656     7\n",
       "848      7\n",
       "1422     7\n",
       "1324     7\n",
       "990      7\n",
       "1768     6\n",
       "1362     6\n",
       "1792     6\n",
       "1694     6\n",
       "1072     6\n",
       "1224     6\n",
       "1680     6\n",
       "        ..\n",
       "2168     1\n",
       "2158     1\n",
       "2156     1\n",
       "2154     1\n",
       "2296     1\n",
       "2322     1\n",
       "2538     1\n",
       "2334     1\n",
       "2524     1\n",
       "2504     1\n",
       "2500     1\n",
       "2492     1\n",
       "2490     1\n",
       "2482     1\n",
       "2480     1\n",
       "2466     1\n",
       "2464     1\n",
       "2462     1\n",
       "2454     1\n",
       "2450     1\n",
       "2418     1\n",
       "2402     1\n",
       "2400     1\n",
       "2380     1\n",
       "2364     1\n",
       "2362     1\n",
       "2358     1\n",
       "2350     1\n",
       "2338     1\n",
       "2049     1\n",
       "Name: Gr Liv Area, Length: 1053, dtype: int64"
      ]
     },
     "metadata": {},
     "output_type": "display_data"
    },
    {
     "name": "stdout",
     "output_type": "stream",
     "text": [
      "Feature name:Bsmt Full Bath\n",
      " Type:float64\n",
      "Isnull?:\n"
     ]
    },
    {
     "data": {
      "text/plain": [
       "2"
      ]
     },
     "metadata": {},
     "output_type": "display_data"
    },
    {
     "data": {
      "text/plain": [
       "count    2049.000000\n",
       "mean        0.427526\n",
       "std         0.522673\n",
       "min         0.000000\n",
       "25%         0.000000\n",
       "50%         0.000000\n",
       "75%         1.000000\n",
       "max         3.000000\n",
       "Name: Bsmt Full Bath, dtype: float64"
      ]
     },
     "metadata": {},
     "output_type": "display_data"
    },
    {
     "data": {
      "text/plain": [
       "0.0    1200\n",
       "1.0     824\n",
       "2.0      23\n",
       "3.0       2\n",
       "Name: Bsmt Full Bath, dtype: int64"
      ]
     },
     "metadata": {},
     "output_type": "display_data"
    },
    {
     "name": "stdout",
     "output_type": "stream",
     "text": [
      "Feature name:Bsmt Half Bath\n",
      " Type:float64\n",
      "Isnull?:\n"
     ]
    },
    {
     "data": {
      "text/plain": [
       "2"
      ]
     },
     "metadata": {},
     "output_type": "display_data"
    },
    {
     "data": {
      "text/plain": [
       "count    2049.000000\n",
       "mean        0.063446\n",
       "std         0.251705\n",
       "min         0.000000\n",
       "25%         0.000000\n",
       "50%         0.000000\n",
       "75%         0.000000\n",
       "max         2.000000\n",
       "Name: Bsmt Half Bath, dtype: float64"
      ]
     },
     "metadata": {},
     "output_type": "display_data"
    },
    {
     "data": {
      "text/plain": [
       "0.0    1923\n",
       "1.0     122\n",
       "2.0       4\n",
       "Name: Bsmt Half Bath, dtype: int64"
      ]
     },
     "metadata": {},
     "output_type": "display_data"
    },
    {
     "name": "stdout",
     "output_type": "stream",
     "text": [
      "Feature name:Full Bath\n",
      " Type:int64\n",
      "Isnull?:\n"
     ]
    },
    {
     "data": {
      "text/plain": [
       "0"
      ]
     },
     "metadata": {},
     "output_type": "display_data"
    },
    {
     "data": {
      "text/plain": [
       "count    2051.000000\n",
       "mean        1.577279\n",
       "std         0.549279\n",
       "min         0.000000\n",
       "25%         1.000000\n",
       "50%         2.000000\n",
       "75%         2.000000\n",
       "max         4.000000\n",
       "Name: Full Bath, dtype: float64"
      ]
     },
     "metadata": {},
     "output_type": "display_data"
    },
    {
     "data": {
      "text/plain": [
       "2    1096\n",
       "1     900\n",
       "3      45\n",
       "0       8\n",
       "4       2\n",
       "Name: Full Bath, dtype: int64"
      ]
     },
     "metadata": {},
     "output_type": "display_data"
    },
    {
     "name": "stdout",
     "output_type": "stream",
     "text": [
      "Feature name:Half Bath\n",
      " Type:int64\n",
      "Isnull?:\n"
     ]
    },
    {
     "data": {
      "text/plain": [
       "0"
      ]
     },
     "metadata": {},
     "output_type": "display_data"
    },
    {
     "data": {
      "text/plain": [
       "count    2051.000000\n",
       "mean        0.371039\n",
       "std         0.501043\n",
       "min         0.000000\n",
       "25%         0.000000\n",
       "50%         0.000000\n",
       "75%         1.000000\n",
       "max         2.000000\n",
       "Name: Half Bath, dtype: float64"
      ]
     },
     "metadata": {},
     "output_type": "display_data"
    },
    {
     "data": {
      "text/plain": [
       "0    1308\n",
       "1     725\n",
       "2      18\n",
       "Name: Half Bath, dtype: int64"
      ]
     },
     "metadata": {},
     "output_type": "display_data"
    },
    {
     "name": "stdout",
     "output_type": "stream",
     "text": [
      "Feature name:Bedroom AbvGr\n",
      " Type:int64\n",
      "Isnull?:\n"
     ]
    },
    {
     "data": {
      "text/plain": [
       "0"
      ]
     },
     "metadata": {},
     "output_type": "display_data"
    },
    {
     "data": {
      "text/plain": [
       "count    2051.000000\n",
       "mean        2.843491\n",
       "std         0.826618\n",
       "min         0.000000\n",
       "25%         2.000000\n",
       "50%         3.000000\n",
       "75%         3.000000\n",
       "max         8.000000\n",
       "Name: Bedroom AbvGr, dtype: float64"
      ]
     },
     "metadata": {},
     "output_type": "display_data"
    },
    {
     "data": {
      "text/plain": [
       "3    1108\n",
       "2     544\n",
       "4     265\n",
       "1      75\n",
       "5      41\n",
       "6      12\n",
       "0       5\n",
       "8       1\n",
       "Name: Bedroom AbvGr, dtype: int64"
      ]
     },
     "metadata": {},
     "output_type": "display_data"
    },
    {
     "name": "stdout",
     "output_type": "stream",
     "text": [
      "Feature name:Kitchen AbvGr\n",
      " Type:int64\n",
      "Isnull?:\n"
     ]
    },
    {
     "data": {
      "text/plain": [
       "0"
      ]
     },
     "metadata": {},
     "output_type": "display_data"
    },
    {
     "data": {
      "text/plain": [
       "count    2051.000000\n",
       "mean        1.042906\n",
       "std         0.209790\n",
       "min         0.000000\n",
       "25%         1.000000\n",
       "50%         1.000000\n",
       "75%         1.000000\n",
       "max         3.000000\n",
       "Name: Kitchen AbvGr, dtype: float64"
      ]
     },
     "metadata": {},
     "output_type": "display_data"
    },
    {
     "data": {
      "text/plain": [
       "1    1960\n",
       "2      88\n",
       "0       2\n",
       "3       1\n",
       "Name: Kitchen AbvGr, dtype: int64"
      ]
     },
     "metadata": {},
     "output_type": "display_data"
    },
    {
     "name": "stdout",
     "output_type": "stream",
     "text": [
      "Feature name:Kitchen Qual\n",
      " Type:object\n",
      "Isnull?:\n"
     ]
    },
    {
     "data": {
      "text/plain": [
       "0"
      ]
     },
     "metadata": {},
     "output_type": "display_data"
    },
    {
     "data": {
      "text/plain": [
       "count     2051\n",
       "unique       4\n",
       "top         TA\n",
       "freq      1047\n",
       "Name: Kitchen Qual, dtype: object"
      ]
     },
     "metadata": {},
     "output_type": "display_data"
    },
    {
     "data": {
      "text/plain": [
       "TA    1047\n",
       "Gd     806\n",
       "Ex     151\n",
       "Fa      47\n",
       "Name: Kitchen Qual, dtype: int64"
      ]
     },
     "metadata": {},
     "output_type": "display_data"
    },
    {
     "name": "stdout",
     "output_type": "stream",
     "text": [
      "Feature name:TotRms AbvGrd\n",
      " Type:int64\n",
      "Isnull?:\n"
     ]
    },
    {
     "data": {
      "text/plain": [
       "0"
      ]
     },
     "metadata": {},
     "output_type": "display_data"
    },
    {
     "data": {
      "text/plain": [
       "count    2051.000000\n",
       "mean        6.435885\n",
       "std         1.560225\n",
       "min         2.000000\n",
       "25%         5.000000\n",
       "50%         6.000000\n",
       "75%         7.000000\n",
       "max        15.000000\n",
       "Name: TotRms AbvGrd, dtype: float64"
      ]
     },
     "metadata": {},
     "output_type": "display_data"
    },
    {
     "data": {
      "text/plain": [
       "6     597\n",
       "7     475\n",
       "5     407\n",
       "8     228\n",
       "4     146\n",
       "9      98\n",
       "10     49\n",
       "11     22\n",
       "12     13\n",
       "3      12\n",
       "15      1\n",
       "13      1\n",
       "14      1\n",
       "2       1\n",
       "Name: TotRms AbvGrd, dtype: int64"
      ]
     },
     "metadata": {},
     "output_type": "display_data"
    },
    {
     "name": "stdout",
     "output_type": "stream",
     "text": [
      "Feature name:Functional\n",
      " Type:object\n",
      "Isnull?:\n"
     ]
    },
    {
     "data": {
      "text/plain": [
       "0"
      ]
     },
     "metadata": {},
     "output_type": "display_data"
    },
    {
     "data": {
      "text/plain": [
       "count     2051\n",
       "unique       8\n",
       "top        Typ\n",
       "freq      1915\n",
       "Name: Functional, dtype: object"
      ]
     },
     "metadata": {},
     "output_type": "display_data"
    },
    {
     "data": {
      "text/plain": [
       "Typ     1915\n",
       "Min1      42\n",
       "Min2      42\n",
       "Mod       29\n",
       "Maj1      12\n",
       "Maj2       7\n",
       "Sal        2\n",
       "Sev        2\n",
       "Name: Functional, dtype: int64"
      ]
     },
     "metadata": {},
     "output_type": "display_data"
    },
    {
     "name": "stdout",
     "output_type": "stream",
     "text": [
      "Feature name:Fireplaces\n",
      " Type:int64\n",
      "Isnull?:\n"
     ]
    },
    {
     "data": {
      "text/plain": [
       "0"
      ]
     },
     "metadata": {},
     "output_type": "display_data"
    },
    {
     "data": {
      "text/plain": [
       "count    2051.000000\n",
       "mean        0.590931\n",
       "std         0.638516\n",
       "min         0.000000\n",
       "25%         0.000000\n",
       "50%         1.000000\n",
       "75%         1.000000\n",
       "max         4.000000\n",
       "Name: Fireplaces, dtype: float64"
      ]
     },
     "metadata": {},
     "output_type": "display_data"
    },
    {
     "data": {
      "text/plain": [
       "0    1000\n",
       "1     898\n",
       "2     146\n",
       "3       6\n",
       "4       1\n",
       "Name: Fireplaces, dtype: int64"
      ]
     },
     "metadata": {},
     "output_type": "display_data"
    },
    {
     "name": "stdout",
     "output_type": "stream",
     "text": [
      "Feature name:Fireplace Qu\n",
      " Type:object\n",
      "Isnull?:\n"
     ]
    },
    {
     "data": {
      "text/plain": [
       "1000"
      ]
     },
     "metadata": {},
     "output_type": "display_data"
    },
    {
     "data": {
      "text/plain": [
       "count     1051\n",
       "unique       5\n",
       "top         Gd\n",
       "freq       523\n",
       "Name: Fireplace Qu, dtype: object"
      ]
     },
     "metadata": {},
     "output_type": "display_data"
    },
    {
     "data": {
      "text/plain": [
       "Gd    523\n",
       "TA    407\n",
       "Fa     59\n",
       "Ex     31\n",
       "Po     31\n",
       "Name: Fireplace Qu, dtype: int64"
      ]
     },
     "metadata": {},
     "output_type": "display_data"
    },
    {
     "name": "stdout",
     "output_type": "stream",
     "text": [
      "Feature name:Garage Type\n",
      " Type:object\n",
      "Isnull?:\n"
     ]
    },
    {
     "data": {
      "text/plain": [
       "113"
      ]
     },
     "metadata": {},
     "output_type": "display_data"
    },
    {
     "data": {
      "text/plain": [
       "count       1938\n",
       "unique         6\n",
       "top       Attchd\n",
       "freq        1213\n",
       "Name: Garage Type, dtype: object"
      ]
     },
     "metadata": {},
     "output_type": "display_data"
    },
    {
     "data": {
      "text/plain": [
       "Attchd     1213\n",
       "Detchd      536\n",
       "BuiltIn     132\n",
       "Basment      27\n",
       "2Types       19\n",
       "CarPort      11\n",
       "Name: Garage Type, dtype: int64"
      ]
     },
     "metadata": {},
     "output_type": "display_data"
    },
    {
     "name": "stdout",
     "output_type": "stream",
     "text": [
      "Feature name:Garage Yr Blt\n",
      " Type:float64\n",
      "Isnull?:\n"
     ]
    },
    {
     "data": {
      "text/plain": [
       "114"
      ]
     },
     "metadata": {},
     "output_type": "display_data"
    },
    {
     "data": {
      "text/plain": [
       "count    1937.000000\n",
       "mean     1978.707796\n",
       "std        25.441094\n",
       "min      1895.000000\n",
       "25%      1961.000000\n",
       "50%      1980.000000\n",
       "75%      2002.000000\n",
       "max      2207.000000\n",
       "Name: Garage Yr Blt, dtype: float64"
      ]
     },
     "metadata": {},
     "output_type": "display_data"
    },
    {
     "data": {
      "text/plain": [
       "2005.0    105\n",
       "2007.0     84\n",
       "2006.0     80\n",
       "2004.0     72\n",
       "2003.0     66\n",
       "1977.0     46\n",
       "1998.0     45\n",
       "2008.0     44\n",
       "2000.0     41\n",
       "2002.0     40\n",
       "1999.0     39\n",
       "1976.0     35\n",
       "1993.0     34\n",
       "1978.0     33\n",
       "1958.0     32\n",
       "1950.0     32\n",
       "1968.0     32\n",
       "1996.0     31\n",
       "1956.0     31\n",
       "1966.0     29\n",
       "2001.0     27\n",
       "1965.0     27\n",
       "1995.0     26\n",
       "1967.0     26\n",
       "1997.0     26\n",
       "1994.0     25\n",
       "1964.0     25\n",
       "1962.0     25\n",
       "1975.0     25\n",
       "1979.0     25\n",
       "         ... \n",
       "1922.0      6\n",
       "1925.0      6\n",
       "1938.0      6\n",
       "1982.0      6\n",
       "1942.0      6\n",
       "1928.0      6\n",
       "1946.0      5\n",
       "1910.0      5\n",
       "1916.0      5\n",
       "1923.0      5\n",
       "1921.0      4\n",
       "1927.0      4\n",
       "1937.0      4\n",
       "1915.0      4\n",
       "1924.0      4\n",
       "1931.0      3\n",
       "1900.0      3\n",
       "1947.0      3\n",
       "1914.0      2\n",
       "2010.0      2\n",
       "1929.0      2\n",
       "1934.0      2\n",
       "1932.0      2\n",
       "2207.0      1\n",
       "1933.0      1\n",
       "1917.0      1\n",
       "1919.0      1\n",
       "1896.0      1\n",
       "1895.0      1\n",
       "1918.0      1\n",
       "Name: Garage Yr Blt, Length: 100, dtype: int64"
      ]
     },
     "metadata": {},
     "output_type": "display_data"
    },
    {
     "name": "stdout",
     "output_type": "stream",
     "text": [
      "Feature name:Garage Finish\n",
      " Type:object\n",
      "Isnull?:\n"
     ]
    },
    {
     "data": {
      "text/plain": [
       "114"
      ]
     },
     "metadata": {},
     "output_type": "display_data"
    },
    {
     "data": {
      "text/plain": [
       "count     1937\n",
       "unique       3\n",
       "top        Unf\n",
       "freq       849\n",
       "Name: Garage Finish, dtype: object"
      ]
     },
     "metadata": {},
     "output_type": "display_data"
    },
    {
     "data": {
      "text/plain": [
       "Unf    849\n",
       "RFn    579\n",
       "Fin    509\n",
       "Name: Garage Finish, dtype: int64"
      ]
     },
     "metadata": {},
     "output_type": "display_data"
    },
    {
     "name": "stdout",
     "output_type": "stream",
     "text": [
      "Feature name:Garage Cars\n",
      " Type:float64\n",
      "Isnull?:\n"
     ]
    },
    {
     "data": {
      "text/plain": [
       "1"
      ]
     },
     "metadata": {},
     "output_type": "display_data"
    },
    {
     "data": {
      "text/plain": [
       "count    2050.000000\n",
       "mean        1.776585\n",
       "std         0.764537\n",
       "min         0.000000\n",
       "25%         1.000000\n",
       "50%         2.000000\n",
       "75%         2.000000\n",
       "max         5.000000\n",
       "Name: Garage Cars, dtype: float64"
      ]
     },
     "metadata": {},
     "output_type": "display_data"
    },
    {
     "data": {
      "text/plain": [
       "2.0    1136\n",
       "1.0     524\n",
       "3.0     263\n",
       "0.0     113\n",
       "4.0      13\n",
       "5.0       1\n",
       "Name: Garage Cars, dtype: int64"
      ]
     },
     "metadata": {},
     "output_type": "display_data"
    },
    {
     "name": "stdout",
     "output_type": "stream",
     "text": [
      "Feature name:Garage Area\n",
      " Type:float64\n",
      "Isnull?:\n"
     ]
    },
    {
     "data": {
      "text/plain": [
       "1"
      ]
     },
     "metadata": {},
     "output_type": "display_data"
    },
    {
     "data": {
      "text/plain": [
       "count    2050.000000\n",
       "mean      473.671707\n",
       "std       215.934561\n",
       "min         0.000000\n",
       "25%       319.000000\n",
       "50%       480.000000\n",
       "75%       576.000000\n",
       "max      1418.000000\n",
       "Name: Garage Area, dtype: float64"
      ]
     },
     "metadata": {},
     "output_type": "display_data"
    },
    {
     "data": {
      "text/plain": [
       "0.0       113\n",
       "440.0      70\n",
       "576.0      69\n",
       "484.0      52\n",
       "528.0      46\n",
       "240.0      45\n",
       "400.0      43\n",
       "288.0      43\n",
       "480.0      39\n",
       "264.0      33\n",
       "308.0      32\n",
       "280.0      24\n",
       "504.0      18\n",
       "420.0      18\n",
       "336.0      18\n",
       "462.0      17\n",
       "672.0      17\n",
       "216.0      16\n",
       "312.0      16\n",
       "572.0      15\n",
       "180.0      14\n",
       "624.0      14\n",
       "550.0      13\n",
       "384.0      13\n",
       "506.0      13\n",
       "478.0      13\n",
       "660.0      12\n",
       "564.0      12\n",
       "352.0      12\n",
       "525.0      12\n",
       "         ... \n",
       "865.0       1\n",
       "449.0       1\n",
       "317.0       1\n",
       "457.0       1\n",
       "469.0       1\n",
       "766.0       1\n",
       "770.0       1\n",
       "1017.0      1\n",
       "605.0       1\n",
       "1085.0      1\n",
       "242.0       1\n",
       "226.0       1\n",
       "830.0       1\n",
       "752.0       1\n",
       "301.0       1\n",
       "273.0       1\n",
       "983.0       1\n",
       "719.0       1\n",
       "715.0       1\n",
       "1154.0      1\n",
       "927.0       1\n",
       "475.0       1\n",
       "356.0       1\n",
       "324.0       1\n",
       "408.0       1\n",
       "406.0       1\n",
       "309.0       1\n",
       "580.0       1\n",
       "1184.0      1\n",
       "557.0       1\n",
       "Name: Garage Area, Length: 514, dtype: int64"
      ]
     },
     "metadata": {},
     "output_type": "display_data"
    },
    {
     "name": "stdout",
     "output_type": "stream",
     "text": [
      "Feature name:Garage Qual\n",
      " Type:object\n",
      "Isnull?:\n"
     ]
    },
    {
     "data": {
      "text/plain": [
       "114"
      ]
     },
     "metadata": {},
     "output_type": "display_data"
    },
    {
     "data": {
      "text/plain": [
       "count     1937\n",
       "unique       5\n",
       "top         TA\n",
       "freq      1832\n",
       "Name: Garage Qual, dtype: object"
      ]
     },
     "metadata": {},
     "output_type": "display_data"
    },
    {
     "data": {
      "text/plain": [
       "TA    1832\n",
       "Fa      82\n",
       "Gd      18\n",
       "Ex       3\n",
       "Po       2\n",
       "Name: Garage Qual, dtype: int64"
      ]
     },
     "metadata": {},
     "output_type": "display_data"
    },
    {
     "name": "stdout",
     "output_type": "stream",
     "text": [
      "Feature name:Garage Cond\n",
      " Type:object\n",
      "Isnull?:\n"
     ]
    },
    {
     "data": {
      "text/plain": [
       "114"
      ]
     },
     "metadata": {},
     "output_type": "display_data"
    },
    {
     "data": {
      "text/plain": [
       "count     1937\n",
       "unique       5\n",
       "top         TA\n",
       "freq      1868\n",
       "Name: Garage Cond, dtype: object"
      ]
     },
     "metadata": {},
     "output_type": "display_data"
    },
    {
     "data": {
      "text/plain": [
       "TA    1868\n",
       "Fa      47\n",
       "Gd      12\n",
       "Po       8\n",
       "Ex       2\n",
       "Name: Garage Cond, dtype: int64"
      ]
     },
     "metadata": {},
     "output_type": "display_data"
    },
    {
     "name": "stdout",
     "output_type": "stream",
     "text": [
      "Feature name:Paved Drive\n",
      " Type:object\n",
      "Isnull?:\n"
     ]
    },
    {
     "data": {
      "text/plain": [
       "0"
      ]
     },
     "metadata": {},
     "output_type": "display_data"
    },
    {
     "data": {
      "text/plain": [
       "count     2051\n",
       "unique       3\n",
       "top          Y\n",
       "freq      1861\n",
       "Name: Paved Drive, dtype: object"
      ]
     },
     "metadata": {},
     "output_type": "display_data"
    },
    {
     "data": {
      "text/plain": [
       "Y    1861\n",
       "N     151\n",
       "P      39\n",
       "Name: Paved Drive, dtype: int64"
      ]
     },
     "metadata": {},
     "output_type": "display_data"
    },
    {
     "name": "stdout",
     "output_type": "stream",
     "text": [
      "Feature name:Wood Deck SF\n",
      " Type:int64\n",
      "Isnull?:\n"
     ]
    },
    {
     "data": {
      "text/plain": [
       "0"
      ]
     },
     "metadata": {},
     "output_type": "display_data"
    },
    {
     "data": {
      "text/plain": [
       "count    2051.000000\n",
       "mean       93.833740\n",
       "std       128.549416\n",
       "min         0.000000\n",
       "25%         0.000000\n",
       "50%         0.000000\n",
       "75%       168.000000\n",
       "max      1424.000000\n",
       "Name: Wood Deck SF, dtype: float64"
      ]
     },
     "metadata": {},
     "output_type": "display_data"
    },
    {
     "data": {
      "text/plain": [
       "0       1075\n",
       "100       53\n",
       "144       46\n",
       "192       43\n",
       "120       40\n",
       "168       36\n",
       "140       23\n",
       "224       17\n",
       "160       14\n",
       "143       13\n",
       "240       12\n",
       "216       12\n",
       "200       10\n",
       "264        8\n",
       "280        8\n",
       "208        8\n",
       "108        8\n",
       "156        8\n",
       "48         8\n",
       "132        7\n",
       "196        7\n",
       "112        7\n",
       "136        7\n",
       "128        7\n",
       "210        7\n",
       "188        7\n",
       "252        7\n",
       "182        6\n",
       "203        6\n",
       "158        6\n",
       "        ... \n",
       "153        1\n",
       "131        1\n",
       "129        1\n",
       "123        1\n",
       "121        1\n",
       "119        1\n",
       "115        1\n",
       "103        1\n",
       "99         1\n",
       "97         1\n",
       "87         1\n",
       "75         1\n",
       "73         1\n",
       "51         1\n",
       "536        1\n",
       "45         1\n",
       "35         1\n",
       "33         1\n",
       "1424       1\n",
       "870        1\n",
       "736        1\n",
       "728        1\n",
       "684        1\n",
       "668        1\n",
       "646        1\n",
       "586        1\n",
       "576        1\n",
       "550        1\n",
       "546        1\n",
       "394        1\n",
       "Name: Wood Deck SF, Length: 322, dtype: int64"
      ]
     },
     "metadata": {},
     "output_type": "display_data"
    },
    {
     "name": "stdout",
     "output_type": "stream",
     "text": [
      "Feature name:Open Porch SF\n",
      " Type:int64\n",
      "Isnull?:\n"
     ]
    },
    {
     "data": {
      "text/plain": [
       "0"
      ]
     },
     "metadata": {},
     "output_type": "display_data"
    },
    {
     "data": {
      "text/plain": [
       "count    2051.000000\n",
       "mean       47.556802\n",
       "std        66.747241\n",
       "min         0.000000\n",
       "25%         0.000000\n",
       "50%        27.000000\n",
       "75%        70.000000\n",
       "max       547.000000\n",
       "Name: Open Porch SF, dtype: float64"
      ]
     },
     "metadata": {},
     "output_type": "display_data"
    },
    {
     "data": {
      "text/plain": [
       "0      912\n",
       "48      40\n",
       "36      38\n",
       "40      34\n",
       "32      29\n",
       "20      24\n",
       "24      23\n",
       "60      23\n",
       "30      23\n",
       "45      20\n",
       "50      20\n",
       "28      18\n",
       "120     16\n",
       "72      16\n",
       "44      15\n",
       "39      15\n",
       "64      15\n",
       "35      15\n",
       "96      14\n",
       "84      14\n",
       "68      13\n",
       "54      13\n",
       "70      12\n",
       "80      12\n",
       "75      11\n",
       "90      11\n",
       "38      11\n",
       "56      11\n",
       "26      11\n",
       "16      11\n",
       "      ... \n",
       "174      1\n",
       "182      1\n",
       "190      1\n",
       "198      1\n",
       "214      1\n",
       "224      1\n",
       "226      1\n",
       "236      1\n",
       "244      1\n",
       "252      1\n",
       "256      1\n",
       "258      1\n",
       "260      1\n",
       "266      1\n",
       "274      1\n",
       "523      1\n",
       "278      1\n",
       "282      1\n",
       "288      1\n",
       "292      1\n",
       "324      1\n",
       "364      1\n",
       "368      1\n",
       "372      1\n",
       "418      1\n",
       "444      1\n",
       "484      1\n",
       "502      1\n",
       "15       1\n",
       "276      1\n",
       "Name: Open Porch SF, Length: 223, dtype: int64"
      ]
     },
     "metadata": {},
     "output_type": "display_data"
    },
    {
     "name": "stdout",
     "output_type": "stream",
     "text": [
      "Feature name:Enclosed Porch\n",
      " Type:int64\n",
      "Isnull?:\n"
     ]
    },
    {
     "data": {
      "text/plain": [
       "0"
      ]
     },
     "metadata": {},
     "output_type": "display_data"
    },
    {
     "data": {
      "text/plain": [
       "count    2051.000000\n",
       "mean       22.571916\n",
       "std        59.845110\n",
       "min         0.000000\n",
       "25%         0.000000\n",
       "50%         0.000000\n",
       "75%         0.000000\n",
       "max       432.000000\n",
       "Name: Enclosed Porch, dtype: float64"
      ]
     },
     "metadata": {},
     "output_type": "display_data"
    },
    {
     "data": {
      "text/plain": [
       "0      1724\n",
       "112      13\n",
       "96       10\n",
       "216       6\n",
       "84        6\n",
       "40        6\n",
       "144       6\n",
       "192       6\n",
       "128       6\n",
       "120       6\n",
       "176       5\n",
       "168       5\n",
       "160       5\n",
       "156       5\n",
       "150       5\n",
       "148       5\n",
       "116       5\n",
       "100       5\n",
       "180       5\n",
       "36        5\n",
       "164       4\n",
       "56        4\n",
       "60        4\n",
       "280       4\n",
       "77        4\n",
       "70        4\n",
       "30        3\n",
       "64        3\n",
       "212       3\n",
       "205       3\n",
       "       ... \n",
       "318       1\n",
       "256       1\n",
       "260       1\n",
       "296       1\n",
       "268       1\n",
       "272       1\n",
       "208       1\n",
       "204       1\n",
       "202       1\n",
       "37        1\n",
       "294       1\n",
       "113       1\n",
       "109       1\n",
       "101       1\n",
       "99        1\n",
       "87        1\n",
       "162       1\n",
       "75        1\n",
       "67        1\n",
       "170       1\n",
       "172       1\n",
       "174       1\n",
       "57        1\n",
       "55        1\n",
       "43        1\n",
       "190       1\n",
       "194       1\n",
       "196       1\n",
       "198       1\n",
       "301       1\n",
       "Name: Enclosed Porch, Length: 159, dtype: int64"
      ]
     },
     "metadata": {},
     "output_type": "display_data"
    },
    {
     "name": "stdout",
     "output_type": "stream",
     "text": [
      "Feature name:3Ssn Porch\n",
      " Type:int64\n",
      "Isnull?:\n"
     ]
    },
    {
     "data": {
      "text/plain": [
       "0"
      ]
     },
     "metadata": {},
     "output_type": "display_data"
    },
    {
     "data": {
      "text/plain": [
       "count    2051.000000\n",
       "mean        2.591419\n",
       "std        25.229615\n",
       "min         0.000000\n",
       "25%         0.000000\n",
       "50%         0.000000\n",
       "75%         0.000000\n",
       "max       508.000000\n",
       "Name: 3Ssn Porch, dtype: float64"
      ]
     },
     "metadata": {},
     "output_type": "display_data"
    },
    {
     "data": {
      "text/plain": [
       "0      2025\n",
       "153       3\n",
       "168       3\n",
       "144       2\n",
       "176       1\n",
       "86        1\n",
       "96        1\n",
       "120       1\n",
       "140       1\n",
       "150       1\n",
       "162       1\n",
       "407       1\n",
       "323       1\n",
       "182       1\n",
       "216       1\n",
       "224       1\n",
       "290       1\n",
       "304       1\n",
       "508       1\n",
       "245       1\n",
       "255       1\n",
       "180       1\n",
       "Name: 3Ssn Porch, dtype: int64"
      ]
     },
     "metadata": {},
     "output_type": "display_data"
    },
    {
     "name": "stdout",
     "output_type": "stream",
     "text": [
      "Feature name:Screen Porch\n",
      " Type:int64\n",
      "Isnull?:\n"
     ]
    },
    {
     "data": {
      "text/plain": [
       "0"
      ]
     },
     "metadata": {},
     "output_type": "display_data"
    },
    {
     "data": {
      "text/plain": [
       "count    2051.000000\n",
       "mean       16.511458\n",
       "std        57.374204\n",
       "min         0.000000\n",
       "25%         0.000000\n",
       "50%         0.000000\n",
       "75%         0.000000\n",
       "max       490.000000\n",
       "Name: Screen Porch, dtype: float64"
      ]
     },
     "metadata": {},
     "output_type": "display_data"
    },
    {
     "data": {
      "text/plain": [
       "0      1870\n",
       "144       9\n",
       "168       8\n",
       "180       7\n",
       "192       7\n",
       "224       6\n",
       "120       6\n",
       "216       5\n",
       "100       4\n",
       "225       3\n",
       "142       3\n",
       "182       3\n",
       "210       3\n",
       "189       3\n",
       "200       3\n",
       "288       3\n",
       "147       3\n",
       "126       3\n",
       "161       3\n",
       "155       3\n",
       "176       2\n",
       "112       2\n",
       "170       2\n",
       "95        2\n",
       "160       2\n",
       "156       2\n",
       "90        2\n",
       "140       2\n",
       "322       2\n",
       "240       2\n",
       "       ... \n",
       "280       1\n",
       "113       1\n",
       "312       1\n",
       "111       1\n",
       "348       1\n",
       "184       1\n",
       "374       1\n",
       "396       1\n",
       "410       1\n",
       "440       1\n",
       "480       1\n",
       "490       1\n",
       "266       1\n",
       "264       1\n",
       "260       1\n",
       "252       1\n",
       "291       1\n",
       "234       1\n",
       "115       1\n",
       "222       1\n",
       "220       1\n",
       "135       1\n",
       "141       1\n",
       "208       1\n",
       "204       1\n",
       "143       1\n",
       "198       1\n",
       "196       1\n",
       "190       1\n",
       "385       1\n",
       "Name: Screen Porch, Length: 100, dtype: int64"
      ]
     },
     "metadata": {},
     "output_type": "display_data"
    },
    {
     "name": "stdout",
     "output_type": "stream",
     "text": [
      "Feature name:Pool Area\n",
      " Type:int64\n",
      "Isnull?:\n"
     ]
    },
    {
     "data": {
      "text/plain": [
       "0"
      ]
     },
     "metadata": {},
     "output_type": "display_data"
    },
    {
     "data": {
      "text/plain": [
       "count    2051.000000\n",
       "mean        2.397855\n",
       "std        37.782570\n",
       "min         0.000000\n",
       "25%         0.000000\n",
       "50%         0.000000\n",
       "75%         0.000000\n",
       "max       800.000000\n",
       "Name: Pool Area, dtype: float64"
      ]
     },
     "metadata": {},
     "output_type": "display_data"
    },
    {
     "data": {
      "text/plain": [
       "0      2042\n",
       "561       1\n",
       "519       1\n",
       "800       1\n",
       "738       1\n",
       "648       1\n",
       "576       1\n",
       "480       1\n",
       "368       1\n",
       "228       1\n",
       "Name: Pool Area, dtype: int64"
      ]
     },
     "metadata": {},
     "output_type": "display_data"
    },
    {
     "name": "stdout",
     "output_type": "stream",
     "text": [
      "Feature name:Pool QC\n",
      " Type:object\n",
      "Isnull?:\n"
     ]
    },
    {
     "data": {
      "text/plain": [
       "2042"
      ]
     },
     "metadata": {},
     "output_type": "display_data"
    },
    {
     "data": {
      "text/plain": [
       "count      9\n",
       "unique     4\n",
       "top       Gd\n",
       "freq       4\n",
       "Name: Pool QC, dtype: object"
      ]
     },
     "metadata": {},
     "output_type": "display_data"
    },
    {
     "data": {
      "text/plain": [
       "Gd    4\n",
       "TA    2\n",
       "Fa    2\n",
       "Ex    1\n",
       "Name: Pool QC, dtype: int64"
      ]
     },
     "metadata": {},
     "output_type": "display_data"
    },
    {
     "name": "stdout",
     "output_type": "stream",
     "text": [
      "Feature name:Fence\n",
      " Type:object\n",
      "Isnull?:\n"
     ]
    },
    {
     "data": {
      "text/plain": [
       "1651"
      ]
     },
     "metadata": {},
     "output_type": "display_data"
    },
    {
     "data": {
      "text/plain": [
       "count       400\n",
       "unique        4\n",
       "top       MnPrv\n",
       "freq        227\n",
       "Name: Fence, dtype: object"
      ]
     },
     "metadata": {},
     "output_type": "display_data"
    },
    {
     "data": {
      "text/plain": [
       "MnPrv    227\n",
       "GdPrv     83\n",
       "GdWo      80\n",
       "MnWw      10\n",
       "Name: Fence, dtype: int64"
      ]
     },
     "metadata": {},
     "output_type": "display_data"
    },
    {
     "name": "stdout",
     "output_type": "stream",
     "text": [
      "Feature name:Misc Feature\n",
      " Type:object\n",
      "Isnull?:\n"
     ]
    },
    {
     "data": {
      "text/plain": [
       "1986"
      ]
     },
     "metadata": {},
     "output_type": "display_data"
    },
    {
     "data": {
      "text/plain": [
       "count       65\n",
       "unique       5\n",
       "top       Shed\n",
       "freq        56\n",
       "Name: Misc Feature, dtype: object"
      ]
     },
     "metadata": {},
     "output_type": "display_data"
    },
    {
     "data": {
      "text/plain": [
       "Shed    56\n",
       "Gar2     4\n",
       "Othr     3\n",
       "Elev     1\n",
       "TenC     1\n",
       "Name: Misc Feature, dtype: int64"
      ]
     },
     "metadata": {},
     "output_type": "display_data"
    },
    {
     "name": "stdout",
     "output_type": "stream",
     "text": [
      "Feature name:Misc Val\n",
      " Type:int64\n",
      "Isnull?:\n"
     ]
    },
    {
     "data": {
      "text/plain": [
       "0"
      ]
     },
     "metadata": {},
     "output_type": "display_data"
    },
    {
     "data": {
      "text/plain": [
       "count     2051.000000\n",
       "mean        51.574354\n",
       "std        573.393985\n",
       "min          0.000000\n",
       "25%          0.000000\n",
       "50%          0.000000\n",
       "75%          0.000000\n",
       "max      17000.000000\n",
       "Name: Misc Val, dtype: float64"
      ]
     },
     "metadata": {},
     "output_type": "display_data"
    },
    {
     "data": {
      "text/plain": [
       "0        1986\n",
       "400        12\n",
       "500         8\n",
       "600         6\n",
       "2000        5\n",
       "450         5\n",
       "700         4\n",
       "2500        2\n",
       "4500        2\n",
       "3000        2\n",
       "1200        2\n",
       "80          1\n",
       "8300        1\n",
       "12500       1\n",
       "460         1\n",
       "300         1\n",
       "54          1\n",
       "3500        1\n",
       "480         1\n",
       "650         1\n",
       "800         1\n",
       "900         1\n",
       "1150        1\n",
       "1300        1\n",
       "1500        1\n",
       "6500        1\n",
       "455         1\n",
       "17000       1\n",
       "Name: Misc Val, dtype: int64"
      ]
     },
     "metadata": {},
     "output_type": "display_data"
    },
    {
     "name": "stdout",
     "output_type": "stream",
     "text": [
      "Feature name:Mo Sold\n",
      " Type:int64\n",
      "Isnull?:\n"
     ]
    },
    {
     "data": {
      "text/plain": [
       "0"
      ]
     },
     "metadata": {},
     "output_type": "display_data"
    },
    {
     "data": {
      "text/plain": [
       "count    2051.000000\n",
       "mean        6.219893\n",
       "std         2.744736\n",
       "min         1.000000\n",
       "25%         4.000000\n",
       "50%         6.000000\n",
       "75%         8.000000\n",
       "max        12.000000\n",
       "Name: Mo Sold, dtype: float64"
      ]
     },
     "metadata": {},
     "output_type": "display_data"
    },
    {
     "data": {
      "text/plain": [
       "6     352\n",
       "7     303\n",
       "5     257\n",
       "4     208\n",
       "3     168\n",
       "8     167\n",
       "10    123\n",
       "9     109\n",
       "2     104\n",
       "11    103\n",
       "1      79\n",
       "12     78\n",
       "Name: Mo Sold, dtype: int64"
      ]
     },
     "metadata": {},
     "output_type": "display_data"
    },
    {
     "name": "stdout",
     "output_type": "stream",
     "text": [
      "Feature name:Yr Sold\n",
      " Type:int64\n",
      "Isnull?:\n"
     ]
    },
    {
     "data": {
      "text/plain": [
       "0"
      ]
     },
     "metadata": {},
     "output_type": "display_data"
    },
    {
     "data": {
      "text/plain": [
       "count    2051.000000\n",
       "mean     2007.775719\n",
       "std         1.312014\n",
       "min      2006.000000\n",
       "25%      2007.000000\n",
       "50%      2008.000000\n",
       "75%      2009.000000\n",
       "max      2010.000000\n",
       "Name: Yr Sold, dtype: float64"
      ]
     },
     "metadata": {},
     "output_type": "display_data"
    },
    {
     "data": {
      "text/plain": [
       "2007    498\n",
       "2009    446\n",
       "2006    438\n",
       "2008    435\n",
       "2010    234\n",
       "Name: Yr Sold, dtype: int64"
      ]
     },
     "metadata": {},
     "output_type": "display_data"
    },
    {
     "name": "stdout",
     "output_type": "stream",
     "text": [
      "Feature name:Sale Type\n",
      " Type:object\n",
      "Isnull?:\n"
     ]
    },
    {
     "data": {
      "text/plain": [
       "0"
      ]
     },
     "metadata": {},
     "output_type": "display_data"
    },
    {
     "data": {
      "text/plain": [
       "count     2051\n",
       "unique       9\n",
       "top        WD \n",
       "freq      1781\n",
       "Name: Sale Type, dtype: object"
      ]
     },
     "metadata": {},
     "output_type": "display_data"
    },
    {
     "data": {
      "text/plain": [
       "WD       1781\n",
       "New       160\n",
       "COD        63\n",
       "ConLD      17\n",
       "CWD        10\n",
       "ConLI       7\n",
       "ConLw       5\n",
       "Oth         4\n",
       "Con         4\n",
       "Name: Sale Type, dtype: int64"
      ]
     },
     "metadata": {},
     "output_type": "display_data"
    },
    {
     "name": "stdout",
     "output_type": "stream",
     "text": [
      "Feature name:SalePrice\n",
      " Type:int64\n",
      "Isnull?:\n"
     ]
    },
    {
     "data": {
      "text/plain": [
       "0"
      ]
     },
     "metadata": {},
     "output_type": "display_data"
    },
    {
     "data": {
      "text/plain": [
       "count      2051.000000\n",
       "mean     181469.701609\n",
       "std       79258.659352\n",
       "min       12789.000000\n",
       "25%      129825.000000\n",
       "50%      162500.000000\n",
       "75%      214000.000000\n",
       "max      611657.000000\n",
       "Name: SalePrice, dtype: float64"
      ]
     },
     "metadata": {},
     "output_type": "display_data"
    },
    {
     "data": {
      "text/plain": [
       "130000    25\n",
       "140000    22\n",
       "145000    20\n",
       "135000    19\n",
       "160000    16\n",
       "128000    16\n",
       "170000    16\n",
       "155000    15\n",
       "120000    15\n",
       "190000    14\n",
       "165000    13\n",
       "147000    13\n",
       "125000    13\n",
       "200000    13\n",
       "127000    12\n",
       "173000    12\n",
       "143000    12\n",
       "105000    12\n",
       "150000    12\n",
       "185000    12\n",
       "144000    11\n",
       "119000    11\n",
       "225000    11\n",
       "139000    11\n",
       "215000    11\n",
       "132000    10\n",
       "141000    10\n",
       "127500    10\n",
       "115000    10\n",
       "180000    10\n",
       "          ..\n",
       "35000      1\n",
       "116900     1\n",
       "215200     1\n",
       "159895     1\n",
       "202900     1\n",
       "194700     1\n",
       "293000     1\n",
       "200825     1\n",
       "195400     1\n",
       "174190     1\n",
       "149700     1\n",
       "375000     1\n",
       "199000     1\n",
       "139400     1\n",
       "293200     1\n",
       "264500     1\n",
       "153900     1\n",
       "332200     1\n",
       "57625      1\n",
       "223500     1\n",
       "112900     1\n",
       "178400     1\n",
       "155891     1\n",
       "221000     1\n",
       "137450     1\n",
       "289000     1\n",
       "129250     1\n",
       "76000      1\n",
       "206900     1\n",
       "169985     1\n",
       "Name: SalePrice, Length: 828, dtype: int64"
      ]
     },
     "metadata": {},
     "output_type": "display_data"
    }
   ],
   "source": [
    "#iterating through the features, was used to clean and identify abnormalities\n",
    "for featureset in featuresets:\n",
    "    for feature in featureset:\n",
    "        print('Feature name:{}\\n Type:{}\\nIsnull?:'.format(feature,df[feature].dtypes))\n",
    "        display(df[feature].isnull().sum())\n",
    "        display(df[feature].describe())\n",
    "        display(df[feature].value_counts())"
   ]
  },
  {
   "cell_type": "code",
   "execution_count": null,
   "metadata": {},
   "outputs": [],
   "source": []
  },
  {
   "cell_type": "markdown",
   "metadata": {
    "ExecuteTime": {
     "end_time": "2019-10-11T04:39:10.406340Z",
     "start_time": "2019-10-11T04:39:10.398277Z"
    }
   },
   "source": [
    "Lot frontage and Mas Vnr Type are missing values"
   ]
  },
  {
   "cell_type": "code",
   "execution_count": 8,
   "metadata": {
    "ExecuteTime": {
     "end_time": "2019-10-11T05:14:17.216975Z",
     "start_time": "2019-10-11T05:14:17.204296Z"
    }
   },
   "outputs": [],
   "source": [
    "df['Lot Frontage']=df['Lot Frontage'].fillna(0)\n",
    "df['Mas Vnr Type']=df['Mas Vnr Type'].fillna('None')\n",
    "df['Mas Vnr Type']=df['Mas Vnr Type'].fillna('None')\n",
    "df['Mas Vnr Area']=df['Mas Vnr Area'].fillna(0.0)"
   ]
  },
  {
   "cell_type": "code",
   "execution_count": 9,
   "metadata": {
    "ExecuteTime": {
     "end_time": "2019-10-11T05:14:17.249506Z",
     "start_time": "2019-10-11T05:14:17.220770Z"
    }
   },
   "outputs": [
    {
     "data": {
      "text/html": [
       "<div>\n",
       "<style scoped>\n",
       "    .dataframe tbody tr th:only-of-type {\n",
       "        vertical-align: middle;\n",
       "    }\n",
       "\n",
       "    .dataframe tbody tr th {\n",
       "        vertical-align: top;\n",
       "    }\n",
       "\n",
       "    .dataframe thead th {\n",
       "        text-align: right;\n",
       "    }\n",
       "</style>\n",
       "<table border=\"1\" class=\"dataframe\">\n",
       "  <thead>\n",
       "    <tr style=\"text-align: right;\">\n",
       "      <th></th>\n",
       "      <th>Roof Style</th>\n",
       "      <th>Roof Matl</th>\n",
       "      <th>Exterior 1st</th>\n",
       "      <th>Exterior 2nd</th>\n",
       "      <th>Mas Vnr Type</th>\n",
       "      <th>Mas Vnr Area</th>\n",
       "      <th>Exter Qual</th>\n",
       "      <th>Exter Cond</th>\n",
       "    </tr>\n",
       "  </thead>\n",
       "  <tbody>\n",
       "    <tr>\n",
       "      <th>765</th>\n",
       "      <td>Shed</td>\n",
       "      <td>CompShg</td>\n",
       "      <td>Plywood</td>\n",
       "      <td>Plywood</td>\n",
       "      <td>None</td>\n",
       "      <td>1.0</td>\n",
       "      <td>TA</td>\n",
       "      <td>TA</td>\n",
       "    </tr>\n",
       "    <tr>\n",
       "      <th>810</th>\n",
       "      <td>Gable</td>\n",
       "      <td>CompShg</td>\n",
       "      <td>VinylSd</td>\n",
       "      <td>VinylSd</td>\n",
       "      <td>None</td>\n",
       "      <td>288.0</td>\n",
       "      <td>TA</td>\n",
       "      <td>TA</td>\n",
       "    </tr>\n",
       "    <tr>\n",
       "      <th>1148</th>\n",
       "      <td>Gable</td>\n",
       "      <td>CompShg</td>\n",
       "      <td>Wd Sdng</td>\n",
       "      <td>Wd Sdng</td>\n",
       "      <td>None</td>\n",
       "      <td>1.0</td>\n",
       "      <td>TA</td>\n",
       "      <td>TA</td>\n",
       "    </tr>\n",
       "    <tr>\n",
       "      <th>1684</th>\n",
       "      <td>Gable</td>\n",
       "      <td>CompShg</td>\n",
       "      <td>MetalSd</td>\n",
       "      <td>MetalSd</td>\n",
       "      <td>None</td>\n",
       "      <td>1.0</td>\n",
       "      <td>TA</td>\n",
       "      <td>TA</td>\n",
       "    </tr>\n",
       "    <tr>\n",
       "      <th>1832</th>\n",
       "      <td>Gable</td>\n",
       "      <td>CompShg</td>\n",
       "      <td>VinylSd</td>\n",
       "      <td>VinylSd</td>\n",
       "      <td>None</td>\n",
       "      <td>344.0</td>\n",
       "      <td>Gd</td>\n",
       "      <td>TA</td>\n",
       "    </tr>\n",
       "  </tbody>\n",
       "</table>\n",
       "</div>"
      ],
      "text/plain": [
       "     Roof Style Roof Matl Exterior 1st Exterior 2nd Mas Vnr Type  \\\n",
       "765        Shed   CompShg      Plywood      Plywood         None   \n",
       "810       Gable   CompShg      VinylSd      VinylSd         None   \n",
       "1148      Gable   CompShg      Wd Sdng      Wd Sdng         None   \n",
       "1684      Gable   CompShg      MetalSd      MetalSd         None   \n",
       "1832      Gable   CompShg      VinylSd      VinylSd         None   \n",
       "\n",
       "      Mas Vnr Area Exter Qual Exter Cond  \n",
       "765            1.0         TA         TA  \n",
       "810          288.0         TA         TA  \n",
       "1148           1.0         TA         TA  \n",
       "1684           1.0         TA         TA  \n",
       "1832         344.0         Gd         TA  "
      ]
     },
     "execution_count": 9,
     "metadata": {},
     "output_type": "execute_result"
    }
   ],
   "source": [
    "df[(df['Mas Vnr Area']!=0.0)&(df['Mas Vnr Type']=='None')][roof_f]\n",
    "#to drop? "
   ]
  },
  {
   "cell_type": "code",
   "execution_count": 10,
   "metadata": {
    "ExecuteTime": {
     "end_time": "2019-10-11T05:14:17.272198Z",
     "start_time": "2019-10-11T05:14:17.254094Z"
    },
    "scrolled": true
   },
   "outputs": [
    {
     "data": {
      "text/html": [
       "<div>\n",
       "<style scoped>\n",
       "    .dataframe tbody tr th:only-of-type {\n",
       "        vertical-align: middle;\n",
       "    }\n",
       "\n",
       "    .dataframe tbody tr th {\n",
       "        vertical-align: top;\n",
       "    }\n",
       "\n",
       "    .dataframe thead th {\n",
       "        text-align: right;\n",
       "    }\n",
       "</style>\n",
       "<table border=\"1\" class=\"dataframe\">\n",
       "  <thead>\n",
       "    <tr style=\"text-align: right;\">\n",
       "      <th></th>\n",
       "      <th>Mas Vnr Area</th>\n",
       "      <th>Mas Vnr Type</th>\n",
       "    </tr>\n",
       "  </thead>\n",
       "  <tbody>\n",
       "    <tr>\n",
       "      <th>669</th>\n",
       "      <td>0.0</td>\n",
       "      <td>BrkFace</td>\n",
       "    </tr>\n",
       "    <tr>\n",
       "      <th>1136</th>\n",
       "      <td>0.0</td>\n",
       "      <td>BrkFace</td>\n",
       "    </tr>\n",
       "    <tr>\n",
       "      <th>1187</th>\n",
       "      <td>0.0</td>\n",
       "      <td>Stone</td>\n",
       "    </tr>\n",
       "  </tbody>\n",
       "</table>\n",
       "</div>"
      ],
      "text/plain": [
       "      Mas Vnr Area Mas Vnr Type\n",
       "669            0.0      BrkFace\n",
       "1136           0.0      BrkFace\n",
       "1187           0.0        Stone"
      ]
     },
     "execution_count": 10,
     "metadata": {},
     "output_type": "execute_result"
    }
   ],
   "source": [
    "df[(df['Mas Vnr Area']==0.0)&(df['Mas Vnr Type']!='None')][['Mas Vnr Area','Mas Vnr Type']]\n",
    "#to drop"
   ]
  },
  {
   "cell_type": "code",
   "execution_count": 11,
   "metadata": {
    "ExecuteTime": {
     "end_time": "2019-10-11T05:14:17.284402Z",
     "start_time": "2019-10-11T05:14:17.274953Z"
    }
   },
   "outputs": [],
   "source": [
    "df=df.drop([765,810,1148,1684,1832,669,1136,1187])"
   ]
  },
  {
   "cell_type": "code",
   "execution_count": 12,
   "metadata": {
    "ExecuteTime": {
     "end_time": "2019-10-11T05:14:17.298311Z",
     "start_time": "2019-10-11T05:14:17.288003Z"
    }
   },
   "outputs": [
    {
     "data": {
      "text/plain": [
       "No    1334\n",
       "Av     286\n",
       "Gd     203\n",
       "Mn     163\n",
       "Name: Bsmt Exposure, dtype: int64"
      ]
     },
     "execution_count": 12,
     "metadata": {},
     "output_type": "execute_result"
    }
   ],
   "source": [
    "df['Bsmt Exposure'].value_counts()"
   ]
  },
  {
   "cell_type": "code",
   "execution_count": 13,
   "metadata": {
    "ExecuteTime": {
     "end_time": "2019-10-11T05:14:17.327653Z",
     "start_time": "2019-10-11T05:14:17.302392Z"
    },
    "scrolled": true
   },
   "outputs": [
    {
     "data": {
      "text/html": [
       "<div>\n",
       "<style scoped>\n",
       "    .dataframe tbody tr th:only-of-type {\n",
       "        vertical-align: middle;\n",
       "    }\n",
       "\n",
       "    .dataframe tbody tr th {\n",
       "        vertical-align: top;\n",
       "    }\n",
       "\n",
       "    .dataframe thead th {\n",
       "        text-align: right;\n",
       "    }\n",
       "</style>\n",
       "<table border=\"1\" class=\"dataframe\">\n",
       "  <thead>\n",
       "    <tr style=\"text-align: right;\">\n",
       "      <th></th>\n",
       "      <th>Foundation</th>\n",
       "      <th>Bsmt Qual</th>\n",
       "      <th>Bsmt Cond</th>\n",
       "      <th>Bsmt Exposure</th>\n",
       "      <th>BsmtFin Type 1</th>\n",
       "      <th>BsmtFin SF 1</th>\n",
       "      <th>BsmtFin Type 2</th>\n",
       "      <th>BsmtFin SF 2</th>\n",
       "      <th>Bsmt Unf SF</th>\n",
       "      <th>Total Bsmt SF</th>\n",
       "    </tr>\n",
       "  </thead>\n",
       "  <tbody>\n",
       "    <tr>\n",
       "      <th>1456</th>\n",
       "      <td>CBlock</td>\n",
       "      <td>Gd</td>\n",
       "      <td>TA</td>\n",
       "      <td>NaN</td>\n",
       "      <td>Unf</td>\n",
       "      <td>0.0</td>\n",
       "      <td>Unf</td>\n",
       "      <td>0.0</td>\n",
       "      <td>725.0</td>\n",
       "      <td>725.0</td>\n",
       "    </tr>\n",
       "    <tr>\n",
       "      <th>1547</th>\n",
       "      <td>PConc</td>\n",
       "      <td>Gd</td>\n",
       "      <td>TA</td>\n",
       "      <td>NaN</td>\n",
       "      <td>Unf</td>\n",
       "      <td>0.0</td>\n",
       "      <td>Unf</td>\n",
       "      <td>0.0</td>\n",
       "      <td>1595.0</td>\n",
       "      <td>1595.0</td>\n",
       "    </tr>\n",
       "    <tr>\n",
       "      <th>1997</th>\n",
       "      <td>PConc</td>\n",
       "      <td>Gd</td>\n",
       "      <td>TA</td>\n",
       "      <td>NaN</td>\n",
       "      <td>Unf</td>\n",
       "      <td>0.0</td>\n",
       "      <td>Unf</td>\n",
       "      <td>0.0</td>\n",
       "      <td>936.0</td>\n",
       "      <td>936.0</td>\n",
       "    </tr>\n",
       "  </tbody>\n",
       "</table>\n",
       "</div>"
      ],
      "text/plain": [
       "     Foundation Bsmt Qual Bsmt Cond Bsmt Exposure BsmtFin Type 1  \\\n",
       "1456     CBlock        Gd        TA           NaN            Unf   \n",
       "1547      PConc        Gd        TA           NaN            Unf   \n",
       "1997      PConc        Gd        TA           NaN            Unf   \n",
       "\n",
       "      BsmtFin SF 1 BsmtFin Type 2  BsmtFin SF 2  Bsmt Unf SF  Total Bsmt SF  \n",
       "1456           0.0            Unf           0.0        725.0          725.0  \n",
       "1547           0.0            Unf           0.0       1595.0         1595.0  \n",
       "1997           0.0            Unf           0.0        936.0          936.0  "
      ]
     },
     "execution_count": 13,
     "metadata": {},
     "output_type": "execute_result"
    }
   ],
   "source": [
    "df[(df['Bsmt Exposure'].isnull())&(df['Bsmt Qual'].notnull())][bsmt_f]\n",
    "#to drop, no info other than that it exists and has sqft"
   ]
  },
  {
   "cell_type": "code",
   "execution_count": 14,
   "metadata": {
    "ExecuteTime": {
     "end_time": "2019-10-11T05:14:17.355843Z",
     "start_time": "2019-10-11T05:14:17.342326Z"
    }
   },
   "outputs": [],
   "source": [
    "#replace nan values with No Exposure?\n",
    "df.loc[[1456,1547,1997],'Bsmt Exposure']=df.loc[[1456,1547,1997],'Bsmt Exposure'].fillna('No')"
   ]
  },
  {
   "cell_type": "code",
   "execution_count": 15,
   "metadata": {
    "ExecuteTime": {
     "end_time": "2019-10-11T05:14:17.382563Z",
     "start_time": "2019-10-11T05:14:17.360776Z"
    },
    "scrolled": false
   },
   "outputs": [
    {
     "data": {
      "text/html": [
       "<div>\n",
       "<style scoped>\n",
       "    .dataframe tbody tr th:only-of-type {\n",
       "        vertical-align: middle;\n",
       "    }\n",
       "\n",
       "    .dataframe tbody tr th {\n",
       "        vertical-align: top;\n",
       "    }\n",
       "\n",
       "    .dataframe thead th {\n",
       "        text-align: right;\n",
       "    }\n",
       "</style>\n",
       "<table border=\"1\" class=\"dataframe\">\n",
       "  <thead>\n",
       "    <tr style=\"text-align: right;\">\n",
       "      <th></th>\n",
       "      <th>Foundation</th>\n",
       "      <th>Bsmt Qual</th>\n",
       "      <th>Bsmt Cond</th>\n",
       "      <th>Bsmt Exposure</th>\n",
       "      <th>BsmtFin Type 1</th>\n",
       "      <th>BsmtFin SF 1</th>\n",
       "      <th>BsmtFin Type 2</th>\n",
       "      <th>BsmtFin SF 2</th>\n",
       "      <th>Bsmt Unf SF</th>\n",
       "      <th>Total Bsmt SF</th>\n",
       "    </tr>\n",
       "  </thead>\n",
       "  <tbody>\n",
       "    <tr>\n",
       "      <th>1327</th>\n",
       "      <td>PConc</td>\n",
       "      <td>NaN</td>\n",
       "      <td>NaN</td>\n",
       "      <td>NaN</td>\n",
       "      <td>NaN</td>\n",
       "      <td>NaN</td>\n",
       "      <td>NaN</td>\n",
       "      <td>NaN</td>\n",
       "      <td>NaN</td>\n",
       "      <td>NaN</td>\n",
       "    </tr>\n",
       "  </tbody>\n",
       "</table>\n",
       "</div>"
      ],
      "text/plain": [
       "     Foundation Bsmt Qual Bsmt Cond Bsmt Exposure BsmtFin Type 1  \\\n",
       "1327      PConc       NaN       NaN           NaN            NaN   \n",
       "\n",
       "      BsmtFin SF 1 BsmtFin Type 2  BsmtFin SF 2  Bsmt Unf SF  Total Bsmt SF  \n",
       "1327           NaN            NaN           NaN          NaN            NaN  "
      ]
     },
     "execution_count": 15,
     "metadata": {},
     "output_type": "execute_result"
    }
   ],
   "source": [
    "df[df['BsmtFin SF 1'].isnull()][bsmt_f]"
   ]
  },
  {
   "cell_type": "code",
   "execution_count": 16,
   "metadata": {
    "ExecuteTime": {
     "end_time": "2019-10-11T05:14:17.396720Z",
     "start_time": "2019-10-11T05:14:17.387417Z"
    }
   },
   "outputs": [],
   "source": [
    "df['BsmtFin SF 1']=df['BsmtFin SF 1'].fillna(0)"
   ]
  },
  {
   "cell_type": "code",
   "execution_count": 17,
   "metadata": {
    "ExecuteTime": {
     "end_time": "2019-10-11T05:14:17.430567Z",
     "start_time": "2019-10-11T05:14:17.401996Z"
    },
    "scrolled": false
   },
   "outputs": [
    {
     "data": {
      "text/html": [
       "<div>\n",
       "<style scoped>\n",
       "    .dataframe tbody tr th:only-of-type {\n",
       "        vertical-align: middle;\n",
       "    }\n",
       "\n",
       "    .dataframe tbody tr th {\n",
       "        vertical-align: top;\n",
       "    }\n",
       "\n",
       "    .dataframe thead th {\n",
       "        text-align: right;\n",
       "    }\n",
       "</style>\n",
       "<table border=\"1\" class=\"dataframe\">\n",
       "  <thead>\n",
       "    <tr style=\"text-align: right;\">\n",
       "      <th></th>\n",
       "      <th>Foundation</th>\n",
       "      <th>Bsmt Qual</th>\n",
       "      <th>Bsmt Cond</th>\n",
       "      <th>Bsmt Exposure</th>\n",
       "      <th>BsmtFin Type 1</th>\n",
       "      <th>BsmtFin SF 1</th>\n",
       "      <th>BsmtFin Type 2</th>\n",
       "      <th>BsmtFin SF 2</th>\n",
       "      <th>Bsmt Unf SF</th>\n",
       "      <th>Total Bsmt SF</th>\n",
       "    </tr>\n",
       "  </thead>\n",
       "  <tbody>\n",
       "    <tr>\n",
       "      <th>1147</th>\n",
       "      <td>PConc</td>\n",
       "      <td>Gd</td>\n",
       "      <td>TA</td>\n",
       "      <td>No</td>\n",
       "      <td>GLQ</td>\n",
       "      <td>1124.0</td>\n",
       "      <td>NaN</td>\n",
       "      <td>479.0</td>\n",
       "      <td>1603.0</td>\n",
       "      <td>3206.0</td>\n",
       "    </tr>\n",
       "  </tbody>\n",
       "</table>\n",
       "</div>"
      ],
      "text/plain": [
       "     Foundation Bsmt Qual Bsmt Cond Bsmt Exposure BsmtFin Type 1  \\\n",
       "1147      PConc        Gd        TA            No            GLQ   \n",
       "\n",
       "      BsmtFin SF 1 BsmtFin Type 2  BsmtFin SF 2  Bsmt Unf SF  Total Bsmt SF  \n",
       "1147        1124.0            NaN         479.0       1603.0         3206.0  "
      ]
     },
     "execution_count": 17,
     "metadata": {},
     "output_type": "execute_result"
    }
   ],
   "source": [
    "df[(df['BsmtFin Type 2'].isnull())&(df['Bsmt Qual'].notnull())][bsmt_f]\n"
   ]
  },
  {
   "cell_type": "code",
   "execution_count": 18,
   "metadata": {
    "ExecuteTime": {
     "end_time": "2019-10-11T05:14:17.446687Z",
     "start_time": "2019-10-11T05:14:17.434178Z"
    },
    "scrolled": false
   },
   "outputs": [],
   "source": [
    "#cant impute the BsmtFin Type, so we remove the entry\n",
    "df=df.drop(1147)"
   ]
  },
  {
   "cell_type": "code",
   "execution_count": 19,
   "metadata": {
    "ExecuteTime": {
     "end_time": "2019-10-11T05:14:17.480336Z",
     "start_time": "2019-10-11T05:14:17.450674Z"
    },
    "scrolled": false
   },
   "outputs": [
    {
     "data": {
      "text/html": [
       "<div>\n",
       "<style scoped>\n",
       "    .dataframe tbody tr th:only-of-type {\n",
       "        vertical-align: middle;\n",
       "    }\n",
       "\n",
       "    .dataframe tbody tr th {\n",
       "        vertical-align: top;\n",
       "    }\n",
       "\n",
       "    .dataframe thead th {\n",
       "        text-align: right;\n",
       "    }\n",
       "</style>\n",
       "<table border=\"1\" class=\"dataframe\">\n",
       "  <thead>\n",
       "    <tr style=\"text-align: right;\">\n",
       "      <th></th>\n",
       "      <th>Foundation</th>\n",
       "      <th>Bsmt Qual</th>\n",
       "      <th>Bsmt Cond</th>\n",
       "      <th>Bsmt Exposure</th>\n",
       "      <th>BsmtFin Type 1</th>\n",
       "      <th>BsmtFin SF 1</th>\n",
       "      <th>BsmtFin Type 2</th>\n",
       "      <th>BsmtFin SF 2</th>\n",
       "      <th>Bsmt Unf SF</th>\n",
       "      <th>Total Bsmt SF</th>\n",
       "    </tr>\n",
       "  </thead>\n",
       "  <tbody>\n",
       "    <tr>\n",
       "      <th>1327</th>\n",
       "      <td>PConc</td>\n",
       "      <td>NaN</td>\n",
       "      <td>NaN</td>\n",
       "      <td>NaN</td>\n",
       "      <td>NaN</td>\n",
       "      <td>0.0</td>\n",
       "      <td>NaN</td>\n",
       "      <td>NaN</td>\n",
       "      <td>NaN</td>\n",
       "      <td>NaN</td>\n",
       "    </tr>\n",
       "  </tbody>\n",
       "</table>\n",
       "</div>"
      ],
      "text/plain": [
       "     Foundation Bsmt Qual Bsmt Cond Bsmt Exposure BsmtFin Type 1  \\\n",
       "1327      PConc       NaN       NaN           NaN            NaN   \n",
       "\n",
       "      BsmtFin SF 1 BsmtFin Type 2  BsmtFin SF 2  Bsmt Unf SF  Total Bsmt SF  \n",
       "1327           0.0            NaN           NaN          NaN            NaN  "
      ]
     },
     "execution_count": 19,
     "metadata": {},
     "output_type": "execute_result"
    }
   ],
   "source": [
    "df[(df['Bsmt Unf SF']).isnull()][bsmt_f]"
   ]
  },
  {
   "cell_type": "markdown",
   "metadata": {},
   "source": [
    "### All the following categories are actually written as na in the csv, but mean zero and is filled as such"
   ]
  },
  {
   "cell_type": "code",
   "execution_count": 20,
   "metadata": {
    "ExecuteTime": {
     "end_time": "2019-10-11T05:14:17.492638Z",
     "start_time": "2019-10-11T05:14:17.485053Z"
    }
   },
   "outputs": [],
   "source": [
    "df['Bsmt Unf SF']=df['Bsmt Unf SF'].fillna(0)"
   ]
  },
  {
   "cell_type": "code",
   "execution_count": 21,
   "metadata": {
    "ExecuteTime": {
     "end_time": "2019-10-11T05:14:17.502069Z",
     "start_time": "2019-10-11T05:14:17.496393Z"
    }
   },
   "outputs": [],
   "source": [
    "df['Total Bsmt SF']=df['Total Bsmt SF'].fillna(0)"
   ]
  },
  {
   "cell_type": "code",
   "execution_count": 22,
   "metadata": {
    "ExecuteTime": {
     "end_time": "2019-10-11T05:14:17.512722Z",
     "start_time": "2019-10-11T05:14:17.506296Z"
    }
   },
   "outputs": [],
   "source": [
    "df['Bsmt Full Bath']=df['Bsmt Full Bath'].fillna(0)"
   ]
  },
  {
   "cell_type": "code",
   "execution_count": 23,
   "metadata": {
    "ExecuteTime": {
     "end_time": "2019-10-11T05:14:17.527243Z",
     "start_time": "2019-10-11T05:14:17.521502Z"
    }
   },
   "outputs": [],
   "source": [
    "df['Bsmt Half Bath']=df['Bsmt Half Bath'].fillna(0)"
   ]
  },
  {
   "cell_type": "code",
   "execution_count": 24,
   "metadata": {
    "ExecuteTime": {
     "end_time": "2019-10-11T05:14:17.574240Z",
     "start_time": "2019-10-11T05:14:17.535764Z"
    },
    "scrolled": false
   },
   "outputs": [
    {
     "data": {
      "text/html": [
       "<div>\n",
       "<style scoped>\n",
       "    .dataframe tbody tr th:only-of-type {\n",
       "        vertical-align: middle;\n",
       "    }\n",
       "\n",
       "    .dataframe tbody tr th {\n",
       "        vertical-align: top;\n",
       "    }\n",
       "\n",
       "    .dataframe thead th {\n",
       "        text-align: right;\n",
       "    }\n",
       "</style>\n",
       "<table border=\"1\" class=\"dataframe\">\n",
       "  <thead>\n",
       "    <tr style=\"text-align: right;\">\n",
       "      <th></th>\n",
       "      <th>Functional</th>\n",
       "      <th>Fireplaces</th>\n",
       "      <th>Fireplace Qu</th>\n",
       "      <th>Garage Type</th>\n",
       "      <th>Garage Yr Blt</th>\n",
       "      <th>Garage Finish</th>\n",
       "      <th>Garage Cars</th>\n",
       "      <th>Garage Area</th>\n",
       "      <th>Garage Qual</th>\n",
       "      <th>Garage Cond</th>\n",
       "      <th>...</th>\n",
       "      <th>Wood Deck SF</th>\n",
       "      <th>Open Porch SF</th>\n",
       "      <th>Enclosed Porch</th>\n",
       "      <th>3Ssn Porch</th>\n",
       "      <th>Screen Porch</th>\n",
       "      <th>Pool Area</th>\n",
       "      <th>Pool QC</th>\n",
       "      <th>Fence</th>\n",
       "      <th>Misc Feature</th>\n",
       "      <th>Misc Val</th>\n",
       "    </tr>\n",
       "  </thead>\n",
       "  <tbody>\n",
       "    <tr>\n",
       "      <th>1712</th>\n",
       "      <td>Typ</td>\n",
       "      <td>0</td>\n",
       "      <td>NaN</td>\n",
       "      <td>Detchd</td>\n",
       "      <td>NaN</td>\n",
       "      <td>NaN</td>\n",
       "      <td>NaN</td>\n",
       "      <td>NaN</td>\n",
       "      <td>NaN</td>\n",
       "      <td>NaN</td>\n",
       "      <td>...</td>\n",
       "      <td>174</td>\n",
       "      <td>0</td>\n",
       "      <td>212</td>\n",
       "      <td>0</td>\n",
       "      <td>0</td>\n",
       "      <td>0</td>\n",
       "      <td>NaN</td>\n",
       "      <td>MnPrv</td>\n",
       "      <td>NaN</td>\n",
       "      <td>0</td>\n",
       "    </tr>\n",
       "  </tbody>\n",
       "</table>\n",
       "<p>1 rows × 21 columns</p>\n",
       "</div>"
      ],
      "text/plain": [
       "     Functional  Fireplaces Fireplace Qu Garage Type  Garage Yr Blt  \\\n",
       "1712        Typ           0          NaN      Detchd            NaN   \n",
       "\n",
       "     Garage Finish  Garage Cars  Garage Area Garage Qual Garage Cond  ...  \\\n",
       "1712           NaN          NaN          NaN         NaN         NaN  ...   \n",
       "\n",
       "     Wood Deck SF  Open Porch SF  Enclosed Porch  3Ssn Porch  Screen Porch  \\\n",
       "1712          174              0             212           0             0   \n",
       "\n",
       "      Pool Area  Pool QC  Fence Misc Feature Misc Val  \n",
       "1712          0      NaN  MnPrv          NaN        0  \n",
       "\n",
       "[1 rows x 21 columns]"
      ]
     },
     "execution_count": 24,
     "metadata": {},
     "output_type": "execute_result"
    }
   ],
   "source": [
    "df[(df['Garage Type'].notnull())&(df['Garage Yr Blt'].isnull())][func_f]"
   ]
  },
  {
   "cell_type": "code",
   "execution_count": 25,
   "metadata": {
    "ExecuteTime": {
     "end_time": "2019-10-11T05:14:17.587927Z",
     "start_time": "2019-10-11T05:14:17.577523Z"
    }
   },
   "outputs": [],
   "source": [
    "#drop because no other data is available for it as well\n",
    "df=df.drop(1712)"
   ]
  },
  {
   "cell_type": "code",
   "execution_count": 26,
   "metadata": {
    "ExecuteTime": {
     "end_time": "2019-10-11T05:14:17.716880Z",
     "start_time": "2019-10-11T05:14:17.591522Z"
    },
    "scrolled": true
   },
   "outputs": [
    {
     "data": {
      "text/html": [
       "<div>\n",
       "<style scoped>\n",
       "    .dataframe tbody tr th:only-of-type {\n",
       "        vertical-align: middle;\n",
       "    }\n",
       "\n",
       "    .dataframe tbody tr th {\n",
       "        vertical-align: top;\n",
       "    }\n",
       "\n",
       "    .dataframe thead th {\n",
       "        text-align: right;\n",
       "    }\n",
       "</style>\n",
       "<table border=\"1\" class=\"dataframe\">\n",
       "  <thead>\n",
       "    <tr style=\"text-align: right;\">\n",
       "      <th></th>\n",
       "      <th>Functional</th>\n",
       "      <th>Fireplaces</th>\n",
       "      <th>Fireplace Qu</th>\n",
       "      <th>Garage Type</th>\n",
       "      <th>Garage Yr Blt</th>\n",
       "      <th>Garage Finish</th>\n",
       "      <th>Garage Cars</th>\n",
       "      <th>Garage Area</th>\n",
       "      <th>Garage Qual</th>\n",
       "      <th>Garage Cond</th>\n",
       "      <th>...</th>\n",
       "      <th>Wood Deck SF</th>\n",
       "      <th>Open Porch SF</th>\n",
       "      <th>Enclosed Porch</th>\n",
       "      <th>3Ssn Porch</th>\n",
       "      <th>Screen Porch</th>\n",
       "      <th>Pool Area</th>\n",
       "      <th>Pool QC</th>\n",
       "      <th>Fence</th>\n",
       "      <th>Misc Feature</th>\n",
       "      <th>Misc Val</th>\n",
       "    </tr>\n",
       "  </thead>\n",
       "  <tbody>\n",
       "    <tr>\n",
       "      <th>28</th>\n",
       "      <td>Typ</td>\n",
       "      <td>0</td>\n",
       "      <td>NaN</td>\n",
       "      <td>NaN</td>\n",
       "      <td>NaN</td>\n",
       "      <td>NaN</td>\n",
       "      <td>0.0</td>\n",
       "      <td>0.0</td>\n",
       "      <td>NaN</td>\n",
       "      <td>NaN</td>\n",
       "      <td>...</td>\n",
       "      <td>0</td>\n",
       "      <td>0</td>\n",
       "      <td>133</td>\n",
       "      <td>0</td>\n",
       "      <td>0</td>\n",
       "      <td>0</td>\n",
       "      <td>NaN</td>\n",
       "      <td>NaN</td>\n",
       "      <td>NaN</td>\n",
       "      <td>0</td>\n",
       "    </tr>\n",
       "    <tr>\n",
       "      <th>53</th>\n",
       "      <td>Typ</td>\n",
       "      <td>0</td>\n",
       "      <td>NaN</td>\n",
       "      <td>NaN</td>\n",
       "      <td>NaN</td>\n",
       "      <td>NaN</td>\n",
       "      <td>0.0</td>\n",
       "      <td>0.0</td>\n",
       "      <td>NaN</td>\n",
       "      <td>NaN</td>\n",
       "      <td>...</td>\n",
       "      <td>200</td>\n",
       "      <td>26</td>\n",
       "      <td>0</td>\n",
       "      <td>0</td>\n",
       "      <td>0</td>\n",
       "      <td>0</td>\n",
       "      <td>NaN</td>\n",
       "      <td>NaN</td>\n",
       "      <td>NaN</td>\n",
       "      <td>0</td>\n",
       "    </tr>\n",
       "    <tr>\n",
       "      <th>65</th>\n",
       "      <td>Typ</td>\n",
       "      <td>0</td>\n",
       "      <td>NaN</td>\n",
       "      <td>NaN</td>\n",
       "      <td>NaN</td>\n",
       "      <td>NaN</td>\n",
       "      <td>0.0</td>\n",
       "      <td>0.0</td>\n",
       "      <td>NaN</td>\n",
       "      <td>NaN</td>\n",
       "      <td>...</td>\n",
       "      <td>0</td>\n",
       "      <td>30</td>\n",
       "      <td>0</td>\n",
       "      <td>0</td>\n",
       "      <td>0</td>\n",
       "      <td>0</td>\n",
       "      <td>NaN</td>\n",
       "      <td>NaN</td>\n",
       "      <td>NaN</td>\n",
       "      <td>0</td>\n",
       "    </tr>\n",
       "    <tr>\n",
       "      <th>79</th>\n",
       "      <td>Typ</td>\n",
       "      <td>0</td>\n",
       "      <td>NaN</td>\n",
       "      <td>NaN</td>\n",
       "      <td>NaN</td>\n",
       "      <td>NaN</td>\n",
       "      <td>0.0</td>\n",
       "      <td>0.0</td>\n",
       "      <td>NaN</td>\n",
       "      <td>NaN</td>\n",
       "      <td>...</td>\n",
       "      <td>0</td>\n",
       "      <td>0</td>\n",
       "      <td>0</td>\n",
       "      <td>176</td>\n",
       "      <td>0</td>\n",
       "      <td>0</td>\n",
       "      <td>NaN</td>\n",
       "      <td>NaN</td>\n",
       "      <td>NaN</td>\n",
       "      <td>0</td>\n",
       "    </tr>\n",
       "    <tr>\n",
       "      <th>101</th>\n",
       "      <td>Typ</td>\n",
       "      <td>0</td>\n",
       "      <td>NaN</td>\n",
       "      <td>NaN</td>\n",
       "      <td>NaN</td>\n",
       "      <td>NaN</td>\n",
       "      <td>0.0</td>\n",
       "      <td>0.0</td>\n",
       "      <td>NaN</td>\n",
       "      <td>NaN</td>\n",
       "      <td>...</td>\n",
       "      <td>0</td>\n",
       "      <td>0</td>\n",
       "      <td>144</td>\n",
       "      <td>0</td>\n",
       "      <td>0</td>\n",
       "      <td>0</td>\n",
       "      <td>NaN</td>\n",
       "      <td>NaN</td>\n",
       "      <td>NaN</td>\n",
       "      <td>0</td>\n",
       "    </tr>\n",
       "    <tr>\n",
       "      <th>103</th>\n",
       "      <td>Typ</td>\n",
       "      <td>0</td>\n",
       "      <td>NaN</td>\n",
       "      <td>NaN</td>\n",
       "      <td>NaN</td>\n",
       "      <td>NaN</td>\n",
       "      <td>0.0</td>\n",
       "      <td>0.0</td>\n",
       "      <td>NaN</td>\n",
       "      <td>NaN</td>\n",
       "      <td>...</td>\n",
       "      <td>0</td>\n",
       "      <td>36</td>\n",
       "      <td>94</td>\n",
       "      <td>0</td>\n",
       "      <td>0</td>\n",
       "      <td>0</td>\n",
       "      <td>NaN</td>\n",
       "      <td>NaN</td>\n",
       "      <td>NaN</td>\n",
       "      <td>0</td>\n",
       "    </tr>\n",
       "    <tr>\n",
       "      <th>114</th>\n",
       "      <td>Min2</td>\n",
       "      <td>0</td>\n",
       "      <td>NaN</td>\n",
       "      <td>NaN</td>\n",
       "      <td>NaN</td>\n",
       "      <td>NaN</td>\n",
       "      <td>0.0</td>\n",
       "      <td>0.0</td>\n",
       "      <td>NaN</td>\n",
       "      <td>NaN</td>\n",
       "      <td>...</td>\n",
       "      <td>0</td>\n",
       "      <td>0</td>\n",
       "      <td>100</td>\n",
       "      <td>0</td>\n",
       "      <td>0</td>\n",
       "      <td>0</td>\n",
       "      <td>NaN</td>\n",
       "      <td>NaN</td>\n",
       "      <td>NaN</td>\n",
       "      <td>0</td>\n",
       "    </tr>\n",
       "    <tr>\n",
       "      <th>120</th>\n",
       "      <td>Typ</td>\n",
       "      <td>1</td>\n",
       "      <td>Gd</td>\n",
       "      <td>NaN</td>\n",
       "      <td>NaN</td>\n",
       "      <td>NaN</td>\n",
       "      <td>0.0</td>\n",
       "      <td>0.0</td>\n",
       "      <td>NaN</td>\n",
       "      <td>NaN</td>\n",
       "      <td>...</td>\n",
       "      <td>144</td>\n",
       "      <td>0</td>\n",
       "      <td>0</td>\n",
       "      <td>0</td>\n",
       "      <td>0</td>\n",
       "      <td>0</td>\n",
       "      <td>NaN</td>\n",
       "      <td>NaN</td>\n",
       "      <td>NaN</td>\n",
       "      <td>0</td>\n",
       "    </tr>\n",
       "    <tr>\n",
       "      <th>134</th>\n",
       "      <td>Typ</td>\n",
       "      <td>0</td>\n",
       "      <td>NaN</td>\n",
       "      <td>NaN</td>\n",
       "      <td>NaN</td>\n",
       "      <td>NaN</td>\n",
       "      <td>0.0</td>\n",
       "      <td>0.0</td>\n",
       "      <td>NaN</td>\n",
       "      <td>NaN</td>\n",
       "      <td>...</td>\n",
       "      <td>0</td>\n",
       "      <td>0</td>\n",
       "      <td>96</td>\n",
       "      <td>0</td>\n",
       "      <td>0</td>\n",
       "      <td>0</td>\n",
       "      <td>NaN</td>\n",
       "      <td>NaN</td>\n",
       "      <td>NaN</td>\n",
       "      <td>0</td>\n",
       "    </tr>\n",
       "    <tr>\n",
       "      <th>136</th>\n",
       "      <td>Typ</td>\n",
       "      <td>0</td>\n",
       "      <td>NaN</td>\n",
       "      <td>NaN</td>\n",
       "      <td>NaN</td>\n",
       "      <td>NaN</td>\n",
       "      <td>0.0</td>\n",
       "      <td>0.0</td>\n",
       "      <td>NaN</td>\n",
       "      <td>NaN</td>\n",
       "      <td>...</td>\n",
       "      <td>0</td>\n",
       "      <td>0</td>\n",
       "      <td>176</td>\n",
       "      <td>0</td>\n",
       "      <td>0</td>\n",
       "      <td>0</td>\n",
       "      <td>NaN</td>\n",
       "      <td>NaN</td>\n",
       "      <td>NaN</td>\n",
       "      <td>0</td>\n",
       "    </tr>\n",
       "    <tr>\n",
       "      <th>139</th>\n",
       "      <td>Typ</td>\n",
       "      <td>0</td>\n",
       "      <td>NaN</td>\n",
       "      <td>NaN</td>\n",
       "      <td>NaN</td>\n",
       "      <td>NaN</td>\n",
       "      <td>0.0</td>\n",
       "      <td>0.0</td>\n",
       "      <td>NaN</td>\n",
       "      <td>NaN</td>\n",
       "      <td>...</td>\n",
       "      <td>344</td>\n",
       "      <td>0</td>\n",
       "      <td>0</td>\n",
       "      <td>0</td>\n",
       "      <td>168</td>\n",
       "      <td>0</td>\n",
       "      <td>NaN</td>\n",
       "      <td>NaN</td>\n",
       "      <td>NaN</td>\n",
       "      <td>0</td>\n",
       "    </tr>\n",
       "    <tr>\n",
       "      <th>162</th>\n",
       "      <td>Sev</td>\n",
       "      <td>0</td>\n",
       "      <td>NaN</td>\n",
       "      <td>NaN</td>\n",
       "      <td>NaN</td>\n",
       "      <td>NaN</td>\n",
       "      <td>0.0</td>\n",
       "      <td>0.0</td>\n",
       "      <td>NaN</td>\n",
       "      <td>NaN</td>\n",
       "      <td>...</td>\n",
       "      <td>0</td>\n",
       "      <td>56</td>\n",
       "      <td>0</td>\n",
       "      <td>0</td>\n",
       "      <td>0</td>\n",
       "      <td>0</td>\n",
       "      <td>NaN</td>\n",
       "      <td>NaN</td>\n",
       "      <td>NaN</td>\n",
       "      <td>0</td>\n",
       "    </tr>\n",
       "    <tr>\n",
       "      <th>235</th>\n",
       "      <td>Typ</td>\n",
       "      <td>0</td>\n",
       "      <td>NaN</td>\n",
       "      <td>NaN</td>\n",
       "      <td>NaN</td>\n",
       "      <td>NaN</td>\n",
       "      <td>0.0</td>\n",
       "      <td>0.0</td>\n",
       "      <td>NaN</td>\n",
       "      <td>NaN</td>\n",
       "      <td>...</td>\n",
       "      <td>0</td>\n",
       "      <td>0</td>\n",
       "      <td>176</td>\n",
       "      <td>0</td>\n",
       "      <td>0</td>\n",
       "      <td>0</td>\n",
       "      <td>NaN</td>\n",
       "      <td>NaN</td>\n",
       "      <td>NaN</td>\n",
       "      <td>0</td>\n",
       "    </tr>\n",
       "    <tr>\n",
       "      <th>256</th>\n",
       "      <td>Min2</td>\n",
       "      <td>1</td>\n",
       "      <td>Gd</td>\n",
       "      <td>NaN</td>\n",
       "      <td>NaN</td>\n",
       "      <td>NaN</td>\n",
       "      <td>0.0</td>\n",
       "      <td>0.0</td>\n",
       "      <td>NaN</td>\n",
       "      <td>NaN</td>\n",
       "      <td>...</td>\n",
       "      <td>0</td>\n",
       "      <td>36</td>\n",
       "      <td>190</td>\n",
       "      <td>0</td>\n",
       "      <td>0</td>\n",
       "      <td>0</td>\n",
       "      <td>NaN</td>\n",
       "      <td>NaN</td>\n",
       "      <td>NaN</td>\n",
       "      <td>0</td>\n",
       "    </tr>\n",
       "    <tr>\n",
       "      <th>260</th>\n",
       "      <td>Mod</td>\n",
       "      <td>0</td>\n",
       "      <td>NaN</td>\n",
       "      <td>NaN</td>\n",
       "      <td>NaN</td>\n",
       "      <td>NaN</td>\n",
       "      <td>0.0</td>\n",
       "      <td>0.0</td>\n",
       "      <td>NaN</td>\n",
       "      <td>NaN</td>\n",
       "      <td>...</td>\n",
       "      <td>263</td>\n",
       "      <td>0</td>\n",
       "      <td>0</td>\n",
       "      <td>0</td>\n",
       "      <td>0</td>\n",
       "      <td>0</td>\n",
       "      <td>NaN</td>\n",
       "      <td>GdWo</td>\n",
       "      <td>Shed</td>\n",
       "      <td>450</td>\n",
       "    </tr>\n",
       "    <tr>\n",
       "      <th>264</th>\n",
       "      <td>Typ</td>\n",
       "      <td>0</td>\n",
       "      <td>NaN</td>\n",
       "      <td>NaN</td>\n",
       "      <td>NaN</td>\n",
       "      <td>NaN</td>\n",
       "      <td>0.0</td>\n",
       "      <td>0.0</td>\n",
       "      <td>NaN</td>\n",
       "      <td>NaN</td>\n",
       "      <td>...</td>\n",
       "      <td>164</td>\n",
       "      <td>0</td>\n",
       "      <td>0</td>\n",
       "      <td>0</td>\n",
       "      <td>0</td>\n",
       "      <td>0</td>\n",
       "      <td>NaN</td>\n",
       "      <td>NaN</td>\n",
       "      <td>NaN</td>\n",
       "      <td>0</td>\n",
       "    </tr>\n",
       "    <tr>\n",
       "      <th>276</th>\n",
       "      <td>Typ</td>\n",
       "      <td>0</td>\n",
       "      <td>NaN</td>\n",
       "      <td>NaN</td>\n",
       "      <td>NaN</td>\n",
       "      <td>NaN</td>\n",
       "      <td>0.0</td>\n",
       "      <td>0.0</td>\n",
       "      <td>NaN</td>\n",
       "      <td>NaN</td>\n",
       "      <td>...</td>\n",
       "      <td>32</td>\n",
       "      <td>0</td>\n",
       "      <td>0</td>\n",
       "      <td>0</td>\n",
       "      <td>0</td>\n",
       "      <td>0</td>\n",
       "      <td>NaN</td>\n",
       "      <td>NaN</td>\n",
       "      <td>NaN</td>\n",
       "      <td>0</td>\n",
       "    </tr>\n",
       "    <tr>\n",
       "      <th>334</th>\n",
       "      <td>Typ</td>\n",
       "      <td>0</td>\n",
       "      <td>NaN</td>\n",
       "      <td>NaN</td>\n",
       "      <td>NaN</td>\n",
       "      <td>NaN</td>\n",
       "      <td>0.0</td>\n",
       "      <td>0.0</td>\n",
       "      <td>NaN</td>\n",
       "      <td>NaN</td>\n",
       "      <td>...</td>\n",
       "      <td>0</td>\n",
       "      <td>0</td>\n",
       "      <td>228</td>\n",
       "      <td>0</td>\n",
       "      <td>0</td>\n",
       "      <td>0</td>\n",
       "      <td>NaN</td>\n",
       "      <td>NaN</td>\n",
       "      <td>NaN</td>\n",
       "      <td>0</td>\n",
       "    </tr>\n",
       "    <tr>\n",
       "      <th>356</th>\n",
       "      <td>Typ</td>\n",
       "      <td>0</td>\n",
       "      <td>NaN</td>\n",
       "      <td>NaN</td>\n",
       "      <td>NaN</td>\n",
       "      <td>NaN</td>\n",
       "      <td>0.0</td>\n",
       "      <td>0.0</td>\n",
       "      <td>NaN</td>\n",
       "      <td>NaN</td>\n",
       "      <td>...</td>\n",
       "      <td>0</td>\n",
       "      <td>0</td>\n",
       "      <td>156</td>\n",
       "      <td>0</td>\n",
       "      <td>0</td>\n",
       "      <td>0</td>\n",
       "      <td>NaN</td>\n",
       "      <td>MnPrv</td>\n",
       "      <td>NaN</td>\n",
       "      <td>0</td>\n",
       "    </tr>\n",
       "    <tr>\n",
       "      <th>382</th>\n",
       "      <td>Typ</td>\n",
       "      <td>0</td>\n",
       "      <td>NaN</td>\n",
       "      <td>NaN</td>\n",
       "      <td>NaN</td>\n",
       "      <td>NaN</td>\n",
       "      <td>0.0</td>\n",
       "      <td>0.0</td>\n",
       "      <td>NaN</td>\n",
       "      <td>NaN</td>\n",
       "      <td>...</td>\n",
       "      <td>0</td>\n",
       "      <td>198</td>\n",
       "      <td>30</td>\n",
       "      <td>0</td>\n",
       "      <td>0</td>\n",
       "      <td>0</td>\n",
       "      <td>NaN</td>\n",
       "      <td>MnPrv</td>\n",
       "      <td>NaN</td>\n",
       "      <td>0</td>\n",
       "    </tr>\n",
       "    <tr>\n",
       "      <th>406</th>\n",
       "      <td>Typ</td>\n",
       "      <td>0</td>\n",
       "      <td>NaN</td>\n",
       "      <td>NaN</td>\n",
       "      <td>NaN</td>\n",
       "      <td>NaN</td>\n",
       "      <td>0.0</td>\n",
       "      <td>0.0</td>\n",
       "      <td>NaN</td>\n",
       "      <td>NaN</td>\n",
       "      <td>...</td>\n",
       "      <td>201</td>\n",
       "      <td>0</td>\n",
       "      <td>0</td>\n",
       "      <td>0</td>\n",
       "      <td>0</td>\n",
       "      <td>0</td>\n",
       "      <td>NaN</td>\n",
       "      <td>NaN</td>\n",
       "      <td>NaN</td>\n",
       "      <td>0</td>\n",
       "    </tr>\n",
       "    <tr>\n",
       "      <th>409</th>\n",
       "      <td>Typ</td>\n",
       "      <td>0</td>\n",
       "      <td>NaN</td>\n",
       "      <td>NaN</td>\n",
       "      <td>NaN</td>\n",
       "      <td>NaN</td>\n",
       "      <td>0.0</td>\n",
       "      <td>0.0</td>\n",
       "      <td>NaN</td>\n",
       "      <td>NaN</td>\n",
       "      <td>...</td>\n",
       "      <td>136</td>\n",
       "      <td>0</td>\n",
       "      <td>115</td>\n",
       "      <td>0</td>\n",
       "      <td>0</td>\n",
       "      <td>0</td>\n",
       "      <td>NaN</td>\n",
       "      <td>NaN</td>\n",
       "      <td>NaN</td>\n",
       "      <td>0</td>\n",
       "    </tr>\n",
       "    <tr>\n",
       "      <th>426</th>\n",
       "      <td>Min2</td>\n",
       "      <td>0</td>\n",
       "      <td>NaN</td>\n",
       "      <td>NaN</td>\n",
       "      <td>NaN</td>\n",
       "      <td>NaN</td>\n",
       "      <td>0.0</td>\n",
       "      <td>0.0</td>\n",
       "      <td>NaN</td>\n",
       "      <td>NaN</td>\n",
       "      <td>...</td>\n",
       "      <td>0</td>\n",
       "      <td>0</td>\n",
       "      <td>0</td>\n",
       "      <td>0</td>\n",
       "      <td>0</td>\n",
       "      <td>0</td>\n",
       "      <td>NaN</td>\n",
       "      <td>NaN</td>\n",
       "      <td>NaN</td>\n",
       "      <td>0</td>\n",
       "    </tr>\n",
       "    <tr>\n",
       "      <th>437</th>\n",
       "      <td>Typ</td>\n",
       "      <td>0</td>\n",
       "      <td>NaN</td>\n",
       "      <td>NaN</td>\n",
       "      <td>NaN</td>\n",
       "      <td>NaN</td>\n",
       "      <td>0.0</td>\n",
       "      <td>0.0</td>\n",
       "      <td>NaN</td>\n",
       "      <td>NaN</td>\n",
       "      <td>...</td>\n",
       "      <td>0</td>\n",
       "      <td>0</td>\n",
       "      <td>0</td>\n",
       "      <td>0</td>\n",
       "      <td>0</td>\n",
       "      <td>0</td>\n",
       "      <td>NaN</td>\n",
       "      <td>NaN</td>\n",
       "      <td>NaN</td>\n",
       "      <td>0</td>\n",
       "    </tr>\n",
       "    <tr>\n",
       "      <th>445</th>\n",
       "      <td>Typ</td>\n",
       "      <td>0</td>\n",
       "      <td>NaN</td>\n",
       "      <td>NaN</td>\n",
       "      <td>NaN</td>\n",
       "      <td>NaN</td>\n",
       "      <td>0.0</td>\n",
       "      <td>0.0</td>\n",
       "      <td>NaN</td>\n",
       "      <td>NaN</td>\n",
       "      <td>...</td>\n",
       "      <td>96</td>\n",
       "      <td>80</td>\n",
       "      <td>0</td>\n",
       "      <td>0</td>\n",
       "      <td>0</td>\n",
       "      <td>0</td>\n",
       "      <td>NaN</td>\n",
       "      <td>NaN</td>\n",
       "      <td>NaN</td>\n",
       "      <td>0</td>\n",
       "    </tr>\n",
       "    <tr>\n",
       "      <th>457</th>\n",
       "      <td>Typ</td>\n",
       "      <td>0</td>\n",
       "      <td>NaN</td>\n",
       "      <td>NaN</td>\n",
       "      <td>NaN</td>\n",
       "      <td>NaN</td>\n",
       "      <td>0.0</td>\n",
       "      <td>0.0</td>\n",
       "      <td>NaN</td>\n",
       "      <td>NaN</td>\n",
       "      <td>...</td>\n",
       "      <td>0</td>\n",
       "      <td>112</td>\n",
       "      <td>0</td>\n",
       "      <td>0</td>\n",
       "      <td>0</td>\n",
       "      <td>0</td>\n",
       "      <td>NaN</td>\n",
       "      <td>NaN</td>\n",
       "      <td>NaN</td>\n",
       "      <td>0</td>\n",
       "    </tr>\n",
       "    <tr>\n",
       "      <th>486</th>\n",
       "      <td>Typ</td>\n",
       "      <td>1</td>\n",
       "      <td>Gd</td>\n",
       "      <td>NaN</td>\n",
       "      <td>NaN</td>\n",
       "      <td>NaN</td>\n",
       "      <td>0.0</td>\n",
       "      <td>0.0</td>\n",
       "      <td>NaN</td>\n",
       "      <td>NaN</td>\n",
       "      <td>...</td>\n",
       "      <td>0</td>\n",
       "      <td>291</td>\n",
       "      <td>134</td>\n",
       "      <td>0</td>\n",
       "      <td>0</td>\n",
       "      <td>0</td>\n",
       "      <td>NaN</td>\n",
       "      <td>NaN</td>\n",
       "      <td>NaN</td>\n",
       "      <td>0</td>\n",
       "    </tr>\n",
       "    <tr>\n",
       "      <th>530</th>\n",
       "      <td>Typ</td>\n",
       "      <td>0</td>\n",
       "      <td>NaN</td>\n",
       "      <td>NaN</td>\n",
       "      <td>NaN</td>\n",
       "      <td>NaN</td>\n",
       "      <td>0.0</td>\n",
       "      <td>0.0</td>\n",
       "      <td>NaN</td>\n",
       "      <td>NaN</td>\n",
       "      <td>...</td>\n",
       "      <td>0</td>\n",
       "      <td>0</td>\n",
       "      <td>0</td>\n",
       "      <td>0</td>\n",
       "      <td>0</td>\n",
       "      <td>0</td>\n",
       "      <td>NaN</td>\n",
       "      <td>NaN</td>\n",
       "      <td>NaN</td>\n",
       "      <td>0</td>\n",
       "    </tr>\n",
       "    <tr>\n",
       "      <th>542</th>\n",
       "      <td>Typ</td>\n",
       "      <td>0</td>\n",
       "      <td>NaN</td>\n",
       "      <td>NaN</td>\n",
       "      <td>NaN</td>\n",
       "      <td>NaN</td>\n",
       "      <td>0.0</td>\n",
       "      <td>0.0</td>\n",
       "      <td>NaN</td>\n",
       "      <td>NaN</td>\n",
       "      <td>...</td>\n",
       "      <td>140</td>\n",
       "      <td>0</td>\n",
       "      <td>0</td>\n",
       "      <td>0</td>\n",
       "      <td>0</td>\n",
       "      <td>0</td>\n",
       "      <td>NaN</td>\n",
       "      <td>NaN</td>\n",
       "      <td>NaN</td>\n",
       "      <td>0</td>\n",
       "    </tr>\n",
       "    <tr>\n",
       "      <th>555</th>\n",
       "      <td>Typ</td>\n",
       "      <td>0</td>\n",
       "      <td>NaN</td>\n",
       "      <td>NaN</td>\n",
       "      <td>NaN</td>\n",
       "      <td>NaN</td>\n",
       "      <td>0.0</td>\n",
       "      <td>0.0</td>\n",
       "      <td>NaN</td>\n",
       "      <td>NaN</td>\n",
       "      <td>...</td>\n",
       "      <td>0</td>\n",
       "      <td>144</td>\n",
       "      <td>0</td>\n",
       "      <td>0</td>\n",
       "      <td>0</td>\n",
       "      <td>0</td>\n",
       "      <td>NaN</td>\n",
       "      <td>MnPrv</td>\n",
       "      <td>NaN</td>\n",
       "      <td>0</td>\n",
       "    </tr>\n",
       "    <tr>\n",
       "      <th>...</th>\n",
       "      <td>...</td>\n",
       "      <td>...</td>\n",
       "      <td>...</td>\n",
       "      <td>...</td>\n",
       "      <td>...</td>\n",
       "      <td>...</td>\n",
       "      <td>...</td>\n",
       "      <td>...</td>\n",
       "      <td>...</td>\n",
       "      <td>...</td>\n",
       "      <td>...</td>\n",
       "      <td>...</td>\n",
       "      <td>...</td>\n",
       "      <td>...</td>\n",
       "      <td>...</td>\n",
       "      <td>...</td>\n",
       "      <td>...</td>\n",
       "      <td>...</td>\n",
       "      <td>...</td>\n",
       "      <td>...</td>\n",
       "      <td>...</td>\n",
       "    </tr>\n",
       "    <tr>\n",
       "      <th>1451</th>\n",
       "      <td>Typ</td>\n",
       "      <td>0</td>\n",
       "      <td>NaN</td>\n",
       "      <td>NaN</td>\n",
       "      <td>NaN</td>\n",
       "      <td>NaN</td>\n",
       "      <td>0.0</td>\n",
       "      <td>0.0</td>\n",
       "      <td>NaN</td>\n",
       "      <td>NaN</td>\n",
       "      <td>...</td>\n",
       "      <td>0</td>\n",
       "      <td>0</td>\n",
       "      <td>0</td>\n",
       "      <td>0</td>\n",
       "      <td>0</td>\n",
       "      <td>0</td>\n",
       "      <td>NaN</td>\n",
       "      <td>NaN</td>\n",
       "      <td>NaN</td>\n",
       "      <td>0</td>\n",
       "    </tr>\n",
       "    <tr>\n",
       "      <th>1464</th>\n",
       "      <td>Typ</td>\n",
       "      <td>0</td>\n",
       "      <td>NaN</td>\n",
       "      <td>NaN</td>\n",
       "      <td>NaN</td>\n",
       "      <td>NaN</td>\n",
       "      <td>0.0</td>\n",
       "      <td>0.0</td>\n",
       "      <td>NaN</td>\n",
       "      <td>NaN</td>\n",
       "      <td>...</td>\n",
       "      <td>117</td>\n",
       "      <td>0</td>\n",
       "      <td>0</td>\n",
       "      <td>0</td>\n",
       "      <td>0</td>\n",
       "      <td>0</td>\n",
       "      <td>NaN</td>\n",
       "      <td>NaN</td>\n",
       "      <td>NaN</td>\n",
       "      <td>0</td>\n",
       "    </tr>\n",
       "    <tr>\n",
       "      <th>1511</th>\n",
       "      <td>Typ</td>\n",
       "      <td>0</td>\n",
       "      <td>NaN</td>\n",
       "      <td>NaN</td>\n",
       "      <td>NaN</td>\n",
       "      <td>NaN</td>\n",
       "      <td>0.0</td>\n",
       "      <td>0.0</td>\n",
       "      <td>NaN</td>\n",
       "      <td>NaN</td>\n",
       "      <td>...</td>\n",
       "      <td>0</td>\n",
       "      <td>0</td>\n",
       "      <td>0</td>\n",
       "      <td>0</td>\n",
       "      <td>0</td>\n",
       "      <td>0</td>\n",
       "      <td>NaN</td>\n",
       "      <td>MnPrv</td>\n",
       "      <td>NaN</td>\n",
       "      <td>0</td>\n",
       "    </tr>\n",
       "    <tr>\n",
       "      <th>1519</th>\n",
       "      <td>Typ</td>\n",
       "      <td>0</td>\n",
       "      <td>NaN</td>\n",
       "      <td>NaN</td>\n",
       "      <td>NaN</td>\n",
       "      <td>NaN</td>\n",
       "      <td>0.0</td>\n",
       "      <td>0.0</td>\n",
       "      <td>NaN</td>\n",
       "      <td>NaN</td>\n",
       "      <td>...</td>\n",
       "      <td>0</td>\n",
       "      <td>0</td>\n",
       "      <td>0</td>\n",
       "      <td>0</td>\n",
       "      <td>0</td>\n",
       "      <td>0</td>\n",
       "      <td>NaN</td>\n",
       "      <td>NaN</td>\n",
       "      <td>NaN</td>\n",
       "      <td>0</td>\n",
       "    </tr>\n",
       "    <tr>\n",
       "      <th>1528</th>\n",
       "      <td>Typ</td>\n",
       "      <td>0</td>\n",
       "      <td>NaN</td>\n",
       "      <td>NaN</td>\n",
       "      <td>NaN</td>\n",
       "      <td>NaN</td>\n",
       "      <td>0.0</td>\n",
       "      <td>0.0</td>\n",
       "      <td>NaN</td>\n",
       "      <td>NaN</td>\n",
       "      <td>...</td>\n",
       "      <td>0</td>\n",
       "      <td>0</td>\n",
       "      <td>96</td>\n",
       "      <td>0</td>\n",
       "      <td>0</td>\n",
       "      <td>0</td>\n",
       "      <td>NaN</td>\n",
       "      <td>NaN</td>\n",
       "      <td>NaN</td>\n",
       "      <td>0</td>\n",
       "    </tr>\n",
       "    <tr>\n",
       "      <th>1544</th>\n",
       "      <td>Typ</td>\n",
       "      <td>0</td>\n",
       "      <td>NaN</td>\n",
       "      <td>NaN</td>\n",
       "      <td>NaN</td>\n",
       "      <td>NaN</td>\n",
       "      <td>0.0</td>\n",
       "      <td>0.0</td>\n",
       "      <td>NaN</td>\n",
       "      <td>NaN</td>\n",
       "      <td>...</td>\n",
       "      <td>0</td>\n",
       "      <td>0</td>\n",
       "      <td>0</td>\n",
       "      <td>0</td>\n",
       "      <td>0</td>\n",
       "      <td>0</td>\n",
       "      <td>NaN</td>\n",
       "      <td>NaN</td>\n",
       "      <td>NaN</td>\n",
       "      <td>0</td>\n",
       "    </tr>\n",
       "    <tr>\n",
       "      <th>1545</th>\n",
       "      <td>Typ</td>\n",
       "      <td>0</td>\n",
       "      <td>NaN</td>\n",
       "      <td>NaN</td>\n",
       "      <td>NaN</td>\n",
       "      <td>NaN</td>\n",
       "      <td>0.0</td>\n",
       "      <td>0.0</td>\n",
       "      <td>NaN</td>\n",
       "      <td>NaN</td>\n",
       "      <td>...</td>\n",
       "      <td>32</td>\n",
       "      <td>45</td>\n",
       "      <td>0</td>\n",
       "      <td>0</td>\n",
       "      <td>0</td>\n",
       "      <td>0</td>\n",
       "      <td>NaN</td>\n",
       "      <td>NaN</td>\n",
       "      <td>NaN</td>\n",
       "      <td>0</td>\n",
       "    </tr>\n",
       "    <tr>\n",
       "      <th>1563</th>\n",
       "      <td>Maj1</td>\n",
       "      <td>1</td>\n",
       "      <td>Gd</td>\n",
       "      <td>NaN</td>\n",
       "      <td>NaN</td>\n",
       "      <td>NaN</td>\n",
       "      <td>0.0</td>\n",
       "      <td>0.0</td>\n",
       "      <td>NaN</td>\n",
       "      <td>NaN</td>\n",
       "      <td>...</td>\n",
       "      <td>122</td>\n",
       "      <td>0</td>\n",
       "      <td>0</td>\n",
       "      <td>0</td>\n",
       "      <td>0</td>\n",
       "      <td>0</td>\n",
       "      <td>NaN</td>\n",
       "      <td>MnPrv</td>\n",
       "      <td>NaN</td>\n",
       "      <td>0</td>\n",
       "    </tr>\n",
       "    <tr>\n",
       "      <th>1564</th>\n",
       "      <td>Typ</td>\n",
       "      <td>0</td>\n",
       "      <td>NaN</td>\n",
       "      <td>NaN</td>\n",
       "      <td>NaN</td>\n",
       "      <td>NaN</td>\n",
       "      <td>0.0</td>\n",
       "      <td>0.0</td>\n",
       "      <td>NaN</td>\n",
       "      <td>NaN</td>\n",
       "      <td>...</td>\n",
       "      <td>0</td>\n",
       "      <td>0</td>\n",
       "      <td>0</td>\n",
       "      <td>0</td>\n",
       "      <td>0</td>\n",
       "      <td>0</td>\n",
       "      <td>NaN</td>\n",
       "      <td>GdWo</td>\n",
       "      <td>NaN</td>\n",
       "      <td>0</td>\n",
       "    </tr>\n",
       "    <tr>\n",
       "      <th>1584</th>\n",
       "      <td>Typ</td>\n",
       "      <td>0</td>\n",
       "      <td>NaN</td>\n",
       "      <td>NaN</td>\n",
       "      <td>NaN</td>\n",
       "      <td>NaN</td>\n",
       "      <td>0.0</td>\n",
       "      <td>0.0</td>\n",
       "      <td>NaN</td>\n",
       "      <td>NaN</td>\n",
       "      <td>...</td>\n",
       "      <td>120</td>\n",
       "      <td>0</td>\n",
       "      <td>0</td>\n",
       "      <td>0</td>\n",
       "      <td>0</td>\n",
       "      <td>0</td>\n",
       "      <td>NaN</td>\n",
       "      <td>NaN</td>\n",
       "      <td>NaN</td>\n",
       "      <td>0</td>\n",
       "    </tr>\n",
       "    <tr>\n",
       "      <th>1594</th>\n",
       "      <td>Typ</td>\n",
       "      <td>0</td>\n",
       "      <td>NaN</td>\n",
       "      <td>NaN</td>\n",
       "      <td>NaN</td>\n",
       "      <td>NaN</td>\n",
       "      <td>0.0</td>\n",
       "      <td>0.0</td>\n",
       "      <td>NaN</td>\n",
       "      <td>NaN</td>\n",
       "      <td>...</td>\n",
       "      <td>0</td>\n",
       "      <td>0</td>\n",
       "      <td>0</td>\n",
       "      <td>0</td>\n",
       "      <td>0</td>\n",
       "      <td>0</td>\n",
       "      <td>NaN</td>\n",
       "      <td>NaN</td>\n",
       "      <td>NaN</td>\n",
       "      <td>0</td>\n",
       "    </tr>\n",
       "    <tr>\n",
       "      <th>1634</th>\n",
       "      <td>Typ</td>\n",
       "      <td>0</td>\n",
       "      <td>NaN</td>\n",
       "      <td>NaN</td>\n",
       "      <td>NaN</td>\n",
       "      <td>NaN</td>\n",
       "      <td>0.0</td>\n",
       "      <td>0.0</td>\n",
       "      <td>NaN</td>\n",
       "      <td>NaN</td>\n",
       "      <td>...</td>\n",
       "      <td>0</td>\n",
       "      <td>0</td>\n",
       "      <td>0</td>\n",
       "      <td>0</td>\n",
       "      <td>0</td>\n",
       "      <td>0</td>\n",
       "      <td>NaN</td>\n",
       "      <td>NaN</td>\n",
       "      <td>NaN</td>\n",
       "      <td>0</td>\n",
       "    </tr>\n",
       "    <tr>\n",
       "      <th>1705</th>\n",
       "      <td>Typ</td>\n",
       "      <td>0</td>\n",
       "      <td>NaN</td>\n",
       "      <td>NaN</td>\n",
       "      <td>NaN</td>\n",
       "      <td>NaN</td>\n",
       "      <td>0.0</td>\n",
       "      <td>0.0</td>\n",
       "      <td>NaN</td>\n",
       "      <td>NaN</td>\n",
       "      <td>...</td>\n",
       "      <td>0</td>\n",
       "      <td>0</td>\n",
       "      <td>0</td>\n",
       "      <td>0</td>\n",
       "      <td>0</td>\n",
       "      <td>0</td>\n",
       "      <td>NaN</td>\n",
       "      <td>MnPrv</td>\n",
       "      <td>NaN</td>\n",
       "      <td>0</td>\n",
       "    </tr>\n",
       "    <tr>\n",
       "      <th>1711</th>\n",
       "      <td>Typ</td>\n",
       "      <td>0</td>\n",
       "      <td>NaN</td>\n",
       "      <td>NaN</td>\n",
       "      <td>NaN</td>\n",
       "      <td>NaN</td>\n",
       "      <td>0.0</td>\n",
       "      <td>0.0</td>\n",
       "      <td>NaN</td>\n",
       "      <td>NaN</td>\n",
       "      <td>...</td>\n",
       "      <td>0</td>\n",
       "      <td>0</td>\n",
       "      <td>0</td>\n",
       "      <td>0</td>\n",
       "      <td>0</td>\n",
       "      <td>0</td>\n",
       "      <td>NaN</td>\n",
       "      <td>NaN</td>\n",
       "      <td>NaN</td>\n",
       "      <td>0</td>\n",
       "    </tr>\n",
       "    <tr>\n",
       "      <th>1736</th>\n",
       "      <td>Typ</td>\n",
       "      <td>2</td>\n",
       "      <td>TA</td>\n",
       "      <td>NaN</td>\n",
       "      <td>NaN</td>\n",
       "      <td>NaN</td>\n",
       "      <td>0.0</td>\n",
       "      <td>0.0</td>\n",
       "      <td>NaN</td>\n",
       "      <td>NaN</td>\n",
       "      <td>...</td>\n",
       "      <td>0</td>\n",
       "      <td>0</td>\n",
       "      <td>0</td>\n",
       "      <td>0</td>\n",
       "      <td>0</td>\n",
       "      <td>0</td>\n",
       "      <td>NaN</td>\n",
       "      <td>GdWo</td>\n",
       "      <td>NaN</td>\n",
       "      <td>0</td>\n",
       "    </tr>\n",
       "    <tr>\n",
       "      <th>1754</th>\n",
       "      <td>Typ</td>\n",
       "      <td>0</td>\n",
       "      <td>NaN</td>\n",
       "      <td>NaN</td>\n",
       "      <td>NaN</td>\n",
       "      <td>NaN</td>\n",
       "      <td>0.0</td>\n",
       "      <td>0.0</td>\n",
       "      <td>NaN</td>\n",
       "      <td>NaN</td>\n",
       "      <td>...</td>\n",
       "      <td>0</td>\n",
       "      <td>96</td>\n",
       "      <td>0</td>\n",
       "      <td>0</td>\n",
       "      <td>0</td>\n",
       "      <td>0</td>\n",
       "      <td>NaN</td>\n",
       "      <td>NaN</td>\n",
       "      <td>NaN</td>\n",
       "      <td>0</td>\n",
       "    </tr>\n",
       "    <tr>\n",
       "      <th>1783</th>\n",
       "      <td>Typ</td>\n",
       "      <td>0</td>\n",
       "      <td>NaN</td>\n",
       "      <td>NaN</td>\n",
       "      <td>NaN</td>\n",
       "      <td>NaN</td>\n",
       "      <td>0.0</td>\n",
       "      <td>0.0</td>\n",
       "      <td>NaN</td>\n",
       "      <td>NaN</td>\n",
       "      <td>...</td>\n",
       "      <td>0</td>\n",
       "      <td>0</td>\n",
       "      <td>0</td>\n",
       "      <td>0</td>\n",
       "      <td>0</td>\n",
       "      <td>0</td>\n",
       "      <td>NaN</td>\n",
       "      <td>GdWo</td>\n",
       "      <td>NaN</td>\n",
       "      <td>0</td>\n",
       "    </tr>\n",
       "    <tr>\n",
       "      <th>1788</th>\n",
       "      <td>Typ</td>\n",
       "      <td>0</td>\n",
       "      <td>NaN</td>\n",
       "      <td>NaN</td>\n",
       "      <td>NaN</td>\n",
       "      <td>NaN</td>\n",
       "      <td>0.0</td>\n",
       "      <td>0.0</td>\n",
       "      <td>NaN</td>\n",
       "      <td>NaN</td>\n",
       "      <td>...</td>\n",
       "      <td>0</td>\n",
       "      <td>0</td>\n",
       "      <td>0</td>\n",
       "      <td>0</td>\n",
       "      <td>0</td>\n",
       "      <td>0</td>\n",
       "      <td>NaN</td>\n",
       "      <td>NaN</td>\n",
       "      <td>NaN</td>\n",
       "      <td>0</td>\n",
       "    </tr>\n",
       "    <tr>\n",
       "      <th>1799</th>\n",
       "      <td>Typ</td>\n",
       "      <td>0</td>\n",
       "      <td>NaN</td>\n",
       "      <td>NaN</td>\n",
       "      <td>NaN</td>\n",
       "      <td>NaN</td>\n",
       "      <td>0.0</td>\n",
       "      <td>0.0</td>\n",
       "      <td>NaN</td>\n",
       "      <td>NaN</td>\n",
       "      <td>...</td>\n",
       "      <td>0</td>\n",
       "      <td>200</td>\n",
       "      <td>0</td>\n",
       "      <td>0</td>\n",
       "      <td>0</td>\n",
       "      <td>0</td>\n",
       "      <td>NaN</td>\n",
       "      <td>NaN</td>\n",
       "      <td>NaN</td>\n",
       "      <td>0</td>\n",
       "    </tr>\n",
       "    <tr>\n",
       "      <th>1814</th>\n",
       "      <td>Typ</td>\n",
       "      <td>0</td>\n",
       "      <td>NaN</td>\n",
       "      <td>NaN</td>\n",
       "      <td>NaN</td>\n",
       "      <td>NaN</td>\n",
       "      <td>0.0</td>\n",
       "      <td>0.0</td>\n",
       "      <td>NaN</td>\n",
       "      <td>NaN</td>\n",
       "      <td>...</td>\n",
       "      <td>0</td>\n",
       "      <td>151</td>\n",
       "      <td>0</td>\n",
       "      <td>0</td>\n",
       "      <td>0</td>\n",
       "      <td>0</td>\n",
       "      <td>NaN</td>\n",
       "      <td>NaN</td>\n",
       "      <td>NaN</td>\n",
       "      <td>0</td>\n",
       "    </tr>\n",
       "    <tr>\n",
       "      <th>1841</th>\n",
       "      <td>Typ</td>\n",
       "      <td>0</td>\n",
       "      <td>NaN</td>\n",
       "      <td>NaN</td>\n",
       "      <td>NaN</td>\n",
       "      <td>NaN</td>\n",
       "      <td>0.0</td>\n",
       "      <td>0.0</td>\n",
       "      <td>NaN</td>\n",
       "      <td>NaN</td>\n",
       "      <td>...</td>\n",
       "      <td>0</td>\n",
       "      <td>130</td>\n",
       "      <td>256</td>\n",
       "      <td>0</td>\n",
       "      <td>0</td>\n",
       "      <td>0</td>\n",
       "      <td>NaN</td>\n",
       "      <td>NaN</td>\n",
       "      <td>NaN</td>\n",
       "      <td>0</td>\n",
       "    </tr>\n",
       "    <tr>\n",
       "      <th>1893</th>\n",
       "      <td>Typ</td>\n",
       "      <td>0</td>\n",
       "      <td>NaN</td>\n",
       "      <td>NaN</td>\n",
       "      <td>NaN</td>\n",
       "      <td>NaN</td>\n",
       "      <td>0.0</td>\n",
       "      <td>0.0</td>\n",
       "      <td>NaN</td>\n",
       "      <td>NaN</td>\n",
       "      <td>...</td>\n",
       "      <td>328</td>\n",
       "      <td>0</td>\n",
       "      <td>164</td>\n",
       "      <td>0</td>\n",
       "      <td>0</td>\n",
       "      <td>0</td>\n",
       "      <td>NaN</td>\n",
       "      <td>MnPrv</td>\n",
       "      <td>NaN</td>\n",
       "      <td>0</td>\n",
       "    </tr>\n",
       "    <tr>\n",
       "      <th>1927</th>\n",
       "      <td>Typ</td>\n",
       "      <td>0</td>\n",
       "      <td>NaN</td>\n",
       "      <td>NaN</td>\n",
       "      <td>NaN</td>\n",
       "      <td>NaN</td>\n",
       "      <td>0.0</td>\n",
       "      <td>0.0</td>\n",
       "      <td>NaN</td>\n",
       "      <td>NaN</td>\n",
       "      <td>...</td>\n",
       "      <td>0</td>\n",
       "      <td>52</td>\n",
       "      <td>0</td>\n",
       "      <td>0</td>\n",
       "      <td>0</td>\n",
       "      <td>0</td>\n",
       "      <td>NaN</td>\n",
       "      <td>NaN</td>\n",
       "      <td>NaN</td>\n",
       "      <td>0</td>\n",
       "    </tr>\n",
       "    <tr>\n",
       "      <th>1952</th>\n",
       "      <td>Typ</td>\n",
       "      <td>0</td>\n",
       "      <td>NaN</td>\n",
       "      <td>NaN</td>\n",
       "      <td>NaN</td>\n",
       "      <td>NaN</td>\n",
       "      <td>0.0</td>\n",
       "      <td>0.0</td>\n",
       "      <td>NaN</td>\n",
       "      <td>NaN</td>\n",
       "      <td>...</td>\n",
       "      <td>0</td>\n",
       "      <td>20</td>\n",
       "      <td>0</td>\n",
       "      <td>0</td>\n",
       "      <td>0</td>\n",
       "      <td>0</td>\n",
       "      <td>NaN</td>\n",
       "      <td>NaN</td>\n",
       "      <td>NaN</td>\n",
       "      <td>0</td>\n",
       "    </tr>\n",
       "    <tr>\n",
       "      <th>1982</th>\n",
       "      <td>Typ</td>\n",
       "      <td>0</td>\n",
       "      <td>NaN</td>\n",
       "      <td>NaN</td>\n",
       "      <td>NaN</td>\n",
       "      <td>NaN</td>\n",
       "      <td>0.0</td>\n",
       "      <td>0.0</td>\n",
       "      <td>NaN</td>\n",
       "      <td>NaN</td>\n",
       "      <td>...</td>\n",
       "      <td>88</td>\n",
       "      <td>0</td>\n",
       "      <td>0</td>\n",
       "      <td>0</td>\n",
       "      <td>0</td>\n",
       "      <td>0</td>\n",
       "      <td>NaN</td>\n",
       "      <td>NaN</td>\n",
       "      <td>NaN</td>\n",
       "      <td>0</td>\n",
       "    </tr>\n",
       "    <tr>\n",
       "      <th>1991</th>\n",
       "      <td>Typ</td>\n",
       "      <td>0</td>\n",
       "      <td>NaN</td>\n",
       "      <td>NaN</td>\n",
       "      <td>NaN</td>\n",
       "      <td>NaN</td>\n",
       "      <td>0.0</td>\n",
       "      <td>0.0</td>\n",
       "      <td>NaN</td>\n",
       "      <td>NaN</td>\n",
       "      <td>...</td>\n",
       "      <td>128</td>\n",
       "      <td>0</td>\n",
       "      <td>0</td>\n",
       "      <td>0</td>\n",
       "      <td>0</td>\n",
       "      <td>0</td>\n",
       "      <td>NaN</td>\n",
       "      <td>NaN</td>\n",
       "      <td>NaN</td>\n",
       "      <td>0</td>\n",
       "    </tr>\n",
       "    <tr>\n",
       "      <th>2010</th>\n",
       "      <td>Mod</td>\n",
       "      <td>0</td>\n",
       "      <td>NaN</td>\n",
       "      <td>NaN</td>\n",
       "      <td>NaN</td>\n",
       "      <td>NaN</td>\n",
       "      <td>0.0</td>\n",
       "      <td>0.0</td>\n",
       "      <td>NaN</td>\n",
       "      <td>NaN</td>\n",
       "      <td>...</td>\n",
       "      <td>0</td>\n",
       "      <td>0</td>\n",
       "      <td>23</td>\n",
       "      <td>0</td>\n",
       "      <td>0</td>\n",
       "      <td>0</td>\n",
       "      <td>NaN</td>\n",
       "      <td>NaN</td>\n",
       "      <td>NaN</td>\n",
       "      <td>0</td>\n",
       "    </tr>\n",
       "    <tr>\n",
       "      <th>2027</th>\n",
       "      <td>Typ</td>\n",
       "      <td>0</td>\n",
       "      <td>NaN</td>\n",
       "      <td>NaN</td>\n",
       "      <td>NaN</td>\n",
       "      <td>NaN</td>\n",
       "      <td>0.0</td>\n",
       "      <td>0.0</td>\n",
       "      <td>NaN</td>\n",
       "      <td>NaN</td>\n",
       "      <td>...</td>\n",
       "      <td>0</td>\n",
       "      <td>0</td>\n",
       "      <td>0</td>\n",
       "      <td>0</td>\n",
       "      <td>0</td>\n",
       "      <td>0</td>\n",
       "      <td>NaN</td>\n",
       "      <td>NaN</td>\n",
       "      <td>NaN</td>\n",
       "      <td>0</td>\n",
       "    </tr>\n",
       "    <tr>\n",
       "      <th>2039</th>\n",
       "      <td>Typ</td>\n",
       "      <td>0</td>\n",
       "      <td>NaN</td>\n",
       "      <td>NaN</td>\n",
       "      <td>NaN</td>\n",
       "      <td>NaN</td>\n",
       "      <td>0.0</td>\n",
       "      <td>0.0</td>\n",
       "      <td>NaN</td>\n",
       "      <td>NaN</td>\n",
       "      <td>...</td>\n",
       "      <td>0</td>\n",
       "      <td>64</td>\n",
       "      <td>0</td>\n",
       "      <td>0</td>\n",
       "      <td>0</td>\n",
       "      <td>0</td>\n",
       "      <td>NaN</td>\n",
       "      <td>NaN</td>\n",
       "      <td>NaN</td>\n",
       "      <td>0</td>\n",
       "    </tr>\n",
       "    <tr>\n",
       "      <th>2042</th>\n",
       "      <td>Typ</td>\n",
       "      <td>1</td>\n",
       "      <td>Gd</td>\n",
       "      <td>NaN</td>\n",
       "      <td>NaN</td>\n",
       "      <td>NaN</td>\n",
       "      <td>0.0</td>\n",
       "      <td>0.0</td>\n",
       "      <td>NaN</td>\n",
       "      <td>NaN</td>\n",
       "      <td>...</td>\n",
       "      <td>0</td>\n",
       "      <td>0</td>\n",
       "      <td>112</td>\n",
       "      <td>0</td>\n",
       "      <td>0</td>\n",
       "      <td>0</td>\n",
       "      <td>NaN</td>\n",
       "      <td>NaN</td>\n",
       "      <td>NaN</td>\n",
       "      <td>0</td>\n",
       "    </tr>\n",
       "  </tbody>\n",
       "</table>\n",
       "<p>113 rows × 21 columns</p>\n",
       "</div>"
      ],
      "text/plain": [
       "     Functional  Fireplaces Fireplace Qu Garage Type  Garage Yr Blt  \\\n",
       "28          Typ           0          NaN         NaN            NaN   \n",
       "53          Typ           0          NaN         NaN            NaN   \n",
       "65          Typ           0          NaN         NaN            NaN   \n",
       "79          Typ           0          NaN         NaN            NaN   \n",
       "101         Typ           0          NaN         NaN            NaN   \n",
       "103         Typ           0          NaN         NaN            NaN   \n",
       "114        Min2           0          NaN         NaN            NaN   \n",
       "120         Typ           1           Gd         NaN            NaN   \n",
       "134         Typ           0          NaN         NaN            NaN   \n",
       "136         Typ           0          NaN         NaN            NaN   \n",
       "139         Typ           0          NaN         NaN            NaN   \n",
       "162         Sev           0          NaN         NaN            NaN   \n",
       "235         Typ           0          NaN         NaN            NaN   \n",
       "256        Min2           1           Gd         NaN            NaN   \n",
       "260         Mod           0          NaN         NaN            NaN   \n",
       "264         Typ           0          NaN         NaN            NaN   \n",
       "276         Typ           0          NaN         NaN            NaN   \n",
       "334         Typ           0          NaN         NaN            NaN   \n",
       "356         Typ           0          NaN         NaN            NaN   \n",
       "382         Typ           0          NaN         NaN            NaN   \n",
       "406         Typ           0          NaN         NaN            NaN   \n",
       "409         Typ           0          NaN         NaN            NaN   \n",
       "426        Min2           0          NaN         NaN            NaN   \n",
       "437         Typ           0          NaN         NaN            NaN   \n",
       "445         Typ           0          NaN         NaN            NaN   \n",
       "457         Typ           0          NaN         NaN            NaN   \n",
       "486         Typ           1           Gd         NaN            NaN   \n",
       "530         Typ           0          NaN         NaN            NaN   \n",
       "542         Typ           0          NaN         NaN            NaN   \n",
       "555         Typ           0          NaN         NaN            NaN   \n",
       "...         ...         ...          ...         ...            ...   \n",
       "1451        Typ           0          NaN         NaN            NaN   \n",
       "1464        Typ           0          NaN         NaN            NaN   \n",
       "1511        Typ           0          NaN         NaN            NaN   \n",
       "1519        Typ           0          NaN         NaN            NaN   \n",
       "1528        Typ           0          NaN         NaN            NaN   \n",
       "1544        Typ           0          NaN         NaN            NaN   \n",
       "1545        Typ           0          NaN         NaN            NaN   \n",
       "1563       Maj1           1           Gd         NaN            NaN   \n",
       "1564        Typ           0          NaN         NaN            NaN   \n",
       "1584        Typ           0          NaN         NaN            NaN   \n",
       "1594        Typ           0          NaN         NaN            NaN   \n",
       "1634        Typ           0          NaN         NaN            NaN   \n",
       "1705        Typ           0          NaN         NaN            NaN   \n",
       "1711        Typ           0          NaN         NaN            NaN   \n",
       "1736        Typ           2           TA         NaN            NaN   \n",
       "1754        Typ           0          NaN         NaN            NaN   \n",
       "1783        Typ           0          NaN         NaN            NaN   \n",
       "1788        Typ           0          NaN         NaN            NaN   \n",
       "1799        Typ           0          NaN         NaN            NaN   \n",
       "1814        Typ           0          NaN         NaN            NaN   \n",
       "1841        Typ           0          NaN         NaN            NaN   \n",
       "1893        Typ           0          NaN         NaN            NaN   \n",
       "1927        Typ           0          NaN         NaN            NaN   \n",
       "1952        Typ           0          NaN         NaN            NaN   \n",
       "1982        Typ           0          NaN         NaN            NaN   \n",
       "1991        Typ           0          NaN         NaN            NaN   \n",
       "2010        Mod           0          NaN         NaN            NaN   \n",
       "2027        Typ           0          NaN         NaN            NaN   \n",
       "2039        Typ           0          NaN         NaN            NaN   \n",
       "2042        Typ           1           Gd         NaN            NaN   \n",
       "\n",
       "     Garage Finish  Garage Cars  Garage Area Garage Qual Garage Cond  ...  \\\n",
       "28             NaN          0.0          0.0         NaN         NaN  ...   \n",
       "53             NaN          0.0          0.0         NaN         NaN  ...   \n",
       "65             NaN          0.0          0.0         NaN         NaN  ...   \n",
       "79             NaN          0.0          0.0         NaN         NaN  ...   \n",
       "101            NaN          0.0          0.0         NaN         NaN  ...   \n",
       "103            NaN          0.0          0.0         NaN         NaN  ...   \n",
       "114            NaN          0.0          0.0         NaN         NaN  ...   \n",
       "120            NaN          0.0          0.0         NaN         NaN  ...   \n",
       "134            NaN          0.0          0.0         NaN         NaN  ...   \n",
       "136            NaN          0.0          0.0         NaN         NaN  ...   \n",
       "139            NaN          0.0          0.0         NaN         NaN  ...   \n",
       "162            NaN          0.0          0.0         NaN         NaN  ...   \n",
       "235            NaN          0.0          0.0         NaN         NaN  ...   \n",
       "256            NaN          0.0          0.0         NaN         NaN  ...   \n",
       "260            NaN          0.0          0.0         NaN         NaN  ...   \n",
       "264            NaN          0.0          0.0         NaN         NaN  ...   \n",
       "276            NaN          0.0          0.0         NaN         NaN  ...   \n",
       "334            NaN          0.0          0.0         NaN         NaN  ...   \n",
       "356            NaN          0.0          0.0         NaN         NaN  ...   \n",
       "382            NaN          0.0          0.0         NaN         NaN  ...   \n",
       "406            NaN          0.0          0.0         NaN         NaN  ...   \n",
       "409            NaN          0.0          0.0         NaN         NaN  ...   \n",
       "426            NaN          0.0          0.0         NaN         NaN  ...   \n",
       "437            NaN          0.0          0.0         NaN         NaN  ...   \n",
       "445            NaN          0.0          0.0         NaN         NaN  ...   \n",
       "457            NaN          0.0          0.0         NaN         NaN  ...   \n",
       "486            NaN          0.0          0.0         NaN         NaN  ...   \n",
       "530            NaN          0.0          0.0         NaN         NaN  ...   \n",
       "542            NaN          0.0          0.0         NaN         NaN  ...   \n",
       "555            NaN          0.0          0.0         NaN         NaN  ...   \n",
       "...            ...          ...          ...         ...         ...  ...   \n",
       "1451           NaN          0.0          0.0         NaN         NaN  ...   \n",
       "1464           NaN          0.0          0.0         NaN         NaN  ...   \n",
       "1511           NaN          0.0          0.0         NaN         NaN  ...   \n",
       "1519           NaN          0.0          0.0         NaN         NaN  ...   \n",
       "1528           NaN          0.0          0.0         NaN         NaN  ...   \n",
       "1544           NaN          0.0          0.0         NaN         NaN  ...   \n",
       "1545           NaN          0.0          0.0         NaN         NaN  ...   \n",
       "1563           NaN          0.0          0.0         NaN         NaN  ...   \n",
       "1564           NaN          0.0          0.0         NaN         NaN  ...   \n",
       "1584           NaN          0.0          0.0         NaN         NaN  ...   \n",
       "1594           NaN          0.0          0.0         NaN         NaN  ...   \n",
       "1634           NaN          0.0          0.0         NaN         NaN  ...   \n",
       "1705           NaN          0.0          0.0         NaN         NaN  ...   \n",
       "1711           NaN          0.0          0.0         NaN         NaN  ...   \n",
       "1736           NaN          0.0          0.0         NaN         NaN  ...   \n",
       "1754           NaN          0.0          0.0         NaN         NaN  ...   \n",
       "1783           NaN          0.0          0.0         NaN         NaN  ...   \n",
       "1788           NaN          0.0          0.0         NaN         NaN  ...   \n",
       "1799           NaN          0.0          0.0         NaN         NaN  ...   \n",
       "1814           NaN          0.0          0.0         NaN         NaN  ...   \n",
       "1841           NaN          0.0          0.0         NaN         NaN  ...   \n",
       "1893           NaN          0.0          0.0         NaN         NaN  ...   \n",
       "1927           NaN          0.0          0.0         NaN         NaN  ...   \n",
       "1952           NaN          0.0          0.0         NaN         NaN  ...   \n",
       "1982           NaN          0.0          0.0         NaN         NaN  ...   \n",
       "1991           NaN          0.0          0.0         NaN         NaN  ...   \n",
       "2010           NaN          0.0          0.0         NaN         NaN  ...   \n",
       "2027           NaN          0.0          0.0         NaN         NaN  ...   \n",
       "2039           NaN          0.0          0.0         NaN         NaN  ...   \n",
       "2042           NaN          0.0          0.0         NaN         NaN  ...   \n",
       "\n",
       "     Wood Deck SF  Open Porch SF  Enclosed Porch  3Ssn Porch  Screen Porch  \\\n",
       "28              0              0             133           0             0   \n",
       "53            200             26               0           0             0   \n",
       "65              0             30               0           0             0   \n",
       "79              0              0               0         176             0   \n",
       "101             0              0             144           0             0   \n",
       "103             0             36              94           0             0   \n",
       "114             0              0             100           0             0   \n",
       "120           144              0               0           0             0   \n",
       "134             0              0              96           0             0   \n",
       "136             0              0             176           0             0   \n",
       "139           344              0               0           0           168   \n",
       "162             0             56               0           0             0   \n",
       "235             0              0             176           0             0   \n",
       "256             0             36             190           0             0   \n",
       "260           263              0               0           0             0   \n",
       "264           164              0               0           0             0   \n",
       "276            32              0               0           0             0   \n",
       "334             0              0             228           0             0   \n",
       "356             0              0             156           0             0   \n",
       "382             0            198              30           0             0   \n",
       "406           201              0               0           0             0   \n",
       "409           136              0             115           0             0   \n",
       "426             0              0               0           0             0   \n",
       "437             0              0               0           0             0   \n",
       "445            96             80               0           0             0   \n",
       "457             0            112               0           0             0   \n",
       "486             0            291             134           0             0   \n",
       "530             0              0               0           0             0   \n",
       "542           140              0               0           0             0   \n",
       "555             0            144               0           0             0   \n",
       "...           ...            ...             ...         ...           ...   \n",
       "1451            0              0               0           0             0   \n",
       "1464          117              0               0           0             0   \n",
       "1511            0              0               0           0             0   \n",
       "1519            0              0               0           0             0   \n",
       "1528            0              0              96           0             0   \n",
       "1544            0              0               0           0             0   \n",
       "1545           32             45               0           0             0   \n",
       "1563          122              0               0           0             0   \n",
       "1564            0              0               0           0             0   \n",
       "1584          120              0               0           0             0   \n",
       "1594            0              0               0           0             0   \n",
       "1634            0              0               0           0             0   \n",
       "1705            0              0               0           0             0   \n",
       "1711            0              0               0           0             0   \n",
       "1736            0              0               0           0             0   \n",
       "1754            0             96               0           0             0   \n",
       "1783            0              0               0           0             0   \n",
       "1788            0              0               0           0             0   \n",
       "1799            0            200               0           0             0   \n",
       "1814            0            151               0           0             0   \n",
       "1841            0            130             256           0             0   \n",
       "1893          328              0             164           0             0   \n",
       "1927            0             52               0           0             0   \n",
       "1952            0             20               0           0             0   \n",
       "1982           88              0               0           0             0   \n",
       "1991          128              0               0           0             0   \n",
       "2010            0              0              23           0             0   \n",
       "2027            0              0               0           0             0   \n",
       "2039            0             64               0           0             0   \n",
       "2042            0              0             112           0             0   \n",
       "\n",
       "      Pool Area  Pool QC  Fence Misc Feature Misc Val  \n",
       "28            0      NaN    NaN          NaN        0  \n",
       "53            0      NaN    NaN          NaN        0  \n",
       "65            0      NaN    NaN          NaN        0  \n",
       "79            0      NaN    NaN          NaN        0  \n",
       "101           0      NaN    NaN          NaN        0  \n",
       "103           0      NaN    NaN          NaN        0  \n",
       "114           0      NaN    NaN          NaN        0  \n",
       "120           0      NaN    NaN          NaN        0  \n",
       "134           0      NaN    NaN          NaN        0  \n",
       "136           0      NaN    NaN          NaN        0  \n",
       "139           0      NaN    NaN          NaN        0  \n",
       "162           0      NaN    NaN          NaN        0  \n",
       "235           0      NaN    NaN          NaN        0  \n",
       "256           0      NaN    NaN          NaN        0  \n",
       "260           0      NaN   GdWo         Shed      450  \n",
       "264           0      NaN    NaN          NaN        0  \n",
       "276           0      NaN    NaN          NaN        0  \n",
       "334           0      NaN    NaN          NaN        0  \n",
       "356           0      NaN  MnPrv          NaN        0  \n",
       "382           0      NaN  MnPrv          NaN        0  \n",
       "406           0      NaN    NaN          NaN        0  \n",
       "409           0      NaN    NaN          NaN        0  \n",
       "426           0      NaN    NaN          NaN        0  \n",
       "437           0      NaN    NaN          NaN        0  \n",
       "445           0      NaN    NaN          NaN        0  \n",
       "457           0      NaN    NaN          NaN        0  \n",
       "486           0      NaN    NaN          NaN        0  \n",
       "530           0      NaN    NaN          NaN        0  \n",
       "542           0      NaN    NaN          NaN        0  \n",
       "555           0      NaN  MnPrv          NaN        0  \n",
       "...         ...      ...    ...          ...      ...  \n",
       "1451          0      NaN    NaN          NaN        0  \n",
       "1464          0      NaN    NaN          NaN        0  \n",
       "1511          0      NaN  MnPrv          NaN        0  \n",
       "1519          0      NaN    NaN          NaN        0  \n",
       "1528          0      NaN    NaN          NaN        0  \n",
       "1544          0      NaN    NaN          NaN        0  \n",
       "1545          0      NaN    NaN          NaN        0  \n",
       "1563          0      NaN  MnPrv          NaN        0  \n",
       "1564          0      NaN   GdWo          NaN        0  \n",
       "1584          0      NaN    NaN          NaN        0  \n",
       "1594          0      NaN    NaN          NaN        0  \n",
       "1634          0      NaN    NaN          NaN        0  \n",
       "1705          0      NaN  MnPrv          NaN        0  \n",
       "1711          0      NaN    NaN          NaN        0  \n",
       "1736          0      NaN   GdWo          NaN        0  \n",
       "1754          0      NaN    NaN          NaN        0  \n",
       "1783          0      NaN   GdWo          NaN        0  \n",
       "1788          0      NaN    NaN          NaN        0  \n",
       "1799          0      NaN    NaN          NaN        0  \n",
       "1814          0      NaN    NaN          NaN        0  \n",
       "1841          0      NaN    NaN          NaN        0  \n",
       "1893          0      NaN  MnPrv          NaN        0  \n",
       "1927          0      NaN    NaN          NaN        0  \n",
       "1952          0      NaN    NaN          NaN        0  \n",
       "1982          0      NaN    NaN          NaN        0  \n",
       "1991          0      NaN    NaN          NaN        0  \n",
       "2010          0      NaN    NaN          NaN        0  \n",
       "2027          0      NaN    NaN          NaN        0  \n",
       "2039          0      NaN    NaN          NaN        0  \n",
       "2042          0      NaN    NaN          NaN        0  \n",
       "\n",
       "[113 rows x 21 columns]"
      ]
     },
     "execution_count": 26,
     "metadata": {},
     "output_type": "execute_result"
    }
   ],
   "source": [
    "df[df['Garage Yr Blt'].isnull()][func_f]"
   ]
  },
  {
   "cell_type": "markdown",
   "metadata": {
    "ExecuteTime": {
     "end_time": "2019-10-08T08:40:35.884539Z",
     "start_time": "2019-10-08T08:40:35.881047Z"
    }
   },
   "source": [
    "#### There are missing values for the garage function, which also have all other missing values for the garage, indicating there is a lack of a garage. \n",
    "\n",
    "#### We can replace the rest with 0 to reflect a lack of garage, but this is not possible for the Garage Yr Blt, as it extends the scale and implies that the garage was built two thousand years ago"
   ]
  },
  {
   "cell_type": "code",
   "execution_count": 27,
   "metadata": {
    "ExecuteTime": {
     "end_time": "2019-10-11T05:14:17.746760Z",
     "start_time": "2019-10-11T05:14:17.723349Z"
    },
    "scrolled": false
   },
   "outputs": [
    {
     "data": {
      "text/plain": [
       "Neighborhood\n",
       "Blmngtn         NaN\n",
       "Blueste         NaN\n",
       "BrDale     0.052632\n",
       "BrkSide    0.118421\n",
       "ClearCr    0.037037\n",
       "CollgCr    0.011111\n",
       "Crawfor         NaN\n",
       "Edwards    0.209790\n",
       "Gilbert         NaN\n",
       "Greens          NaN\n",
       "GrnHill         NaN\n",
       "IDOTRR     0.264706\n",
       "Landmrk         NaN\n",
       "MeadowV    0.291667\n",
       "Mitchel    0.036585\n",
       "NAmes      0.025890\n",
       "NPkVill         NaN\n",
       "NWAmes          NaN\n",
       "NoRidge         NaN\n",
       "NridgHt         NaN\n",
       "OldTown    0.117284\n",
       "SWISU      0.156250\n",
       "Sawyer     0.036364\n",
       "SawyerW    0.068966\n",
       "Somerst         NaN\n",
       "StoneBr         NaN\n",
       "Timber          NaN\n",
       "Veenker         NaN\n",
       "Name: Neighborhood, dtype: float64"
      ]
     },
     "execution_count": 27,
     "metadata": {},
     "output_type": "execute_result"
    }
   ],
   "source": [
    "df[df['Garage Yr Blt'].isnull()].groupby('Neighborhood')['Neighborhood'].count()/df.groupby('Neighborhood')['Neighborhood'].count()"
   ]
  },
  {
   "cell_type": "markdown",
   "metadata": {},
   "source": [
    "**After checking that the missing garage years are missing at random by looking at percentage missing from each neighborhood\n",
    "\n",
    "\n",
    "**We write a function to impute the mean \"garage year built\" by neighborhood**"
   ]
  },
  {
   "cell_type": "code",
   "execution_count": 28,
   "metadata": {
    "ExecuteTime": {
     "end_time": "2019-10-11T05:14:17.759290Z",
     "start_time": "2019-10-11T05:14:17.749687Z"
    },
    "scrolled": false
   },
   "outputs": [],
   "source": [
    "def imputer(df,group,column):\n",
    "    meanlist={}\n",
    "    groups=list(df.groupby(group)[column].mean().index)\n",
    "    for index, year in enumerate(list(df.groupby(group)[column].mean())):\n",
    "        nb=groups[index]\n",
    "        meanlist[nb]=year\n",
    "    \n",
    "    meanmap=df['Neighborhood'].map(meanlist)\n",
    "    og=df['Garage Yr Blt']\n",
    "    og=og.where((og.notnull()),meanmap)\n",
    "    df['Garage Yr Blt']=og\n",
    "    \n",
    "    return None\n",
    "\n"
   ]
  },
  {
   "cell_type": "code",
   "execution_count": 29,
   "metadata": {
    "ExecuteTime": {
     "end_time": "2019-10-11T05:14:17.774539Z",
     "start_time": "2019-10-11T05:14:17.763168Z"
    }
   },
   "outputs": [],
   "source": [
    "imputer(df,'Neighborhood','Garage Yr Blt')"
   ]
  },
  {
   "cell_type": "markdown",
   "metadata": {},
   "source": [
    "#### Check for any garage yrs above the date range stated"
   ]
  },
  {
   "cell_type": "code",
   "execution_count": 30,
   "metadata": {
    "ExecuteTime": {
     "end_time": "2019-10-11T05:14:17.793825Z",
     "start_time": "2019-10-11T05:14:17.777024Z"
    }
   },
   "outputs": [
    {
     "data": {
      "text/html": [
       "<div>\n",
       "<style scoped>\n",
       "    .dataframe tbody tr th:only-of-type {\n",
       "        vertical-align: middle;\n",
       "    }\n",
       "\n",
       "    .dataframe tbody tr th {\n",
       "        vertical-align: top;\n",
       "    }\n",
       "\n",
       "    .dataframe thead th {\n",
       "        text-align: right;\n",
       "    }\n",
       "</style>\n",
       "<table border=\"1\" class=\"dataframe\">\n",
       "  <thead>\n",
       "    <tr style=\"text-align: right;\">\n",
       "      <th></th>\n",
       "      <th>Garage Yr Blt</th>\n",
       "      <th>Garage Area</th>\n",
       "    </tr>\n",
       "  </thead>\n",
       "  <tbody>\n",
       "    <tr>\n",
       "      <th>1699</th>\n",
       "      <td>2207.0</td>\n",
       "      <td>502.0</td>\n",
       "    </tr>\n",
       "  </tbody>\n",
       "</table>\n",
       "</div>"
      ],
      "text/plain": [
       "      Garage Yr Blt  Garage Area\n",
       "1699         2207.0        502.0"
      ]
     },
     "execution_count": 30,
     "metadata": {},
     "output_type": "execute_result"
    }
   ],
   "source": [
    "df[df['Garage Yr Blt']>2010][['Garage Yr Blt','Garage Area']]"
   ]
  },
  {
   "cell_type": "code",
   "execution_count": 31,
   "metadata": {
    "ExecuteTime": {
     "end_time": "2019-10-11T05:14:17.805915Z",
     "start_time": "2019-10-11T05:14:17.796932Z"
    }
   },
   "outputs": [],
   "source": [
    "df.loc[1699,'Garage Yr Blt']=2007"
   ]
  },
  {
   "cell_type": "code",
   "execution_count": 32,
   "metadata": {
    "ExecuteTime": {
     "end_time": "2019-10-11T05:14:17.831258Z",
     "start_time": "2019-10-11T05:14:17.808699Z"
    }
   },
   "outputs": [],
   "source": [
    "df.reset_index(inplace=True)\n",
    "df=df.rename({'Screen Porch':'Screen Porch SF','3Ssn Porch':'3Ssn Porch SF','Screen Porch':'Screen Porch SF'},axis=1)\n",
    "df=df.drop(['index'],axis=1)\n"
   ]
  },
  {
   "cell_type": "code",
   "execution_count": 33,
   "metadata": {
    "ExecuteTime": {
     "end_time": "2019-10-11T05:14:17.838928Z",
     "start_time": "2019-10-11T05:14:17.833853Z"
    }
   },
   "outputs": [],
   "source": [
    "train=df"
   ]
  },
  {
   "cell_type": "markdown",
   "metadata": {},
   "source": [
    "## Test Set"
   ]
  },
  {
   "cell_type": "code",
   "execution_count": 34,
   "metadata": {
    "ExecuteTime": {
     "end_time": "2019-10-11T05:14:17.850735Z",
     "start_time": "2019-10-11T05:14:17.844535Z"
    }
   },
   "outputs": [],
   "source": [
    "#load the test set for cleaning\n",
    "df=test"
   ]
  },
  {
   "cell_type": "code",
   "execution_count": 35,
   "metadata": {
    "ExecuteTime": {
     "end_time": "2019-10-11T05:14:17.863432Z",
     "start_time": "2019-10-11T05:14:17.853631Z"
    }
   },
   "outputs": [
    {
     "data": {
      "text/plain": [
       "array(['Id', 'PID', 'MS SubClass', 'MS Zoning', 'Lot Frontage',\n",
       "       'Lot Area', 'Street', 'Alley', 'Lot Shape', 'Land Contour',\n",
       "       'Utilities', 'Lot Config', 'Land Slope', 'Neighborhood',\n",
       "       'Condition 1', 'Condition 2', 'Bldg Type', 'House Style',\n",
       "       'Overall Qual', 'Overall Cond', 'Year Built', 'Year Remod/Add',\n",
       "       'Roof Style', 'Roof Matl', 'Exterior 1st', 'Exterior 2nd',\n",
       "       'Mas Vnr Type', 'Mas Vnr Area', 'Exter Qual', 'Exter Cond',\n",
       "       'Foundation', 'Bsmt Qual', 'Bsmt Cond', 'Bsmt Exposure',\n",
       "       'BsmtFin Type 1', 'BsmtFin SF 1', 'BsmtFin Type 2', 'BsmtFin SF 2',\n",
       "       'Bsmt Unf SF', 'Total Bsmt SF', 'Heating', 'Heating QC',\n",
       "       'Central Air', 'Electrical', '1st Flr SF', '2nd Flr SF',\n",
       "       'Low Qual Fin SF', 'Gr Liv Area', 'Bsmt Full Bath',\n",
       "       'Bsmt Half Bath', 'Full Bath', 'Half Bath', 'Bedroom AbvGr',\n",
       "       'Kitchen AbvGr', 'Kitchen Qual', 'TotRms AbvGrd', 'Functional',\n",
       "       'Fireplaces', 'Fireplace Qu', 'Garage Type', 'Garage Yr Blt',\n",
       "       'Garage Finish', 'Garage Cars', 'Garage Area', 'Garage Qual',\n",
       "       'Garage Cond', 'Paved Drive', 'Wood Deck SF', 'Open Porch SF',\n",
       "       'Enclosed Porch', '3Ssn Porch', 'Screen Porch', 'Pool Area',\n",
       "       'Pool QC', 'Fence', 'Misc Feature', 'Misc Val', 'Mo Sold',\n",
       "       'Yr Sold', 'Sale Type', 'SalePrice'], dtype=object)"
      ]
     },
     "execution_count": 35,
     "metadata": {},
     "output_type": "execute_result"
    }
   ],
   "source": [
    "df.columns.values"
   ]
  },
  {
   "cell_type": "code",
   "execution_count": 36,
   "metadata": {
    "ExecuteTime": {
     "end_time": "2019-10-11T05:14:18.807227Z",
     "start_time": "2019-10-11T05:14:17.866255Z"
    }
   },
   "outputs": [
    {
     "name": "stdout",
     "output_type": "stream",
     "text": [
      "Feature name:Id\n",
      " Type:int64\n",
      "Isnull?:\n"
     ]
    },
    {
     "data": {
      "text/plain": [
       "0"
      ]
     },
     "metadata": {},
     "output_type": "display_data"
    },
    {
     "data": {
      "text/plain": [
       "2721    1\n",
       "519     1\n",
       "2589    1\n",
       "540     1\n",
       "2587    1\n",
       "2584    1\n",
       "534     1\n",
       "532     1\n",
       "530     1\n",
       "2576    1\n",
       "2571    1\n",
       "2570    1\n",
       "521     1\n",
       "2564    1\n",
       "2543    1\n",
       "2563    1\n",
       "2561    1\n",
       "511     1\n",
       "597     1\n",
       "2557    1\n",
       "508     1\n",
       "2555    1\n",
       "506     1\n",
       "503     1\n",
       "501     1\n",
       "500     1\n",
       "2591    1\n",
       "2597    1\n",
       "551     1\n",
       "552     1\n",
       "       ..\n",
       "1101    1\n",
       "1099    1\n",
       "267     1\n",
       "1159    1\n",
       "1161    1\n",
       "1167    1\n",
       "1241    1\n",
       "1240    1\n",
       "1239    1\n",
       "1235    1\n",
       "1234    1\n",
       "1231    1\n",
       "1229    1\n",
       "1227    1\n",
       "682     1\n",
       "1220    1\n",
       "1219    1\n",
       "1214    1\n",
       "1211    1\n",
       "1204    1\n",
       "1201    1\n",
       "1199    1\n",
       "2656    1\n",
       "1195    1\n",
       "1191    1\n",
       "1189    1\n",
       "1188    1\n",
       "1174    1\n",
       "1171    1\n",
       "2       1\n",
       "Name: Id, Length: 879, dtype: int64"
      ]
     },
     "metadata": {},
     "output_type": "display_data"
    },
    {
     "name": "stdout",
     "output_type": "stream",
     "text": [
      "Feature name:PID\n",
      " Type:int64\n",
      "Isnull?:\n"
     ]
    },
    {
     "data": {
      "text/plain": [
       "0"
      ]
     },
     "metadata": {},
     "output_type": "display_data"
    },
    {
     "data": {
      "text/plain": [
       "532353020    1\n",
       "534204030    1\n",
       "902107030    1\n",
       "906382040    1\n",
       "902202070    1\n",
       "923251160    1\n",
       "903232100    1\n",
       "534252240    1\n",
       "906382030    1\n",
       "535153150    1\n",
       "902329030    1\n",
       "535354050    1\n",
       "535403200    1\n",
       "905401020    1\n",
       "527301280    1\n",
       "907265030    1\n",
       "528315060    1\n",
       "902206130    1\n",
       "902306120    1\n",
       "903228080    1\n",
       "903232170    1\n",
       "527165010    1\n",
       "921128020    1\n",
       "534127270    1\n",
       "532376170    1\n",
       "916477010    1\n",
       "905104090    1\n",
       "917425190    1\n",
       "535452100    1\n",
       "905108190    1\n",
       "            ..\n",
       "535457090    1\n",
       "904351040    1\n",
       "903458170    1\n",
       "906420020    1\n",
       "531453040    1\n",
       "527451520    1\n",
       "908275130    1\n",
       "909254070    1\n",
       "924100020    1\n",
       "909254090    1\n",
       "534128050    1\n",
       "923229140    1\n",
       "905475500    1\n",
       "905476230    1\n",
       "902101010    1\n",
       "907290020    1\n",
       "909131170    1\n",
       "909426080    1\n",
       "535327160    1\n",
       "535453080    1\n",
       "923205015    1\n",
       "534128020    1\n",
       "908275090    1\n",
       "528326030    1\n",
       "909426060    1\n",
       "534128010    1\n",
       "528240150    1\n",
       "907270050    1\n",
       "535451010    1\n",
       "914475010    1\n",
       "Name: PID, Length: 879, dtype: int64"
      ]
     },
     "metadata": {},
     "output_type": "display_data"
    },
    {
     "name": "stdout",
     "output_type": "stream",
     "text": [
      "Feature name:MS SubClass\n",
      " Type:int64\n",
      "Isnull?:\n"
     ]
    },
    {
     "data": {
      "text/plain": [
       "0"
      ]
     },
     "metadata": {},
     "output_type": "display_data"
    },
    {
     "data": {
      "text/plain": [
       "20     309\n",
       "60     181\n",
       "50      89\n",
       "120     60\n",
       "160     41\n",
       "70      38\n",
       "30      38\n",
       "90      34\n",
       "80      32\n",
       "85      20\n",
       "190     15\n",
       "75       7\n",
       "45       7\n",
       "180      6\n",
       "40       2\n",
       "Name: MS SubClass, dtype: int64"
      ]
     },
     "metadata": {},
     "output_type": "display_data"
    },
    {
     "name": "stdout",
     "output_type": "stream",
     "text": [
      "Feature name:MS Zoning\n",
      " Type:object\n",
      "Isnull?:\n"
     ]
    },
    {
     "data": {
      "text/plain": [
       "0"
      ]
     },
     "metadata": {},
     "output_type": "display_data"
    },
    {
     "data": {
      "text/plain": [
       "RL         675\n",
       "RM         146\n",
       "FV          38\n",
       "RH          13\n",
       "C (all)      6\n",
       "I (all)      1\n",
       "Name: MS Zoning, dtype: int64"
      ]
     },
     "metadata": {},
     "output_type": "display_data"
    },
    {
     "name": "stdout",
     "output_type": "stream",
     "text": [
      "Feature name:Lot Frontage\n",
      " Type:float64\n",
      "Isnull?:\n"
     ]
    },
    {
     "data": {
      "text/plain": [
       "160"
      ]
     },
     "metadata": {},
     "output_type": "display_data"
    },
    {
     "data": {
      "text/plain": [
       "60.0     97\n",
       "80.0     43\n",
       "70.0     37\n",
       "75.0     37\n",
       "50.0     27\n",
       "85.0     24\n",
       "65.0     22\n",
       "21.0     18\n",
       "24.0     16\n",
       "68.0     16\n",
       "90.0     15\n",
       "78.0     13\n",
       "64.0     12\n",
       "51.0     11\n",
       "55.0     10\n",
       "79.0      9\n",
       "63.0      9\n",
       "72.0      9\n",
       "59.0      9\n",
       "76.0      9\n",
       "74.0      8\n",
       "73.0      8\n",
       "61.0      8\n",
       "86.0      8\n",
       "52.0      8\n",
       "44.0      7\n",
       "82.0      7\n",
       "66.0      7\n",
       "40.0      7\n",
       "35.0      6\n",
       "         ..\n",
       "49.0      2\n",
       "39.0      2\n",
       "32.0      2\n",
       "92.0      2\n",
       "160.0     2\n",
       "149.0     2\n",
       "126.0     1\n",
       "114.0     1\n",
       "28.0      1\n",
       "97.0      1\n",
       "91.0      1\n",
       "182.0     1\n",
       "131.0     1\n",
       "103.0     1\n",
       "113.0     1\n",
       "46.0      1\n",
       "116.0     1\n",
       "136.0     1\n",
       "101.0     1\n",
       "152.0     1\n",
       "30.0      1\n",
       "37.0      1\n",
       "106.0     1\n",
       "168.0     1\n",
       "174.0     1\n",
       "122.0     1\n",
       "150.0     1\n",
       "31.0      1\n",
       "112.0     1\n",
       "133.0     1\n",
       "Name: Lot Frontage, Length: 104, dtype: int64"
      ]
     },
     "metadata": {},
     "output_type": "display_data"
    },
    {
     "name": "stdout",
     "output_type": "stream",
     "text": [
      "Feature name:Lot Area\n",
      " Type:int64\n",
      "Isnull?:\n"
     ]
    },
    {
     "data": {
      "text/plain": [
       "0"
      ]
     },
     "metadata": {},
     "output_type": "display_data"
    },
    {
     "data": {
      "text/plain": [
       "7200     16\n",
       "9000     11\n",
       "8400     10\n",
       "9600     10\n",
       "6120      9\n",
       "6000      8\n",
       "9750      7\n",
       "8125      6\n",
       "10800     6\n",
       "6240      5\n",
       "9375      5\n",
       "8750      4\n",
       "8000      4\n",
       "8640      4\n",
       "10000     4\n",
       "1680      4\n",
       "8450      4\n",
       "1890      4\n",
       "11250     4\n",
       "7000      4\n",
       "11700     3\n",
       "9120      3\n",
       "7500      3\n",
       "13125     3\n",
       "10125     3\n",
       "9100      3\n",
       "9571      3\n",
       "10440     3\n",
       "4426      3\n",
       "5000      3\n",
       "         ..\n",
       "6762      1\n",
       "12925     1\n",
       "2665      1\n",
       "4712      1\n",
       "7848      1\n",
       "13159     1\n",
       "12900     1\n",
       "8803      1\n",
       "12898     1\n",
       "7804      1\n",
       "26178     1\n",
       "29959     1\n",
       "4750      1\n",
       "7838      1\n",
       "15870     1\n",
       "3735      1\n",
       "8854      1\n",
       "10900     1\n",
       "28698     1\n",
       "5775      1\n",
       "12640     1\n",
       "13200     1\n",
       "2179      1\n",
       "10274     1\n",
       "10890     1\n",
       "8235      1\n",
       "9863      1\n",
       "8838      1\n",
       "9758      1\n",
       "3072      1\n",
       "Name: Lot Area, Length: 690, dtype: int64"
      ]
     },
     "metadata": {},
     "output_type": "display_data"
    },
    {
     "name": "stdout",
     "output_type": "stream",
     "text": [
      "Feature name:Street\n",
      " Type:object\n",
      "Isnull?:\n"
     ]
    },
    {
     "data": {
      "text/plain": [
       "0"
      ]
     },
     "metadata": {},
     "output_type": "display_data"
    },
    {
     "data": {
      "text/plain": [
       "Pave    874\n",
       "Grvl      5\n",
       "Name: Street, dtype: int64"
      ]
     },
     "metadata": {},
     "output_type": "display_data"
    },
    {
     "name": "stdout",
     "output_type": "stream",
     "text": [
      "Feature name:Alley\n",
      " Type:object\n",
      "Isnull?:\n"
     ]
    },
    {
     "data": {
      "text/plain": [
       "821"
      ]
     },
     "metadata": {},
     "output_type": "display_data"
    },
    {
     "data": {
      "text/plain": [
       "Grvl    35\n",
       "Pave    23\n",
       "Name: Alley, dtype: int64"
      ]
     },
     "metadata": {},
     "output_type": "display_data"
    },
    {
     "name": "stdout",
     "output_type": "stream",
     "text": [
      "Feature name:Lot Shape\n",
      " Type:object\n",
      "Isnull?:\n"
     ]
    },
    {
     "data": {
      "text/plain": [
       "0"
      ]
     },
     "metadata": {},
     "output_type": "display_data"
    },
    {
     "data": {
      "text/plain": [
       "Reg    564\n",
       "IR1    287\n",
       "IR2     21\n",
       "IR3      7\n",
       "Name: Lot Shape, dtype: int64"
      ]
     },
     "metadata": {},
     "output_type": "display_data"
    },
    {
     "name": "stdout",
     "output_type": "stream",
     "text": [
      "Feature name:Land Contour\n",
      " Type:object\n",
      "Isnull?:\n"
     ]
    },
    {
     "data": {
      "text/plain": [
       "0"
      ]
     },
     "metadata": {},
     "output_type": "display_data"
    },
    {
     "data": {
      "text/plain": [
       "Lvl    790\n",
       "Bnk     37\n",
       "HLS     35\n",
       "Low     17\n",
       "Name: Land Contour, dtype: int64"
      ]
     },
     "metadata": {},
     "output_type": "display_data"
    },
    {
     "name": "stdout",
     "output_type": "stream",
     "text": [
      "Feature name:Utilities\n",
      " Type:object\n",
      "Isnull?:\n"
     ]
    },
    {
     "data": {
      "text/plain": [
       "0"
      ]
     },
     "metadata": {},
     "output_type": "display_data"
    },
    {
     "data": {
      "text/plain": [
       "AllPub    878\n",
       "NoSewr      1\n",
       "Name: Utilities, dtype: int64"
      ]
     },
     "metadata": {},
     "output_type": "display_data"
    },
    {
     "name": "stdout",
     "output_type": "stream",
     "text": [
      "Feature name:Lot Config\n",
      " Type:object\n",
      "Isnull?:\n"
     ]
    },
    {
     "data": {
      "text/plain": [
       "0"
      ]
     },
     "metadata": {},
     "output_type": "display_data"
    },
    {
     "data": {
      "text/plain": [
       "Inside     637\n",
       "Corner     163\n",
       "CulDSac     49\n",
       "FR2         25\n",
       "FR3          5\n",
       "Name: Lot Config, dtype: int64"
      ]
     },
     "metadata": {},
     "output_type": "display_data"
    },
    {
     "name": "stdout",
     "output_type": "stream",
     "text": [
      "Feature name:Land Slope\n",
      " Type:object\n",
      "Isnull?:\n"
     ]
    },
    {
     "data": {
      "text/plain": [
       "0"
      ]
     },
     "metadata": {},
     "output_type": "display_data"
    },
    {
     "data": {
      "text/plain": [
       "Gtl    836\n",
       "Mod     37\n",
       "Sev      6\n",
       "Name: Land Slope, dtype: int64"
      ]
     },
     "metadata": {},
     "output_type": "display_data"
    },
    {
     "name": "stdout",
     "output_type": "stream",
     "text": [
      "Feature name:Neighborhood\n",
      " Type:object\n",
      "Isnull?:\n"
     ]
    },
    {
     "data": {
      "text/plain": [
       "0"
      ]
     },
     "metadata": {},
     "output_type": "display_data"
    },
    {
     "data": {
      "text/plain": [
       "NAmes      133\n",
       "CollgCr     87\n",
       "OldTown     76\n",
       "Somerst     52\n",
       "Edwards     51\n",
       "Gilbert     49\n",
       "NridgHt     44\n",
       "NWAmes      44\n",
       "Sawyer      40\n",
       "SawyerW     38\n",
       "Crawfor     32\n",
       "BrkSide     32\n",
       "Mitchel     32\n",
       "Timber      24\n",
       "IDOTRR      24\n",
       "NoRidge     23\n",
       "ClearCr     17\n",
       "SWISU       16\n",
       "MeadowV     13\n",
       "StoneBr     13\n",
       "BrDale      11\n",
       "Veenker      7\n",
       "NPkVill      6\n",
       "Blmngtn      6\n",
       "Greens       5\n",
       "Blueste      4\n",
       "Name: Neighborhood, dtype: int64"
      ]
     },
     "metadata": {},
     "output_type": "display_data"
    },
    {
     "name": "stdout",
     "output_type": "stream",
     "text": [
      "Feature name:Condition 1\n",
      " Type:object\n",
      "Isnull?:\n"
     ]
    },
    {
     "data": {
      "text/plain": [
       "0"
      ]
     },
     "metadata": {},
     "output_type": "display_data"
    },
    {
     "data": {
      "text/plain": [
       "Norm      755\n",
       "Feedr      55\n",
       "Artery     22\n",
       "RRAn       14\n",
       "PosN       12\n",
       "PosA        8\n",
       "RRAe        7\n",
       "RRNn        3\n",
       "RRNe        3\n",
       "Name: Condition 1, dtype: int64"
      ]
     },
     "metadata": {},
     "output_type": "display_data"
    },
    {
     "name": "stdout",
     "output_type": "stream",
     "text": [
      "Feature name:Condition 2\n",
      " Type:object\n",
      "Isnull?:\n"
     ]
    },
    {
     "data": {
      "text/plain": [
       "0"
      ]
     },
     "metadata": {},
     "output_type": "display_data"
    },
    {
     "data": {
      "text/plain": [
       "Norm     875\n",
       "Feedr      2\n",
       "PosA       1\n",
       "PosN       1\n",
       "Name: Condition 2, dtype: int64"
      ]
     },
     "metadata": {},
     "output_type": "display_data"
    },
    {
     "name": "stdout",
     "output_type": "stream",
     "text": [
      "Feature name:Bldg Type\n",
      " Type:object\n",
      "Isnull?:\n"
     ]
    },
    {
     "data": {
      "text/plain": [
       "0"
      ]
     },
     "metadata": {},
     "output_type": "display_data"
    },
    {
     "data": {
      "text/plain": [
       "1Fam      725\n",
       "TwnhsE     72\n",
       "Duplex     34\n",
       "Twnhs      32\n",
       "2fmCon     16\n",
       "Name: Bldg Type, dtype: int64"
      ]
     },
     "metadata": {},
     "output_type": "display_data"
    },
    {
     "name": "stdout",
     "output_type": "stream",
     "text": [
      "Feature name:House Style\n",
      " Type:object\n",
      "Isnull?:\n"
     ]
    },
    {
     "data": {
      "text/plain": [
       "0"
      ]
     },
     "metadata": {},
     "output_type": "display_data"
    },
    {
     "data": {
      "text/plain": [
       "1Story    422\n",
       "2Story    275\n",
       "1.5Fin     96\n",
       "SLvl       34\n",
       "SFoyer     33\n",
       "2.5Unf     10\n",
       "1.5Unf      7\n",
       "2.5Fin      2\n",
       "Name: House Style, dtype: int64"
      ]
     },
     "metadata": {},
     "output_type": "display_data"
    },
    {
     "name": "stdout",
     "output_type": "stream",
     "text": [
      "Feature name:Overall Qual\n",
      " Type:int64\n",
      "Isnull?:\n"
     ]
    },
    {
     "data": {
      "text/plain": [
       "0"
      ]
     },
     "metadata": {},
     "output_type": "display_data"
    },
    {
     "data": {
      "text/plain": [
       "5     262\n",
       "6     226\n",
       "7     171\n",
       "8     100\n",
       "4      67\n",
       "9      30\n",
       "3      11\n",
       "10      8\n",
       "2       4\n",
       "Name: Overall Qual, dtype: int64"
      ]
     },
     "metadata": {},
     "output_type": "display_data"
    },
    {
     "name": "stdout",
     "output_type": "stream",
     "text": [
      "Feature name:Overall Cond\n",
      " Type:int64\n",
      "Isnull?:\n"
     ]
    },
    {
     "data": {
      "text/plain": [
       "0"
      ]
     },
     "metadata": {},
     "output_type": "display_data"
    },
    {
     "data": {
      "text/plain": [
       "5    486\n",
       "6    165\n",
       "7    120\n",
       "8     43\n",
       "4     31\n",
       "3     15\n",
       "9     12\n",
       "2      4\n",
       "1      3\n",
       "Name: Overall Cond, dtype: int64"
      ]
     },
     "metadata": {},
     "output_type": "display_data"
    },
    {
     "name": "stdout",
     "output_type": "stream",
     "text": [
      "Feature name:Year Built\n",
      " Type:int64\n",
      "Isnull?:\n"
     ]
    },
    {
     "data": {
      "text/plain": [
       "0"
      ]
     },
     "metadata": {},
     "output_type": "display_data"
    },
    {
     "data": {
      "text/plain": [
       "2005    40\n",
       "2006    39\n",
       "2007    31\n",
       "2004    27\n",
       "2003    24\n",
       "1977    19\n",
       "1920    19\n",
       "1910    17\n",
       "1972    17\n",
       "1954    15\n",
       "1999    15\n",
       "1976    15\n",
       "1997    15\n",
       "1970    15\n",
       "1960    14\n",
       "1968    13\n",
       "1971    13\n",
       "1958    13\n",
       "1993    13\n",
       "1967    13\n",
       "2008    13\n",
       "1959    12\n",
       "1925    12\n",
       "1957    12\n",
       "1969    12\n",
       "2000    12\n",
       "1998    12\n",
       "1956    11\n",
       "1963    11\n",
       "1994    11\n",
       "        ..\n",
       "1919     3\n",
       "1947     3\n",
       "1990     3\n",
       "1921     2\n",
       "1916     2\n",
       "1912     2\n",
       "1890     2\n",
       "2010     2\n",
       "1880     2\n",
       "1932     2\n",
       "1936     2\n",
       "1937     2\n",
       "1989     2\n",
       "1983     2\n",
       "1986     2\n",
       "1904     1\n",
       "1882     1\n",
       "1885     1\n",
       "1892     1\n",
       "1987     1\n",
       "1902     1\n",
       "1927     1\n",
       "1905     1\n",
       "1906     1\n",
       "1928     1\n",
       "1908     1\n",
       "1914     1\n",
       "1917     1\n",
       "1934     1\n",
       "1907     1\n",
       "Name: Year Built, Length: 106, dtype: int64"
      ]
     },
     "metadata": {},
     "output_type": "display_data"
    },
    {
     "name": "stdout",
     "output_type": "stream",
     "text": [
      "Feature name:Year Remod/Add\n",
      " Type:int64\n",
      "Isnull?:\n"
     ]
    },
    {
     "data": {
      "text/plain": [
       "0"
      ]
     },
     "metadata": {},
     "output_type": "display_data"
    },
    {
     "data": {
      "text/plain": [
       "1950    99\n",
       "2006    63\n",
       "2007    41\n",
       "2005    41\n",
       "2000    35\n",
       "2003    31\n",
       "1998    28\n",
       "2004    28\n",
       "2008    26\n",
       "2002    23\n",
       "1997    20\n",
       "1995    18\n",
       "1996    17\n",
       "1976    16\n",
       "1977    15\n",
       "1999    14\n",
       "2001    14\n",
       "1972    14\n",
       "1994    13\n",
       "1992    13\n",
       "1970    13\n",
       "1971    13\n",
       "1967    12\n",
       "2009    11\n",
       "1954    11\n",
       "1963    11\n",
       "1968    11\n",
       "1965    10\n",
       "1969    10\n",
       "1980    10\n",
       "        ..\n",
       "1993    10\n",
       "1959     9\n",
       "1964     9\n",
       "1974     9\n",
       "1960     9\n",
       "1979     8\n",
       "1966     8\n",
       "1956     8\n",
       "1973     8\n",
       "1978     8\n",
       "1984     7\n",
       "1961     7\n",
       "1955     7\n",
       "1981     7\n",
       "1962     6\n",
       "1958     6\n",
       "1952     6\n",
       "1990     6\n",
       "1982     6\n",
       "1957     5\n",
       "1985     5\n",
       "2010     5\n",
       "1989     4\n",
       "1987     4\n",
       "1986     4\n",
       "1975     4\n",
       "1983     4\n",
       "1951     4\n",
       "1988     3\n",
       "1953     2\n",
       "Name: Year Remod/Add, Length: 61, dtype: int64"
      ]
     },
     "metadata": {},
     "output_type": "display_data"
    },
    {
     "name": "stdout",
     "output_type": "stream",
     "text": [
      "Feature name:Roof Style\n",
      " Type:object\n",
      "Isnull?:\n"
     ]
    },
    {
     "data": {
      "text/plain": [
       "0"
      ]
     },
     "metadata": {},
     "output_type": "display_data"
    },
    {
     "data": {
      "text/plain": [
       "Gable      702\n",
       "Hip        154\n",
       "Gambrel     10\n",
       "Flat         7\n",
       "Mansard      4\n",
       "Shed         2\n",
       "Name: Roof Style, dtype: int64"
      ]
     },
     "metadata": {},
     "output_type": "display_data"
    },
    {
     "name": "stdout",
     "output_type": "stream",
     "text": [
      "Feature name:Roof Matl\n",
      " Type:object\n",
      "Isnull?:\n"
     ]
    },
    {
     "data": {
      "text/plain": [
       "0"
      ]
     },
     "metadata": {},
     "output_type": "display_data"
    },
    {
     "data": {
      "text/plain": [
       "CompShg    862\n",
       "Tar&Grv      8\n",
       "WdShake      5\n",
       "WdShngl      2\n",
       "Roll         1\n",
       "Metal        1\n",
       "Name: Roof Matl, dtype: int64"
      ]
     },
     "metadata": {},
     "output_type": "display_data"
    },
    {
     "name": "stdout",
     "output_type": "stream",
     "text": [
      "Feature name:Exterior 1st\n",
      " Type:object\n",
      "Isnull?:\n"
     ]
    },
    {
     "data": {
      "text/plain": [
       "0"
      ]
     },
     "metadata": {},
     "output_type": "display_data"
    },
    {
     "data": {
      "text/plain": [
       "VinylSd    302\n",
       "Wd Sdng    144\n",
       "HdBoard    142\n",
       "MetalSd    119\n",
       "Plywood     69\n",
       "CemntBd     36\n",
       "BrkFace     24\n",
       "Stucco      16\n",
       "AsbShng     11\n",
       "WdShing     11\n",
       "BrkComm      3\n",
       "AsphShn      1\n",
       "PreCast      1\n",
       "Name: Exterior 1st, dtype: int64"
      ]
     },
     "metadata": {},
     "output_type": "display_data"
    },
    {
     "name": "stdout",
     "output_type": "stream",
     "text": [
      "Feature name:Exterior 2nd\n",
      " Type:object\n",
      "Isnull?:\n"
     ]
    },
    {
     "data": {
      "text/plain": [
       "0"
      ]
     },
     "metadata": {},
     "output_type": "display_data"
    },
    {
     "data": {
      "text/plain": [
       "VinylSd    294\n",
       "Wd Sdng    135\n",
       "HdBoard    131\n",
       "MetalSd    123\n",
       "Plywood     89\n",
       "CmentBd     36\n",
       "Wd Shng     18\n",
       "Stucco      17\n",
       "BrkFace     13\n",
       "AsbShng     10\n",
       "Brk Cmn      5\n",
       "ImStucc      4\n",
       "AsphShn      1\n",
       "PreCast      1\n",
       "CBlock       1\n",
       "Other        1\n",
       "Name: Exterior 2nd, dtype: int64"
      ]
     },
     "metadata": {},
     "output_type": "display_data"
    },
    {
     "name": "stdout",
     "output_type": "stream",
     "text": [
      "Feature name:Mas Vnr Type\n",
      " Type:object\n",
      "Isnull?:\n"
     ]
    },
    {
     "data": {
      "text/plain": [
       "1"
      ]
     },
     "metadata": {},
     "output_type": "display_data"
    },
    {
     "data": {
      "text/plain": [
       "None       534\n",
       "BrkFace    250\n",
       "Stone       81\n",
       "BrkCmn      12\n",
       "CBlock       1\n",
       "Name: Mas Vnr Type, dtype: int64"
      ]
     },
     "metadata": {},
     "output_type": "display_data"
    },
    {
     "name": "stdout",
     "output_type": "stream",
     "text": [
      "Feature name:Mas Vnr Area\n",
      " Type:float64\n",
      "Isnull?:\n"
     ]
    },
    {
     "data": {
      "text/plain": [
       "1"
      ]
     },
     "metadata": {},
     "output_type": "display_data"
    },
    {
     "data": {
      "text/plain": [
       "0.0       532\n",
       "216.0       7\n",
       "80.0        5\n",
       "196.0       5\n",
       "420.0       5\n",
       "340.0       4\n",
       "144.0       4\n",
       "120.0       4\n",
       "176.0       3\n",
       "50.0        3\n",
       "149.0       3\n",
       "302.0       3\n",
       "270.0       3\n",
       "194.0       3\n",
       "306.0       3\n",
       "128.0       3\n",
       "456.0       3\n",
       "240.0       3\n",
       "200.0       3\n",
       "90.0        3\n",
       "198.0       3\n",
       "88.0        3\n",
       "180.0       3\n",
       "285.0       3\n",
       "182.0       3\n",
       "156.0       2\n",
       "423.0       2\n",
       "147.0       2\n",
       "206.0       2\n",
       "161.0       2\n",
       "         ... \n",
       "600.0       1\n",
       "142.0       1\n",
       "34.0        1\n",
       "568.0       1\n",
       "172.0       1\n",
       "247.0       1\n",
       "405.0       1\n",
       "1159.0      1\n",
       "525.0       1\n",
       "657.0       1\n",
       "771.0       1\n",
       "501.0       1\n",
       "295.0       1\n",
       "261.0       1\n",
       "399.0       1\n",
       "481.0       1\n",
       "435.0       1\n",
       "259.0       1\n",
       "11.0        1\n",
       "473.0       1\n",
       "415.0       1\n",
       "674.0       1\n",
       "359.0       1\n",
       "921.0       1\n",
       "634.0       1\n",
       "464.0       1\n",
       "312.0       1\n",
       "101.0       1\n",
       "238.0       1\n",
       "264.0       1\n",
       "Name: Mas Vnr Area, Length: 233, dtype: int64"
      ]
     },
     "metadata": {},
     "output_type": "display_data"
    },
    {
     "name": "stdout",
     "output_type": "stream",
     "text": [
      "Feature name:Exter Qual\n",
      " Type:object\n",
      "Isnull?:\n"
     ]
    },
    {
     "data": {
      "text/plain": [
       "0"
      ]
     },
     "metadata": {},
     "output_type": "display_data"
    },
    {
     "data": {
      "text/plain": [
       "TA    552\n",
       "Gd    292\n",
       "Ex     26\n",
       "Fa      9\n",
       "Name: Exter Qual, dtype: int64"
      ]
     },
     "metadata": {},
     "output_type": "display_data"
    },
    {
     "name": "stdout",
     "output_type": "stream",
     "text": [
      "Feature name:Exter Cond\n",
      " Type:object\n",
      "Isnull?:\n"
     ]
    },
    {
     "data": {
      "text/plain": [
       "0"
      ]
     },
     "metadata": {},
     "output_type": "display_data"
    },
    {
     "data": {
      "text/plain": [
       "TA    771\n",
       "Gd     84\n",
       "Fa     18\n",
       "Ex      5\n",
       "Po      1\n",
       "Name: Exter Cond, dtype: int64"
      ]
     },
     "metadata": {},
     "output_type": "display_data"
    },
    {
     "name": "stdout",
     "output_type": "stream",
     "text": [
      "Feature name:Foundation\n",
      " Type:object\n",
      "Isnull?:\n"
     ]
    },
    {
     "data": {
      "text/plain": [
       "0"
      ]
     },
     "metadata": {},
     "output_type": "display_data"
    },
    {
     "data": {
      "text/plain": [
       "PConc     384\n",
       "CBlock    381\n",
       "BrkTil     90\n",
       "Slab       15\n",
       "Stone       6\n",
       "Wood        3\n",
       "Name: Foundation, dtype: int64"
      ]
     },
     "metadata": {},
     "output_type": "display_data"
    },
    {
     "name": "stdout",
     "output_type": "stream",
     "text": [
      "Feature name:Bsmt Qual\n",
      " Type:object\n",
      "Isnull?:\n"
     ]
    },
    {
     "data": {
      "text/plain": [
       "25"
      ]
     },
     "metadata": {},
     "output_type": "display_data"
    },
    {
     "data": {
      "text/plain": [
       "TA    396\n",
       "Gd    355\n",
       "Ex     74\n",
       "Fa     28\n",
       "Po      1\n",
       "Name: Bsmt Qual, dtype: int64"
      ]
     },
     "metadata": {},
     "output_type": "display_data"
    },
    {
     "name": "stdout",
     "output_type": "stream",
     "text": [
      "Feature name:Bsmt Cond\n",
      " Type:object\n",
      "Isnull?:\n"
     ]
    },
    {
     "data": {
      "text/plain": [
       "25"
      ]
     },
     "metadata": {},
     "output_type": "display_data"
    },
    {
     "data": {
      "text/plain": [
       "TA    782\n",
       "Fa     39\n",
       "Gd     33\n",
       "Name: Bsmt Cond, dtype: int64"
      ]
     },
     "metadata": {},
     "output_type": "display_data"
    },
    {
     "name": "stdout",
     "output_type": "stream",
     "text": [
      "Feature name:Bsmt Exposure\n",
      " Type:object\n",
      "Isnull?:\n"
     ]
    },
    {
     "data": {
      "text/plain": [
       "25"
      ]
     },
     "metadata": {},
     "output_type": "display_data"
    },
    {
     "data": {
      "text/plain": [
       "No    567\n",
       "Av    130\n",
       "Gd     81\n",
       "Mn     76\n",
       "Name: Bsmt Exposure, dtype: int64"
      ]
     },
     "metadata": {},
     "output_type": "display_data"
    },
    {
     "name": "stdout",
     "output_type": "stream",
     "text": [
      "Feature name:BsmtFin Type 1\n",
      " Type:object\n",
      "Isnull?:\n"
     ]
    },
    {
     "data": {
      "text/plain": [
       "25"
      ]
     },
     "metadata": {},
     "output_type": "display_data"
    },
    {
     "data": {
      "text/plain": [
       "Unf    248\n",
       "GLQ    244\n",
       "ALQ    136\n",
       "Rec    105\n",
       "BLQ     69\n",
       "LwQ     52\n",
       "Name: BsmtFin Type 1, dtype: int64"
      ]
     },
     "metadata": {},
     "output_type": "display_data"
    },
    {
     "name": "stdout",
     "output_type": "stream",
     "text": [
      "Feature name:BsmtFin SF 1\n",
      " Type:int64\n",
      "Isnull?:\n"
     ]
    },
    {
     "data": {
      "text/plain": [
       "0"
      ]
     },
     "metadata": {},
     "output_type": "display_data"
    },
    {
     "data": {
      "text/plain": [
       "0       273\n",
       "24       10\n",
       "16        4\n",
       "936       4\n",
       "602       4\n",
       "662       4\n",
       "600       4\n",
       "595       3\n",
       "288       3\n",
       "329       3\n",
       "560       3\n",
       "375       3\n",
       "480       3\n",
       "483       3\n",
       "500       3\n",
       "504       3\n",
       "250       3\n",
       "520       3\n",
       "767       3\n",
       "192       3\n",
       "196       3\n",
       "220       3\n",
       "168       3\n",
       "663       2\n",
       "1573      2\n",
       "724       2\n",
       "552       2\n",
       "550       2\n",
       "546       2\n",
       "547       2\n",
       "       ... \n",
       "853       1\n",
       "553       1\n",
       "554       1\n",
       "559       1\n",
       "852       1\n",
       "562       1\n",
       "850       1\n",
       "518       1\n",
       "515       1\n",
       "513       1\n",
       "486       1\n",
       "880       1\n",
       "471       1\n",
       "472       1\n",
       "336       1\n",
       "1500      1\n",
       "421       1\n",
       "876       1\n",
       "873       1\n",
       "490       1\n",
       "512       1\n",
       "491       1\n",
       "493       1\n",
       "498       1\n",
       "1334      1\n",
       "502       1\n",
       "503       1\n",
       "505       1\n",
       "509       1\n",
       "1022      1\n",
       "Name: BsmtFin SF 1, Length: 463, dtype: int64"
      ]
     },
     "metadata": {},
     "output_type": "display_data"
    },
    {
     "name": "stdout",
     "output_type": "stream",
     "text": [
      "Feature name:BsmtFin Type 2\n",
      " Type:object\n",
      "Isnull?:\n"
     ]
    },
    {
     "data": {
      "text/plain": [
       "25"
      ]
     },
     "metadata": {},
     "output_type": "display_data"
    },
    {
     "data": {
      "text/plain": [
       "Unf    750\n",
       "LwQ     29\n",
       "Rec     26\n",
       "BLQ     20\n",
       "ALQ     18\n",
       "GLQ     11\n",
       "Name: BsmtFin Type 2, dtype: int64"
      ]
     },
     "metadata": {},
     "output_type": "display_data"
    },
    {
     "name": "stdout",
     "output_type": "stream",
     "text": [
      "Feature name:BsmtFin SF 2\n",
      " Type:int64\n",
      "Isnull?:\n"
     ]
    },
    {
     "data": {
      "text/plain": [
       "0"
      ]
     },
     "metadata": {},
     "output_type": "display_data"
    },
    {
     "data": {
      "text/plain": [
       "0       775\n",
       "147       2\n",
       "435       2\n",
       "287       2\n",
       "480       2\n",
       "391       2\n",
       "180       2\n",
       "168       2\n",
       "182       2\n",
       "374       2\n",
       "78        1\n",
       "250       1\n",
       "252       1\n",
       "264       1\n",
       "276       1\n",
       "32        1\n",
       "279       1\n",
       "1031      1\n",
       "288       1\n",
       "319       1\n",
       "336       1\n",
       "337       1\n",
       "344       1\n",
       "1029      1\n",
       "350       1\n",
       "352       1\n",
       "360       1\n",
       "362       1\n",
       "243       1\n",
       "63        1\n",
       "       ... \n",
       "841       1\n",
       "873       1\n",
       "884       1\n",
       "904       1\n",
       "912       1\n",
       "972       1\n",
       "679       1\n",
       "668       1\n",
       "634       1\n",
       "630       1\n",
       "398       1\n",
       "400       1\n",
       "402       1\n",
       "438       1\n",
       "448       1\n",
       "449       1\n",
       "453       1\n",
       "456       1\n",
       "468       1\n",
       "472       1\n",
       "491       1\n",
       "492       1\n",
       "1526      1\n",
       "512       1\n",
       "530       1\n",
       "543       1\n",
       "544       1\n",
       "606       1\n",
       "627       1\n",
       "393       1\n",
       "Name: BsmtFin SF 2, Length: 96, dtype: int64"
      ]
     },
     "metadata": {},
     "output_type": "display_data"
    },
    {
     "name": "stdout",
     "output_type": "stream",
     "text": [
      "Feature name:Bsmt Unf SF\n",
      " Type:int64\n",
      "Isnull?:\n"
     ]
    },
    {
     "data": {
      "text/plain": [
       "0"
      ]
     },
     "metadata": {},
     "output_type": "display_data"
    },
    {
     "data": {
      "text/plain": [
       "0       79\n",
       "270      7\n",
       "396      5\n",
       "840      5\n",
       "572      5\n",
       "100      5\n",
       "384      5\n",
       "392      4\n",
       "108      4\n",
       "115      4\n",
       "416      4\n",
       "546      4\n",
       "440      4\n",
       "641      4\n",
       "186      4\n",
       "600      4\n",
       "728      4\n",
       "490      4\n",
       "491      4\n",
       "168      3\n",
       "625      3\n",
       "150      3\n",
       "720      3\n",
       "780      3\n",
       "784      3\n",
       "132      3\n",
       "130      3\n",
       "264      3\n",
       "616      3\n",
       "244      3\n",
       "        ..\n",
       "1696     1\n",
       "1498     1\n",
       "578      1\n",
       "512      1\n",
       "605      1\n",
       "513      1\n",
       "1541     1\n",
       "519      1\n",
       "1544     1\n",
       "523      1\n",
       "1550     1\n",
       "1068     1\n",
       "530      1\n",
       "534      1\n",
       "535      1\n",
       "537      1\n",
       "540      1\n",
       "545      1\n",
       "1571     1\n",
       "554      1\n",
       "555      1\n",
       "1632     1\n",
       "560      1\n",
       "563      1\n",
       "1588     1\n",
       "567      1\n",
       "569      1\n",
       "575      1\n",
       "576      1\n",
       "439      1\n",
       "Name: Bsmt Unf SF, Length: 563, dtype: int64"
      ]
     },
     "metadata": {},
     "output_type": "display_data"
    },
    {
     "name": "stdout",
     "output_type": "stream",
     "text": [
      "Feature name:Total Bsmt SF\n",
      " Type:int64\n",
      "Isnull?:\n"
     ]
    },
    {
     "data": {
      "text/plain": [
       "0"
      ]
     },
     "metadata": {},
     "output_type": "display_data"
    },
    {
     "data": {
      "text/plain": [
       "0       25\n",
       "864     23\n",
       "768     10\n",
       "672      9\n",
       "780      9\n",
       "912      9\n",
       "960      7\n",
       "720      7\n",
       "728      7\n",
       "832      7\n",
       "840      7\n",
       "848      7\n",
       "894      7\n",
       "546      7\n",
       "816      6\n",
       "630      6\n",
       "384      6\n",
       "936      6\n",
       "952      5\n",
       "756      5\n",
       "1008     5\n",
       "1040     5\n",
       "1056     5\n",
       "691      4\n",
       "784      4\n",
       "941      4\n",
       "975      4\n",
       "938      4\n",
       "483      4\n",
       "858      4\n",
       "        ..\n",
       "710      1\n",
       "712      1\n",
       "752      1\n",
       "654      1\n",
       "651      1\n",
       "648      1\n",
       "1629     1\n",
       "1696     1\n",
       "2000     1\n",
       "845      1\n",
       "1615     1\n",
       "592      1\n",
       "1617     1\n",
       "1618     1\n",
       "1622     1\n",
       "1625     1\n",
       "1626     1\n",
       "608      1\n",
       "644      1\n",
       "612      1\n",
       "702      1\n",
       "841      1\n",
       "621      1\n",
       "625      1\n",
       "629      1\n",
       "1657     1\n",
       "635      1\n",
       "636      1\n",
       "1664     1\n",
       "1553     1\n",
       "Name: Total Bsmt SF, Length: 527, dtype: int64"
      ]
     },
     "metadata": {},
     "output_type": "display_data"
    },
    {
     "name": "stdout",
     "output_type": "stream",
     "text": [
      "Feature name:Heating\n",
      " Type:object\n",
      "Isnull?:\n"
     ]
    },
    {
     "data": {
      "text/plain": [
       "0"
      ]
     },
     "metadata": {},
     "output_type": "display_data"
    },
    {
     "data": {
      "text/plain": [
       "GasA     867\n",
       "GasW       7\n",
       "Grav       4\n",
       "Floor      1\n",
       "Name: Heating, dtype: int64"
      ]
     },
     "metadata": {},
     "output_type": "display_data"
    },
    {
     "name": "stdout",
     "output_type": "stream",
     "text": [
      "Feature name:Heating QC\n",
      " Type:object\n",
      "Isnull?:\n"
     ]
    },
    {
     "data": {
      "text/plain": [
       "0"
      ]
     },
     "metadata": {},
     "output_type": "display_data"
    },
    {
     "data": {
      "text/plain": [
       "Ex    430\n",
       "TA    267\n",
       "Gd    157\n",
       "Fa     25\n",
       "Name: Heating QC, dtype: int64"
      ]
     },
     "metadata": {},
     "output_type": "display_data"
    },
    {
     "name": "stdout",
     "output_type": "stream",
     "text": [
      "Feature name:Central Air\n",
      " Type:object\n",
      "Isnull?:\n"
     ]
    },
    {
     "data": {
      "text/plain": [
       "0"
      ]
     },
     "metadata": {},
     "output_type": "display_data"
    },
    {
     "data": {
      "text/plain": [
       "Y    824\n",
       "N     55\n",
       "Name: Central Air, dtype: int64"
      ]
     },
     "metadata": {},
     "output_type": "display_data"
    },
    {
     "name": "stdout",
     "output_type": "stream",
     "text": [
      "Feature name:Electrical\n",
      " Type:object\n",
      "Isnull?:\n"
     ]
    },
    {
     "data": {
      "text/plain": [
       "1"
      ]
     },
     "metadata": {},
     "output_type": "display_data"
    },
    {
     "data": {
      "text/plain": [
       "SBrkr    814\n",
       "FuseA     48\n",
       "FuseF     15\n",
       "FuseP      1\n",
       "Name: Electrical, dtype: int64"
      ]
     },
     "metadata": {},
     "output_type": "display_data"
    },
    {
     "name": "stdout",
     "output_type": "stream",
     "text": [
      "Feature name:1st Flr SF\n",
      " Type:int64\n",
      "Isnull?:\n"
     ]
    },
    {
     "data": {
      "text/plain": [
       "0"
      ]
     },
     "metadata": {},
     "output_type": "display_data"
    },
    {
     "data": {
      "text/plain": [
       "864     15\n",
       "848      7\n",
       "894      7\n",
       "672      7\n",
       "840      6\n",
       "546      6\n",
       "1226     6\n",
       "630      6\n",
       "960      6\n",
       "912      6\n",
       "1040     6\n",
       "774      5\n",
       "832      5\n",
       "816      5\n",
       "958      5\n",
       "936      5\n",
       "780      4\n",
       "810      4\n",
       "768      4\n",
       "720      4\n",
       "728      4\n",
       "792      4\n",
       "796      4\n",
       "756      4\n",
       "925      4\n",
       "1145     4\n",
       "1144     4\n",
       "882      4\n",
       "884      4\n",
       "892      4\n",
       "        ..\n",
       "687      1\n",
       "689      1\n",
       "1664     1\n",
       "1661     1\n",
       "1660     1\n",
       "628      1\n",
       "561      1\n",
       "565      1\n",
       "1604     1\n",
       "1608     1\n",
       "585      1\n",
       "1610     1\n",
       "1614     1\n",
       "1615     1\n",
       "1617     1\n",
       "1618     1\n",
       "1619     1\n",
       "1620     1\n",
       "599      1\n",
       "1630     1\n",
       "608      1\n",
       "612      1\n",
       "2117     1\n",
       "1643     1\n",
       "1645     1\n",
       "1646     1\n",
       "1647     1\n",
       "625      1\n",
       "2674     1\n",
       "1571     1\n",
       "Name: 1st Flr SF, Length: 561, dtype: int64"
      ]
     },
     "metadata": {},
     "output_type": "display_data"
    },
    {
     "name": "stdout",
     "output_type": "stream",
     "text": [
      "Feature name:2nd Flr SF\n",
      " Type:int64\n",
      "Isnull?:\n"
     ]
    },
    {
     "data": {
      "text/plain": [
       "0"
      ]
     },
     "metadata": {},
     "output_type": "display_data"
    },
    {
     "data": {
      "text/plain": [
       "0       487\n",
       "546      11\n",
       "840       5\n",
       "720       5\n",
       "676       4\n",
       "672       4\n",
       "780       4\n",
       "878       4\n",
       "714       3\n",
       "728       3\n",
       "756       3\n",
       "1012      3\n",
       "600       3\n",
       "850       3\n",
       "378       3\n",
       "656       3\n",
       "793       3\n",
       "504       3\n",
       "871       3\n",
       "900       3\n",
       "800       3\n",
       "742       2\n",
       "744       2\n",
       "832       2\n",
       "739       2\n",
       "809       2\n",
       "748       2\n",
       "807       2\n",
       "768       2\n",
       "830       2\n",
       "       ... \n",
       "564       1\n",
       "558       1\n",
       "557       1\n",
       "625       1\n",
       "943       1\n",
       "631       1\n",
       "933       1\n",
       "695       1\n",
       "919       1\n",
       "920       1\n",
       "925       1\n",
       "682       1\n",
       "678       1\n",
       "926       1\n",
       "674       1\n",
       "930       1\n",
       "671       1\n",
       "668       1\n",
       "638       1\n",
       "665       1\n",
       "662       1\n",
       "661       1\n",
       "660       1\n",
       "939       1\n",
       "1017      1\n",
       "649       1\n",
       "646       1\n",
       "644       1\n",
       "640       1\n",
       "1020      1\n",
       "Name: 2nd Flr SF, Length: 286, dtype: int64"
      ]
     },
     "metadata": {},
     "output_type": "display_data"
    },
    {
     "name": "stdout",
     "output_type": "stream",
     "text": [
      "Feature name:Low Qual Fin SF\n",
      " Type:int64\n",
      "Isnull?:\n"
     ]
    },
    {
     "data": {
      "text/plain": [
       "0"
      ]
     },
     "metadata": {},
     "output_type": "display_data"
    },
    {
     "data": {
      "text/plain": [
       "0      872\n",
       "481      1\n",
       "431      1\n",
       "420      1\n",
       "392      1\n",
       "360      1\n",
       "232      1\n",
       "80       1\n",
       "Name: Low Qual Fin SF, dtype: int64"
      ]
     },
     "metadata": {},
     "output_type": "display_data"
    },
    {
     "name": "stdout",
     "output_type": "stream",
     "text": [
      "Feature name:Gr Liv Area\n",
      " Type:int64\n",
      "Isnull?:\n"
     ]
    },
    {
     "data": {
      "text/plain": [
       "0"
      ]
     },
     "metadata": {},
     "output_type": "display_data"
    },
    {
     "data": {
      "text/plain": [
       "864     16\n",
       "1092     7\n",
       "848      6\n",
       "816      5\n",
       "1218     5\n",
       "1456     5\n",
       "894      5\n",
       "1040     5\n",
       "1358     4\n",
       "1268     4\n",
       "925      4\n",
       "1436     4\n",
       "1302     4\n",
       "630      4\n",
       "882      4\n",
       "1728     4\n",
       "1668     4\n",
       "1392     4\n",
       "1224     4\n",
       "1056     4\n",
       "936      4\n",
       "1314     3\n",
       "960      3\n",
       "1470     3\n",
       "858      3\n",
       "1472     3\n",
       "1440     3\n",
       "1560     3\n",
       "1553     3\n",
       "1530     3\n",
       "        ..\n",
       "1572     1\n",
       "1571     1\n",
       "1570     1\n",
       "1568     1\n",
       "1808     1\n",
       "1518     1\n",
       "2544     1\n",
       "2522     1\n",
       "1524     1\n",
       "2550     1\n",
       "2551     1\n",
       "2552     1\n",
       "1771     1\n",
       "1535     1\n",
       "1536     1\n",
       "943      1\n",
       "893      1\n",
       "1541     1\n",
       "1902     1\n",
       "1548     1\n",
       "1549     1\n",
       "1550     1\n",
       "1554     1\n",
       "2494     1\n",
       "1557     1\n",
       "1958     1\n",
       "1563     1\n",
       "1564     1\n",
       "2362     1\n",
       "1024     1\n",
       "Name: Gr Liv Area, Length: 622, dtype: int64"
      ]
     },
     "metadata": {},
     "output_type": "display_data"
    },
    {
     "name": "stdout",
     "output_type": "stream",
     "text": [
      "Feature name:Bsmt Full Bath\n",
      " Type:int64\n",
      "Isnull?:\n"
     ]
    },
    {
     "data": {
      "text/plain": [
       "0"
      ]
     },
     "metadata": {},
     "output_type": "display_data"
    },
    {
     "data": {
      "text/plain": [
       "0    507\n",
       "1    357\n",
       "2     15\n",
       "Name: Bsmt Full Bath, dtype: int64"
      ]
     },
     "metadata": {},
     "output_type": "display_data"
    },
    {
     "name": "stdout",
     "output_type": "stream",
     "text": [
      "Feature name:Bsmt Half Bath\n",
      " Type:int64\n",
      "Isnull?:\n"
     ]
    },
    {
     "data": {
      "text/plain": [
       "0"
      ]
     },
     "metadata": {},
     "output_type": "display_data"
    },
    {
     "data": {
      "text/plain": [
       "0    830\n",
       "1     49\n",
       "Name: Bsmt Half Bath, dtype: int64"
      ]
     },
     "metadata": {},
     "output_type": "display_data"
    },
    {
     "name": "stdout",
     "output_type": "stream",
     "text": [
      "Feature name:Full Bath\n",
      " Type:int64\n",
      "Isnull?:\n"
     ]
    },
    {
     "data": {
      "text/plain": [
       "0"
      ]
     },
     "metadata": {},
     "output_type": "display_data"
    },
    {
     "data": {
      "text/plain": [
       "2    436\n",
       "1    418\n",
       "3     19\n",
       "0      4\n",
       "4      2\n",
       "Name: Full Bath, dtype: int64"
      ]
     },
     "metadata": {},
     "output_type": "display_data"
    },
    {
     "name": "stdout",
     "output_type": "stream",
     "text": [
      "Feature name:Half Bath\n",
      " Type:int64\n",
      "Isnull?:\n"
     ]
    },
    {
     "data": {
      "text/plain": [
       "0"
      ]
     },
     "metadata": {},
     "output_type": "display_data"
    },
    {
     "data": {
      "text/plain": [
       "0    535\n",
       "1    337\n",
       "2      7\n",
       "Name: Half Bath, dtype: int64"
      ]
     },
     "metadata": {},
     "output_type": "display_data"
    },
    {
     "name": "stdout",
     "output_type": "stream",
     "text": [
      "Feature name:Bedroom AbvGr\n",
      " Type:int64\n",
      "Isnull?:\n"
     ]
    },
    {
     "data": {
      "text/plain": [
       "0"
      ]
     },
     "metadata": {},
     "output_type": "display_data"
    },
    {
     "data": {
      "text/plain": [
       "3    489\n",
       "2    199\n",
       "4    135\n",
       "1     37\n",
       "6      9\n",
       "5      7\n",
       "0      3\n",
       "Name: Bedroom AbvGr, dtype: int64"
      ]
     },
     "metadata": {},
     "output_type": "display_data"
    },
    {
     "name": "stdout",
     "output_type": "stream",
     "text": [
      "Feature name:Kitchen AbvGr\n",
      " Type:int64\n",
      "Isnull?:\n"
     ]
    },
    {
     "data": {
      "text/plain": [
       "0"
      ]
     },
     "metadata": {},
     "output_type": "display_data"
    },
    {
     "data": {
      "text/plain": [
       "1    836\n",
       "2     41\n",
       "3      1\n",
       "0      1\n",
       "Name: Kitchen AbvGr, dtype: int64"
      ]
     },
     "metadata": {},
     "output_type": "display_data"
    },
    {
     "name": "stdout",
     "output_type": "stream",
     "text": [
      "Feature name:Kitchen Qual\n",
      " Type:object\n",
      "Isnull?:\n"
     ]
    },
    {
     "data": {
      "text/plain": [
       "0"
      ]
     },
     "metadata": {},
     "output_type": "display_data"
    },
    {
     "data": {
      "text/plain": [
       "TA    447\n",
       "Gd    354\n",
       "Ex     54\n",
       "Fa     23\n",
       "Po      1\n",
       "Name: Kitchen Qual, dtype: int64"
      ]
     },
     "metadata": {},
     "output_type": "display_data"
    },
    {
     "name": "stdout",
     "output_type": "stream",
     "text": [
      "Feature name:TotRms AbvGrd\n",
      " Type:int64\n",
      "Isnull?:\n"
     ]
    },
    {
     "data": {
      "text/plain": [
       "0"
      ]
     },
     "metadata": {},
     "output_type": "display_data"
    },
    {
     "data": {
      "text/plain": [
       "6     247\n",
       "5     179\n",
       "7     174\n",
       "8     119\n",
       "4      57\n",
       "9      45\n",
       "10     31\n",
       "3      14\n",
       "11     10\n",
       "12      3\n",
       "Name: TotRms AbvGrd, dtype: int64"
      ]
     },
     "metadata": {},
     "output_type": "display_data"
    },
    {
     "name": "stdout",
     "output_type": "stream",
     "text": [
      "Feature name:Functional\n",
      " Type:object\n",
      "Isnull?:\n"
     ]
    },
    {
     "data": {
      "text/plain": [
       "0"
      ]
     },
     "metadata": {},
     "output_type": "display_data"
    },
    {
     "data": {
      "text/plain": [
       "Typ     813\n",
       "Min2     28\n",
       "Min1     23\n",
       "Maj1      7\n",
       "Mod       6\n",
       "Maj2      2\n",
       "Name: Functional, dtype: int64"
      ]
     },
     "metadata": {},
     "output_type": "display_data"
    },
    {
     "name": "stdout",
     "output_type": "stream",
     "text": [
      "Feature name:Fireplaces\n",
      " Type:int64\n",
      "Isnull?:\n"
     ]
    },
    {
     "data": {
      "text/plain": [
       "0"
      ]
     },
     "metadata": {},
     "output_type": "display_data"
    },
    {
     "data": {
      "text/plain": [
       "0    422\n",
       "1    376\n",
       "2     75\n",
       "3      6\n",
       "Name: Fireplaces, dtype: int64"
      ]
     },
     "metadata": {},
     "output_type": "display_data"
    },
    {
     "name": "stdout",
     "output_type": "stream",
     "text": [
      "Feature name:Fireplace Qu\n",
      " Type:object\n",
      "Isnull?:\n"
     ]
    },
    {
     "data": {
      "text/plain": [
       "422"
      ]
     },
     "metadata": {},
     "output_type": "display_data"
    },
    {
     "data": {
      "text/plain": [
       "Gd    221\n",
       "TA    193\n",
       "Fa     16\n",
       "Po     15\n",
       "Ex     12\n",
       "Name: Fireplace Qu, dtype: int64"
      ]
     },
     "metadata": {},
     "output_type": "display_data"
    },
    {
     "name": "stdout",
     "output_type": "stream",
     "text": [
      "Feature name:Garage Type\n",
      " Type:object\n",
      "Isnull?:\n"
     ]
    },
    {
     "data": {
      "text/plain": [
       "44"
      ]
     },
     "metadata": {},
     "output_type": "display_data"
    },
    {
     "data": {
      "text/plain": [
       "Attchd     518\n",
       "Detchd     246\n",
       "BuiltIn     54\n",
       "Basment      9\n",
       "CarPort      4\n",
       "2Types       4\n",
       "Name: Garage Type, dtype: int64"
      ]
     },
     "metadata": {},
     "output_type": "display_data"
    },
    {
     "name": "stdout",
     "output_type": "stream",
     "text": [
      "Feature name:Garage Yr Blt\n",
      " Type:float64\n",
      "Isnull?:\n"
     ]
    },
    {
     "data": {
      "text/plain": [
       "45"
      ]
     },
     "metadata": {},
     "output_type": "display_data"
    },
    {
     "data": {
      "text/plain": [
       "2005.0    37\n",
       "2006.0    35\n",
       "2007.0    31\n",
       "2004.0    27\n",
       "2003.0    26\n",
       "1977.0    20\n",
       "1950.0    19\n",
       "1997.0    18\n",
       "2008.0    17\n",
       "1993.0    16\n",
       "1974.0    16\n",
       "1968.0    16\n",
       "1960.0    16\n",
       "1976.0    15\n",
       "1999.0    15\n",
       "1957.0    14\n",
       "2001.0    14\n",
       "1994.0    14\n",
       "1969.0    14\n",
       "1998.0    14\n",
       "1980.0    14\n",
       "2000.0    14\n",
       "1959.0    13\n",
       "2002.0    13\n",
       "1963.0    12\n",
       "2009.0    12\n",
       "1970.0    12\n",
       "1920.0    12\n",
       "1954.0    12\n",
       "1961.0    11\n",
       "          ..\n",
       "1949.0     4\n",
       "1953.0     4\n",
       "1983.0     4\n",
       "1946.0     4\n",
       "1941.0     4\n",
       "1924.0     4\n",
       "2010.0     3\n",
       "1975.0     3\n",
       "1982.0     3\n",
       "1915.0     3\n",
       "1986.0     3\n",
       "1900.0     3\n",
       "1922.0     2\n",
       "1947.0     2\n",
       "1937.0     2\n",
       "1987.0     2\n",
       "1934.0     2\n",
       "1918.0     2\n",
       "1932.0     2\n",
       "1906.0     1\n",
       "1917.0     1\n",
       "1935.0     1\n",
       "1923.0     1\n",
       "1943.0     1\n",
       "1908.0     1\n",
       "1916.0     1\n",
       "1927.0     1\n",
       "1931.0     1\n",
       "1928.0     1\n",
       "1921.0     1\n",
       "Name: Garage Yr Blt, Length: 93, dtype: int64"
      ]
     },
     "metadata": {},
     "output_type": "display_data"
    },
    {
     "name": "stdout",
     "output_type": "stream",
     "text": [
      "Feature name:Garage Finish\n",
      " Type:object\n",
      "Isnull?:\n"
     ]
    },
    {
     "data": {
      "text/plain": [
       "45"
      ]
     },
     "metadata": {},
     "output_type": "display_data"
    },
    {
     "data": {
      "text/plain": [
       "Unf    382\n",
       "RFn    233\n",
       "Fin    219\n",
       "Name: Garage Finish, dtype: int64"
      ]
     },
     "metadata": {},
     "output_type": "display_data"
    },
    {
     "name": "stdout",
     "output_type": "stream",
     "text": [
      "Feature name:Garage Cars\n",
      " Type:int64\n",
      "Isnull?:\n"
     ]
    },
    {
     "data": {
      "text/plain": [
       "0"
      ]
     },
     "metadata": {},
     "output_type": "display_data"
    },
    {
     "data": {
      "text/plain": [
       "2    467\n",
       "1    254\n",
       "3    111\n",
       "0     44\n",
       "4      3\n",
       "Name: Garage Cars, dtype: int64"
      ]
     },
     "metadata": {},
     "output_type": "display_data"
    },
    {
     "name": "stdout",
     "output_type": "stream",
     "text": [
      "Feature name:Garage Area\n",
      " Type:int64\n",
      "Isnull?:\n"
     ]
    },
    {
     "data": {
      "text/plain": [
       "0"
      ]
     },
     "metadata": {},
     "output_type": "display_data"
    },
    {
     "data": {
      "text/plain": [
       "0       44\n",
       "576     28\n",
       "440     26\n",
       "484     24\n",
       "240     24\n",
       "528     19\n",
       "264     18\n",
       "308     16\n",
       "400     15\n",
       "480     15\n",
       "286     11\n",
       "420     11\n",
       "336     11\n",
       "495      8\n",
       "506      8\n",
       "384      8\n",
       "216      7\n",
       "288      7\n",
       "460      6\n",
       "672      6\n",
       "390      6\n",
       "360      6\n",
       "462      6\n",
       "280      6\n",
       "300      5\n",
       "525      5\n",
       "520      5\n",
       "352      5\n",
       "252      5\n",
       "588      5\n",
       "        ..\n",
       "413      1\n",
       "412      1\n",
       "800      1\n",
       "444      1\n",
       "773      1\n",
       "713      1\n",
       "749      1\n",
       "714      1\n",
       "366      1\n",
       "482      1\n",
       "481      1\n",
       "478      1\n",
       "476      1\n",
       "732      1\n",
       "740      1\n",
       "468      1\n",
       "747      1\n",
       "465      1\n",
       "765      1\n",
       "464      1\n",
       "463      1\n",
       "753      1\n",
       "754      1\n",
       "756      1\n",
       "459      1\n",
       "456      1\n",
       "455      1\n",
       "454      1\n",
       "453      1\n",
       "1014     1\n",
       "Name: Garage Area, Length: 357, dtype: int64"
      ]
     },
     "metadata": {},
     "output_type": "display_data"
    },
    {
     "name": "stdout",
     "output_type": "stream",
     "text": [
      "Feature name:Garage Qual\n",
      " Type:object\n",
      "Isnull?:\n"
     ]
    },
    {
     "data": {
      "text/plain": [
       "45"
      ]
     },
     "metadata": {},
     "output_type": "display_data"
    },
    {
     "data": {
      "text/plain": [
       "TA    783\n",
       "Fa     42\n",
       "Gd      6\n",
       "Po      3\n",
       "Name: Garage Qual, dtype: int64"
      ]
     },
     "metadata": {},
     "output_type": "display_data"
    },
    {
     "name": "stdout",
     "output_type": "stream",
     "text": [
      "Feature name:Garage Cond\n",
      " Type:object\n",
      "Isnull?:\n"
     ]
    },
    {
     "data": {
      "text/plain": [
       "45"
      ]
     },
     "metadata": {},
     "output_type": "display_data"
    },
    {
     "data": {
      "text/plain": [
       "TA    797\n",
       "Fa     27\n",
       "Po      6\n",
       "Gd      3\n",
       "Ex      1\n",
       "Name: Garage Cond, dtype: int64"
      ]
     },
     "metadata": {},
     "output_type": "display_data"
    },
    {
     "name": "stdout",
     "output_type": "stream",
     "text": [
      "Feature name:Paved Drive\n",
      " Type:object\n",
      "Isnull?:\n"
     ]
    },
    {
     "data": {
      "text/plain": [
       "0"
      ]
     },
     "metadata": {},
     "output_type": "display_data"
    },
    {
     "data": {
      "text/plain": [
       "Y    791\n",
       "N     65\n",
       "P     23\n",
       "Name: Paved Drive, dtype: int64"
      ]
     },
     "metadata": {},
     "output_type": "display_data"
    },
    {
     "name": "stdout",
     "output_type": "stream",
     "text": [
      "Feature name:Wood Deck SF\n",
      " Type:int64\n",
      "Isnull?:\n"
     ]
    },
    {
     "data": {
      "text/plain": [
       "0"
      ]
     },
     "metadata": {},
     "output_type": "display_data"
    },
    {
     "data": {
      "text/plain": [
       "0      451\n",
       "192     27\n",
       "100     21\n",
       "168     20\n",
       "144     15\n",
       "120     13\n",
       "240      8\n",
       "208      7\n",
       "180      7\n",
       "140      6\n",
       "133      5\n",
       "171      4\n",
       "150      4\n",
       "156      4\n",
       "135      4\n",
       "172      4\n",
       "182      4\n",
       "40       4\n",
       "210      4\n",
       "176      3\n",
       "160      3\n",
       "200      3\n",
       "204      3\n",
       "142      3\n",
       "212      3\n",
       "174      3\n",
       "149      3\n",
       "72       3\n",
       "127      3\n",
       "76       3\n",
       "      ... \n",
       "344      1\n",
       "262      1\n",
       "335      1\n",
       "331      1\n",
       "330      1\n",
       "328      1\n",
       "158      1\n",
       "326      1\n",
       "161      1\n",
       "164      1\n",
       "165      1\n",
       "325      1\n",
       "169      1\n",
       "170      1\n",
       "324      1\n",
       "173      1\n",
       "320      1\n",
       "175      1\n",
       "319      1\n",
       "177      1\n",
       "178      1\n",
       "179      1\n",
       "181      1\n",
       "315      1\n",
       "312      1\n",
       "306      1\n",
       "188      1\n",
       "190      1\n",
       "305      1\n",
       "690      1\n",
       "Name: Wood Deck SF, Length: 210, dtype: int64"
      ]
     },
     "metadata": {},
     "output_type": "display_data"
    },
    {
     "name": "stdout",
     "output_type": "stream",
     "text": [
      "Feature name:Open Porch SF\n",
      " Type:int64\n",
      "Isnull?:\n"
     ]
    },
    {
     "data": {
      "text/plain": [
       "0"
      ]
     },
     "metadata": {},
     "output_type": "display_data"
    },
    {
     "data": {
      "text/plain": [
       "0      388\n",
       "28      17\n",
       "36      14\n",
       "24      13\n",
       "48      12\n",
       "39      10\n",
       "40      10\n",
       "42      10\n",
       "64       9\n",
       "20       9\n",
       "32       9\n",
       "50       9\n",
       "78       8\n",
       "45       8\n",
       "35       8\n",
       "38       8\n",
       "30       8\n",
       "84       7\n",
       "68       7\n",
       "63       7\n",
       "98       7\n",
       "60       7\n",
       "56       6\n",
       "90       6\n",
       "75       6\n",
       "72       6\n",
       "44       5\n",
       "26       5\n",
       "116      5\n",
       "114      5\n",
       "      ... \n",
       "139      1\n",
       "122      1\n",
       "124      1\n",
       "126      1\n",
       "138      1\n",
       "131      1\n",
       "137      1\n",
       "133      1\n",
       "165      1\n",
       "166      1\n",
       "92       1\n",
       "91       1\n",
       "201      1\n",
       "62       1\n",
       "198      1\n",
       "195      1\n",
       "134      1\n",
       "66       1\n",
       "193      1\n",
       "189      1\n",
       "73       1\n",
       "178      1\n",
       "177      1\n",
       "175      1\n",
       "174      1\n",
       "83       1\n",
       "172      1\n",
       "170      1\n",
       "89       1\n",
       "742      1\n",
       "Name: Open Porch SF, Length: 163, dtype: int64"
      ]
     },
     "metadata": {},
     "output_type": "display_data"
    },
    {
     "name": "stdout",
     "output_type": "stream",
     "text": [
      "Feature name:Enclosed Porch\n",
      " Type:int64\n",
      "Isnull?:\n"
     ]
    },
    {
     "data": {
      "text/plain": [
       "0"
      ]
     },
     "metadata": {},
     "output_type": "display_data"
    },
    {
     "data": {
      "text/plain": [
       "0       747\n",
       "112       9\n",
       "144       5\n",
       "168       4\n",
       "192       4\n",
       "116       3\n",
       "120       3\n",
       "126       3\n",
       "96        3\n",
       "102       3\n",
       "248       3\n",
       "80        3\n",
       "140       2\n",
       "150       2\n",
       "160       2\n",
       "84        2\n",
       "224       2\n",
       "190       2\n",
       "169       2\n",
       "60        2\n",
       "180       2\n",
       "55        2\n",
       "239       2\n",
       "240       2\n",
       "42        2\n",
       "252       2\n",
       "41        2\n",
       "40        2\n",
       "108       2\n",
       "32        2\n",
       "       ... \n",
       "334       1\n",
       "293       1\n",
       "290       1\n",
       "286       1\n",
       "264       1\n",
       "254       1\n",
       "244       1\n",
       "242       1\n",
       "238       1\n",
       "231       1\n",
       "228       1\n",
       "221       1\n",
       "220       1\n",
       "218       1\n",
       "209       1\n",
       "208       1\n",
       "205       1\n",
       "202       1\n",
       "196       1\n",
       "185       1\n",
       "184       1\n",
       "183       1\n",
       "170       1\n",
       "164       1\n",
       "584       1\n",
       "386       1\n",
       "137       1\n",
       "132       1\n",
       "128       1\n",
       "1012      1\n",
       "Name: Enclosed Porch, Length: 83, dtype: int64"
      ]
     },
     "metadata": {},
     "output_type": "display_data"
    },
    {
     "name": "stdout",
     "output_type": "stream",
     "text": [
      "Feature name:3Ssn Porch\n",
      " Type:int64\n",
      "Isnull?:\n"
     ]
    },
    {
     "data": {
      "text/plain": [
       "0"
      ]
     },
     "metadata": {},
     "output_type": "display_data"
    },
    {
     "data": {
      "text/plain": [
       "0      868\n",
       "360      1\n",
       "320      1\n",
       "238      1\n",
       "225      1\n",
       "219      1\n",
       "216      1\n",
       "196      1\n",
       "180      1\n",
       "174      1\n",
       "130      1\n",
       "23       1\n",
       "Name: 3Ssn Porch, dtype: int64"
      ]
     },
     "metadata": {},
     "output_type": "display_data"
    },
    {
     "name": "stdout",
     "output_type": "stream",
     "text": [
      "Feature name:Screen Porch\n",
      " Type:int64\n",
      "Isnull?:\n"
     ]
    },
    {
     "data": {
      "text/plain": [
       "0"
      ]
     },
     "metadata": {},
     "output_type": "display_data"
    },
    {
     "data": {
      "text/plain": [
       "0      804\n",
       "200      4\n",
       "144      4\n",
       "192      4\n",
       "160      4\n",
       "256      3\n",
       "216      3\n",
       "120      3\n",
       "115      2\n",
       "153      2\n",
       "156      2\n",
       "168      2\n",
       "263      1\n",
       "126      1\n",
       "123      1\n",
       "121      1\n",
       "119      1\n",
       "117      1\n",
       "116      1\n",
       "110      1\n",
       "112      1\n",
       "138      1\n",
       "108      1\n",
       "100      1\n",
       "99       1\n",
       "92       1\n",
       "90       1\n",
       "80       1\n",
       "63       1\n",
       "60       1\n",
       "40       1\n",
       "128      1\n",
       "155      1\n",
       "287      1\n",
       "196      1\n",
       "228      1\n",
       "227      1\n",
       "225      1\n",
       "221      1\n",
       "204      1\n",
       "266      1\n",
       "198      1\n",
       "197      1\n",
       "195      1\n",
       "259      1\n",
       "273      1\n",
       "189      1\n",
       "185      1\n",
       "184      1\n",
       "178      1\n",
       "175      1\n",
       "166      1\n",
       "288      1\n",
       "576      1\n",
       "Name: Screen Porch, dtype: int64"
      ]
     },
     "metadata": {},
     "output_type": "display_data"
    },
    {
     "name": "stdout",
     "output_type": "stream",
     "text": [
      "Feature name:Pool Area\n",
      " Type:int64\n",
      "Isnull?:\n"
     ]
    },
    {
     "data": {
      "text/plain": [
       "0"
      ]
     },
     "metadata": {},
     "output_type": "display_data"
    },
    {
     "data": {
      "text/plain": [
       "0      875\n",
       "555      1\n",
       "512      1\n",
       "444      1\n",
       "144      1\n",
       "Name: Pool Area, dtype: int64"
      ]
     },
     "metadata": {},
     "output_type": "display_data"
    },
    {
     "name": "stdout",
     "output_type": "stream",
     "text": [
      "Feature name:Pool QC\n",
      " Type:object\n",
      "Isnull?:\n"
     ]
    },
    {
     "data": {
      "text/plain": [
       "875"
      ]
     },
     "metadata": {},
     "output_type": "display_data"
    },
    {
     "data": {
      "text/plain": [
       "Ex    3\n",
       "TA    1\n",
       "Name: Pool QC, dtype: int64"
      ]
     },
     "metadata": {},
     "output_type": "display_data"
    },
    {
     "name": "stdout",
     "output_type": "stream",
     "text": [
      "Feature name:Fence\n",
      " Type:object\n",
      "Isnull?:\n"
     ]
    },
    {
     "data": {
      "text/plain": [
       "707"
      ]
     },
     "metadata": {},
     "output_type": "display_data"
    },
    {
     "data": {
      "text/plain": [
       "MnPrv    103\n",
       "GdPrv     35\n",
       "GdWo      32\n",
       "MnWw       2\n",
       "Name: Fence, dtype: int64"
      ]
     },
     "metadata": {},
     "output_type": "display_data"
    },
    {
     "name": "stdout",
     "output_type": "stream",
     "text": [
      "Feature name:Misc Feature\n",
      " Type:object\n",
      "Isnull?:\n"
     ]
    },
    {
     "data": {
      "text/plain": [
       "838"
      ]
     },
     "metadata": {},
     "output_type": "display_data"
    },
    {
     "data": {
      "text/plain": [
       "Shed    39\n",
       "Othr     1\n",
       "Gar2     1\n",
       "Name: Misc Feature, dtype: int64"
      ]
     },
     "metadata": {},
     "output_type": "display_data"
    },
    {
     "name": "stdout",
     "output_type": "stream",
     "text": [
      "Feature name:Misc Val\n",
      " Type:int64\n",
      "Isnull?:\n"
     ]
    },
    {
     "data": {
      "text/plain": [
       "0"
      ]
     },
     "metadata": {},
     "output_type": "display_data"
    },
    {
     "data": {
      "text/plain": [
       "0        841\n",
       "400        6\n",
       "500        5\n",
       "450        4\n",
       "700        3\n",
       "650        2\n",
       "600        2\n",
       "2000       2\n",
       "1500       2\n",
       "420        1\n",
       "15500      1\n",
       "1200       1\n",
       "350        1\n",
       "1400       1\n",
       "1000       1\n",
       "480        1\n",
       "490        1\n",
       "560        1\n",
       "620        1\n",
       "750        1\n",
       "1512       1\n",
       "Name: Misc Val, dtype: int64"
      ]
     },
     "metadata": {},
     "output_type": "display_data"
    },
    {
     "name": "stdout",
     "output_type": "stream",
     "text": [
      "Feature name:Mo Sold\n",
      " Type:int64\n",
      "Isnull?:\n"
     ]
    },
    {
     "data": {
      "text/plain": [
       "0"
      ]
     },
     "metadata": {},
     "output_type": "display_data"
    },
    {
     "data": {
      "text/plain": [
       "6     153\n",
       "7     146\n",
       "5     138\n",
       "4      71\n",
       "8      66\n",
       "3      64\n",
       "9      52\n",
       "10     50\n",
       "1      44\n",
       "11     40\n",
       "2      29\n",
       "12     26\n",
       "Name: Mo Sold, dtype: int64"
      ]
     },
     "metadata": {},
     "output_type": "display_data"
    },
    {
     "name": "stdout",
     "output_type": "stream",
     "text": [
      "Feature name:Yr Sold\n",
      " Type:int64\n",
      "Isnull?:\n"
     ]
    },
    {
     "data": {
      "text/plain": [
       "0"
      ]
     },
     "metadata": {},
     "output_type": "display_data"
    },
    {
     "data": {
      "text/plain": [
       "2009    202\n",
       "2007    196\n",
       "2008    187\n",
       "2006    187\n",
       "2010    107\n",
       "Name: Yr Sold, dtype: int64"
      ]
     },
     "metadata": {},
     "output_type": "display_data"
    },
    {
     "name": "stdout",
     "output_type": "stream",
     "text": [
      "Feature name:Sale Type\n",
      " Type:object\n",
      "Isnull?:\n"
     ]
    },
    {
     "data": {
      "text/plain": [
       "0"
      ]
     },
     "metadata": {},
     "output_type": "display_data"
    },
    {
     "data": {
      "text/plain": [
       "WD       755\n",
       "New       79\n",
       "COD       24\n",
       "ConLD      9\n",
       "ConLw      3\n",
       "Oth        3\n",
       "CWD        2\n",
       "ConLI      2\n",
       "Con        1\n",
       "VWD        1\n",
       "Name: Sale Type, dtype: int64"
      ]
     },
     "metadata": {},
     "output_type": "display_data"
    },
    {
     "name": "stdout",
     "output_type": "stream",
     "text": [
      "Feature name:SalePrice\n",
      " Type:float64\n",
      "Isnull?:\n"
     ]
    },
    {
     "data": {
      "text/plain": [
       "0"
      ]
     },
     "metadata": {},
     "output_type": "display_data"
    },
    {
     "data": {
      "text/plain": [
       "0.0    879\n",
       "Name: SalePrice, dtype: int64"
      ]
     },
     "metadata": {},
     "output_type": "display_data"
    }
   ],
   "source": [
    "#iterating through the features\n",
    "for featureset in featuresets:\n",
    "    for feature in featureset:\n",
    "        print('Feature name:{}\\n Type:{}\\nIsnull?:'.format(feature,df[feature].dtypes))\n",
    "        display(df[feature].isnull().sum())\n",
    "        #display(df[feature].describe())\n",
    "        display(df[feature].value_counts())"
   ]
  },
  {
   "cell_type": "code",
   "execution_count": 37,
   "metadata": {
    "ExecuteTime": {
     "end_time": "2019-10-11T05:14:18.823401Z",
     "start_time": "2019-10-11T05:14:18.810870Z"
    }
   },
   "outputs": [
    {
     "data": {
      "text/plain": [
       "Grvl    35\n",
       "Pave    23\n",
       "Name: Alley, dtype: int64"
      ]
     },
     "execution_count": 37,
     "metadata": {},
     "output_type": "execute_result"
    }
   ],
   "source": [
    "df['Alley'].value_counts()"
   ]
  },
  {
   "cell_type": "code",
   "execution_count": 38,
   "metadata": {
    "ExecuteTime": {
     "end_time": "2019-10-11T05:14:18.834802Z",
     "start_time": "2019-10-11T05:14:18.826005Z"
    }
   },
   "outputs": [],
   "source": [
    "df['Lot Frontage']=df['Lot Frontage'].fillna(0)"
   ]
  },
  {
   "cell_type": "code",
   "execution_count": 39,
   "metadata": {
    "ExecuteTime": {
     "end_time": "2019-10-11T05:14:18.845678Z",
     "start_time": "2019-10-11T05:14:18.837531Z"
    }
   },
   "outputs": [],
   "source": [
    "df['Mas Vnr Type']=df['Mas Vnr Type'].fillna('None')"
   ]
  },
  {
   "cell_type": "code",
   "execution_count": 40,
   "metadata": {
    "ExecuteTime": {
     "end_time": "2019-10-11T05:14:18.856215Z",
     "start_time": "2019-10-11T05:14:18.849740Z"
    }
   },
   "outputs": [],
   "source": [
    "df['Mas Vnr Area']=df['Mas Vnr Area'].fillna(0.0)"
   ]
  },
  {
   "cell_type": "code",
   "execution_count": 41,
   "metadata": {
    "ExecuteTime": {
     "end_time": "2019-10-11T05:14:18.901708Z",
     "start_time": "2019-10-11T05:14:18.861345Z"
    },
    "scrolled": false
   },
   "outputs": [
    {
     "data": {
      "text/html": [
       "<div>\n",
       "<style scoped>\n",
       "    .dataframe tbody tr th:only-of-type {\n",
       "        vertical-align: middle;\n",
       "    }\n",
       "\n",
       "    .dataframe tbody tr th {\n",
       "        vertical-align: top;\n",
       "    }\n",
       "\n",
       "    .dataframe thead th {\n",
       "        text-align: right;\n",
       "    }\n",
       "</style>\n",
       "<table border=\"1\" class=\"dataframe\">\n",
       "  <thead>\n",
       "    <tr style=\"text-align: right;\">\n",
       "      <th></th>\n",
       "      <th>Id</th>\n",
       "      <th>PID</th>\n",
       "      <th>MS SubClass</th>\n",
       "      <th>MS Zoning</th>\n",
       "      <th>Lot Frontage</th>\n",
       "      <th>Lot Area</th>\n",
       "      <th>Street</th>\n",
       "      <th>Alley</th>\n",
       "      <th>Lot Shape</th>\n",
       "      <th>Land Contour</th>\n",
       "      <th>...</th>\n",
       "      <th>Screen Porch</th>\n",
       "      <th>Pool Area</th>\n",
       "      <th>Pool QC</th>\n",
       "      <th>Fence</th>\n",
       "      <th>Misc Feature</th>\n",
       "      <th>Misc Val</th>\n",
       "      <th>Mo Sold</th>\n",
       "      <th>Yr Sold</th>\n",
       "      <th>Sale Type</th>\n",
       "      <th>SalePrice</th>\n",
       "    </tr>\n",
       "  </thead>\n",
       "  <tbody>\n",
       "    <tr>\n",
       "      <th>220</th>\n",
       "      <td>1964</td>\n",
       "      <td>535453080</td>\n",
       "      <td>20</td>\n",
       "      <td>RL</td>\n",
       "      <td>0.0</td>\n",
       "      <td>7500</td>\n",
       "      <td>Pave</td>\n",
       "      <td>NaN</td>\n",
       "      <td>Reg</td>\n",
       "      <td>Lvl</td>\n",
       "      <td>...</td>\n",
       "      <td>0</td>\n",
       "      <td>0</td>\n",
       "      <td>NaN</td>\n",
       "      <td>NaN</td>\n",
       "      <td>Shed</td>\n",
       "      <td>0</td>\n",
       "      <td>7</td>\n",
       "      <td>2007</td>\n",
       "      <td>WD</td>\n",
       "      <td>0.0</td>\n",
       "    </tr>\n",
       "    <tr>\n",
       "      <th>343</th>\n",
       "      <td>676</td>\n",
       "      <td>535450070</td>\n",
       "      <td>40</td>\n",
       "      <td>RL</td>\n",
       "      <td>60.0</td>\n",
       "      <td>12144</td>\n",
       "      <td>Pave</td>\n",
       "      <td>NaN</td>\n",
       "      <td>Reg</td>\n",
       "      <td>Lvl</td>\n",
       "      <td>...</td>\n",
       "      <td>0</td>\n",
       "      <td>0</td>\n",
       "      <td>NaN</td>\n",
       "      <td>NaN</td>\n",
       "      <td>Othr</td>\n",
       "      <td>0</td>\n",
       "      <td>9</td>\n",
       "      <td>2009</td>\n",
       "      <td>WD</td>\n",
       "      <td>0.0</td>\n",
       "    </tr>\n",
       "    <tr>\n",
       "      <th>542</th>\n",
       "      <td>2361</td>\n",
       "      <td>527402380</td>\n",
       "      <td>20</td>\n",
       "      <td>RL</td>\n",
       "      <td>71.0</td>\n",
       "      <td>9353</td>\n",
       "      <td>Pave</td>\n",
       "      <td>NaN</td>\n",
       "      <td>Reg</td>\n",
       "      <td>Lvl</td>\n",
       "      <td>...</td>\n",
       "      <td>0</td>\n",
       "      <td>0</td>\n",
       "      <td>NaN</td>\n",
       "      <td>NaN</td>\n",
       "      <td>Shed</td>\n",
       "      <td>0</td>\n",
       "      <td>7</td>\n",
       "      <td>2006</td>\n",
       "      <td>Oth</td>\n",
       "      <td>0.0</td>\n",
       "    </tr>\n",
       "  </tbody>\n",
       "</table>\n",
       "<p>3 rows × 81 columns</p>\n",
       "</div>"
      ],
      "text/plain": [
       "       Id        PID  MS SubClass MS Zoning  Lot Frontage  Lot Area Street  \\\n",
       "220  1964  535453080           20        RL           0.0      7500   Pave   \n",
       "343   676  535450070           40        RL          60.0     12144   Pave   \n",
       "542  2361  527402380           20        RL          71.0      9353   Pave   \n",
       "\n",
       "    Alley Lot Shape Land Contour  ... Screen Porch Pool Area Pool QC Fence  \\\n",
       "220   NaN       Reg          Lvl  ...            0         0     NaN   NaN   \n",
       "343   NaN       Reg          Lvl  ...            0         0     NaN   NaN   \n",
       "542   NaN       Reg          Lvl  ...            0         0     NaN   NaN   \n",
       "\n",
       "    Misc Feature Misc Val Mo Sold Yr Sold  Sale Type  SalePrice  \n",
       "220         Shed        0       7    2007        WD         0.0  \n",
       "343         Othr        0       9    2009        WD         0.0  \n",
       "542         Shed        0       7    2006        Oth        0.0  \n",
       "\n",
       "[3 rows x 81 columns]"
      ]
     },
     "execution_count": 41,
     "metadata": {},
     "output_type": "execute_result"
    }
   ],
   "source": [
    "df[(df['Misc Feature']==df['Misc Feature'])&(df['Misc Val']==0)]\n",
    "#to drop? cant because test set"
   ]
  },
  {
   "cell_type": "code",
   "execution_count": 42,
   "metadata": {
    "ExecuteTime": {
     "end_time": "2019-10-11T05:14:18.985895Z",
     "start_time": "2019-10-11T05:14:18.905118Z"
    },
    "scrolled": true
   },
   "outputs": [
    {
     "data": {
      "text/html": [
       "<div>\n",
       "<style scoped>\n",
       "    .dataframe tbody tr th:only-of-type {\n",
       "        vertical-align: middle;\n",
       "    }\n",
       "\n",
       "    .dataframe tbody tr th {\n",
       "        vertical-align: top;\n",
       "    }\n",
       "\n",
       "    .dataframe thead th {\n",
       "        text-align: right;\n",
       "    }\n",
       "</style>\n",
       "<table border=\"1\" class=\"dataframe\">\n",
       "  <thead>\n",
       "    <tr style=\"text-align: right;\">\n",
       "      <th></th>\n",
       "      <th>Id</th>\n",
       "      <th>PID</th>\n",
       "      <th>MS SubClass</th>\n",
       "      <th>MS Zoning</th>\n",
       "      <th>Lot Frontage</th>\n",
       "      <th>Lot Area</th>\n",
       "      <th>Street</th>\n",
       "      <th>Alley</th>\n",
       "      <th>Lot Shape</th>\n",
       "      <th>Land Contour</th>\n",
       "      <th>...</th>\n",
       "      <th>Screen Porch</th>\n",
       "      <th>Pool Area</th>\n",
       "      <th>Pool QC</th>\n",
       "      <th>Fence</th>\n",
       "      <th>Misc Feature</th>\n",
       "      <th>Misc Val</th>\n",
       "      <th>Mo Sold</th>\n",
       "      <th>Yr Sold</th>\n",
       "      <th>Sale Type</th>\n",
       "      <th>SalePrice</th>\n",
       "    </tr>\n",
       "  </thead>\n",
       "  <tbody>\n",
       "    <tr>\n",
       "      <th>29</th>\n",
       "      <td>1904</td>\n",
       "      <td>534451020</td>\n",
       "      <td>50</td>\n",
       "      <td>RL</td>\n",
       "      <td>51.0</td>\n",
       "      <td>3500</td>\n",
       "      <td>Pave</td>\n",
       "      <td>NaN</td>\n",
       "      <td>Reg</td>\n",
       "      <td>Lvl</td>\n",
       "      <td>...</td>\n",
       "      <td>0</td>\n",
       "      <td>0</td>\n",
       "      <td>NaN</td>\n",
       "      <td>MnPrv</td>\n",
       "      <td>Shed</td>\n",
       "      <td>2000</td>\n",
       "      <td>7</td>\n",
       "      <td>2007</td>\n",
       "      <td>WD</td>\n",
       "      <td>0.0</td>\n",
       "    </tr>\n",
       "    <tr>\n",
       "      <th>43</th>\n",
       "      <td>647</td>\n",
       "      <td>535351050</td>\n",
       "      <td>20</td>\n",
       "      <td>RL</td>\n",
       "      <td>75.0</td>\n",
       "      <td>14559</td>\n",
       "      <td>Pave</td>\n",
       "      <td>NaN</td>\n",
       "      <td>Reg</td>\n",
       "      <td>Lvl</td>\n",
       "      <td>...</td>\n",
       "      <td>168</td>\n",
       "      <td>0</td>\n",
       "      <td>NaN</td>\n",
       "      <td>NaN</td>\n",
       "      <td>Shed</td>\n",
       "      <td>2000</td>\n",
       "      <td>6</td>\n",
       "      <td>2009</td>\n",
       "      <td>WD</td>\n",
       "      <td>0.0</td>\n",
       "    </tr>\n",
       "    <tr>\n",
       "      <th>79</th>\n",
       "      <td>1887</td>\n",
       "      <td>534276290</td>\n",
       "      <td>20</td>\n",
       "      <td>RL</td>\n",
       "      <td>0.0</td>\n",
       "      <td>8339</td>\n",
       "      <td>Pave</td>\n",
       "      <td>NaN</td>\n",
       "      <td>IR1</td>\n",
       "      <td>Lvl</td>\n",
       "      <td>...</td>\n",
       "      <td>0</td>\n",
       "      <td>0</td>\n",
       "      <td>NaN</td>\n",
       "      <td>MnPrv</td>\n",
       "      <td>Shed</td>\n",
       "      <td>1200</td>\n",
       "      <td>7</td>\n",
       "      <td>2007</td>\n",
       "      <td>WD</td>\n",
       "      <td>0.0</td>\n",
       "    </tr>\n",
       "    <tr>\n",
       "      <th>84</th>\n",
       "      <td>2817</td>\n",
       "      <td>908102020</td>\n",
       "      <td>70</td>\n",
       "      <td>RL</td>\n",
       "      <td>67.0</td>\n",
       "      <td>8777</td>\n",
       "      <td>Pave</td>\n",
       "      <td>NaN</td>\n",
       "      <td>Reg</td>\n",
       "      <td>Bnk</td>\n",
       "      <td>...</td>\n",
       "      <td>0</td>\n",
       "      <td>0</td>\n",
       "      <td>NaN</td>\n",
       "      <td>NaN</td>\n",
       "      <td>Shed</td>\n",
       "      <td>420</td>\n",
       "      <td>10</td>\n",
       "      <td>2006</td>\n",
       "      <td>WD</td>\n",
       "      <td>0.0</td>\n",
       "    </tr>\n",
       "    <tr>\n",
       "      <th>85</th>\n",
       "      <td>1431</td>\n",
       "      <td>906476030</td>\n",
       "      <td>60</td>\n",
       "      <td>RL</td>\n",
       "      <td>79.0</td>\n",
       "      <td>12798</td>\n",
       "      <td>Pave</td>\n",
       "      <td>NaN</td>\n",
       "      <td>IR1</td>\n",
       "      <td>HLS</td>\n",
       "      <td>...</td>\n",
       "      <td>0</td>\n",
       "      <td>0</td>\n",
       "      <td>NaN</td>\n",
       "      <td>NaN</td>\n",
       "      <td>Shed</td>\n",
       "      <td>400</td>\n",
       "      <td>5</td>\n",
       "      <td>2008</td>\n",
       "      <td>WD</td>\n",
       "      <td>0.0</td>\n",
       "    </tr>\n",
       "    <tr>\n",
       "      <th>102</th>\n",
       "      <td>1249</td>\n",
       "      <td>535303030</td>\n",
       "      <td>20</td>\n",
       "      <td>RL</td>\n",
       "      <td>95.0</td>\n",
       "      <td>14250</td>\n",
       "      <td>Pave</td>\n",
       "      <td>NaN</td>\n",
       "      <td>Reg</td>\n",
       "      <td>Lvl</td>\n",
       "      <td>...</td>\n",
       "      <td>0</td>\n",
       "      <td>0</td>\n",
       "      <td>NaN</td>\n",
       "      <td>NaN</td>\n",
       "      <td>Shed</td>\n",
       "      <td>1500</td>\n",
       "      <td>9</td>\n",
       "      <td>2008</td>\n",
       "      <td>WD</td>\n",
       "      <td>0.0</td>\n",
       "    </tr>\n",
       "    <tr>\n",
       "      <th>134</th>\n",
       "      <td>135</td>\n",
       "      <td>535101020</td>\n",
       "      <td>85</td>\n",
       "      <td>RL</td>\n",
       "      <td>75.0</td>\n",
       "      <td>11380</td>\n",
       "      <td>Pave</td>\n",
       "      <td>NaN</td>\n",
       "      <td>IR1</td>\n",
       "      <td>Lvl</td>\n",
       "      <td>...</td>\n",
       "      <td>0</td>\n",
       "      <td>0</td>\n",
       "      <td>NaN</td>\n",
       "      <td>NaN</td>\n",
       "      <td>Shed</td>\n",
       "      <td>1500</td>\n",
       "      <td>1</td>\n",
       "      <td>2010</td>\n",
       "      <td>WD</td>\n",
       "      <td>0.0</td>\n",
       "    </tr>\n",
       "    <tr>\n",
       "      <th>144</th>\n",
       "      <td>1014</td>\n",
       "      <td>527226020</td>\n",
       "      <td>20</td>\n",
       "      <td>RL</td>\n",
       "      <td>0.0</td>\n",
       "      <td>31220</td>\n",
       "      <td>Pave</td>\n",
       "      <td>NaN</td>\n",
       "      <td>IR1</td>\n",
       "      <td>Bnk</td>\n",
       "      <td>...</td>\n",
       "      <td>0</td>\n",
       "      <td>0</td>\n",
       "      <td>NaN</td>\n",
       "      <td>NaN</td>\n",
       "      <td>Shed</td>\n",
       "      <td>750</td>\n",
       "      <td>5</td>\n",
       "      <td>2008</td>\n",
       "      <td>WD</td>\n",
       "      <td>0.0</td>\n",
       "    </tr>\n",
       "    <tr>\n",
       "      <th>148</th>\n",
       "      <td>261</td>\n",
       "      <td>907200290</td>\n",
       "      <td>60</td>\n",
       "      <td>RL</td>\n",
       "      <td>0.0</td>\n",
       "      <td>10900</td>\n",
       "      <td>Pave</td>\n",
       "      <td>NaN</td>\n",
       "      <td>IR1</td>\n",
       "      <td>Lvl</td>\n",
       "      <td>...</td>\n",
       "      <td>0</td>\n",
       "      <td>0</td>\n",
       "      <td>NaN</td>\n",
       "      <td>MnPrv</td>\n",
       "      <td>Shed</td>\n",
       "      <td>450</td>\n",
       "      <td>3</td>\n",
       "      <td>2010</td>\n",
       "      <td>WD</td>\n",
       "      <td>0.0</td>\n",
       "    </tr>\n",
       "    <tr>\n",
       "      <th>175</th>\n",
       "      <td>1007</td>\n",
       "      <td>527164120</td>\n",
       "      <td>60</td>\n",
       "      <td>RL</td>\n",
       "      <td>0.0</td>\n",
       "      <td>10832</td>\n",
       "      <td>Pave</td>\n",
       "      <td>NaN</td>\n",
       "      <td>IR1</td>\n",
       "      <td>Lvl</td>\n",
       "      <td>...</td>\n",
       "      <td>0</td>\n",
       "      <td>0</td>\n",
       "      <td>NaN</td>\n",
       "      <td>NaN</td>\n",
       "      <td>Shed</td>\n",
       "      <td>500</td>\n",
       "      <td>10</td>\n",
       "      <td>2008</td>\n",
       "      <td>WD</td>\n",
       "      <td>0.0</td>\n",
       "    </tr>\n",
       "    <tr>\n",
       "      <th>194</th>\n",
       "      <td>1154</td>\n",
       "      <td>532377020</td>\n",
       "      <td>20</td>\n",
       "      <td>RL</td>\n",
       "      <td>60.0</td>\n",
       "      <td>6360</td>\n",
       "      <td>Pave</td>\n",
       "      <td>NaN</td>\n",
       "      <td>Reg</td>\n",
       "      <td>Lvl</td>\n",
       "      <td>...</td>\n",
       "      <td>0</td>\n",
       "      <td>0</td>\n",
       "      <td>NaN</td>\n",
       "      <td>NaN</td>\n",
       "      <td>Shed</td>\n",
       "      <td>650</td>\n",
       "      <td>1</td>\n",
       "      <td>2008</td>\n",
       "      <td>COD</td>\n",
       "      <td>0.0</td>\n",
       "    </tr>\n",
       "    <tr>\n",
       "      <th>203</th>\n",
       "      <td>2711</td>\n",
       "      <td>905103180</td>\n",
       "      <td>80</td>\n",
       "      <td>RL</td>\n",
       "      <td>80.0</td>\n",
       "      <td>10366</td>\n",
       "      <td>Pave</td>\n",
       "      <td>NaN</td>\n",
       "      <td>IR1</td>\n",
       "      <td>Lvl</td>\n",
       "      <td>...</td>\n",
       "      <td>0</td>\n",
       "      <td>0</td>\n",
       "      <td>NaN</td>\n",
       "      <td>GdPrv</td>\n",
       "      <td>Shed</td>\n",
       "      <td>500</td>\n",
       "      <td>7</td>\n",
       "      <td>2006</td>\n",
       "      <td>WD</td>\n",
       "      <td>0.0</td>\n",
       "    </tr>\n",
       "    <tr>\n",
       "      <th>220</th>\n",
       "      <td>1964</td>\n",
       "      <td>535453080</td>\n",
       "      <td>20</td>\n",
       "      <td>RL</td>\n",
       "      <td>0.0</td>\n",
       "      <td>7500</td>\n",
       "      <td>Pave</td>\n",
       "      <td>NaN</td>\n",
       "      <td>Reg</td>\n",
       "      <td>Lvl</td>\n",
       "      <td>...</td>\n",
       "      <td>0</td>\n",
       "      <td>0</td>\n",
       "      <td>NaN</td>\n",
       "      <td>NaN</td>\n",
       "      <td>Shed</td>\n",
       "      <td>0</td>\n",
       "      <td>7</td>\n",
       "      <td>2007</td>\n",
       "      <td>WD</td>\n",
       "      <td>0.0</td>\n",
       "    </tr>\n",
       "    <tr>\n",
       "      <th>222</th>\n",
       "      <td>159</td>\n",
       "      <td>535377090</td>\n",
       "      <td>90</td>\n",
       "      <td>RL</td>\n",
       "      <td>64.0</td>\n",
       "      <td>6979</td>\n",
       "      <td>Pave</td>\n",
       "      <td>NaN</td>\n",
       "      <td>Reg</td>\n",
       "      <td>Lvl</td>\n",
       "      <td>...</td>\n",
       "      <td>0</td>\n",
       "      <td>0</td>\n",
       "      <td>NaN</td>\n",
       "      <td>GdPrv</td>\n",
       "      <td>Shed</td>\n",
       "      <td>600</td>\n",
       "      <td>6</td>\n",
       "      <td>2010</td>\n",
       "      <td>WD</td>\n",
       "      <td>0.0</td>\n",
       "    </tr>\n",
       "    <tr>\n",
       "      <th>307</th>\n",
       "      <td>1571</td>\n",
       "      <td>916125425</td>\n",
       "      <td>190</td>\n",
       "      <td>RL</td>\n",
       "      <td>0.0</td>\n",
       "      <td>164660</td>\n",
       "      <td>Grvl</td>\n",
       "      <td>NaN</td>\n",
       "      <td>IR1</td>\n",
       "      <td>HLS</td>\n",
       "      <td>...</td>\n",
       "      <td>0</td>\n",
       "      <td>0</td>\n",
       "      <td>NaN</td>\n",
       "      <td>NaN</td>\n",
       "      <td>Shed</td>\n",
       "      <td>700</td>\n",
       "      <td>8</td>\n",
       "      <td>2008</td>\n",
       "      <td>WD</td>\n",
       "      <td>0.0</td>\n",
       "    </tr>\n",
       "    <tr>\n",
       "      <th>315</th>\n",
       "      <td>291</td>\n",
       "      <td>909177100</td>\n",
       "      <td>90</td>\n",
       "      <td>RH</td>\n",
       "      <td>60.0</td>\n",
       "      <td>7200</td>\n",
       "      <td>Pave</td>\n",
       "      <td>Pave</td>\n",
       "      <td>Reg</td>\n",
       "      <td>Lvl</td>\n",
       "      <td>...</td>\n",
       "      <td>0</td>\n",
       "      <td>0</td>\n",
       "      <td>NaN</td>\n",
       "      <td>NaN</td>\n",
       "      <td>Shed</td>\n",
       "      <td>500</td>\n",
       "      <td>2</td>\n",
       "      <td>2010</td>\n",
       "      <td>WD</td>\n",
       "      <td>0.0</td>\n",
       "    </tr>\n",
       "    <tr>\n",
       "      <th>400</th>\n",
       "      <td>1558</td>\n",
       "      <td>911226010</td>\n",
       "      <td>30</td>\n",
       "      <td>C (all)</td>\n",
       "      <td>120.0</td>\n",
       "      <td>18000</td>\n",
       "      <td>Grvl</td>\n",
       "      <td>NaN</td>\n",
       "      <td>Reg</td>\n",
       "      <td>Low</td>\n",
       "      <td>...</td>\n",
       "      <td>0</td>\n",
       "      <td>0</td>\n",
       "      <td>NaN</td>\n",
       "      <td>NaN</td>\n",
       "      <td>Shed</td>\n",
       "      <td>560</td>\n",
       "      <td>8</td>\n",
       "      <td>2008</td>\n",
       "      <td>ConLD</td>\n",
       "      <td>0.0</td>\n",
       "    </tr>\n",
       "    <tr>\n",
       "      <th>422</th>\n",
       "      <td>2589</td>\n",
       "      <td>535325350</td>\n",
       "      <td>20</td>\n",
       "      <td>RL</td>\n",
       "      <td>80.0</td>\n",
       "      <td>13600</td>\n",
       "      <td>Pave</td>\n",
       "      <td>NaN</td>\n",
       "      <td>Reg</td>\n",
       "      <td>Bnk</td>\n",
       "      <td>...</td>\n",
       "      <td>0</td>\n",
       "      <td>0</td>\n",
       "      <td>NaN</td>\n",
       "      <td>MnPrv</td>\n",
       "      <td>Shed</td>\n",
       "      <td>650</td>\n",
       "      <td>11</td>\n",
       "      <td>2006</td>\n",
       "      <td>WD</td>\n",
       "      <td>0.0</td>\n",
       "    </tr>\n",
       "    <tr>\n",
       "      <th>424</th>\n",
       "      <td>1334</td>\n",
       "      <td>903225160</td>\n",
       "      <td>70</td>\n",
       "      <td>RM</td>\n",
       "      <td>59.0</td>\n",
       "      <td>5870</td>\n",
       "      <td>Pave</td>\n",
       "      <td>NaN</td>\n",
       "      <td>Reg</td>\n",
       "      <td>Lvl</td>\n",
       "      <td>...</td>\n",
       "      <td>0</td>\n",
       "      <td>0</td>\n",
       "      <td>NaN</td>\n",
       "      <td>MnPrv</td>\n",
       "      <td>Shed</td>\n",
       "      <td>400</td>\n",
       "      <td>4</td>\n",
       "      <td>2008</td>\n",
       "      <td>WD</td>\n",
       "      <td>0.0</td>\n",
       "    </tr>\n",
       "    <tr>\n",
       "      <th>494</th>\n",
       "      <td>583</td>\n",
       "      <td>534128010</td>\n",
       "      <td>60</td>\n",
       "      <td>RL</td>\n",
       "      <td>0.0</td>\n",
       "      <td>10382</td>\n",
       "      <td>Pave</td>\n",
       "      <td>NaN</td>\n",
       "      <td>IR1</td>\n",
       "      <td>Lvl</td>\n",
       "      <td>...</td>\n",
       "      <td>0</td>\n",
       "      <td>0</td>\n",
       "      <td>NaN</td>\n",
       "      <td>NaN</td>\n",
       "      <td>Shed</td>\n",
       "      <td>350</td>\n",
       "      <td>11</td>\n",
       "      <td>2009</td>\n",
       "      <td>WD</td>\n",
       "      <td>0.0</td>\n",
       "    </tr>\n",
       "    <tr>\n",
       "      <th>499</th>\n",
       "      <td>1610</td>\n",
       "      <td>924100020</td>\n",
       "      <td>60</td>\n",
       "      <td>RL</td>\n",
       "      <td>0.0</td>\n",
       "      <td>11075</td>\n",
       "      <td>Pave</td>\n",
       "      <td>NaN</td>\n",
       "      <td>IR1</td>\n",
       "      <td>Lvl</td>\n",
       "      <td>...</td>\n",
       "      <td>0</td>\n",
       "      <td>0</td>\n",
       "      <td>NaN</td>\n",
       "      <td>MnPrv</td>\n",
       "      <td>Shed</td>\n",
       "      <td>400</td>\n",
       "      <td>9</td>\n",
       "      <td>2008</td>\n",
       "      <td>WD</td>\n",
       "      <td>0.0</td>\n",
       "    </tr>\n",
       "    <tr>\n",
       "      <th>511</th>\n",
       "      <td>235</td>\n",
       "      <td>905378040</td>\n",
       "      <td>50</td>\n",
       "      <td>RL</td>\n",
       "      <td>124.0</td>\n",
       "      <td>18600</td>\n",
       "      <td>Pave</td>\n",
       "      <td>NaN</td>\n",
       "      <td>Reg</td>\n",
       "      <td>Lvl</td>\n",
       "      <td>...</td>\n",
       "      <td>0</td>\n",
       "      <td>0</td>\n",
       "      <td>NaN</td>\n",
       "      <td>NaN</td>\n",
       "      <td>Shed</td>\n",
       "      <td>450</td>\n",
       "      <td>6</td>\n",
       "      <td>2010</td>\n",
       "      <td>WD</td>\n",
       "      <td>0.0</td>\n",
       "    </tr>\n",
       "    <tr>\n",
       "      <th>542</th>\n",
       "      <td>2361</td>\n",
       "      <td>527402380</td>\n",
       "      <td>20</td>\n",
       "      <td>RL</td>\n",
       "      <td>71.0</td>\n",
       "      <td>9353</td>\n",
       "      <td>Pave</td>\n",
       "      <td>NaN</td>\n",
       "      <td>Reg</td>\n",
       "      <td>Lvl</td>\n",
       "      <td>...</td>\n",
       "      <td>0</td>\n",
       "      <td>0</td>\n",
       "      <td>NaN</td>\n",
       "      <td>NaN</td>\n",
       "      <td>Shed</td>\n",
       "      <td>0</td>\n",
       "      <td>7</td>\n",
       "      <td>2006</td>\n",
       "      <td>Oth</td>\n",
       "      <td>0.0</td>\n",
       "    </tr>\n",
       "    <tr>\n",
       "      <th>579</th>\n",
       "      <td>2066</td>\n",
       "      <td>905225020</td>\n",
       "      <td>60</td>\n",
       "      <td>RL</td>\n",
       "      <td>99.0</td>\n",
       "      <td>16779</td>\n",
       "      <td>Pave</td>\n",
       "      <td>NaN</td>\n",
       "      <td>Reg</td>\n",
       "      <td>Lvl</td>\n",
       "      <td>...</td>\n",
       "      <td>0</td>\n",
       "      <td>0</td>\n",
       "      <td>NaN</td>\n",
       "      <td>NaN</td>\n",
       "      <td>Shed</td>\n",
       "      <td>500</td>\n",
       "      <td>5</td>\n",
       "      <td>2007</td>\n",
       "      <td>WD</td>\n",
       "      <td>0.0</td>\n",
       "    </tr>\n",
       "    <tr>\n",
       "      <th>586</th>\n",
       "      <td>1240</td>\n",
       "      <td>535153150</td>\n",
       "      <td>20</td>\n",
       "      <td>RL</td>\n",
       "      <td>76.0</td>\n",
       "      <td>9120</td>\n",
       "      <td>Pave</td>\n",
       "      <td>NaN</td>\n",
       "      <td>Reg</td>\n",
       "      <td>Lvl</td>\n",
       "      <td>...</td>\n",
       "      <td>288</td>\n",
       "      <td>0</td>\n",
       "      <td>NaN</td>\n",
       "      <td>NaN</td>\n",
       "      <td>Shed</td>\n",
       "      <td>1400</td>\n",
       "      <td>11</td>\n",
       "      <td>2008</td>\n",
       "      <td>WD</td>\n",
       "      <td>0.0</td>\n",
       "    </tr>\n",
       "    <tr>\n",
       "      <th>587</th>\n",
       "      <td>85</td>\n",
       "      <td>532354090</td>\n",
       "      <td>85</td>\n",
       "      <td>RL</td>\n",
       "      <td>88.0</td>\n",
       "      <td>11782</td>\n",
       "      <td>Pave</td>\n",
       "      <td>NaN</td>\n",
       "      <td>IR1</td>\n",
       "      <td>Lvl</td>\n",
       "      <td>...</td>\n",
       "      <td>0</td>\n",
       "      <td>0</td>\n",
       "      <td>NaN</td>\n",
       "      <td>MnPrv</td>\n",
       "      <td>Shed</td>\n",
       "      <td>400</td>\n",
       "      <td>6</td>\n",
       "      <td>2010</td>\n",
       "      <td>WD</td>\n",
       "      <td>0.0</td>\n",
       "    </tr>\n",
       "    <tr>\n",
       "      <th>588</th>\n",
       "      <td>1823</td>\n",
       "      <td>532376040</td>\n",
       "      <td>20</td>\n",
       "      <td>RL</td>\n",
       "      <td>85.0</td>\n",
       "      <td>6970</td>\n",
       "      <td>Pave</td>\n",
       "      <td>NaN</td>\n",
       "      <td>Reg</td>\n",
       "      <td>Lvl</td>\n",
       "      <td>...</td>\n",
       "      <td>0</td>\n",
       "      <td>0</td>\n",
       "      <td>NaN</td>\n",
       "      <td>NaN</td>\n",
       "      <td>Shed</td>\n",
       "      <td>400</td>\n",
       "      <td>5</td>\n",
       "      <td>2007</td>\n",
       "      <td>WD</td>\n",
       "      <td>0.0</td>\n",
       "    </tr>\n",
       "    <tr>\n",
       "      <th>661</th>\n",
       "      <td>1652</td>\n",
       "      <td>527328020</td>\n",
       "      <td>80</td>\n",
       "      <td>RL</td>\n",
       "      <td>0.0</td>\n",
       "      <td>10395</td>\n",
       "      <td>Pave</td>\n",
       "      <td>NaN</td>\n",
       "      <td>IR1</td>\n",
       "      <td>Lvl</td>\n",
       "      <td>...</td>\n",
       "      <td>0</td>\n",
       "      <td>0</td>\n",
       "      <td>NaN</td>\n",
       "      <td>MnPrv</td>\n",
       "      <td>Shed</td>\n",
       "      <td>500</td>\n",
       "      <td>7</td>\n",
       "      <td>2007</td>\n",
       "      <td>WD</td>\n",
       "      <td>0.0</td>\n",
       "    </tr>\n",
       "    <tr>\n",
       "      <th>675</th>\n",
       "      <td>2928</td>\n",
       "      <td>923400125</td>\n",
       "      <td>85</td>\n",
       "      <td>RL</td>\n",
       "      <td>62.0</td>\n",
       "      <td>10441</td>\n",
       "      <td>Pave</td>\n",
       "      <td>NaN</td>\n",
       "      <td>Reg</td>\n",
       "      <td>Lvl</td>\n",
       "      <td>...</td>\n",
       "      <td>0</td>\n",
       "      <td>0</td>\n",
       "      <td>NaN</td>\n",
       "      <td>MnPrv</td>\n",
       "      <td>Shed</td>\n",
       "      <td>700</td>\n",
       "      <td>7</td>\n",
       "      <td>2006</td>\n",
       "      <td>WD</td>\n",
       "      <td>0.0</td>\n",
       "    </tr>\n",
       "    <tr>\n",
       "      <th>736</th>\n",
       "      <td>986</td>\n",
       "      <td>923400025</td>\n",
       "      <td>50</td>\n",
       "      <td>RL</td>\n",
       "      <td>85.0</td>\n",
       "      <td>14115</td>\n",
       "      <td>Pave</td>\n",
       "      <td>NaN</td>\n",
       "      <td>IR1</td>\n",
       "      <td>Lvl</td>\n",
       "      <td>...</td>\n",
       "      <td>0</td>\n",
       "      <td>0</td>\n",
       "      <td>NaN</td>\n",
       "      <td>MnPrv</td>\n",
       "      <td>Shed</td>\n",
       "      <td>700</td>\n",
       "      <td>10</td>\n",
       "      <td>2009</td>\n",
       "      <td>WD</td>\n",
       "      <td>0.0</td>\n",
       "    </tr>\n",
       "    <tr>\n",
       "      <th>745</th>\n",
       "      <td>358</td>\n",
       "      <td>527163070</td>\n",
       "      <td>60</td>\n",
       "      <td>RL</td>\n",
       "      <td>0.0</td>\n",
       "      <td>9765</td>\n",
       "      <td>Pave</td>\n",
       "      <td>NaN</td>\n",
       "      <td>IR2</td>\n",
       "      <td>Lvl</td>\n",
       "      <td>...</td>\n",
       "      <td>0</td>\n",
       "      <td>0</td>\n",
       "      <td>NaN</td>\n",
       "      <td>NaN</td>\n",
       "      <td>Shed</td>\n",
       "      <td>480</td>\n",
       "      <td>4</td>\n",
       "      <td>2009</td>\n",
       "      <td>WD</td>\n",
       "      <td>0.0</td>\n",
       "    </tr>\n",
       "    <tr>\n",
       "      <th>765</th>\n",
       "      <td>1357</td>\n",
       "      <td>903426160</td>\n",
       "      <td>60</td>\n",
       "      <td>RM</td>\n",
       "      <td>57.0</td>\n",
       "      <td>8094</td>\n",
       "      <td>Pave</td>\n",
       "      <td>Grvl</td>\n",
       "      <td>Reg</td>\n",
       "      <td>Lvl</td>\n",
       "      <td>...</td>\n",
       "      <td>0</td>\n",
       "      <td>0</td>\n",
       "      <td>NaN</td>\n",
       "      <td>MnPrv</td>\n",
       "      <td>Shed</td>\n",
       "      <td>1000</td>\n",
       "      <td>9</td>\n",
       "      <td>2008</td>\n",
       "      <td>WD</td>\n",
       "      <td>0.0</td>\n",
       "    </tr>\n",
       "    <tr>\n",
       "      <th>767</th>\n",
       "      <td>347</td>\n",
       "      <td>527107130</td>\n",
       "      <td>80</td>\n",
       "      <td>RL</td>\n",
       "      <td>60.0</td>\n",
       "      <td>8400</td>\n",
       "      <td>Pave</td>\n",
       "      <td>NaN</td>\n",
       "      <td>Reg</td>\n",
       "      <td>Lvl</td>\n",
       "      <td>...</td>\n",
       "      <td>0</td>\n",
       "      <td>0</td>\n",
       "      <td>NaN</td>\n",
       "      <td>NaN</td>\n",
       "      <td>Shed</td>\n",
       "      <td>490</td>\n",
       "      <td>6</td>\n",
       "      <td>2009</td>\n",
       "      <td>WD</td>\n",
       "      <td>0.0</td>\n",
       "    </tr>\n",
       "    <tr>\n",
       "      <th>780</th>\n",
       "      <td>2196</td>\n",
       "      <td>909176170</td>\n",
       "      <td>90</td>\n",
       "      <td>RL</td>\n",
       "      <td>60.0</td>\n",
       "      <td>10890</td>\n",
       "      <td>Pave</td>\n",
       "      <td>NaN</td>\n",
       "      <td>Reg</td>\n",
       "      <td>Lvl</td>\n",
       "      <td>...</td>\n",
       "      <td>0</td>\n",
       "      <td>0</td>\n",
       "      <td>NaN</td>\n",
       "      <td>NaN</td>\n",
       "      <td>Shed</td>\n",
       "      <td>1512</td>\n",
       "      <td>1</td>\n",
       "      <td>2007</td>\n",
       "      <td>WD</td>\n",
       "      <td>0.0</td>\n",
       "    </tr>\n",
       "    <tr>\n",
       "      <th>806</th>\n",
       "      <td>2679</td>\n",
       "      <td>903231240</td>\n",
       "      <td>30</td>\n",
       "      <td>RM</td>\n",
       "      <td>51.0</td>\n",
       "      <td>6120</td>\n",
       "      <td>Pave</td>\n",
       "      <td>NaN</td>\n",
       "      <td>Reg</td>\n",
       "      <td>Lvl</td>\n",
       "      <td>...</td>\n",
       "      <td>120</td>\n",
       "      <td>0</td>\n",
       "      <td>NaN</td>\n",
       "      <td>MnPrv</td>\n",
       "      <td>Shed</td>\n",
       "      <td>620</td>\n",
       "      <td>7</td>\n",
       "      <td>2006</td>\n",
       "      <td>WD</td>\n",
       "      <td>0.0</td>\n",
       "    </tr>\n",
       "    <tr>\n",
       "      <th>818</th>\n",
       "      <td>1980</td>\n",
       "      <td>902125120</td>\n",
       "      <td>30</td>\n",
       "      <td>RM</td>\n",
       "      <td>60.0</td>\n",
       "      <td>10800</td>\n",
       "      <td>Pave</td>\n",
       "      <td>Grvl</td>\n",
       "      <td>Reg</td>\n",
       "      <td>Lvl</td>\n",
       "      <td>...</td>\n",
       "      <td>0</td>\n",
       "      <td>0</td>\n",
       "      <td>NaN</td>\n",
       "      <td>NaN</td>\n",
       "      <td>Shed</td>\n",
       "      <td>450</td>\n",
       "      <td>8</td>\n",
       "      <td>2007</td>\n",
       "      <td>WD</td>\n",
       "      <td>0.0</td>\n",
       "    </tr>\n",
       "    <tr>\n",
       "      <th>836</th>\n",
       "      <td>1150</td>\n",
       "      <td>532351050</td>\n",
       "      <td>20</td>\n",
       "      <td>RL</td>\n",
       "      <td>70.0</td>\n",
       "      <td>9100</td>\n",
       "      <td>Pave</td>\n",
       "      <td>NaN</td>\n",
       "      <td>Reg</td>\n",
       "      <td>Lvl</td>\n",
       "      <td>...</td>\n",
       "      <td>0</td>\n",
       "      <td>0</td>\n",
       "      <td>NaN</td>\n",
       "      <td>MnPrv</td>\n",
       "      <td>Shed</td>\n",
       "      <td>400</td>\n",
       "      <td>8</td>\n",
       "      <td>2008</td>\n",
       "      <td>WD</td>\n",
       "      <td>0.0</td>\n",
       "    </tr>\n",
       "    <tr>\n",
       "      <th>844</th>\n",
       "      <td>2169</td>\n",
       "      <td>908102160</td>\n",
       "      <td>85</td>\n",
       "      <td>RL</td>\n",
       "      <td>75.0</td>\n",
       "      <td>9825</td>\n",
       "      <td>Pave</td>\n",
       "      <td>NaN</td>\n",
       "      <td>Reg</td>\n",
       "      <td>Low</td>\n",
       "      <td>...</td>\n",
       "      <td>0</td>\n",
       "      <td>0</td>\n",
       "      <td>NaN</td>\n",
       "      <td>NaN</td>\n",
       "      <td>Shed</td>\n",
       "      <td>450</td>\n",
       "      <td>8</td>\n",
       "      <td>2007</td>\n",
       "      <td>WD</td>\n",
       "      <td>0.0</td>\n",
       "    </tr>\n",
       "    <tr>\n",
       "      <th>869</th>\n",
       "      <td>337</td>\n",
       "      <td>923276250</td>\n",
       "      <td>90</td>\n",
       "      <td>RL</td>\n",
       "      <td>70.0</td>\n",
       "      <td>7700</td>\n",
       "      <td>Pave</td>\n",
       "      <td>NaN</td>\n",
       "      <td>Reg</td>\n",
       "      <td>Lvl</td>\n",
       "      <td>...</td>\n",
       "      <td>0</td>\n",
       "      <td>0</td>\n",
       "      <td>NaN</td>\n",
       "      <td>NaN</td>\n",
       "      <td>Shed</td>\n",
       "      <td>600</td>\n",
       "      <td>2</td>\n",
       "      <td>2010</td>\n",
       "      <td>WD</td>\n",
       "      <td>0.0</td>\n",
       "    </tr>\n",
       "  </tbody>\n",
       "</table>\n",
       "<p>39 rows × 81 columns</p>\n",
       "</div>"
      ],
      "text/plain": [
       "       Id        PID  MS SubClass MS Zoning  Lot Frontage  Lot Area Street  \\\n",
       "29   1904  534451020           50        RL          51.0      3500   Pave   \n",
       "43    647  535351050           20        RL          75.0     14559   Pave   \n",
       "79   1887  534276290           20        RL           0.0      8339   Pave   \n",
       "84   2817  908102020           70        RL          67.0      8777   Pave   \n",
       "85   1431  906476030           60        RL          79.0     12798   Pave   \n",
       "102  1249  535303030           20        RL          95.0     14250   Pave   \n",
       "134   135  535101020           85        RL          75.0     11380   Pave   \n",
       "144  1014  527226020           20        RL           0.0     31220   Pave   \n",
       "148   261  907200290           60        RL           0.0     10900   Pave   \n",
       "175  1007  527164120           60        RL           0.0     10832   Pave   \n",
       "194  1154  532377020           20        RL          60.0      6360   Pave   \n",
       "203  2711  905103180           80        RL          80.0     10366   Pave   \n",
       "220  1964  535453080           20        RL           0.0      7500   Pave   \n",
       "222   159  535377090           90        RL          64.0      6979   Pave   \n",
       "307  1571  916125425          190        RL           0.0    164660   Grvl   \n",
       "315   291  909177100           90        RH          60.0      7200   Pave   \n",
       "400  1558  911226010           30   C (all)         120.0     18000   Grvl   \n",
       "422  2589  535325350           20        RL          80.0     13600   Pave   \n",
       "424  1334  903225160           70        RM          59.0      5870   Pave   \n",
       "494   583  534128010           60        RL           0.0     10382   Pave   \n",
       "499  1610  924100020           60        RL           0.0     11075   Pave   \n",
       "511   235  905378040           50        RL         124.0     18600   Pave   \n",
       "542  2361  527402380           20        RL          71.0      9353   Pave   \n",
       "579  2066  905225020           60        RL          99.0     16779   Pave   \n",
       "586  1240  535153150           20        RL          76.0      9120   Pave   \n",
       "587    85  532354090           85        RL          88.0     11782   Pave   \n",
       "588  1823  532376040           20        RL          85.0      6970   Pave   \n",
       "661  1652  527328020           80        RL           0.0     10395   Pave   \n",
       "675  2928  923400125           85        RL          62.0     10441   Pave   \n",
       "736   986  923400025           50        RL          85.0     14115   Pave   \n",
       "745   358  527163070           60        RL           0.0      9765   Pave   \n",
       "765  1357  903426160           60        RM          57.0      8094   Pave   \n",
       "767   347  527107130           80        RL          60.0      8400   Pave   \n",
       "780  2196  909176170           90        RL          60.0     10890   Pave   \n",
       "806  2679  903231240           30        RM          51.0      6120   Pave   \n",
       "818  1980  902125120           30        RM          60.0     10800   Pave   \n",
       "836  1150  532351050           20        RL          70.0      9100   Pave   \n",
       "844  2169  908102160           85        RL          75.0      9825   Pave   \n",
       "869   337  923276250           90        RL          70.0      7700   Pave   \n",
       "\n",
       "    Alley Lot Shape Land Contour  ... Screen Porch Pool Area Pool QC  Fence  \\\n",
       "29    NaN       Reg          Lvl  ...            0         0     NaN  MnPrv   \n",
       "43    NaN       Reg          Lvl  ...          168         0     NaN    NaN   \n",
       "79    NaN       IR1          Lvl  ...            0         0     NaN  MnPrv   \n",
       "84    NaN       Reg          Bnk  ...            0         0     NaN    NaN   \n",
       "85    NaN       IR1          HLS  ...            0         0     NaN    NaN   \n",
       "102   NaN       Reg          Lvl  ...            0         0     NaN    NaN   \n",
       "134   NaN       IR1          Lvl  ...            0         0     NaN    NaN   \n",
       "144   NaN       IR1          Bnk  ...            0         0     NaN    NaN   \n",
       "148   NaN       IR1          Lvl  ...            0         0     NaN  MnPrv   \n",
       "175   NaN       IR1          Lvl  ...            0         0     NaN    NaN   \n",
       "194   NaN       Reg          Lvl  ...            0         0     NaN    NaN   \n",
       "203   NaN       IR1          Lvl  ...            0         0     NaN  GdPrv   \n",
       "220   NaN       Reg          Lvl  ...            0         0     NaN    NaN   \n",
       "222   NaN       Reg          Lvl  ...            0         0     NaN  GdPrv   \n",
       "307   NaN       IR1          HLS  ...            0         0     NaN    NaN   \n",
       "315  Pave       Reg          Lvl  ...            0         0     NaN    NaN   \n",
       "400   NaN       Reg          Low  ...            0         0     NaN    NaN   \n",
       "422   NaN       Reg          Bnk  ...            0         0     NaN  MnPrv   \n",
       "424   NaN       Reg          Lvl  ...            0         0     NaN  MnPrv   \n",
       "494   NaN       IR1          Lvl  ...            0         0     NaN    NaN   \n",
       "499   NaN       IR1          Lvl  ...            0         0     NaN  MnPrv   \n",
       "511   NaN       Reg          Lvl  ...            0         0     NaN    NaN   \n",
       "542   NaN       Reg          Lvl  ...            0         0     NaN    NaN   \n",
       "579   NaN       Reg          Lvl  ...            0         0     NaN    NaN   \n",
       "586   NaN       Reg          Lvl  ...          288         0     NaN    NaN   \n",
       "587   NaN       IR1          Lvl  ...            0         0     NaN  MnPrv   \n",
       "588   NaN       Reg          Lvl  ...            0         0     NaN    NaN   \n",
       "661   NaN       IR1          Lvl  ...            0         0     NaN  MnPrv   \n",
       "675   NaN       Reg          Lvl  ...            0         0     NaN  MnPrv   \n",
       "736   NaN       IR1          Lvl  ...            0         0     NaN  MnPrv   \n",
       "745   NaN       IR2          Lvl  ...            0         0     NaN    NaN   \n",
       "765  Grvl       Reg          Lvl  ...            0         0     NaN  MnPrv   \n",
       "767   NaN       Reg          Lvl  ...            0         0     NaN    NaN   \n",
       "780   NaN       Reg          Lvl  ...            0         0     NaN    NaN   \n",
       "806   NaN       Reg          Lvl  ...          120         0     NaN  MnPrv   \n",
       "818  Grvl       Reg          Lvl  ...            0         0     NaN    NaN   \n",
       "836   NaN       Reg          Lvl  ...            0         0     NaN  MnPrv   \n",
       "844   NaN       Reg          Low  ...            0         0     NaN    NaN   \n",
       "869   NaN       Reg          Lvl  ...            0         0     NaN    NaN   \n",
       "\n",
       "    Misc Feature Misc Val Mo Sold Yr Sold  Sale Type  SalePrice  \n",
       "29          Shed     2000       7    2007        WD         0.0  \n",
       "43          Shed     2000       6    2009        WD         0.0  \n",
       "79          Shed     1200       7    2007        WD         0.0  \n",
       "84          Shed      420      10    2006        WD         0.0  \n",
       "85          Shed      400       5    2008        WD         0.0  \n",
       "102         Shed     1500       9    2008        WD         0.0  \n",
       "134         Shed     1500       1    2010        WD         0.0  \n",
       "144         Shed      750       5    2008        WD         0.0  \n",
       "148         Shed      450       3    2010        WD         0.0  \n",
       "175         Shed      500      10    2008        WD         0.0  \n",
       "194         Shed      650       1    2008        COD        0.0  \n",
       "203         Shed      500       7    2006        WD         0.0  \n",
       "220         Shed        0       7    2007        WD         0.0  \n",
       "222         Shed      600       6    2010        WD         0.0  \n",
       "307         Shed      700       8    2008        WD         0.0  \n",
       "315         Shed      500       2    2010        WD         0.0  \n",
       "400         Shed      560       8    2008      ConLD        0.0  \n",
       "422         Shed      650      11    2006        WD         0.0  \n",
       "424         Shed      400       4    2008        WD         0.0  \n",
       "494         Shed      350      11    2009        WD         0.0  \n",
       "499         Shed      400       9    2008        WD         0.0  \n",
       "511         Shed      450       6    2010        WD         0.0  \n",
       "542         Shed        0       7    2006        Oth        0.0  \n",
       "579         Shed      500       5    2007        WD         0.0  \n",
       "586         Shed     1400      11    2008        WD         0.0  \n",
       "587         Shed      400       6    2010        WD         0.0  \n",
       "588         Shed      400       5    2007        WD         0.0  \n",
       "661         Shed      500       7    2007        WD         0.0  \n",
       "675         Shed      700       7    2006        WD         0.0  \n",
       "736         Shed      700      10    2009        WD         0.0  \n",
       "745         Shed      480       4    2009        WD         0.0  \n",
       "765         Shed     1000       9    2008        WD         0.0  \n",
       "767         Shed      490       6    2009        WD         0.0  \n",
       "780         Shed     1512       1    2007        WD         0.0  \n",
       "806         Shed      620       7    2006        WD         0.0  \n",
       "818         Shed      450       8    2007        WD         0.0  \n",
       "836         Shed      400       8    2008        WD         0.0  \n",
       "844         Shed      450       8    2007        WD         0.0  \n",
       "869         Shed      600       2    2010        WD         0.0  \n",
       "\n",
       "[39 rows x 81 columns]"
      ]
     },
     "execution_count": 42,
     "metadata": {},
     "output_type": "execute_result"
    }
   ],
   "source": [
    "df[df['Misc Feature']=='Shed']"
   ]
  },
  {
   "cell_type": "markdown",
   "metadata": {
    "ExecuteTime": {
     "end_time": "2019-10-11T04:35:54.643530Z",
     "start_time": "2019-10-11T04:35:54.636829Z"
    }
   },
   "source": [
    "*** Impute means"
   ]
  },
  {
   "cell_type": "code",
   "execution_count": 43,
   "metadata": {
    "ExecuteTime": {
     "end_time": "2019-10-11T05:14:19.007373Z",
     "start_time": "2019-10-11T05:14:18.992095Z"
    }
   },
   "outputs": [],
   "source": [
    "imputer(df,'Neighborhood','Garage Yr Blt')"
   ]
  },
  {
   "cell_type": "code",
   "execution_count": 44,
   "metadata": {
    "ExecuteTime": {
     "end_time": "2019-10-11T05:14:19.025893Z",
     "start_time": "2019-10-11T05:14:19.010307Z"
    }
   },
   "outputs": [],
   "source": [
    "#reset index to account for dropped entries\n",
    "df.reset_index(inplace=True)\n",
    "df=df.rename({'Screen Porch':'Screen Porch SF','3Ssn Porch':'3Ssn Porch SF'},axis=1)\n",
    "df=df.drop(['index'],axis=1)\n",
    "test=df"
   ]
  },
  {
   "cell_type": "code",
   "execution_count": 45,
   "metadata": {
    "ExecuteTime": {
     "end_time": "2019-10-11T05:14:19.036439Z",
     "start_time": "2019-10-11T05:14:19.029047Z"
    },
    "scrolled": true
   },
   "outputs": [
    {
     "data": {
      "text/plain": [
       "(879, 81)"
      ]
     },
     "execution_count": 45,
     "metadata": {},
     "output_type": "execute_result"
    }
   ],
   "source": [
    "test.shape"
   ]
  },
  {
   "cell_type": "code",
   "execution_count": 46,
   "metadata": {
    "ExecuteTime": {
     "end_time": "2019-10-11T05:14:19.049902Z",
     "start_time": "2019-10-11T05:14:19.039522Z"
    }
   },
   "outputs": [
    {
     "data": {
      "text/plain": [
       "(2041, 81)"
      ]
     },
     "execution_count": 46,
     "metadata": {},
     "output_type": "execute_result"
    }
   ],
   "source": [
    "train.shape"
   ]
  },
  {
   "cell_type": "code",
   "execution_count": 47,
   "metadata": {
    "ExecuteTime": {
     "end_time": "2019-10-11T05:14:19.082378Z",
     "start_time": "2019-10-11T05:14:19.052785Z"
    }
   },
   "outputs": [],
   "source": [
    "df=pd.concat([test,train])"
   ]
  },
  {
   "cell_type": "code",
   "execution_count": 48,
   "metadata": {
    "ExecuteTime": {
     "end_time": "2019-10-11T05:14:19.170872Z",
     "start_time": "2019-10-11T05:14:19.085289Z"
    },
    "scrolled": true
   },
   "outputs": [
    {
     "name": "stdout",
     "output_type": "stream",
     "text": [
      "Index(['Alley', 'Bsmt Qual', 'Bsmt Cond', 'Bsmt Exposure', 'BsmtFin Type 1',\n",
      "       'BsmtFin Type 2', 'BsmtFin SF 2', 'Electrical', 'Fireplace Qu',\n",
      "       'Garage Type', 'Garage Finish', 'Garage Qual', 'Garage Cond', 'Pool QC',\n",
      "       'Fence', 'Misc Feature'],\n",
      "      dtype='object')\n"
     ]
    }
   ],
   "source": [
    "print(df.columns[df.isnull().sum()>0])\n",
    "df[df.columns[df.isnull().sum()>0]]=df[df.columns[df.isnull().sum()>0]].fillna(0)"
   ]
  },
  {
   "cell_type": "code",
   "execution_count": 49,
   "metadata": {
    "ExecuteTime": {
     "end_time": "2019-10-11T05:14:19.180773Z",
     "start_time": "2019-10-11T05:14:19.173842Z"
    }
   },
   "outputs": [
    {
     "data": {
      "text/plain": [
       "(2920, 81)"
      ]
     },
     "execution_count": 49,
     "metadata": {},
     "output_type": "execute_result"
    }
   ],
   "source": [
    "df.shape"
   ]
  },
  {
   "cell_type": "code",
   "execution_count": 50,
   "metadata": {
    "ExecuteTime": {
     "end_time": "2019-10-11T05:14:19.198945Z",
     "start_time": "2019-10-11T05:14:19.184001Z"
    }
   },
   "outputs": [],
   "source": [
    "dummies=df.columns[[(df[column].dtypes==object) for column in df]]\n",
    "not_dummies=df.columns[[(df[column].dtypes!=object) for column in df]]\n"
   ]
  },
  {
   "cell_type": "code",
   "execution_count": 51,
   "metadata": {
    "ExecuteTime": {
     "end_time": "2019-10-11T05:14:20.870254Z",
     "start_time": "2019-10-11T05:14:19.201793Z"
    }
   },
   "outputs": [
    {
     "name": "stdout",
     "output_type": "stream",
     "text": [
      "            count           mean           std       min       25%       50%  \\\n",
      "MS Zoning                                                                      \n",
      "A (agr)       2.0   47300.000000  48366.103833   13100.0   30200.0   47300.0   \n",
      "C (all)      19.0   78010.894737  32781.478897   34900.0   50913.5   75000.0   \n",
      "FV          101.0  218618.316832  53063.423791  144152.0  176500.0  208900.0   \n",
      "I (all)       1.0   57625.000000           NaN   57625.0   57625.0   57625.0   \n",
      "RH           14.0  148859.571429  35970.877401   82000.0  128500.0  152217.0   \n",
      "RL         1590.0  191070.009434  80347.309229   35000.0  137500.0  172200.0   \n",
      "RM          314.0  129128.152866  50904.970724   12789.0  103100.0  123900.0   \n",
      "\n",
      "                75%       max  \n",
      "MS Zoning                      \n",
      "A (agr)     64400.0   81500.0  \n",
      "C (all)    105388.0  140000.0  \n",
      "FV         254900.0  370878.0  \n",
      "I (all)     57625.0   57625.0  \n",
      "RH         180000.0  200000.0  \n",
      "RL         221950.0  611657.0  \n",
      "RM         141000.0  475000.0  \n",
      "\n",
      "\n",
      "         count           mean           std      min       25%       50%  \\\n",
      "Street                                                                     \n",
      "Grvl       7.0   86901.428571  38339.739652  50138.0   56809.0   78000.0   \n",
      "Pave    2034.0  181680.511799  79141.696039  12789.0  129925.0  162700.0   \n",
      "\n",
      "             75%       max  \n",
      "Street                      \n",
      "Grvl    106175.0  154204.0  \n",
      "Pave    214000.0  611657.0  \n",
      "\n",
      "\n",
      "        count           mean           std      min       25%       50%  \\\n",
      "Alley                                                                     \n",
      "0      1901.0  184258.828511  80304.058422  12789.0  130000.0  165000.0   \n",
      "Grvl     85.0  120835.635294  35647.047030  35000.0   99900.0  118000.0   \n",
      "Pave     55.0  174534.709091  46295.412205  40000.0  152000.0  172500.0   \n",
      "\n",
      "            75%       max  \n",
      "Alley                      \n",
      "0      217000.0  611657.0  \n",
      "Grvl   142900.0  256000.0  \n",
      "Pave   193900.0  345000.0  \n",
      "\n",
      "\n",
      "            count           mean           std       min       25%       50%  \\\n",
      "Lot Shape                                                                      \n",
      "IR1         689.0  211756.574746  83490.299898   52000.0  157000.0  190000.0   \n",
      "IR2          55.0  233954.745455  89824.066055  109000.0  174000.0  217500.0   \n",
      "IR3           9.0  193182.222222  58500.737982   73000.0  163500.0  192140.0   \n",
      "Reg        1288.0  162764.006211  70024.546954   12789.0  120000.0  145000.0   \n",
      "\n",
      "                 75%       max  \n",
      "Lot Shape                       \n",
      "IR1        250000.00  611657.0  \n",
      "IR2        247700.00  538000.0  \n",
      "IR3        220000.00  267000.0  \n",
      "Reg        185488.75  582933.0  \n",
      "\n",
      "\n",
      "               count           mean            std      min       25%  \\\n",
      "Land Contour                                                            \n",
      "Bnk             80.0  142868.775000   49275.865018  52500.0  109625.0   \n",
      "HLS             84.0  260809.964286  116551.716298  79275.0  172000.0   \n",
      "Low             43.0  199313.116279   82609.276243  13100.0  143500.0   \n",
      "Lvl           1834.0  178974.082879   75779.266022  12789.0  129500.0   \n",
      "\n",
      "                   50%       75%       max  \n",
      "Land Contour                                \n",
      "Bnk           137250.0  170000.0  315000.0  \n",
      "HLS           241000.0  339250.0  552000.0  \n",
      "Low           207000.0  270000.0  385000.0  \n",
      "Lvl           160500.0  211000.0  611657.0  \n",
      "\n",
      "\n",
      "            count           mean           std       min       25%       50%  \\\n",
      "Utilities                                                                      \n",
      "AllPub     2039.0  181437.639039  79212.722581   12789.0  129825.0  162500.0   \n",
      "NoSeWa        1.0  137500.000000           NaN  137500.0  137500.0  137500.0   \n",
      "NoSewr        1.0   57625.000000           NaN   57625.0   57625.0   57625.0   \n",
      "\n",
      "                75%       max  \n",
      "Utilities                      \n",
      "AllPub     214000.0  611657.0  \n",
      "NoSeWa     137500.0  137500.0  \n",
      "NoSewr      57625.0   57625.0  \n",
      "\n",
      "\n",
      "             count           mean           std      min       25%       50%  \\\n",
      "Lot Config                                                                     \n",
      "Corner       348.0  180629.591954  74223.005036  44000.0  132000.0  161000.0   \n",
      "CulDSac      130.0  230788.546154  98798.841357  80000.0  157000.0  214500.0   \n",
      "FR2           60.0  174703.600000  60125.817532  81000.0  132500.0  162250.0   \n",
      "FR3            9.0  198600.000000  91734.412845  79000.0  119900.0  207000.0   \n",
      "Inside      1494.0  177386.376171  77670.453796  12789.0  128000.0  159000.0   \n",
      "\n",
      "                 75%       max  \n",
      "Lot Config                      \n",
      "Corner      218209.0  468000.0  \n",
      "CulDSac     269500.0  591587.0  \n",
      "FR2         195750.0  394617.0  \n",
      "FR3         296000.0  315000.0  \n",
      "Inside      206510.0  611657.0  \n",
      "\n",
      "\n",
      "             count           mean            std      min       25%       50%  \\\n",
      "Land Slope                                                                      \n",
      "Gtl         1943.0  180232.742151   77854.869397  12789.0  129500.0  160500.0   \n",
      "Mod           88.0  204639.465909  102651.673838  13100.0  135125.0  188250.0   \n",
      "Sev           10.0  194598.000000   85068.824659  61000.0  131250.0  200750.0   \n",
      "\n",
      "                 75%       max  \n",
      "Land Slope                      \n",
      "Gtl         212304.5  611657.0  \n",
      "Mod         257682.0  552000.0  \n",
      "Sev         270750.0  302000.0  \n",
      "\n",
      "\n",
      "              count           mean            std       min        25%  \\\n",
      "Neighborhood                                                             \n",
      "Blmngtn        22.0  200417.681818   27447.004922  159895.0  180250.00   \n",
      "Blueste         6.0  144566.666667   26089.589239  121000.0  123925.00   \n",
      "BrDale         19.0  103371.052632   11262.318142   85400.0   93750.00   \n",
      "BrkSide        76.0  127022.697368   34825.975741   39300.0  109375.00   \n",
      "ClearCr        27.0  217490.074074   53479.942309  130000.0  177500.00   \n",
      "CollgCr       180.0  202497.216667   54022.918602  110000.0  164740.00   \n",
      "Crawfor        71.0  205901.211268   60856.738509   90350.0  158250.00   \n",
      "Edwards       143.0  130493.468531   51123.818503   35000.0  101000.00   \n",
      "Gilbert       114.0  189052.570175   32512.203984  133000.0  172043.75   \n",
      "Greens          3.0  188666.666667   18036.999011  170000.0  180000.00   \n",
      "GrnHill         2.0  280000.000000   70710.678119  230000.0  255000.00   \n",
      "IDOTRR         68.0  100370.750000   37677.647833   13100.0   72000.00   \n",
      "Landmrk         1.0  137000.000000            NaN  137000.0  137000.00   \n",
      "MeadowV        24.0  100231.250000   21955.012365   73000.0   84875.00   \n",
      "Mitchel        82.0  167656.707317   41581.768146   81500.0  136375.00   \n",
      "NAmes         309.0  146007.453074   31748.958385   68000.0  128000.00   \n",
      "NPkVill        17.0  140476.470588   10285.762576  120000.0  137500.00   \n",
      "NWAmes         86.0  194961.686047   39730.647939  113000.0  172250.00   \n",
      "NoRidge        48.0  316294.125000   67015.947652  190000.0  279875.00   \n",
      "NridgHt       121.0  323152.272727   93283.501922  154000.0  259000.00   \n",
      "OldTown       162.0  125404.549383   48002.647499   12789.0  105000.00   \n",
      "SWISU          32.0  134758.875000   33074.560117   60000.0  111125.00   \n",
      "Sawyer        110.0  136701.745455   23735.671049   62383.0  124325.00   \n",
      "SawyerW        87.0  187760.160920   50508.254983   82000.0  148491.50   \n",
      "Somerst       129.0  227019.992248   55703.480077  144152.0  180000.00   \n",
      "StoneBr        37.0  327991.297297  129945.896955  130000.0  212000.00   \n",
      "Timber         48.0  241051.354167   70247.203305  137500.0  180375.00   \n",
      "Veenker        17.0  253570.588235   69147.647869  150000.0  192000.00   \n",
      "\n",
      "                   50%        75%       max  \n",
      "Neighborhood                                 \n",
      "Blmngtn       192250.0  218742.50  264561.0  \n",
      "Blueste       137500.0  159625.00  185000.0  \n",
      "BrDale        105500.0  111875.00  122500.0  \n",
      "BrkSide       128000.0  139975.00  223500.0  \n",
      "ClearCr       225000.0  250500.00  328000.0  \n",
      "CollgCr       200000.0  225250.00  475000.0  \n",
      "Crawfor       199500.0  235250.00  392500.0  \n",
      "Edwards       125000.0  142500.00  415000.0  \n",
      "Gilbert       180750.0  192785.00  377500.0  \n",
      "Greens        190000.0  198000.00  206000.0  \n",
      "GrnHill       280000.0  305000.00  330000.0  \n",
      "IDOTRR        101500.0  125625.00  202500.0  \n",
      "Landmrk       137000.0  137000.00  137000.0  \n",
      "MeadowV        92450.0  117250.00  151400.0  \n",
      "Mitchel       160000.0  188000.00  300000.0  \n",
      "NAmes         141000.0  159000.00  345000.0  \n",
      "NPkVill       143000.0  148500.00  155000.0  \n",
      "NWAmes        185375.0  214562.50  306000.0  \n",
      "NoRidge       300750.0  337750.00  584500.0  \n",
      "NridgHt       318000.0  380000.00  611657.0  \n",
      "OldTown       120000.0  140562.50  475000.0  \n",
      "SWISU         136200.0  157608.50  200000.0  \n",
      "Sawyer        135000.0  149800.00  219000.0  \n",
      "SawyerW       181000.0  222121.50  320000.0  \n",
      "Somerst       223000.0  257500.00  468000.0  \n",
      "StoneBr       319900.0  438780.00  591587.0  \n",
      "Timber        220000.0  281409.75  425000.0  \n",
      "Veenker       260000.0  290000.00  385000.0  \n",
      "\n",
      "\n",
      "              count           mean            std       min       25%  \\\n",
      "Condition 1                                                             \n",
      "Artery         70.0  128765.000000   58285.726961   50000.0  103150.0   \n",
      "Feedr         107.0  143054.887850   45372.005971   35000.0  119750.0   \n",
      "Norm         1759.0  184857.606595   79536.842940   12789.0  131000.0   \n",
      "PosA           12.0  254733.333333   91755.092337  185000.0  188425.0   \n",
      "PosN           27.0  254794.296296  117428.552257  109500.0  172000.0   \n",
      "RRAe           21.0  139685.714286   21115.617105   87000.0  129000.0   \n",
      "RRAn           36.0  172604.777778   55498.209382   79500.0  140150.0   \n",
      "RRNe            3.0  129616.666667   37705.315717   93850.0  109925.0   \n",
      "RRNn            6.0  198208.333333   76223.096347  128000.0  134687.5   \n",
      "\n",
      "                  50%       75%       max  \n",
      "Condition 1                                \n",
      "Artery       118950.0  140750.0  475000.0  \n",
      "Feedr        140000.0  160000.0  269500.0  \n",
      "Norm         167000.0  217500.0  611657.0  \n",
      "PosA         216000.0  276425.0  455000.0  \n",
      "PosN         214500.0  295500.0  591587.0  \n",
      "RRAe         142500.0  150000.0  184000.0  \n",
      "RRAn         167250.0  187460.0  336820.0  \n",
      "RRNe         126000.0  147500.0  169000.0  \n",
      "RRNn         184000.0  237250.0  320000.0  \n",
      "\n",
      "\n",
      "              count           mean           std       min       25%  \\\n",
      "Condition 2                                                            \n",
      "Artery          5.0  119050.000000  19445.757892   95000.0  108000.0   \n",
      "Feedr          11.0  129181.818182  40785.581231   79500.0   99500.0   \n",
      "Norm         2016.0  181270.246032  78550.037768   12789.0  130000.0   \n",
      "PosA            3.0  390666.666667  65010.255601  325000.0  358500.0   \n",
      "PosN            3.0  395666.666667  67633.817971  334000.0  359500.0   \n",
      "RRAn            1.0  136905.000000           NaN  136905.0  136905.0   \n",
      "RRNn            2.0   96750.000000  39951.533137   68500.0   82625.0   \n",
      "\n",
      "                  50%       75%       max  \n",
      "Condition 2                                \n",
      "Artery       118000.0  128250.0  146000.0  \n",
      "Feedr        128000.0  143250.0  220000.0  \n",
      "Norm         162950.0  214000.0  611657.0  \n",
      "PosA         392000.0  423500.0  455000.0  \n",
      "PosN         385000.0  426500.0  468000.0  \n",
      "RRAn         136905.0  136905.0  136905.0  \n",
      "RRNn          96750.0  110875.0  125000.0  \n",
      "\n",
      "\n",
      "            count           mean           std      min       25%       50%  \\\n",
      "Bldg Type                                                                     \n",
      "1Fam       1691.0  185163.086339  81872.915388  12789.0  130500.0  165000.0   \n",
      "2fmCon       46.0  123179.891304  30304.813341  55000.0  101187.5  121200.0   \n",
      "Duplex       74.0  138611.148649  40666.197415  62500.0  118125.0  135500.0   \n",
      "Twnhs        69.0  133100.000000  37977.260030  73000.0  100000.0  134000.0   \n",
      "TwnhsE      161.0  198312.372671  65866.184832  79400.0  147000.0  184000.0   \n",
      "\n",
      "                 75%       max  \n",
      "Bldg Type                       \n",
      "1Fam       218918.00  611657.0  \n",
      "2fmCon     139875.00  200000.0  \n",
      "Duplex     147612.25  269500.0  \n",
      "Twnhs      160000.00  230000.0  \n",
      "TwnhsE     234250.00  392500.0  \n",
      "\n",
      "\n",
      "              count           mean            std       min       25%  \\\n",
      "House Style                                                             \n",
      "1.5Fin        217.0  136233.456221   44866.597453   37900.0  113000.0   \n",
      "1.5Unf         12.0  112466.666667   21111.364166   64500.0  107925.0   \n",
      "1Story       1053.0  179583.199430   81547.390813   12789.0  128000.0   \n",
      "2.5Fin          6.0  243666.666667  128464.262216  104000.0  192500.0   \n",
      "2.5Unf         14.0  191785.714286   87041.483100  101000.0  133125.0   \n",
      "2Story        595.0  206540.337815   82395.369900   40000.0  153037.5   \n",
      "SFoyer         50.0  149343.920000   31859.449693   73000.0  130475.0   \n",
      "SLvl           94.0  166248.989362   37262.422556   91000.0  145000.0   \n",
      "\n",
      "                  50%       75%       max  \n",
      "House Style                                \n",
      "1.5Fin       128500.0  149000.0  410000.0  \n",
      "1.5Unf       113000.0  122250.0  139400.0  \n",
      "1Story       156000.0  214000.0  611657.0  \n",
      "2.5Fin       198500.0  271250.0  475000.0  \n",
      "2.5Unf       165500.0  212125.0  415000.0  \n",
      "2Story       189000.0  244200.0  584500.0  \n",
      "SFoyer       147500.0  169625.0  224500.0  \n",
      "SLvl         164750.0  177875.0  345000.0  \n",
      "\n",
      "\n",
      "             count           mean            std       min       25%  \\\n",
      "Roof Style                                                             \n",
      "Flat          13.0  191613.076923   61659.734752  113500.0  129000.0   \n",
      "Gable       1611.0  171115.621974   64763.374937   12789.0  128000.0   \n",
      "Gambrel       12.0  138208.333333   66068.524459   40000.0   93725.0   \n",
      "Hip          396.0  224306.146465  112288.792140   50138.0  140000.0   \n",
      "Mansard        7.0  152642.857143   80646.716344   44000.0  108500.0   \n",
      "Shed           2.0  218000.000000   86267.027305  157000.0  187500.0   \n",
      "\n",
      "                 50%       75%       max  \n",
      "Roof Style                                \n",
      "Flat        167000.0  242000.0  274970.0  \n",
      "Gable       159000.0  203000.0  475000.0  \n",
      "Gambrel     125250.0  172500.0  259500.0  \n",
      "Hip         180250.0  290000.0  611657.0  \n",
      "Mansard     150000.0  182500.0  292500.0  \n",
      "Shed        218000.0  248500.0  279000.0  \n",
      "\n",
      "\n",
      "            count           mean           std       min       25%       50%  \\\n",
      "Roof Matl                                                                      \n",
      "ClyTile       1.0  160000.000000           NaN  160000.0  160000.0  160000.0   \n",
      "CompShg    2015.0  180730.390571  78979.663655   12789.0  129500.0  161000.0   \n",
      "Membran       1.0  241500.000000           NaN  241500.0  241500.0  241500.0   \n",
      "Tar&Grv      15.0  187948.933333  56957.886372  113500.0  137000.0  167000.0   \n",
      "WdShake       4.0  264250.000000  49562.250420  190000.0  262750.0  287250.0   \n",
      "WdShngl       5.0  339400.000000  88618.846754  278000.0  279000.0  280000.0   \n",
      "\n",
      "                75%       max  \n",
      "Roof Matl                      \n",
      "ClyTile    160000.0  160000.0  \n",
      "CompShg    213000.0  611657.0  \n",
      "Membran    241500.0  241500.0  \n",
      "Tar&Grv    246382.0  274970.0  \n",
      "WdShake    288750.0  292500.0  \n",
      "WdShngl    385000.0  475000.0  \n",
      "\n",
      "\n"
     ]
    },
    {
     "name": "stdout",
     "output_type": "stream",
     "text": [
      "              count           mean            std       min       25%  \\\n",
      "Exterior 1st                                                            \n",
      "AsbShng        33.0  103183.333333   39240.882132   12789.0   87000.0   \n",
      "AsphShn         1.0   82375.000000            NaN   82375.0   82375.0   \n",
      "BrkComm         3.0  131000.000000   62072.538211   60000.0  109000.0   \n",
      "BrkFace        64.0  193055.093750   82166.873564   40000.0  133400.0   \n",
      "CBlock          2.0   93250.000000   16617.009358   81500.0   87375.0   \n",
      "CemntBd        90.0  243429.088889  127073.184582   73000.0  129600.0   \n",
      "HdBoard       300.0  159582.473333   43664.797483   80000.0  130000.0   \n",
      "ImStucc         1.0  262000.000000            NaN  262000.0  262000.0   \n",
      "MetalSd       329.0  153831.544073   67194.322250   35000.0  118500.0   \n",
      "Plywood       151.0  170382.390728   49098.660443   85000.0  139000.0   \n",
      "Stone           2.0  258500.000000   40305.086528  230000.0  244250.0   \n",
      "Stucco         27.0  139712.962963   42402.638689   67000.0  117500.0   \n",
      "VinylSd       719.0  218166.979138   82914.091339   37900.0  165200.0   \n",
      "Wd Sdng       274.0  143015.605839   55070.917965   34900.0  111250.0   \n",
      "WdShing        45.0  155616.822222   65428.695531   64500.0  115000.0   \n",
      "\n",
      "                   50%        75%       max  \n",
      "Exterior 1st                                 \n",
      "AsbShng       111000.0  129500.00  188000.0  \n",
      "AsphShn        82375.0   82375.00   82375.0  \n",
      "BrkComm       158000.0  166500.00  175000.0  \n",
      "BrkFace       165750.0  238750.00  430000.0  \n",
      "CBlock         93250.0   99125.00  105000.0  \n",
      "CemntBd       243500.0  316078.25  556581.0  \n",
      "HdBoard       153750.0  177925.00  334000.0  \n",
      "ImStucc       262000.0  262000.00  262000.0  \n",
      "MetalSd       137500.0  168000.00  584500.0  \n",
      "Plywood       157000.0  189450.00  345000.0  \n",
      "Stone         258500.0  272750.00  287000.0  \n",
      "Stucco        136500.0  160000.00  235000.0  \n",
      "VinylSd       202900.0  254950.00  611657.0  \n",
      "Wd Sdng       136500.0  160000.00  475000.0  \n",
      "WdShing       137000.0  172500.00  385000.0  \n",
      "\n",
      "\n",
      "              count           mean            std      min       25%  \\\n",
      "Exterior 2nd                                                           \n",
      "AsbShng        28.0  107108.928571   41250.748819  12789.0   93912.5   \n",
      "AsphShn         3.0  132125.000000   46693.649193  82375.0  110687.5   \n",
      "Brk Cmn        17.0  139958.823529   24116.437828  60000.0  137900.0   \n",
      "BrkFace        34.0  187992.647059   85194.842756  40000.0  133250.0   \n",
      "CBlock          2.0   92000.000000   18384.776311  79000.0   85500.0   \n",
      "CmentBd        90.0  239540.200000  123255.245277  73000.0  129600.0   \n",
      "HdBoard       275.0  160836.880000   45502.682384  80000.0  130000.0   \n",
      "ImStucc        11.0  227472.727273   90545.779481  88000.0  162100.0   \n",
      "MetalSd       322.0  155405.521739   68444.794708  35000.0  119000.0   \n",
      "Plywood       183.0  166442.338798   48184.835517  76500.0  135000.0   \n",
      "Stone           6.0  145420.666667   64906.359647  81400.0   90875.0   \n",
      "Stucco         30.0  147725.333333   51946.557212  67000.0  116750.0   \n",
      "VinylSd       716.0  217788.930168   83411.571598  13100.0  164997.5   \n",
      "Wd Sdng       261.0  145773.762452   59214.225161  34900.0  112000.0   \n",
      "Wd Shng        63.0  154244.444444   71139.539808  55000.0  124625.0   \n",
      "\n",
      "                   50%       75%       max  \n",
      "Exterior 2nd                                \n",
      "AsbShng       111500.0  129625.0  225000.0  \n",
      "AsphShn       139000.0  157000.0  175000.0  \n",
      "Brk Cmn       147000.0  148500.0  175000.0  \n",
      "BrkFace       159750.0  238500.0  430000.0  \n",
      "CBlock         92000.0   98500.0  105000.0  \n",
      "CmentBd       240950.0  311979.0  556581.0  \n",
      "HdBoard       155000.0  179550.0  335000.0  \n",
      "ImStucc       196000.0  317500.0  341000.0  \n",
      "MetalSd       137950.0  171875.0  584500.0  \n",
      "Plywood       154000.0  188450.0  320000.0  \n",
      "Stone         135250.0  194718.0  230000.0  \n",
      "Stucco        142000.0  168875.0  257076.0  \n",
      "VinylSd       202950.0  254925.0  611657.0  \n",
      "Wd Sdng       136500.0  162000.0  475000.0  \n",
      "Wd Shng       140000.0  169000.0  538000.0  \n",
      "\n",
      "\n",
      "               count           mean            std      min       25%  \\\n",
      "Mas Vnr Type                                                            \n",
      "BrkCmn          13.0  144515.692308   48114.563297  82500.0  118500.0   \n",
      "BrkFace        627.0  211821.698565   82318.590112  75000.0  155000.0   \n",
      "None          1234.0  155105.202593   57161.849576  12789.0  120000.0   \n",
      "Stone          167.0  263806.838323  107579.499242  99000.0  181125.0   \n",
      "\n",
      "                   50%       75%       max  \n",
      "Mas Vnr Type                                \n",
      "BrkCmn        139000.0  163000.0  277000.0  \n",
      "BrkFace       188500.0  255500.0  591587.0  \n",
      "None          143700.0  183000.0  475000.0  \n",
      "Stone         246000.0  321200.0  611657.0  \n",
      "\n",
      "\n",
      "             count           mean           std       min        25%  \\\n",
      "Exter Qual                                                             \n",
      "Ex            81.0  374460.308642  98933.233170  160000.0  316500.00   \n",
      "Fa            26.0   89801.192308  41145.023372   13100.0   58468.75   \n",
      "Gd           692.0  230558.531792  67972.775743   52000.0  183150.00   \n",
      "TA          1242.0  143263.970209  40853.614761   12789.0  119248.00   \n",
      "\n",
      "                 50%       75%       max  \n",
      "Exter Qual                                \n",
      "Ex          370967.0  438780.0  611657.0  \n",
      "Fa           83750.0  116125.0  200000.0  \n",
      "Gd          217250.0  269500.0  584500.0  \n",
      "TA          139200.0  163975.0  415000.0  \n",
      "\n",
      "\n",
      "             count           mean            std       min       25%  \\\n",
      "Exter Cond                                                             \n",
      "Ex             7.0  236263.857143  125625.937519  118000.0  145250.0   \n",
      "Fa            49.0  102507.693878   45846.944967   12789.0   67000.0   \n",
      "Gd           215.0  167623.023256   65028.258248   45000.0  128000.0   \n",
      "Po             2.0   44800.000000   44830.569927   13100.0   28950.0   \n",
      "TA          1768.0  185147.735860   79874.908228   34900.0  131000.0   \n",
      "\n",
      "                 50%        75%       max  \n",
      "Exter Cond                                 \n",
      "Ex          173000.0  307500.00  457347.0  \n",
      "Fa           92000.0  135900.00  260000.0  \n",
      "Gd          150000.0  190050.00  584500.0  \n",
      "Po           44800.0   60650.00   76500.0  \n",
      "TA          166500.0  216877.75  611657.0  \n",
      "\n",
      "\n",
      "            count           mean           std       min       25%       50%  \\\n",
      "Foundation                                                                     \n",
      "BrkTil      220.0  128950.831818  52674.722696   12789.0  101750.0  125250.0   \n",
      "CBlock      859.0  148438.245634  45574.424664   34900.0  123000.0  140750.0   \n",
      "PConc       921.0  227476.217155  84936.858601   63000.0  173000.0  208900.0   \n",
      "Slab         34.0  108810.676471  47921.039902   13100.0   88100.0  102350.0   \n",
      "Stone         5.0  143235.200000  71450.251191   89000.0  102776.0  118000.0   \n",
      "Wood          2.0  173750.000000  39951.533137  145500.0  159625.0  173750.0   \n",
      "\n",
      "                 75%       max  \n",
      "Foundation                      \n",
      "BrkTil      148625.0  475000.0  \n",
      "CBlock      166500.0  410000.0  \n",
      "PConc       267300.0  611657.0  \n",
      "Slab        129500.0  284700.0  \n",
      "Stone       139900.0  266500.0  \n",
      "Wood        187875.0  202000.0  \n",
      "\n",
      "\n",
      "           count           mean           std       min       25%       50%  \\\n",
      "Bsmt Qual                                                                     \n",
      "0           54.0  106375.444444  44560.517179   13100.0   82125.0   99000.0   \n",
      "Ex         184.0  329506.619565  98913.726643  100000.0  273000.0  319900.0   \n",
      "Fa          60.0  107752.166667  34059.476797   12789.0   87350.0  100950.0   \n",
      "Gd         857.0  202250.564761  56965.738065   73000.0  164700.0  191500.0   \n",
      "Po           1.0   89000.000000           NaN   89000.0   89000.0   89000.0   \n",
      "TA         885.0  139988.830508  41175.240361   34900.0  118000.0  135900.0   \n",
      "\n",
      "                75%       max  \n",
      "Bsmt Qual                      \n",
      "0          125750.0  284700.0  \n",
      "Ex         385000.0  611657.0  \n",
      "Fa         129750.0  206900.0  \n",
      "Gd         232600.0  538000.0  \n",
      "Po          89000.0   89000.0  \n",
      "TA         157500.0  475000.0  \n",
      "\n",
      "\n",
      "            count           mean           std       min       25%       50%  \\\n",
      "Bsmt Cond                                                                      \n",
      "0            54.0  106375.444444  44560.517179   13100.0   82125.0   99000.0   \n",
      "Ex            3.0  195000.000000  83216.584885  135000.0  147500.0  160000.0   \n",
      "Fa           65.0  118629.076923  42682.526882   12789.0   91000.0  116500.0   \n",
      "Gd           89.0  223969.550562  79194.110691   78000.0  160000.0  209200.0   \n",
      "Po            5.0  124063.200000  84898.940048   61000.0   67000.0   94550.0   \n",
      "TA         1825.0  183864.493699  78497.232695   34900.0  132000.0  165000.0   \n",
      "\n",
      "                75%       max  \n",
      "Bsmt Cond                      \n",
      "0          125750.0  284700.0  \n",
      "Ex         225000.0  290000.0  \n",
      "Fa         147000.0  257076.0  \n",
      "Gd         272000.0  465000.0  \n",
      "Po         129850.0  267916.0  \n",
      "TA         214500.0  611657.0  \n",
      "\n",
      "\n"
     ]
    },
    {
     "name": "stdout",
     "output_type": "stream",
     "text": [
      "                count           mean            std      min       25%  \\\n",
      "Bsmt Exposure                                                            \n",
      "0                54.0  106375.444444   44560.517179  13100.0   82125.0   \n",
      "Av              286.0  205465.937063   81638.517483  35311.0  148000.0   \n",
      "Gd              203.0  271610.566502  109600.224614  61000.0  185000.0   \n",
      "Mn              163.0  189377.570552   73187.465263  68000.0  137700.0   \n",
      "No             1335.0  164519.438202   61183.314906  12789.0  125800.0   \n",
      "\n",
      "                    50%       75%       max  \n",
      "Bsmt Exposure                                \n",
      "0               99000.0  125750.0  284700.0  \n",
      "Av             185675.0  248975.0  591587.0  \n",
      "Gd             250764.0  335750.0  611657.0  \n",
      "Mn             170000.0  223250.0  475000.0  \n",
      "No             150000.0  190000.0  535000.0  \n",
      "\n",
      "\n",
      "                count           mean           std      min       25%  \\\n",
      "BsmtFin Type 1                                                          \n",
      "0                54.0  106375.444444  44560.517179  13100.0   82125.0   \n",
      "ALQ             292.0  164414.109589  51023.517993  79275.0  130375.0   \n",
      "BLQ             200.0  150107.020000  43436.441698  35311.0  125375.0   \n",
      "GLQ             611.0  237367.112930  87476.089443  73000.0  176750.0   \n",
      "LwQ             102.0  153266.921569  51833.183880  61500.0  123125.0   \n",
      "Rec             181.0  143301.375691  51427.512294  34900.0  120000.0   \n",
      "Unf             601.0  166006.309484  72661.003559  12789.0  117600.0   \n",
      "\n",
      "                     50%       75%       max  \n",
      "BsmtFin Type 1                                \n",
      "0                99000.0  125750.0  284700.0  \n",
      "ALQ             152750.0  180250.0  538000.0  \n",
      "BLQ             142500.0  163750.0  345000.0  \n",
      "GLQ             217000.0  284500.0  611657.0  \n",
      "LwQ             139000.0  171750.0  315000.0  \n",
      "Rec             135000.0  157000.0  584500.0  \n",
      "Unf             155000.0  193000.0  582933.0  \n",
      "\n",
      "\n",
      "                 count           mean            std      min       25%  \\\n",
      "BsmtFin Type 2                                                            \n",
      "0                 54.0  106375.444444   44560.517179  13100.0   82125.0   \n",
      "ALQ               35.0  188567.142857   91516.726969  99500.0  129100.0   \n",
      "BLQ               48.0  156659.020833   55564.508874  62383.0  124875.0   \n",
      "GLQ               23.0  221300.000000  103403.449696  84500.0  150450.0   \n",
      "LwQ               60.0  162284.583333   42446.920765  88000.0  135500.0   \n",
      "Rec               79.0  164216.455696   54315.159806  85000.0  133400.0   \n",
      "Unf             1742.0  185122.066016   80410.771327  12789.0  130000.0   \n",
      "\n",
      "                     50%        75%       max  \n",
      "BsmtFin Type 2                                 \n",
      "0                99000.0  125750.00  284700.0  \n",
      "ALQ             162000.0  212750.00  555000.0  \n",
      "BLQ             140500.0  174625.00  417500.0  \n",
      "GLQ             217500.0  255750.00  584500.0  \n",
      "LwQ             154000.0  178468.75  287000.0  \n",
      "Rec             150500.0  173500.00  402000.0  \n",
      "Unf             167000.0  218752.00  611657.0  \n",
      "\n",
      "\n",
      "          count           mean           std       min       25%       50%  \\\n",
      "Heating                                                                      \n",
      "GasA     2008.0  182311.091135  79217.844987   12789.0  130000.0  163250.0   \n",
      "GasW       20.0  151275.000000  48576.438679   85000.0  123125.0  140000.0   \n",
      "Grav        5.0   65180.000000  18998.342033   37900.0   52500.0   76500.0   \n",
      "OthW        2.0  125750.000000   5303.300859  122000.0  123875.0  125750.0   \n",
      "Wall        6.0   77150.000000  31860.618324   13100.0   82925.0   88750.0   \n",
      "\n",
      "              75%       max  \n",
      "Heating                      \n",
      "GasA     214125.0  611657.0  \n",
      "GasW     168250.0  256000.0  \n",
      "Grav      79000.0   80000.0  \n",
      "OthW     127625.0  129500.0  \n",
      "Wall      92175.0   98000.0  \n",
      "\n",
      "\n",
      "             count           mean           std      min       25%       50%  \\\n",
      "Heating QC                                                                     \n",
      "Ex          1057.0  215980.288553  85566.555085  64000.0  155000.0  197000.0   \n",
      "Fa            67.0  117123.641791  46612.677999  37900.0   79500.0  113500.0   \n",
      "Gd           317.0  160333.940063  57867.306993  50138.0  124000.0  153000.0   \n",
      "Po             3.0   69033.333333  49461.129519  13100.0   50050.0   87000.0   \n",
      "TA           597.0  138986.705193  42442.921146  12789.0  115000.0  134900.0   \n",
      "\n",
      "                 75%       max  \n",
      "Heating QC                      \n",
      "Ex          256000.0  611657.0  \n",
      "Fa          154102.0  230000.0  \n",
      "Gd          179200.0  415000.0  \n",
      "Po           97000.0  107000.0  \n",
      "TA          155000.0  335000.0  \n",
      "\n",
      "\n",
      "              count           mean           std      min       25%       50%  \\\n",
      "Central Air                                                                     \n",
      "N             141.0  100575.078014  36971.446560  12789.0   79000.0   98000.0   \n",
      "Y            1900.0  187350.202632  78241.798122  50000.0  135000.0  168000.0   \n",
      "\n",
      "                  75%       max  \n",
      "Central Air                      \n",
      "N            125000.0  239000.0  \n",
      "Y            218125.0  611657.0  \n",
      "\n",
      "\n",
      "             count           mean           std      min       25%       50%  \\\n",
      "Electrical                                                                     \n",
      "FuseA        139.0  122623.179856  38766.733867  13100.0   99750.0  123500.0   \n",
      "FuseF         35.0  103678.914286  30466.232529  35000.0   82437.5  105000.0   \n",
      "FuseP          7.0   83485.714286  22430.665659  64500.0   70500.0   75000.0   \n",
      "Mix            1.0   67000.000000           NaN  67000.0   67000.0   67000.0   \n",
      "SBrkr       1859.0  187639.422808  79418.064922  12789.0  134900.0  170000.0   \n",
      "\n",
      "                 75%       max  \n",
      "Electrical                      \n",
      "FuseA       144500.0  239000.0  \n",
      "FuseF       129000.0  169500.0  \n",
      "FuseP        86950.0  130000.0  \n",
      "Mix          67000.0   67000.0  \n",
      "SBrkr       220000.0  611657.0  \n",
      "\n",
      "\n",
      "               count           mean            std       min        25%  \\\n",
      "Kitchen Qual                                                              \n",
      "Ex             151.0  336424.463576  102364.369173  119000.0  272000.00   \n",
      "Fa              47.0  101334.957447   41957.590989   13100.0   72500.00   \n",
      "Gd             800.0  211374.501250   63075.442741   64500.0  169996.25   \n",
      "TA            1043.0  139486.129434   37841.442388   12789.0  118000.00   \n",
      "\n",
      "                   50%       75%       max  \n",
      "Kitchen Qual                                \n",
      "Ex            325000.0  394828.0  611657.0  \n",
      "Fa            100000.0  118875.0  242500.0  \n",
      "Gd            200483.0  245775.0  591587.0  \n",
      "TA            136500.0  160000.0  289000.0  \n",
      "\n",
      "\n",
      "             count           mean           std      min       25%       50%  \\\n",
      "Functional                                                                     \n",
      "Maj1          12.0  163106.166667  54563.184907  61000.0  133000.0  147700.0   \n",
      "Maj2           7.0   87157.714286  37181.726469  52000.0   66000.0   68104.0   \n",
      "Min1          42.0  154429.761905  48195.569336  57625.0  127750.0  148250.0   \n",
      "Min2          41.0  150065.414634  52773.608386  63900.0  117000.0  142900.0   \n",
      "Mod           29.0  148108.724138  92052.265979  51689.0  107500.0  128000.0   \n",
      "Sal            2.0   31550.000000  26092.240226  13100.0   22325.0   31550.0   \n",
      "Sev            2.0   95750.000000  47022.600949  62500.0   79125.0   95750.0   \n",
      "Typ         1906.0  183835.576076  79622.273353  12789.0  130000.0  165000.0   \n",
      "\n",
      "                  75%       max  \n",
      "Functional                       \n",
      "Maj1        200531.00  275000.0  \n",
      "Maj2        100000.00  158000.0  \n",
      "Min1        177343.75  315000.0  \n",
      "Min2        163000.00  316600.0  \n",
      "Mod         155000.00  538000.0  \n",
      "Sal          40775.00   50000.0  \n",
      "Sev         112375.00  129000.0  \n",
      "Typ         216375.00  611657.0  \n",
      "\n",
      "\n",
      "              count           mean            std       min       25%  \\\n",
      "Fireplace Qu                                                            \n",
      "0             995.0  141918.960804   45242.637472   13100.0  114000.0   \n",
      "Ex             31.0  331481.483871  104195.432710  130500.0  272000.0   \n",
      "Fa             59.0  170287.203390   36515.654145  123000.0  145097.5   \n",
      "Gd            521.0  233177.537428   96385.002293   12789.0  161000.0   \n",
      "Po             31.0  139263.967742   26441.825858   62383.0  127500.0   \n",
      "TA            404.0  204979.094059   62666.632933   80000.0  164750.0   \n",
      "\n",
      "                   50%       75%       max  \n",
      "Fireplace Qu                                \n",
      "0             136500.0  165000.0  360000.0  \n",
      "Ex            320000.0  412649.0  552000.0  \n",
      "Fa            159500.0  188500.0  279000.0  \n",
      "Gd            213000.0  284700.0  611657.0  \n",
      "Po            139000.0  158750.0  183500.0  \n",
      "TA            188500.0  236125.0  584500.0  \n",
      "\n",
      "\n",
      "              count           mean            std      min       25%  \\\n",
      "Garage Type                                                            \n",
      "0             113.0  105669.150442   33704.765812  34900.0   82375.0   \n",
      "2Types         19.0  157184.210526   33828.017040  87000.0  143050.0   \n",
      "Attchd       1205.0  204984.878838   76848.632693  13100.0  150000.0   \n",
      "Basment        27.0  143242.333333   39079.659751  55993.0  122875.0   \n",
      "BuiltIn       131.0  248325.381679  100018.230168  91000.0  176469.5   \n",
      "CarPort        11.0  103823.545455   19675.502999  82000.0   89375.0   \n",
      "Detchd        535.0  132097.852336   40605.378316  12789.0  110000.0   \n",
      "\n",
      "                  50%       75%       max  \n",
      "Garage Type                                \n",
      "0            104000.0  128000.0  200500.0  \n",
      "2Types       150000.0  170500.0  235000.0  \n",
      "Attchd       185850.0  237000.0  611657.0  \n",
      "Basment      145000.0  159000.0  235000.0  \n",
      "BuiltIn      222500.0  294618.0  582933.0  \n",
      "CarPort      101800.0  108479.5  148000.0  \n",
      "Detchd       129500.0  147200.0  475000.0  \n",
      "\n",
      "\n",
      "               count           mean           std       min       25%  \\\n",
      "Garage Finish                                                           \n",
      "0              113.0  105669.150442  33704.765812   34900.0   82375.0   \n",
      "Fin            508.0  239829.799213  90561.311855  102900.0  174875.0   \n",
      "RFn            572.0  204557.886364  69486.551080   50138.0  156000.0   \n",
      "Unf            848.0  140760.858491  44443.372365   12789.0  115850.0   \n",
      "\n",
      "                    50%       75%       max  \n",
      "Garage Finish                                \n",
      "0              104000.0  128000.0  200500.0  \n",
      "Fin            215000.0  287022.5  611657.0  \n",
      "RFn            190775.0  235000.0  584500.0  \n",
      "Unf            135000.0  157000.0  475000.0  \n",
      "\n",
      "\n",
      "              count           mean            std       min       25%  \\\n",
      "Garage Qual                                                             \n",
      "0             113.0  105669.150442   33704.765812   34900.0   82375.0   \n",
      "Ex              3.0  241000.000000  202680.166765  120500.0  124000.0   \n",
      "Fa             81.0  116329.148148   41888.802327   12789.0   95000.0   \n",
      "Gd             18.0  262989.277778  124483.627059   90350.0  174925.0   \n",
      "Po              2.0   65000.000000    2828.427125   63000.0   64000.0   \n",
      "TA           1824.0  188155.915022   77537.230138   35311.0  136000.0   \n",
      "\n",
      "                  50%       75%       max  \n",
      "Garage Qual                                \n",
      "0            104000.0  128000.0  200500.0  \n",
      "Ex           127500.0  301250.0  475000.0  \n",
      "Fa           113000.0  135000.0  257076.0  \n",
      "Gd           266250.0  314375.0  591587.0  \n",
      "Po            65000.0   66000.0   67000.0  \n",
      "TA           170000.0  219500.0  611657.0  \n",
      "\n",
      "\n",
      "              count           mean           std       min       25%  \\\n",
      "Garage Cond                                                            \n",
      "0             113.0  105669.150442  33704.765812   34900.0   82375.0   \n",
      "Ex              2.0  124000.000000   4949.747468  120500.0  122250.0   \n",
      "Fa             47.0  107387.957447  40153.374596   12789.0   81700.0   \n",
      "Gd             12.0  209030.833333  74516.678726  132000.0  144000.0   \n",
      "Po              8.0   89925.000000  40500.855370   13100.0   66000.0   \n",
      "TA           1859.0  188102.664336  78533.634893   35311.0  135000.0   \n",
      "\n",
      "                  50%       75%       max  \n",
      "Garage Cond                                \n",
      "0            104000.0  128000.0  200500.0  \n",
      "Ex           124000.0  125750.0  127500.0  \n",
      "Fa           110000.0  131500.0  220000.0  \n",
      "Gd           177450.0  279352.5  315000.0  \n",
      "Po           101950.0  112225.0  139500.0  \n",
      "TA           169500.0  219500.0  611657.0  \n",
      "\n",
      "\n",
      "              count           mean           std      min        25%  \\\n",
      "Paved Drive                                                            \n",
      "N             150.0  103993.246667  38767.954816  12789.0   79456.25   \n",
      "P              39.0  129824.461538  38305.762374  64000.0  101000.00   \n",
      "Y            1852.0  188706.441685  78560.522319  35311.0  135375.00   \n",
      "\n",
      "                  50%       75%       max  \n",
      "Paved Drive                                \n",
      "N            103888.0  127000.0  239000.0  \n",
      "P            126500.0  156852.0  235000.0  \n",
      "Y            170000.0  220000.0  611657.0  \n",
      "\n",
      "\n",
      "          count           mean           std       min       25%       50%  \\\n",
      "Pool QC                                                                      \n",
      "0        2032.0  181226.132382  79273.640101   12789.0  129500.0  162000.0   \n",
      "Ex          1.0  315000.000000           NaN  315000.0  315000.0  315000.0   \n",
      "Fa          2.0  215500.000000  48790.367902  181000.0  198250.0  215500.0   \n",
      "Gd          4.0  216492.500000  59367.473348  160000.0  168250.0  215500.0   \n",
      "TA          2.0  141500.000000  16263.455967  130000.0  135750.0  141500.0   \n",
      "\n",
      "              75%       max  \n",
      "Pool QC                      \n",
      "0        213625.0  611657.0  \n",
      "Ex       315000.0  315000.0  \n",
      "Fa       232750.0  250000.0  \n",
      "Gd       263742.5  274970.0  \n",
      "TA       147250.0  153000.0  \n",
      "\n",
      "\n",
      "        count           mean           std       min       25%       50%  \\\n",
      "Fence                                                                      \n",
      "0      1642.0  188437.009744  82895.895215   12789.0  132000.0  172500.0   \n",
      "GdPrv    83.0  176979.855422  66178.742569   89900.0  139700.0  158500.0   \n",
      "GdWo     80.0  141499.162500  46030.188516   34900.0  123000.0  136750.0   \n",
      "MnPrv   226.0  147663.672566  47536.889361   40000.0  123000.0  138750.0   \n",
      "MnWw     10.0  135165.000000  22698.630037  110000.0  121225.0  131250.0   \n",
      "\n",
      "             75%       max  \n",
      "Fence                       \n",
      "0      224182.25  611657.0  \n",
      "GdPrv  188950.00  475000.0  \n",
      "GdWo   153125.00  290000.0  \n",
      "MnPrv  159875.00  445000.0  \n",
      "MnWw   144000.00  187000.0  \n",
      "\n",
      "\n"
     ]
    },
    {
     "name": "stdout",
     "output_type": "stream",
     "text": [
      "               count           mean           std       min       25%  \\\n",
      "Misc Feature                                                            \n",
      "0             1977.0  182053.984825  79893.482681   12789.0  129850.0   \n",
      "Elev             1.0  183850.000000           NaN  183850.0  183850.0   \n",
      "Gar2             3.0  132000.000000  37000.000000   99000.0  112000.0   \n",
      "Othr             3.0  163166.666667  98750.105485   55000.0  120500.0   \n",
      "Shed            56.0  159042.732143  48268.869093   55993.0  129737.5   \n",
      "TenC             1.0  250000.000000           NaN  250000.0  250000.0   \n",
      "\n",
      "                   50%       75%       max  \n",
      "Misc Feature                                \n",
      "0             163000.0  215000.0  611657.0  \n",
      "Elev          183850.0  183850.0  183850.0  \n",
      "Gar2          125000.0  148500.0  172000.0  \n",
      "Othr          186000.0  217250.0  248500.0  \n",
      "Shed          153750.0  189000.0  277000.0  \n",
      "TenC          250000.0  250000.0  250000.0  \n",
      "\n",
      "\n",
      "            count           mean            std       min       25%       50%  \\\n",
      "Sale Type                                                                       \n",
      "COD          62.0  133882.177419   44221.527717   50000.0  110312.5  127750.0   \n",
      "CWD          10.0  186635.000000   60724.222011  136000.0  141987.5  160750.0   \n",
      "Con           4.0  241807.500000   94315.167877  120000.0  191400.0  261615.0   \n",
      "ConLD        17.0  129091.352941   56798.944278   35000.0   84900.0  130000.0   \n",
      "ConLI         7.0  207992.857143  134640.015190  110000.0  117000.0  125000.0   \n",
      "ConLw         5.0  124600.000000   54550.893668   82000.0   90000.0   95000.0   \n",
      "New         157.0  279169.050955  105586.506612  140000.0  194201.0  260116.0   \n",
      "Oth           4.0  127497.750000   34545.182302   80000.0  113075.0  137050.0   \n",
      "WD         1775.0  174872.766761   70831.612258   12789.0  129000.0  158500.0   \n",
      "\n",
      "                 75%       max  \n",
      "Sale Type                       \n",
      "COD        151750.00  287000.0  \n",
      "CWD        218375.00  328900.0  \n",
      "Con        312022.50  324000.0  \n",
      "ConLD      170000.00  235128.0  \n",
      "ConLI      267500.00  451950.0  \n",
      "ConLw      144000.00  212000.0  \n",
      "New        342643.00  611657.0  \n",
      "Oth        151472.75  155891.0  \n",
      "WD         206150.00  584500.0  \n",
      "\n",
      "\n"
     ]
    },
    {
     "ename": "IndexError",
     "evalue": "index 42 is out of bounds for axis 0 with size 42",
     "output_type": "error",
     "traceback": [
      "\u001b[0;31m---------------------------------------------------------------------------\u001b[0m",
      "\u001b[0;31mIndexError\u001b[0m                                Traceback (most recent call last)",
      "\u001b[0;32m<ipython-input-51-f584275b2d6f>\u001b[0m in \u001b[0;36m<module>\u001b[0;34m\u001b[0m\n\u001b[1;32m      1\u001b[0m \u001b[0mtrain\u001b[0m\u001b[0;34m[\u001b[0m\u001b[0mdummies\u001b[0m\u001b[0;34m]\u001b[0m\u001b[0;34m=\u001b[0m\u001b[0mtrain\u001b[0m\u001b[0;34m[\u001b[0m\u001b[0mdummies\u001b[0m\u001b[0;34m]\u001b[0m\u001b[0;34m.\u001b[0m\u001b[0mfillna\u001b[0m\u001b[0;34m(\u001b[0m\u001b[0;36m0\u001b[0m\u001b[0;34m)\u001b[0m\u001b[0;34m\u001b[0m\u001b[0;34m\u001b[0m\u001b[0m\n\u001b[1;32m      2\u001b[0m \u001b[0;32mfor\u001b[0m \u001b[0mindex\u001b[0m \u001b[0;32min\u001b[0m \u001b[0mrange\u001b[0m\u001b[0;34m(\u001b[0m\u001b[0;36m0\u001b[0m\u001b[0;34m,\u001b[0m\u001b[0;36m50\u001b[0m\u001b[0;34m)\u001b[0m\u001b[0;34m:\u001b[0m\u001b[0;34m\u001b[0m\u001b[0;34m\u001b[0m\u001b[0m\n\u001b[0;32m----> 3\u001b[0;31m     \u001b[0mprint\u001b[0m\u001b[0;34m(\u001b[0m\u001b[0mtrain\u001b[0m\u001b[0;34m.\u001b[0m\u001b[0mgroupby\u001b[0m\u001b[0;34m(\u001b[0m\u001b[0mdummies\u001b[0m\u001b[0;34m[\u001b[0m\u001b[0mindex\u001b[0m\u001b[0;34m]\u001b[0m\u001b[0;34m)\u001b[0m\u001b[0;34m[\u001b[0m\u001b[0;34m'SalePrice'\u001b[0m\u001b[0;34m]\u001b[0m\u001b[0;34m.\u001b[0m\u001b[0mdescribe\u001b[0m\u001b[0;34m(\u001b[0m\u001b[0;34m)\u001b[0m\u001b[0;34m)\u001b[0m\u001b[0;34m\u001b[0m\u001b[0;34m\u001b[0m\u001b[0m\n\u001b[0m\u001b[1;32m      4\u001b[0m     \u001b[0mprint\u001b[0m \u001b[0;34m(\u001b[0m\u001b[0;34m'\\n'\u001b[0m\u001b[0;34m)\u001b[0m\u001b[0;34m\u001b[0m\u001b[0;34m\u001b[0m\u001b[0m\n",
      "\u001b[0;32m~/anaconda3/lib/python3.7/site-packages/pandas/core/indexes/base.py\u001b[0m in \u001b[0;36m__getitem__\u001b[0;34m(self, key)\u001b[0m\n\u001b[1;32m   3956\u001b[0m         \u001b[0;32mif\u001b[0m \u001b[0mis_scalar\u001b[0m\u001b[0;34m(\u001b[0m\u001b[0mkey\u001b[0m\u001b[0;34m)\u001b[0m\u001b[0;34m:\u001b[0m\u001b[0;34m\u001b[0m\u001b[0;34m\u001b[0m\u001b[0m\n\u001b[1;32m   3957\u001b[0m             \u001b[0mkey\u001b[0m \u001b[0;34m=\u001b[0m \u001b[0mcom\u001b[0m\u001b[0;34m.\u001b[0m\u001b[0mcast_scalar_indexer\u001b[0m\u001b[0;34m(\u001b[0m\u001b[0mkey\u001b[0m\u001b[0;34m)\u001b[0m\u001b[0;34m\u001b[0m\u001b[0;34m\u001b[0m\u001b[0m\n\u001b[0;32m-> 3958\u001b[0;31m             \u001b[0;32mreturn\u001b[0m \u001b[0mgetitem\u001b[0m\u001b[0;34m(\u001b[0m\u001b[0mkey\u001b[0m\u001b[0;34m)\u001b[0m\u001b[0;34m\u001b[0m\u001b[0;34m\u001b[0m\u001b[0m\n\u001b[0m\u001b[1;32m   3959\u001b[0m \u001b[0;34m\u001b[0m\u001b[0m\n\u001b[1;32m   3960\u001b[0m         \u001b[0;32mif\u001b[0m \u001b[0misinstance\u001b[0m\u001b[0;34m(\u001b[0m\u001b[0mkey\u001b[0m\u001b[0;34m,\u001b[0m \u001b[0mslice\u001b[0m\u001b[0;34m)\u001b[0m\u001b[0;34m:\u001b[0m\u001b[0;34m\u001b[0m\u001b[0;34m\u001b[0m\u001b[0m\n",
      "\u001b[0;31mIndexError\u001b[0m: index 42 is out of bounds for axis 0 with size 42"
     ]
    }
   ],
   "source": [
    "train[dummies]=train[dummies].fillna(0)\n",
    "for index in range(0,50):\n",
    "    print(train.groupby(dummies[index])['SalePrice'].describe())\n",
    "    print ('\\n')"
   ]
  },
  {
   "cell_type": "markdown",
   "metadata": {
    "ExecuteTime": {
     "end_time": "2019-10-11T04:38:35.000428Z",
     "start_time": "2019-10-11T04:38:34.992090Z"
    }
   },
   "source": [
    "**Ordinals are created according to the data dictionary"
   ]
  },
  {
   "cell_type": "code",
   "execution_count": 53,
   "metadata": {
    "ExecuteTime": {
     "end_time": "2019-10-11T05:14:30.870943Z",
     "start_time": "2019-10-11T05:14:30.693648Z"
    }
   },
   "outputs": [],
   "source": [
    "df=df.fillna(0)\n",
    "df['Lot Config']=df['Lot Config'].map(lambda x: 'NotCulDSac' if x!='CulDSac' else x)\n",
    "df['Land Slope']=df['Land Slope'].map(lambda x: 'Gtl' if x=='Sev' else x)\n",
    "df['Bldg Type']=df['Bldg Type'].map({'1Fam':'TwnhsE'})\n",
    "df['Bldg Type']=df['Bldg Type'].map(lambda x: 'notTwnhsE' if x!='TwnhsE' else x)\n",
    "#df['Floors']=df['House Style'].map({'1.5Fin':1.5,'1.5Unf':1.5,'1Story':1,'2.5Fin':2.5,'2.5Unf':2.5,'2Story':2,'SFoyer':1.5,'SLvl':1})\n",
    "df['finished']=df['House Style'].map(lambda x: 'Unf' if ('Unf' in x) else 'Fin')\n",
    "#df['Roof Style']=df['Roof Style'].map({'Shed':'Hip'})\n",
    "### df['Roof Matl']=df['Roof Matl'].map({'ClyTile':'CompShg','Tar&Grv':'CompShg'})\n",
    "df['Roof Matl']=df['Roof Matl'].map(lambda x: 'Not' if x!='CompShg' else x)\n",
    "df['Roof Matl']=df['Roof Matl'].map(lambda x: 'Not' if x!='CompShg' else x)\n",
    "df['Exter Qual']=df['Exter Qual'].map({'Fa':0,'TA':1,'Gd':2,'Ex':3})\n",
    "df['Exter Cond']=df['Exter Cond'].map({'Po':0,'Fa':1,'TA':2,'Gd':3,'Ex':4})\n",
    "\n",
    "df['Foundation']=df['Foundation'].map({'Slab':0,'BrkTil':1,'CBlock':2,'Stone':2,'Wood':3,'PConc':4})\n",
    "df['Bsmt Qual']=df['Bsmt Qual'].map({'Po':-1,0:0,'Fa':1,'TA':2,'Gd':3,'Ex':4})\n",
    "df['Bsmt Cond']=df['Bsmt Cond'].map({'Po':-1,0:0,'Fa':1,'TA':2,'Gd':3,'Ex':4})\n",
    "df['Bsmt Exposure']=df['Bsmt Exposure'].map({0:1,'No':1,'Mn':2,'Av':2,'Gd':3})\n",
    "df['BsmtFin Type 1']=df['BsmtFin Type 1'].map({0:0,'Rec':3,'BLQ':4,'LwQ':2,'Unf':1,'ALQ':5,'GLQ':6})\n",
    "df['BsmtFin Type 2']=df['BsmtFin Type 2'].map({0:0,'Rec':3,'BLQ':4,'LwQ':2,'Unf':1,'ALQ':5,'GLQ':6})\n",
    "df['Heating QC']=df['Heating QC'].map({'Po':-1,'Fa':1,'TA':2,'Gd':3,'Ex':4})\n",
    "df['Central Air']=df['Central Air'].map({'Y':1,'N':0})\n",
    "df['Electrical']=df['Electrical'].map({'FuseP':1,'Mix':0,'FuseA':3,'FuseF':2,'SBrkr':4})\n",
    "df['Electrical']=df['Electrical'].fillna(0)\n",
    "df['Kitchen Qual']=df['Kitchen Qual'].map({'Po':-1,'Fa':1,'TA':2,'Gd':3,'Ex':4})\n",
    "df['Functional']=df['Functional'].map({'Sal':-1,'Sev':0,'Maj2':2,'Maj1':3,'Mod':4,'Min2':5,'Min1':6,'Typ':7})\n",
    "df['Fireplace Qu']=df['Fireplace Qu'].map({0:0,'Po':-1,'Fa':1,'TA':2,'Gd':3,'Ex':4})\n",
    "df['Garage Type']=df['Garage Type'].map({'BuiltIn':'In','Attchd':'In'})\n",
    "df['Garage Type']=df['Garage Type'].map(lambda x: 'Out' if x!='In' else x)\n",
    "df['Garage Finish']=df['Garage Finish'].map({0:0,'Unf':1,'RFn':2,'Fin':3})\n",
    "df['Garage Qual']=df['Garage Qual'].map({0:0,'Po':-1,'Fa':1,'TA':2,'Gd':3,'Ex':4})\n",
    "df['Garage Cond']=df['Garage Cond'].map({0:0,'Po':-1,'Fa':1,'TA':2,'Gd':3,'Ex':4})\n",
    "df['Paved Drive']=df['Paved Drive'].map({'N':0,'P':1,'Y':2})\n",
    "df['Pool QC']=df['Pool QC'].map({0:0,'Po':-1,'Fa':1,'TA':2,'Gd':3,'Ex':4})\n",
    "df['Fence']=df['Fence'].map({'0':5,0:5,'MnWw':1,'MnPrv':2,'GdWo':3,'GdPrv':4})\n",
    "df['>4000SF']=[int(x>4000) for x in df['Gr Liv Area']]\n"
   ]
  },
  {
   "cell_type": "code",
   "execution_count": 54,
   "metadata": {
    "ExecuteTime": {
     "end_time": "2019-10-11T05:14:31.478084Z",
     "start_time": "2019-10-11T05:14:31.467508Z"
    }
   },
   "outputs": [
    {
     "data": {
      "text/plain": [
       "NAmes      442\n",
       "CollgCr    267\n",
       "OldTown    238\n",
       "Edwards    194\n",
       "Somerst    181\n",
       "NridgHt    165\n",
       "Gilbert    163\n",
       "Sawyer     150\n",
       "NWAmes     130\n",
       "SawyerW    125\n",
       "Mitchel    114\n",
       "BrkSide    108\n",
       "Crawfor    103\n",
       "IDOTRR      92\n",
       "Timber      72\n",
       "NoRidge     71\n",
       "StoneBr     50\n",
       "SWISU       48\n",
       "ClearCr     44\n",
       "MeadowV     37\n",
       "BrDale      30\n",
       "Blmngtn     28\n",
       "Veenker     24\n",
       "NPkVill     23\n",
       "Blueste     10\n",
       "Greens       8\n",
       "GrnHill      2\n",
       "Landmrk      1\n",
       "Name: Neighborhood, dtype: int64"
      ]
     },
     "execution_count": 54,
     "metadata": {},
     "output_type": "execute_result"
    }
   ],
   "source": [
    "df['Neighborhood'].value_counts()"
   ]
  },
  {
   "cell_type": "code",
   "execution_count": 55,
   "metadata": {
    "ExecuteTime": {
     "end_time": "2019-10-11T05:14:33.905882Z",
     "start_time": "2019-10-11T05:14:33.875338Z"
    }
   },
   "outputs": [
    {
     "data": {
      "text/plain": [
       "Index([], dtype='object')"
      ]
     },
     "execution_count": 55,
     "metadata": {},
     "output_type": "execute_result"
    }
   ],
   "source": [
    "df.columns[df.isnull().sum()>0]"
   ]
  },
  {
   "cell_type": "code",
   "execution_count": 56,
   "metadata": {
    "ExecuteTime": {
     "end_time": "2019-10-11T05:14:34.932192Z",
     "start_time": "2019-10-11T05:14:34.924340Z"
    },
    "scrolled": true
   },
   "outputs": [
    {
     "data": {
      "text/plain": [
       "array(['Id', 'PID', 'MS SubClass', 'MS Zoning', 'Lot Frontage',\n",
       "       'Lot Area', 'Street', 'Alley', 'Lot Shape', 'Land Contour',\n",
       "       'Utilities', 'Lot Config', 'Land Slope', 'Neighborhood',\n",
       "       'Condition 1', 'Condition 2', 'Bldg Type', 'House Style',\n",
       "       'Overall Qual', 'Overall Cond', 'Year Built', 'Year Remod/Add',\n",
       "       'Roof Style', 'Roof Matl', 'Exterior 1st', 'Exterior 2nd',\n",
       "       'Mas Vnr Type', 'Mas Vnr Area', 'Exter Qual', 'Exter Cond',\n",
       "       'Foundation', 'Bsmt Qual', 'Bsmt Cond', 'Bsmt Exposure',\n",
       "       'BsmtFin Type 1', 'BsmtFin SF 1', 'BsmtFin Type 2', 'BsmtFin SF 2',\n",
       "       'Bsmt Unf SF', 'Total Bsmt SF', 'Heating', 'Heating QC',\n",
       "       'Central Air', 'Electrical', '1st Flr SF', '2nd Flr SF',\n",
       "       'Low Qual Fin SF', 'Gr Liv Area', 'Bsmt Full Bath',\n",
       "       'Bsmt Half Bath', 'Full Bath', 'Half Bath', 'Bedroom AbvGr',\n",
       "       'Kitchen AbvGr', 'Kitchen Qual', 'TotRms AbvGrd', 'Functional',\n",
       "       'Fireplaces', 'Fireplace Qu', 'Garage Type', 'Garage Yr Blt',\n",
       "       'Garage Finish', 'Garage Cars', 'Garage Area', 'Garage Qual',\n",
       "       'Garage Cond', 'Paved Drive', 'Wood Deck SF', 'Open Porch SF',\n",
       "       'Enclosed Porch', '3Ssn Porch SF', 'Screen Porch SF', 'Pool Area',\n",
       "       'Pool QC', 'Fence', 'Misc Feature', 'Misc Val', 'Mo Sold',\n",
       "       'Yr Sold', 'Sale Type', 'SalePrice', 'finished', '>4000SF'],\n",
       "      dtype=object)"
      ]
     },
     "execution_count": 56,
     "metadata": {},
     "output_type": "execute_result"
    }
   ],
   "source": [
    "df.columns.values"
   ]
  },
  {
   "cell_type": "code",
   "execution_count": 57,
   "metadata": {
    "ExecuteTime": {
     "end_time": "2019-10-11T05:14:35.252585Z",
     "start_time": "2019-10-11T05:14:35.244143Z"
    },
    "scrolled": true
   },
   "outputs": [
    {
     "data": {
      "text/plain": [
       "0       0\n",
       "1       0\n",
       "2       3\n",
       "3       0\n",
       "4       3\n",
       "5       0\n",
       "6       0\n",
       "7       0\n",
       "8       0\n",
       "9       1\n",
       "10      0\n",
       "11      0\n",
       "12      2\n",
       "13      2\n",
       "14      3\n",
       "15      3\n",
       "16      3\n",
       "17      0\n",
       "18      2\n",
       "19      3\n",
       "20      2\n",
       "21      0\n",
       "22      1\n",
       "23      2\n",
       "24      0\n",
       "25      0\n",
       "26      3\n",
       "27      0\n",
       "28      0\n",
       "29      0\n",
       "       ..\n",
       "2011    0\n",
       "2012    2\n",
       "2013    3\n",
       "2014    2\n",
       "2015    3\n",
       "2016    2\n",
       "2017    0\n",
       "2018    3\n",
       "2019    3\n",
       "2020    0\n",
       "2021    1\n",
       "2022    1\n",
       "2023    2\n",
       "2024    0\n",
       "2025    3\n",
       "2026    3\n",
       "2027    1\n",
       "2028    0\n",
       "2029    0\n",
       "2030    2\n",
       "2031    3\n",
       "2032    3\n",
       "2033    2\n",
       "2034    0\n",
       "2035    3\n",
       "2036    3\n",
       "2037    0\n",
       "2038    2\n",
       "2039    3\n",
       "2040    2\n",
       "Name: Fireplace Qu, Length: 2920, dtype: int64"
      ]
     },
     "execution_count": 57,
     "metadata": {},
     "output_type": "execute_result"
    }
   ],
   "source": [
    "df['Fireplace Qu']"
   ]
  },
  {
   "cell_type": "code",
   "execution_count": 58,
   "metadata": {
    "ExecuteTime": {
     "end_time": "2019-10-11T05:14:37.825170Z",
     "start_time": "2019-10-11T05:14:36.052118Z"
    }
   },
   "outputs": [
    {
     "data": {
      "text/plain": [
       "Text(0.5, 10.0, 'Correlation between the numeric values of the training dataset')"
      ]
     },
     "execution_count": 58,
     "metadata": {},
     "output_type": "execute_result"
    },
    {
     "data": {
      "image/png": "[encoded data removed]",
      "text/plain": [
       "<Figure size 1080x720 with 2 Axes>"
      ]
     },
     "metadata": {
      "needs_background": "light"
     },
     "output_type": "display_data"
    }
   ],
   "source": [
    "#plot a triangular heatmap of the numerical correlations\n",
    "dummies=df.columns[[(df[column].dtypes==object) for column in df]]\n",
    "not_dummies=df.columns[[(df[column].dtypes!=object) for column in df]]\n",
    "\n",
    "plt.figure(figsize=(15,10))\n",
    "mask = np.zeros_like(df[not_dummies].corr(), dtype=np.bool)\n",
    "mask[np.triu_indices_from(mask)] = True\n",
    "sns.heatmap(df[not_dummies].corr(),mask=mask)\n",
    "plt.gca().set_title('Correlation between the numeric values of the training dataset',size=20,y=10.0)\n",
    "\n"
   ]
  },
  {
   "cell_type": "code",
   "execution_count": 59,
   "metadata": {
    "ExecuteTime": {
     "end_time": "2019-10-11T05:14:40.553348Z",
     "start_time": "2019-10-11T05:14:40.540079Z"
    },
    "scrolled": true
   },
   "outputs": [
    {
     "data": {
      "text/plain": [
       "MS Zoning       object\n",
       "Street          object\n",
       "Alley           object\n",
       "Lot Shape       object\n",
       "Land Contour    object\n",
       "Utilities       object\n",
       "Lot Config      object\n",
       "Land Slope      object\n",
       "Neighborhood    object\n",
       "Condition 1     object\n",
       "Condition 2     object\n",
       "Bldg Type       object\n",
       "House Style     object\n",
       "Roof Style      object\n",
       "Roof Matl       object\n",
       "Exterior 1st    object\n",
       "Exterior 2nd    object\n",
       "Mas Vnr Type    object\n",
       "Heating         object\n",
       "Garage Type     object\n",
       "Misc Feature    object\n",
       "Sale Type       object\n",
       "finished        object\n",
       "dtype: object"
      ]
     },
     "execution_count": 59,
     "metadata": {},
     "output_type": "execute_result"
    }
   ],
   "source": [
    "#change things to int so they dont get dummied\n",
    "df[dummies].dtypes"
   ]
  },
  {
   "cell_type": "code",
   "execution_count": 60,
   "metadata": {
    "ExecuteTime": {
     "end_time": "2019-10-11T05:14:41.117011Z",
     "start_time": "2019-10-11T05:14:41.051958Z"
    }
   },
   "outputs": [],
   "source": [
    "df=pd.get_dummies(df,columns=dummies,drop_first=True)"
   ]
  },
  {
   "cell_type": "code",
   "execution_count": 61,
   "metadata": {
    "ExecuteTime": {
     "end_time": "2019-10-11T05:14:41.793041Z",
     "start_time": "2019-10-11T05:14:41.774711Z"
    }
   },
   "outputs": [
    {
     "name": "stdout",
     "output_type": "stream",
     "text": [
      "df shape:(2920, 190) \n",
      "train.shape:(2041, 190) \n",
      "test.shape(879, 190)\n"
     ]
    }
   ],
   "source": [
    "test=df[df['SalePrice']==0]\n",
    "train=df[df['SalePrice']!=0]\n",
    "print(\"df shape:{} \\ntrain.shape:{} \\ntest.shape{}\".format(df.shape,train.shape,test.shape))"
   ]
  },
  {
   "cell_type": "code",
   "execution_count": null,
   "metadata": {},
   "outputs": [],
   "source": []
  },
  {
   "cell_type": "code",
   "execution_count": 62,
   "metadata": {
    "ExecuteTime": {
     "end_time": "2019-10-11T05:14:43.536527Z",
     "start_time": "2019-10-11T05:14:42.763278Z"
    }
   },
   "outputs": [],
   "source": [
    "#save the cleaned test data\n",
    "#test.to_csv('datasets/clean_test.csv')\n",
    "#train.to_csv('datasets/clean_train.csv')"
   ]
  },
  {
   "cell_type": "markdown",
   "metadata": {},
   "source": [
    "### From here, we move on to the EDA Sheet"
   ]
  },
  {
   "cell_type": "code",
   "execution_count": null,
   "metadata": {},
   "outputs": [],
   "source": []
  },
  {
   "cell_type": "code",
   "execution_count": null,
   "metadata": {},
   "outputs": [],
   "source": []
  }
 ],
 "metadata": {
  "kernelspec": {
   "display_name": "Python 3",
   "language": "python",
   "name": "python3"
  },
  "language_info": {
   "codemirror_mode": {
    "name": "ipython",
    "version": 3
   },
   "file_extension": ".py",
   "mimetype": "text/x-python",
   "name": "python",
   "nbconvert_exporter": "python",
   "pygments_lexer": "ipython3",
   "version": "3.7.3"
  }
 },
 "nbformat": 4,
 "nbformat_minor": 2
}
