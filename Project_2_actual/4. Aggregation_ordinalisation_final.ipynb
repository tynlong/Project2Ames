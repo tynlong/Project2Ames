{
 "cells": [
  {
   "cell_type": "code",
   "execution_count": 1,
   "metadata": {
    "ExecuteTime": {
     "end_time": "2019-10-10T23:58:26.269090Z",
     "start_time": "2019-10-10T23:58:23.160112Z"
    }
   },
   "outputs": [],
   "source": [
    "import pandas as pd\n",
    "import numpy as np\n",
    "import seaborn as sns\n",
    "import matplotlib.pyplot as plt\n",
    "from sklearn.linear_model import LinearRegression, LassoCV, RidgeCV,Lasso\n",
    "from sklearn.preprocessing import PolynomialFeatures, StandardScaler\n",
    "from sklearn.model_selection import train_test_split, cross_val_score, cross_val_predict\n",
    "from sklearn.metrics import r2_score, classification_report\n",
    "from sklearn.model_selection import GridSearchCV\n",
    "from sklearn.pipeline import Pipeline\n",
    "import time\n",
    "\n",
    "sns.set_style('darkgrid')\n",
    "%config InlineBackend.figure_format = 'retina'\n",
    "%matplotlib inline\n"
   ]
  },
  {
   "cell_type": "code",
   "execution_count": 2,
   "metadata": {
    "ExecuteTime": {
     "end_time": "2019-10-10T23:58:26.527010Z",
     "start_time": "2019-10-10T23:58:26.273760Z"
    }
   },
   "outputs": [],
   "source": [
    "train=pd.read_csv('datasets/train_agged.csv')\n",
    "test=pd.read_csv('datasets/test_agged.csv')"
   ]
  },
  {
   "cell_type": "code",
   "execution_count": 3,
   "metadata": {
    "ExecuteTime": {
     "end_time": "2019-10-10T23:58:26.563038Z",
     "start_time": "2019-10-10T23:58:26.531989Z"
    }
   },
   "outputs": [],
   "source": [
    "train=train.drop('Unnamed: 0',axis=1)\n",
    "test=test.drop('Unnamed: 0',axis=1)\n",
    "test=test.drop('SalePrice',axis=1)"
   ]
  },
  {
   "cell_type": "markdown",
   "metadata": {},
   "source": [
    "### High level look at what I did:\n",
    "\n",
    "    1. Drop collinear variables -> 0.6-0.9\n",
    "    2. Scale variables\n",
    "    3. Lasso down to 50 variables\n",
    "    6. Lasso down again to 25 or so\n"
   ]
  },
  {
   "cell_type": "markdown",
   "metadata": {
    "ExecuteTime": {
     "end_time": "2019-10-11T00:21:57.345188Z",
     "start_time": "2019-10-11T00:21:57.341056Z"
    }
   },
   "source": [
    "### This sheet continues from the train and test set exported from aggregation_only sheet"
   ]
  },
  {
   "cell_type": "code",
   "execution_count": 4,
   "metadata": {
    "ExecuteTime": {
     "end_time": "2019-10-10T23:58:26.653670Z",
     "start_time": "2019-10-10T23:58:26.573043Z"
    }
   },
   "outputs": [
    {
     "name": "stdout",
     "output_type": "stream",
     "text": [
      "(1530, 178) (1530,)\n",
      "(511, 178) (511,)\n"
     ]
    }
   ],
   "source": [
    "#get the dataset\n",
    "target = 'SalePrice'\n",
    "nc = [x for x in train.columns if x != target]\n",
    "\n",
    "X_train,X_test,y_train,y_test=train_test_split(train[nc],train[target])\n",
    "\n",
    "ss = StandardScaler()\n",
    "ss.fit(X_train)\n",
    "X_train = ss.transform(X_train)\n",
    "X_test= ss.transform(X_test)\n",
    "\n",
    "test_sc=ss.transform(test)\n",
    "X=ss.transform(train[nc])\n",
    "\n",
    "print(X_train.shape, y_train.shape)\n",
    "print(X_test.shape, y_test.shape)"
   ]
  },
  {
   "cell_type": "code",
   "execution_count": 5,
   "metadata": {
    "ExecuteTime": {
     "end_time": "2019-10-10T23:58:26.717621Z",
     "start_time": "2019-10-10T23:58:26.664733Z"
    }
   },
   "outputs": [],
   "source": [
    "l_alphas = np.logspace(2, 6, 100)\n",
    "lasso_model = Lasso(alpha=1000,max_iter=10000000)\n",
    "#lasso_model = LassoCV(alphas=l_alphas, cv=10,max_iter=100000, fit_intercept=True)\n",
    "lasso_model = lasso_model.fit(X_train, y_train)"
   ]
  },
  {
   "cell_type": "code",
   "execution_count": 6,
   "metadata": {
    "ExecuteTime": {
     "end_time": "2019-10-10T23:58:26.738699Z",
     "start_time": "2019-10-10T23:58:26.729282Z"
    }
   },
   "outputs": [],
   "source": [
    "new_columns=(test.columns[[(item>0)for column,item in zip(test.columns,lasso_model.coef_)]])"
   ]
  },
  {
   "cell_type": "code",
   "execution_count": 7,
   "metadata": {
    "ExecuteTime": {
     "end_time": "2019-10-10T23:58:26.773690Z",
     "start_time": "2019-10-10T23:58:26.748826Z"
    }
   },
   "outputs": [
    {
     "data": {
      "text/plain": [
       "49"
      ]
     },
     "execution_count": 7,
     "metadata": {},
     "output_type": "execute_result"
    }
   ],
   "source": [
    "len(new_columns)"
   ]
  },
  {
   "cell_type": "code",
   "execution_count": 8,
   "metadata": {
    "ExecuteTime": {
     "end_time": "2019-10-10T23:58:27.456173Z",
     "start_time": "2019-10-10T23:58:26.786210Z"
    }
   },
   "outputs": [
    {
     "data": {
      "text/plain": [
       "0.8741718891489063"
      ]
     },
     "execution_count": 8,
     "metadata": {},
     "output_type": "execute_result"
    }
   ],
   "source": [
    "cross_val_score(lasso_model,X_train,y_train,cv=15).mean()"
   ]
  },
  {
   "cell_type": "code",
   "execution_count": 9,
   "metadata": {
    "ExecuteTime": {
     "end_time": "2019-10-10T23:58:27.495784Z",
     "start_time": "2019-10-10T23:58:27.465297Z"
    }
   },
   "outputs": [
    {
     "data": {
      "text/plain": [
       "Index(['Lot Frontage', 'Lot Area', 'Overall Qual', 'Overall Cond',\n",
       "       'Year Built', 'Year Remod/Add', 'Mas Vnr Area', 'Exter Qual',\n",
       "       'Foundation', 'Bsmt Qual', 'Bsmt Exposure', 'BsmtFin SF 1',\n",
       "       'BsmtFin SF 2', 'Total Bsmt SF', 'Heating QC', '1st Flr SF',\n",
       "       'Gr Liv Area', 'Bsmt Full Bath', 'Kitchen Qual', 'Functional',\n",
       "       'Fireplace Qu', 'Garage Finish', 'Garage Area', 'Wood Deck SF',\n",
       "       'Open Porch SF', 'Screen Porch SF', 'Lot Shape_IR2', 'Land Contour_HLS',\n",
       "       'Land Contour_Low', 'Land Slope_Mod', 'Neighborhood_BrkSide',\n",
       "       'Neighborhood_Crawfor', 'Neighborhood_GrnHill', 'Neighborhood_NPkVill',\n",
       "       'Neighborhood_NoRidge', 'Neighborhood_NridgHt', 'Neighborhood_Somerst',\n",
       "       'Neighborhood_StoneBr', 'Condition 1_Norm', 'Condition 1_PosN',\n",
       "       'Condition 2_PosA', 'Roof Style_Hip', 'Exterior 1st_BrkFace',\n",
       "       'Exterior 1st_CemntBd', 'Mas Vnr Type_Stone', 'Heating_Wall',\n",
       "       'Misc Feature_Othr', 'Sale Type_Con', 'Sale Type_New'],\n",
       "      dtype='object')"
      ]
     },
     "execution_count": 9,
     "metadata": {},
     "output_type": "execute_result"
    }
   ],
   "source": [
    "new_columns"
   ]
  },
  {
   "cell_type": "code",
   "execution_count": 10,
   "metadata": {
    "ExecuteTime": {
     "end_time": "2019-10-10T23:58:27.546401Z",
     "start_time": "2019-10-10T23:58:27.505962Z"
    }
   },
   "outputs": [],
   "source": [
    "train2=pd.DataFrame(train[new_columns])\n",
    "train2['SalePrice']=train['SalePrice'].values\n",
    "test2=pd.DataFrame(test[new_columns])"
   ]
  },
  {
   "cell_type": "code",
   "execution_count": 11,
   "metadata": {
    "ExecuteTime": {
     "end_time": "2019-10-10T23:58:27.617821Z",
     "start_time": "2019-10-10T23:58:27.550757Z"
    },
    "scrolled": true
   },
   "outputs": [
    {
     "data": {
      "text/html": [
       "<div>\n",
       "<style scoped>\n",
       "    .dataframe tbody tr th:only-of-type {\n",
       "        vertical-align: middle;\n",
       "    }\n",
       "\n",
       "    .dataframe tbody tr th {\n",
       "        vertical-align: top;\n",
       "    }\n",
       "\n",
       "    .dataframe thead th {\n",
       "        text-align: right;\n",
       "    }\n",
       "</style>\n",
       "<table border=\"1\" class=\"dataframe\">\n",
       "  <thead>\n",
       "    <tr style=\"text-align: right;\">\n",
       "      <th></th>\n",
       "      <th>Lot Frontage</th>\n",
       "      <th>Lot Area</th>\n",
       "      <th>Overall Qual</th>\n",
       "      <th>Overall Cond</th>\n",
       "      <th>Year Built</th>\n",
       "      <th>Year Remod/Add</th>\n",
       "      <th>Mas Vnr Area</th>\n",
       "      <th>Exter Qual</th>\n",
       "      <th>Foundation</th>\n",
       "      <th>Bsmt Qual</th>\n",
       "      <th>...</th>\n",
       "      <th>Condition 2_PosA</th>\n",
       "      <th>Roof Style_Hip</th>\n",
       "      <th>Exterior 1st_BrkFace</th>\n",
       "      <th>Exterior 1st_CemntBd</th>\n",
       "      <th>Mas Vnr Type_Stone</th>\n",
       "      <th>Heating_Wall</th>\n",
       "      <th>Misc Feature_Othr</th>\n",
       "      <th>Sale Type_Con</th>\n",
       "      <th>Sale Type_New</th>\n",
       "      <th>SalePrice</th>\n",
       "    </tr>\n",
       "  </thead>\n",
       "  <tbody>\n",
       "    <tr>\n",
       "      <th>0</th>\n",
       "      <td>0.0</td>\n",
       "      <td>13517</td>\n",
       "      <td>6</td>\n",
       "      <td>8</td>\n",
       "      <td>1976</td>\n",
       "      <td>2005</td>\n",
       "      <td>289.0</td>\n",
       "      <td>2</td>\n",
       "      <td>2</td>\n",
       "      <td>2</td>\n",
       "      <td>...</td>\n",
       "      <td>0</td>\n",
       "      <td>0</td>\n",
       "      <td>0</td>\n",
       "      <td>0</td>\n",
       "      <td>0</td>\n",
       "      <td>0</td>\n",
       "      <td>0</td>\n",
       "      <td>0</td>\n",
       "      <td>0</td>\n",
       "      <td>130500.0</td>\n",
       "    </tr>\n",
       "    <tr>\n",
       "      <th>1</th>\n",
       "      <td>43.0</td>\n",
       "      <td>11492</td>\n",
       "      <td>7</td>\n",
       "      <td>5</td>\n",
       "      <td>1996</td>\n",
       "      <td>1997</td>\n",
       "      <td>132.0</td>\n",
       "      <td>2</td>\n",
       "      <td>4</td>\n",
       "      <td>3</td>\n",
       "      <td>...</td>\n",
       "      <td>0</td>\n",
       "      <td>0</td>\n",
       "      <td>0</td>\n",
       "      <td>0</td>\n",
       "      <td>0</td>\n",
       "      <td>0</td>\n",
       "      <td>0</td>\n",
       "      <td>0</td>\n",
       "      <td>0</td>\n",
       "      <td>220000.0</td>\n",
       "    </tr>\n",
       "    <tr>\n",
       "      <th>2</th>\n",
       "      <td>68.0</td>\n",
       "      <td>7922</td>\n",
       "      <td>5</td>\n",
       "      <td>7</td>\n",
       "      <td>1953</td>\n",
       "      <td>2007</td>\n",
       "      <td>0.0</td>\n",
       "      <td>1</td>\n",
       "      <td>2</td>\n",
       "      <td>2</td>\n",
       "      <td>...</td>\n",
       "      <td>0</td>\n",
       "      <td>0</td>\n",
       "      <td>0</td>\n",
       "      <td>0</td>\n",
       "      <td>0</td>\n",
       "      <td>0</td>\n",
       "      <td>0</td>\n",
       "      <td>0</td>\n",
       "      <td>0</td>\n",
       "      <td>109000.0</td>\n",
       "    </tr>\n",
       "    <tr>\n",
       "      <th>3</th>\n",
       "      <td>73.0</td>\n",
       "      <td>9802</td>\n",
       "      <td>5</td>\n",
       "      <td>5</td>\n",
       "      <td>2006</td>\n",
       "      <td>2007</td>\n",
       "      <td>0.0</td>\n",
       "      <td>1</td>\n",
       "      <td>4</td>\n",
       "      <td>3</td>\n",
       "      <td>...</td>\n",
       "      <td>0</td>\n",
       "      <td>0</td>\n",
       "      <td>0</td>\n",
       "      <td>0</td>\n",
       "      <td>0</td>\n",
       "      <td>0</td>\n",
       "      <td>0</td>\n",
       "      <td>0</td>\n",
       "      <td>0</td>\n",
       "      <td>174000.0</td>\n",
       "    </tr>\n",
       "    <tr>\n",
       "      <th>4</th>\n",
       "      <td>82.0</td>\n",
       "      <td>14235</td>\n",
       "      <td>6</td>\n",
       "      <td>8</td>\n",
       "      <td>1900</td>\n",
       "      <td>1993</td>\n",
       "      <td>0.0</td>\n",
       "      <td>1</td>\n",
       "      <td>4</td>\n",
       "      <td>1</td>\n",
       "      <td>...</td>\n",
       "      <td>0</td>\n",
       "      <td>0</td>\n",
       "      <td>0</td>\n",
       "      <td>0</td>\n",
       "      <td>0</td>\n",
       "      <td>0</td>\n",
       "      <td>0</td>\n",
       "      <td>0</td>\n",
       "      <td>0</td>\n",
       "      <td>138500.0</td>\n",
       "    </tr>\n",
       "  </tbody>\n",
       "</table>\n",
       "<p>5 rows × 50 columns</p>\n",
       "</div>"
      ],
      "text/plain": [
       "   Lot Frontage  Lot Area  Overall Qual  Overall Cond  Year Built  \\\n",
       "0           0.0     13517             6             8        1976   \n",
       "1          43.0     11492             7             5        1996   \n",
       "2          68.0      7922             5             7        1953   \n",
       "3          73.0      9802             5             5        2006   \n",
       "4          82.0     14235             6             8        1900   \n",
       "\n",
       "   Year Remod/Add  Mas Vnr Area  Exter Qual  Foundation  Bsmt Qual  ...  \\\n",
       "0            2005         289.0           2           2          2  ...   \n",
       "1            1997         132.0           2           4          3  ...   \n",
       "2            2007           0.0           1           2          2  ...   \n",
       "3            2007           0.0           1           4          3  ...   \n",
       "4            1993           0.0           1           4          1  ...   \n",
       "\n",
       "   Condition 2_PosA  Roof Style_Hip  Exterior 1st_BrkFace  \\\n",
       "0                 0               0                     0   \n",
       "1                 0               0                     0   \n",
       "2                 0               0                     0   \n",
       "3                 0               0                     0   \n",
       "4                 0               0                     0   \n",
       "\n",
       "   Exterior 1st_CemntBd  Mas Vnr Type_Stone  Heating_Wall  Misc Feature_Othr  \\\n",
       "0                     0                   0             0                  0   \n",
       "1                     0                   0             0                  0   \n",
       "2                     0                   0             0                  0   \n",
       "3                     0                   0             0                  0   \n",
       "4                     0                   0             0                  0   \n",
       "\n",
       "   Sale Type_Con  Sale Type_New  SalePrice  \n",
       "0              0              0   130500.0  \n",
       "1              0              0   220000.0  \n",
       "2              0              0   109000.0  \n",
       "3              0              0   174000.0  \n",
       "4              0              0   138500.0  \n",
       "\n",
       "[5 rows x 50 columns]"
      ]
     },
     "execution_count": 11,
     "metadata": {},
     "output_type": "execute_result"
    }
   ],
   "source": [
    "train2.head()"
   ]
  },
  {
   "cell_type": "code",
   "execution_count": 12,
   "metadata": {
    "ExecuteTime": {
     "end_time": "2019-10-10T23:58:27.681113Z",
     "start_time": "2019-10-10T23:58:27.628747Z"
    },
    "scrolled": true
   },
   "outputs": [
    {
     "data": {
      "text/plain": [
       "SalePrice               1.000000\n",
       "Overall Qual            0.800090\n",
       "Exter Qual              0.712105\n",
       "Gr Liv Area             0.699355\n",
       "Kitchen Qual            0.692797\n",
       "Bsmt Qual               0.652096\n",
       "Garage Area             0.650319\n",
       "Total Bsmt SF           0.630076\n",
       "1st Flr SF              0.618345\n",
       "Year Built              0.571153\n",
       "Garage Finish           0.558690\n",
       "Year Remod/Add          0.549522\n",
       "Fireplace Qu            0.543061\n",
       "Foundation              0.530266\n",
       "Mas Vnr Area            0.505214\n",
       "Heating QC              0.458016\n",
       "Neighborhood_NridgHt    0.449408\n",
       "BsmtFin SF 1            0.423152\n",
       "Bsmt Exposure           0.417098\n",
       "Sale Type_New           0.356484\n",
       "Open Porch SF           0.335435\n",
       "Wood Deck SF            0.327693\n",
       "Mas Vnr Type_Stone      0.310744\n",
       "Lot Area                0.297661\n",
       "Bsmt Full Bath          0.282383\n",
       "Roof Style_Hip          0.266052\n",
       "Neighborhood_NoRidge    0.264384\n",
       "Neighborhood_StoneBr    0.251550\n",
       "Land Contour_HLS        0.207823\n",
       "Lot Frontage            0.182080\n",
       "Exterior 1st_CemntBd    0.168318\n",
       "Neighborhood_Somerst    0.149748\n",
       "Screen Porch SF         0.135833\n",
       "Functional              0.126338\n",
       "Lot Shape_IR2           0.110510\n",
       "Condition 1_Norm        0.110427\n",
       "Condition 1_PosN        0.107352\n",
       "Condition 2_PosA        0.101387\n",
       "Land Slope_Mod          0.062399\n",
       "Neighborhood_Crawfor    0.058831\n",
       "Neighborhood_GrnHill    0.039004\n",
       "Sale Type_Con           0.033820\n",
       "Land Contour_Low        0.033260\n",
       "Exterior 1st_BrkFace    0.026576\n",
       "BsmtFin SF 2            0.015022\n",
       "Misc Feature_Othr      -0.008810\n",
       "Neighborhood_NPkVill   -0.047299\n",
       "Heating_Wall           -0.071436\n",
       "Overall Cond           -0.097516\n",
       "Neighborhood_BrkSide   -0.134902\n",
       "Name: SalePrice, dtype: float64"
      ]
     },
     "execution_count": 12,
     "metadata": {},
     "output_type": "execute_result"
    }
   ],
   "source": [
    "train2.corr()['SalePrice'].sort_values(ascending=False)"
   ]
  },
  {
   "cell_type": "markdown",
   "metadata": {
    "ExecuteTime": {
     "end_time": "2019-10-10T09:57:25.330601Z",
     "start_time": "2019-10-10T09:57:25.321802Z"
    }
   },
   "source": [
    "### Encode an ordinal out of some remaining dummy variables"
   ]
  },
  {
   "cell_type": "code",
   "execution_count": 13,
   "metadata": {
    "ExecuteTime": {
     "end_time": "2019-10-10T23:58:27.740949Z",
     "start_time": "2019-10-10T23:58:27.695320Z"
    },
    "scrolled": true
   },
   "outputs": [],
   "source": [
    "def ordinalize(name,listy,df1, df2):\n",
    "    aggname=name+'ordinal'\n",
    "    df1[aggname]=np.zeros(shape=df1.iloc[:,0].shape)\n",
    "    df2[aggname]=np.zeros(shape=df2.iloc[:,0].shape)\n",
    "    \n",
    "    for item in listy:\n",
    "        itemmean=df1[df1[item]>0]['SalePrice'].mean()\n",
    "        print(itemmean)\n",
    "        df1[aggname]=df1[aggname]+df1[item]*itemmean\n",
    "        df2[aggname]=df2[aggname]+df2[item]*itemmean\n",
    "        \n",
    "    nnbavg=df1[df1[aggname]==0]['SalePrice'].mean()\n",
    "    df1[aggname]=df1[aggname].replace(0,nnbavg)\n",
    "    df2[aggname]=df2[aggname].replace(0,nnbavg)\n",
    "    \n",
    "    df1=df1.drop(columns=listy,inplace=True)\n",
    "    df2=df2.drop(columns=listy,inplace=True)\n",
    "    return "
   ]
  },
  {
   "cell_type": "code",
   "execution_count": 14,
   "metadata": {
    "ExecuteTime": {
     "end_time": "2019-10-10T23:58:27.756573Z",
     "start_time": "2019-10-10T23:58:27.744856Z"
    }
   },
   "outputs": [],
   "source": [
    "nbors=train2.columns[[('Neighborhood' in x) for x in train2.columns]]"
   ]
  },
  {
   "cell_type": "code",
   "execution_count": 15,
   "metadata": {
    "ExecuteTime": {
     "end_time": "2019-10-10T23:58:27.778893Z",
     "start_time": "2019-10-10T23:58:27.760567Z"
    }
   },
   "outputs": [
    {
     "data": {
      "text/plain": [
       "Index(['Neighborhood_BrkSide', 'Neighborhood_Crawfor', 'Neighborhood_GrnHill',\n",
       "       'Neighborhood_NPkVill', 'Neighborhood_NoRidge', 'Neighborhood_NridgHt',\n",
       "       'Neighborhood_Somerst', 'Neighborhood_StoneBr'],\n",
       "      dtype='object')"
      ]
     },
     "execution_count": 15,
     "metadata": {},
     "output_type": "execute_result"
    }
   ],
   "source": [
    "nbors"
   ]
  },
  {
   "cell_type": "code",
   "execution_count": 16,
   "metadata": {
    "ExecuteTime": {
     "end_time": "2019-10-10T23:58:27.797530Z",
     "start_time": "2019-10-10T23:58:27.787029Z"
    }
   },
   "outputs": [
    {
     "data": {
      "text/plain": [
       "(2041, 50)"
      ]
     },
     "execution_count": 16,
     "metadata": {},
     "output_type": "execute_result"
    }
   ],
   "source": [
    "train2.shape"
   ]
  },
  {
   "cell_type": "code",
   "execution_count": 17,
   "metadata": {
    "ExecuteTime": {
     "end_time": "2019-10-10T23:58:27.933701Z",
     "start_time": "2019-10-10T23:58:27.810709Z"
    }
   },
   "outputs": [
    {
     "name": "stdout",
     "output_type": "stream",
     "text": [
      "127022.69736842105\n",
      "205901.21126760563\n",
      "280000.0\n",
      "140476.4705882353\n",
      "316294.125\n",
      "323152.2727272727\n",
      "227019.99224806202\n",
      "327991.2972972973\n"
     ]
    }
   ],
   "source": [
    "ordinalize('nb',nbors,train2,test2)"
   ]
  },
  {
   "cell_type": "code",
   "execution_count": 18,
   "metadata": {
    "ExecuteTime": {
     "end_time": "2019-10-10T23:58:27.947507Z",
     "start_time": "2019-10-10T23:58:27.938008Z"
    }
   },
   "outputs": [
    {
     "data": {
      "text/plain": [
       "(2041, 43)"
      ]
     },
     "execution_count": 18,
     "metadata": {},
     "output_type": "execute_result"
    }
   ],
   "source": [
    "train2.shape"
   ]
  },
  {
   "cell_type": "code",
   "execution_count": null,
   "metadata": {},
   "outputs": [],
   "source": []
  },
  {
   "cell_type": "code",
   "execution_count": 19,
   "metadata": {
    "ExecuteTime": {
     "end_time": "2019-10-10T23:58:28.465667Z",
     "start_time": "2019-10-10T23:58:27.954046Z"
    }
   },
   "outputs": [],
   "source": [
    "#get the polynomial features\n",
    "target = 'SalePrice'\n",
    "nc = [x for x in train2.columns if x != target]\n",
    "\n",
    "X_train,X_test,y_train,y_test=train_test_split(train2[nc],train2[target])\n",
    "\n",
    "ss = StandardScaler()\n",
    "ss.fit(X_train)\n",
    "X_train = ss.transform(X_train)\n",
    "X_test= ss.transform(X_test)\n",
    "#test2=test2.drop('SalePrice',axis=1)\n",
    "test2_sc=ss.transform(test2)\n",
    "X=ss.transform(train2[nc])\n",
    "\n",
    "\n",
    "\n",
    "pf = PolynomialFeatures(degree=2,interaction_only=True,include_bias=False)\n",
    "X_train_poly=pf.fit_transform(X_train)\n",
    "X_test_poly=pf.fit_transform(X_test)\n",
    "X_train_poly.shape\n",
    "X_poly=pf.fit_transform(X)\n",
    "test2_sc_poly=pf.fit_transform(test2_sc)\n",
    "test_poly_cols=pf.get_feature_names(test2.columns)"
   ]
  },
  {
   "cell_type": "code",
   "execution_count": 36,
   "metadata": {
    "ExecuteTime": {
     "end_time": "2019-10-11T00:09:42.955415Z",
     "start_time": "2019-10-11T00:09:42.873220Z"
    }
   },
   "outputs": [],
   "source": [
    "l_alphas = np.logspace(2, 6, 100)\n",
    "lasso_model = Lasso(alpha=9000,max_iter=10000000)\n",
    "#lasso_model = LassoCV(alphas=l_alphas, cv=10,max_iter=100000, fit_intercept=True)\n",
    "lasso_model = lasso_model.fit(X_train_poly, y_train)"
   ]
  },
  {
   "cell_type": "code",
   "execution_count": 37,
   "metadata": {
    "ExecuteTime": {
     "end_time": "2019-10-11T00:09:43.119351Z",
     "start_time": "2019-10-11T00:09:43.111220Z"
    }
   },
   "outputs": [],
   "source": [
    "new_columns=[column for column,item in zip(test_poly_cols,lasso_model.coef_) if (item>0)]"
   ]
  },
  {
   "cell_type": "code",
   "execution_count": 38,
   "metadata": {
    "ExecuteTime": {
     "end_time": "2019-10-11T00:09:43.318845Z",
     "start_time": "2019-10-11T00:09:43.311913Z"
    }
   },
   "outputs": [
    {
     "data": {
      "text/plain": [
       "23"
      ]
     },
     "execution_count": 38,
     "metadata": {},
     "output_type": "execute_result"
    }
   ],
   "source": [
    "len(new_columns)"
   ]
  },
  {
   "cell_type": "code",
   "execution_count": 39,
   "metadata": {
    "ExecuteTime": {
     "end_time": "2019-10-11T00:09:43.865907Z",
     "start_time": "2019-10-11T00:09:43.762235Z"
    }
   },
   "outputs": [
    {
     "data": {
      "text/plain": [
       "0.8064039224926209"
      ]
     },
     "execution_count": 39,
     "metadata": {},
     "output_type": "execute_result"
    }
   ],
   "source": [
    "cross_val_score(lasso_model,X_train,y_train,cv=15).mean()"
   ]
  },
  {
   "cell_type": "code",
   "execution_count": 40,
   "metadata": {
    "ExecuteTime": {
     "end_time": "2019-10-11T00:09:44.768669Z",
     "start_time": "2019-10-11T00:09:44.760586Z"
    },
    "scrolled": true
   },
   "outputs": [
    {
     "data": {
      "text/plain": [
       "['Overall Qual',\n",
       " 'Year Built',\n",
       " 'Exter Qual',\n",
       " 'Bsmt Qual',\n",
       " 'Bsmt Exposure',\n",
       " 'BsmtFin SF 1',\n",
       " 'Total Bsmt SF',\n",
       " '1st Flr SF',\n",
       " 'Gr Liv Area',\n",
       " 'Kitchen Qual',\n",
       " 'Fireplace Qu',\n",
       " 'Garage Finish',\n",
       " 'Garage Area',\n",
       " 'Lot Area Land Contour_Low',\n",
       " 'Overall Qual Exter Qual',\n",
       " 'Overall Qual nbordinal',\n",
       " 'Mas Vnr Area nbordinal',\n",
       " 'Total Bsmt SF nbordinal',\n",
       " '1st Flr SF nbordinal',\n",
       " 'Gr Liv Area nbordinal',\n",
       " 'Kitchen Qual Mas Vnr Type_Stone',\n",
       " 'Land Contour_HLS Mas Vnr Type_Stone',\n",
       " 'Sale Type_New nbordinal']"
      ]
     },
     "execution_count": 40,
     "metadata": {},
     "output_type": "execute_result"
    }
   ],
   "source": [
    "new_columns"
   ]
  },
  {
   "cell_type": "code",
   "execution_count": 42,
   "metadata": {
    "ExecuteTime": {
     "end_time": "2019-10-11T00:11:02.039938Z",
     "start_time": "2019-10-11T00:11:02.031341Z"
    }
   },
   "outputs": [],
   "source": [
    "predictions_test=lasso_model.predict(test2_sc_poly)"
   ]
  },
  {
   "cell_type": "code",
   "execution_count": 44,
   "metadata": {
    "ExecuteTime": {
     "end_time": "2019-10-11T00:11:19.354225Z",
     "start_time": "2019-10-11T00:11:19.349297Z"
    }
   },
   "outputs": [],
   "source": [
    "submit=pd.DataFrame()"
   ]
  },
  {
   "cell_type": "code",
   "execution_count": 46,
   "metadata": {
    "ExecuteTime": {
     "end_time": "2019-10-11T00:11:25.402314Z",
     "start_time": "2019-10-11T00:11:25.385759Z"
    }
   },
   "outputs": [],
   "source": [
    "submit['Id']=list(test['Id'])\n",
    "submit['SalePrice']=predictions_test\n",
    "submit=submit.set_index('Id')\n",
    "submit.to_csv('submissions/dllordinals.csv')"
   ]
  },
  {
   "cell_type": "markdown",
   "metadata": {},
   "source": [
    "### Kaggle score for this was terrible. Ordinalization was a bad idea. Simply running a quick lasso->polynomial->lasso resulted in a much better score, even with fewer features"
   ]
  },
  {
   "cell_type": "markdown",
   "metadata": {},
   "source": []
  },
  {
   "cell_type": "markdown",
   "metadata": {
    "ExecuteTime": {
     "end_time": "2019-10-11T00:08:29.632663Z",
     "start_time": "2019-10-11T00:08:29.624498Z"
    }
   },
   "source": []
  },
  {
   "cell_type": "code",
   "execution_count": null,
   "metadata": {},
   "outputs": [],
   "source": []
  }
 ],
 "metadata": {
  "kernelspec": {
   "display_name": "Python 3",
   "language": "python",
   "name": "python3"
  },
  "language_info": {
   "codemirror_mode": {
    "name": "ipython",
    "version": 3
   },
   "file_extension": ".py",
   "mimetype": "text/x-python",
   "name": "python",
   "nbconvert_exporter": "python",
   "pygments_lexer": "ipython3",
   "version": "3.7.3"
  }
 },
 "nbformat": 4,
 "nbformat_minor": 2
}
